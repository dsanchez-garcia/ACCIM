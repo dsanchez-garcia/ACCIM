{
 "cells": [
  {
   "cell_type": "markdown",
   "id": "3991fa3e",
   "metadata": {},
   "source": [
    "# Full example of adaptive setpoint temperature simulation: IBPSA webinar"
   ]
  },
  {
   "cell_type": "markdown",
   "id": "575c1e40",
   "metadata": {},
   "source": [
    "**Please, note: this Notebook was used as a case study in the IBPSA Webinar (https://www.youtube.com/watch?v=PQ34Pl7t4HA). However, in that webinar it was adapted to accim version 0.7.1. This Notebook has been updated to suit the latest version of accim.**"
   ]
  },
  {
   "cell_type": "markdown",
   "id": "11e978db",
   "metadata": {},
   "source": [
    "In this section, we're going to run a simulation with adaptive setpoint temperatures. Say we want to run some simulations using a [Brazilian local comfort model](https://linkinghub.elsevier.com/retrieve/pii/S0378778817331079) developed by Ricardo Forgiarini Rupp et al [1] in some locations in Brazil, and also we want to **analyse and visualize the data**. First of all, given EnergyPlus (any version between 9.1 and 23.1 included) is installed, and accim has been installed by entering 'pip install accim' in the CMD terminal, let's prepare the files we need: the IDF(s) and the EPW(s). Let's see what file we have in the folder and then we'll continue with the IDF(s).\n",
    "\n",
    "[1] R.F. Rupp, R. de Dear, E. Ghisi, Field study of mixed-mode office buildings in Southern Brazil using an adaptive thermal comfort framework, Energy and Buildings. 158 (2018) 1475–1486. https://doi.org/10.1016/j.enbuild.2017.11.047."
   ]
  },
  {
   "cell_type": "code",
   "execution_count": 1,
   "id": "fd6f4d43",
   "metadata": {},
   "outputs": [
    {
     "name": "stdout",
     "output_type": "stream",
     "text": [
      ".ipynb_checkpoints\n",
      "backup\n",
      "Current_GC07_Chapeco.epw\n",
      "Current_GC20_Palmas.epw\n",
      "full_example_IBPSA.ipynb\n",
      "RCP852100_GC07_Chapeco.epw\n",
      "RCP852100_GC20_Palmas.epw\n",
      "TestModel.idf\n",
      "__init__.py\n"
     ]
    }
   ],
   "source": [
    "from os import listdir\n",
    "input_files = [i for i in listdir()]\n",
    "print(*input_files, sep='\\n')"
   ]
  },
  {
   "cell_type": "markdown",
   "id": "60983e3c",
   "metadata": {},
   "source": [
    "The building energy model used is a simple 2-zone model done in DesignBuilder with all parameters by default. We only set the natural ventilation to calculated, and allowed natural ventilation in the HVAC tab for the 2 zones. If you want to have a look at the IDF, you can load it in [Ladybug's Spider IDF Viewer](https://www.ladybug.tools/spider-2020/spider-idf-viewer/v-2020-10-09/spider-idf-viewer.html).\n",
    "\n",
    "At this point, the methodology is composed of the following sections and subsections:\n",
    "- __1. Data pre-processing__\n",
    "\n",
    "    - __1.1. Implementing ACCIS__\n",
    "    \n",
    "    - __1.2. Preparing EPW files__\n",
    "    \n",
    "- __2. Running simulations__\n",
    "\n",
    "- __3. Data post-processing__\n",
    "\n",
    "    - __3.1 Visualizing the data__\n",
    "    \n",
    "    - __3.2 Analysing the data__\n",
    "     \n",
    " \n",
    " Useful links:\n",
    " - Web repository: https://github.com/dsanchez-garcia/accim\n",
    " - Documentation: https://accim.readthedocs.io/en/master/\n",
    " - Project at Python Package Index: https://pypi.org/project/accim/"
   ]
  },
  {
   "cell_type": "markdown",
   "id": "12e3379a",
   "metadata": {},
   "source": [
    "## 1. Data pre-processing"
   ]
  },
  {
   "cell_type": "markdown",
   "id": "f83b71ab",
   "metadata": {},
   "source": [
    "### 1.1. Implementing ACCIS (using `addAccis()`)"
   ]
  },
  {
   "cell_type": "markdown",
   "id": "f34a5c34",
   "metadata": {},
   "source": [
    "Say we have one or multiple IDF files, with an existing HVAC system (in this case, the use of mixed-mode ScriptType 'ex_mm' is not recommended; only full air-conditioning) or with no HVAC system at all (in this case, any of the 'vrf_ac' or 'vrf_mm' ScriptTypes are recommended). In this example, we are going to use an IDF without HVAC system, and we are going to use 'vrf_mm' so that accim adds a generic VRF system."
   ]
  },
  {
   "cell_type": "markdown",
   "id": "2939dcd3",
   "metadata": {},
   "source": [
    "Let's see what IDFs we do have in our folder:"
   ]
  },
  {
   "cell_type": "code",
   "execution_count": 2,
   "id": "55bd779c",
   "metadata": {},
   "outputs": [
    {
     "name": "stdout",
     "output_type": "stream",
     "text": [
      "['TestModel.idf']\n"
     ]
    }
   ],
   "source": [
    "input_idfs = [i for i in listdir() if i.endswith('.idf')]\n",
    "print(input_idfs)"
   ]
  },
  {
   "cell_type": "markdown",
   "id": "7a2ac1b0",
   "metadata": {},
   "source": [
    "So now, we're going to generate building energy models with setpoint temperatures based on the Brazilian comfort model (i.e. ComfStand takes the value 15). We're going to select the 80% acceptability levels (i.e. CAT takes the value 80), and we're going to select the setpoint behaviour to horizontally extend the setpoint temperatures (or comfort limits) when applicability limits are exceeded (i.e. ComfMod takes the value 3), and the fully static setpoint temperatures (i.e. ComfMod takes the value 0). There are 2 methods to apply adaptive setpoint temperatures:\n",
    "- Short method, which is running the following to lines of code:\n",
    "```\n",
    "from accim.sim import accis\n",
    "accis.addAccis()\n",
    "```\n",
    "\n",
    "When we run the 2 lines of code above, accim is going to ask us to enter some information it needs to generate the output IDFs. The data we're going to input, in the same order, is:\n",
    "- Enter the ScriptType: **vrf_mm**\n",
    "- Enter the SupplyAirTempInputMethod: **temperature difference**\n",
    "- Do you want to keep the existing outputs (true or false)?: **false**\n",
    "- Enter the Output type (standard, simplified or detailed): **standard**\n",
    "- Enter the Output frequencies separated by space (timestep, hourly, daily, monthly, runperiod): **hourly**\n",
    "- Enter the EnergyPlus version (9.1 to 23.1): **23.1**\n",
    "- Enter the Temperature Control method (temperature or pmv): **temperature**\n",
    "\n",
    "After that, accim will let us know the information we have entered, and it will start the generic IDF generation process. Lots of actions are going to be performed, and all of them will be printed on screen. Once this process is done, accim will let us know if any of the IDFs is not going to work for any reason, and then it will start the output IDF files generation process. Then, accim will ask us again to enter some information, this time to generate the output IDF(s). The data we are going to enter now is:\n",
    "\n",
    "- Enter the Comfort Standard numbers separated by space: **15**\n",
    "- Enter the Category numbers separated by space: **80**\n",
    "- Enter the Comfort Mode numbers separated by space: **0 3** (where 0 and 3 are respectively static and adaptive setpoints)\n",
    "- Enter the HVAC Mode numbers separated by space: **1 2** (in this case we have also selected 1 for naturally ventilated, to see the difference with mixed-mode)\n",
    "- Enter the Ventilation Control numbers separated by space: **0**\n",
    "\n",
    "For all the remaining arguments, we're going to hit enter to omit it and take the default value. Finally, accim will let us know the list of output IDFs and will ask for confirmation to proceed:\n",
    "\n",
    "- Do you still want to run ACCIS? [y/n]: **y**"
   ]
  },
  {
   "cell_type": "markdown",
   "id": "372843fa",
   "metadata": {},
   "source": [
    "Alternatively, we could specify all the arguments when calling the function, as shown in the cell below. You can find the definition and explanation of the arguments in documentation's [Detailed use section](https://accim.readthedocs.io/en/latest/4_detailed%20use.html#), and the values for the adaptive setpoints in the [full setpoint temperatures table](https://htmlpreview.github.io/?https://github.com/dsanchez-garcia/accim/blob/master/accim/docs/html_files/full_setpoint_table.html)"
   ]
  },
  {
   "cell_type": "code",
   "execution_count": 3,
   "id": "cd4b7ab5",
   "metadata": {},
   "outputs": [
    {
     "name": "stdout",
     "output_type": "stream",
     "text": [
      "\n",
      "--------------------------------------------------------\n",
      "Adaptive-Comfort-Control-Implemented Model (ACCIM) v0.7.1\n",
      "--------------------------------------------------------\n",
      "\n",
      "This tool allows to apply adaptive setpoint temperatures. \n",
      "For further information, please read the documentation: \n",
      "https://accim.readthedocs.io/en/master/\n",
      "For a visual understanding of the tool, please visit the following jupyter notebooks:\n",
      "-    Using addAccis() to apply adaptive setpoint temperatures\n",
      "https://accim.readthedocs.io/en/master/jupyter_notebooks/addAccis/using_addAccis.html\n",
      "-    Using rename_epw_files() to rename the EPWs for proper data analysis after simulation\n",
      "https://accim.readthedocs.io/en/master/jupyter_notebooks/rename_epw_files/using_rename_epw_files.html\n",
      "-    Using runEp() to directly run simulations with EnergyPlus\n",
      "https://accim.readthedocs.io/en/master/jupyter_notebooks/runEp/using_runEp.html\n",
      "-    Using the class Table() for data analysis\n",
      "https://accim.readthedocs.io/en/master/jupyter_notebooks/Table/using_Table.html\n",
      "-    Full example\n",
      "https://accim.readthedocs.io/en/master/jupyter_notebooks/full_example/full_example.html\n",
      "\n",
      "Starting with the process.\n",
      "Basic input data:\n",
      "ScriptType is: vrf_mm\n",
      "Supply Air Temperature Input Method is: temperature difference\n",
      "Output type is: standard\n",
      "Output frequencies are: \n",
      "['hourly']\n",
      "EnergyPlus version is: 23.1\n",
      "Temperature Control method is: temperature\n",
      "\n",
      "=======================START OF GENERIC IDF FILE GENERATION PROCESS=======================\n",
      "\n",
      "Starting with file:\n",
      "TestModel\n",
      "IDD location is: C:\\EnergyPlusV23-1-0\\Energy+.idd\n",
      "The occupied zones in the model TestModel are:\n",
      "BLOCK1:ZONE2\n",
      "BLOCK1:ZONE1\n",
      "The windows and doors in the model TestModel are:\n",
      "Block1_Zone2_Wall_3_0_0_0_0_0_Win\n",
      "Block1_Zone2_Wall_4_0_0_0_0_0_Win\n",
      "Block1_Zone2_Wall_5_0_0_0_0_0_Win\n",
      "Block1_Zone1_Wall_2_0_0_0_0_0_Win\n",
      "Block1_Zone1_Wall_3_0_0_0_0_0_Win\n",
      "Block1_Zone1_Wall_5_0_0_0_0_0_Win\n",
      "The zones in the model TestModel are:\n",
      "BLOCK1_ZONE2\n",
      "BLOCK1_ZONE1\n",
      "The people objects in the model have been amended.\n",
      "BLOCK1:ZONE2 Thermostat has been added\n",
      "BLOCK1:ZONE1 Thermostat has been added\n",
      "On Schedule already was in the model\n",
      "TypOperativeTempControlSch Schedule already was in the model\n",
      "All ZoneHVAC:IdealLoadsAirSystem Heating and Cooling availability schedules has been set to on\n",
      "On 24/7 Schedule already was in the model\n",
      "Control type schedule: Always 4 Schedule has been added\n",
      "Relative humidity setpoint schedule: Always 50.00 Schedule has been added\n",
      "Heating Fanger comfort setpoint: Always -0.5 Schedule has been added\n",
      "Cooling Fanger comfort setpoint: Always  0.1 Schedule has been added\n",
      "Zone CO2 setpoint: Always 900ppm Schedule has been added\n",
      "Min CO2 concentration: Always 600ppm Schedule has been added\n",
      "Generic contaminant setpoint: Always 0.5ppm Schedule has been added\n",
      "Air distribution effectiveness (always 1) Schedule has been added\n",
      "VRF Heating Cooling (Northern Hemisphere) Schedule has been added\n",
      "DefaultFanEffRatioCurve Curve:Cubic Object has been added\n",
      "VRFTUCoolCapFT Curve:Cubic Object has been added\n",
      "VRFTUHeatCapFT Curve:Cubic Object has been added\n",
      "VRFCoolCapFTBoundary Curve:Cubic Object has been added\n",
      "VRFCoolEIRFTBoundary Curve:Cubic Object has been added\n",
      "CoolingEIRLowPLR Curve:Cubic Object has been added\n",
      "VRFHeatCapFTBoundary Curve:Cubic Object has been added\n",
      "VRFHeatEIRFTBoundary Curve:Cubic Object has been added\n",
      "HeatingEIRLowPLR Curve:Cubic Object has been added\n",
      "DefaultFanPowerRatioCurve Curve:Exponent Object has been added\n",
      "DXHtgCoilDefrostEIRFT Curve:Biquadratic Object has been added\n",
      "VRFCoolCapFT Curve:Biquadratic Object has been added\n",
      "VRFCoolCapFTHi Curve:Biquadratic Object has been added\n",
      "VRFCoolEIRFT Curve:Biquadratic Object has been added\n",
      "VRFCoolEIRFTHi Curve:Biquadratic Object has been added\n",
      "VRFHeatCapFT Curve:Biquadratic Object has been added\n",
      "VRFHeatCapFTHi Curve:Biquadratic Object has been added\n",
      "VRFHeatEIRFT Curve:Biquadratic Object has been added\n",
      "VRFHeatEIRFTHi Curve:Biquadratic Object has been added\n",
      "CoolingLengthCorrectionFactor Curve:Biquadratic Object has been added\n",
      "VRF Piping Correction Factor for Length in Heating Mode Curve:Biquadratic Object has been added\n",
      "VRF Heat Recovery Cooling Capacity Modifier Curve:Biquadratic Object has been added\n",
      "VRF Heat Recovery Cooling Energy Modifier Curve:Biquadratic Object has been added\n",
      "VRF Heat Recovery Heating Capacity Modifier Curve:Biquadratic Object has been added\n",
      "VRF Heat Recovery Heating Energy Modifier Curve:Biquadratic Object has been added\n",
      "VRFACCoolCapFFF Curve:Quadratic Object has been added\n",
      "CoolingEIRHiPLR Curve:Quadratic Object has been added\n",
      "VRFCPLFFPLR Curve:Quadratic Object has been added\n",
      "HeatingEIRHiPLR Curve:Quadratic Object has been added\n",
      "CoolingCombRatio Curve:Linear Object has been added\n",
      "HeatingCombRatio Curve:Linear Object has been added\n",
      "VRF Outdoor Unit_BLOCK1:ZONE2 AirConditioner:VariableRefrigerantFlow Object has been added\n",
      "VRF Outdoor Unit_BLOCK1:ZONE1 AirConditioner:VariableRefrigerantFlow Object has been added\n",
      "VRF Outdoor Unit_BLOCK1:ZONE2 Outdoor Air Node Object has been added\n",
      "VRF Outdoor Unit_BLOCK1:ZONE2 Zone List Object has been added\n",
      "VRF Outdoor Unit_BLOCK1:ZONE1 Outdoor Air Node Object has been added\n",
      "VRF Outdoor Unit_BLOCK1:ZONE1 Zone List Object has been added\n",
      "BLOCK1:ZONE2 Sizing:Zone Object has been added\n",
      "BLOCK1:ZONE1 Sizing:Zone Object has been added\n",
      "BLOCK1:ZONE2 Design Specification Outdoor Air Object has been added\n",
      "BLOCK1:ZONE1 Design Specification Outdoor Air Object has been added\n",
      "BLOCK1:ZONE2 Design Specification Zone Air Distribution Object has been added\n",
      "BLOCK1:ZONE1 Design Specification Zone Air Distribution Object has been added\n",
      "BLOCK1:ZONE2 Nodelist Objects has been added\n",
      "BLOCK1:ZONE1 Nodelist Objects has been added\n",
      "BLOCK1:ZONE2 ZoneHVAC:EquipmentConnections Objects has been added\n",
      "BLOCK1:ZONE1 ZoneHVAC:EquipmentConnections Objects has been added\n",
      "BLOCK1:ZONE2 ZoneHVAC:EquipmentList Objects has been added\n",
      "BLOCK1:ZONE1 ZoneHVAC:EquipmentList Objects has been added\n",
      "BLOCK1:ZONE2 ZoneHVAC:TerminalUnit:VariableRefrigerantFlow Object has been added\n",
      "BLOCK1:ZONE1 ZoneHVAC:TerminalUnit:VariableRefrigerantFlow Object has been added\n",
      "BLOCK1:ZONE2 Coil:Cooling:DX:VariableRefrigerantFlow Object has been added\n",
      "BLOCK1:ZONE1 Coil:Cooling:DX:VariableRefrigerantFlow Object has been added\n",
      "BLOCK1:ZONE2 Coil:Heating:DX:VariableRefrigerantFlow Object has been added\n",
      "BLOCK1:ZONE1 Coil:Heating:DX:VariableRefrigerantFlow Object has been added\n",
      "BLOCK1:ZONE2 Fan:ConstantVolume Object has been added\n",
      "BLOCK1:ZONE1 Fan:ConstantVolume Object has been added\n",
      "Vent_SP_temp Schedule has been added\n",
      "AHST_Sch_BLOCK1_ZONE2 Schedule has been added\n",
      "ACST_Sch_BLOCK1_ZONE2 Schedule has been added\n",
      "AHST_Sch_BLOCK1_ZONE1 Schedule has been added\n",
      "ACST_Sch_BLOCK1_ZONE1 Schedule has been added\n",
      "Added - SetComfTemp Program\n",
      "Added - CountHours_BLOCK1_ZONE2 Program\n",
      "Added - CountHours_BLOCK1_ZONE1 Program\n",
      "Added - SetAppLimits Program\n",
      "Added - ApplyCAT Program\n",
      "Added - SetAST Program\n",
      "Added - SetASTnoTol Program\n",
      "Added - CountHoursNoApp_BLOCK1_ZONE2 Program\n",
      "Added - SetGeoVarBLOCK1_ZONE2 Program\n",
      "Added - CountHoursNoApp_BLOCK1_ZONE1 Program\n",
      "Added - SetGeoVarBLOCK1_ZONE1 Program\n",
      "Added - SetInputData Program\n",
      "Added - SetVOFinputData Program\n",
      "Added - SetVST Program\n",
      "Added - ApplyAST_BLOCK1_ZONE2 Program\n",
      "Added - ApplyAST_BLOCK1_ZONE1 Program\n",
      "Added - SetMyVOF_Block1_Zone2_Wall_3_0_0_0_0_0_Win Program\n",
      "Added - SetWindowOperation_Block1_Zone2_Wall_3_0_0_0_0_0_Win Program\n",
      "Added - SetMyVOF_Block1_Zone2_Wall_4_0_0_0_0_0_Win Program\n",
      "Added - SetWindowOperation_Block1_Zone2_Wall_4_0_0_0_0_0_Win Program\n",
      "Added - SetMyVOF_Block1_Zone2_Wall_5_0_0_0_0_0_Win Program\n",
      "Added - SetWindowOperation_Block1_Zone2_Wall_5_0_0_0_0_0_Win Program\n",
      "Added - SetMyVOF_Block1_Zone1_Wall_2_0_0_0_0_0_Win Program\n",
      "Added - SetWindowOperation_Block1_Zone1_Wall_2_0_0_0_0_0_Win Program\n",
      "Added - SetMyVOF_Block1_Zone1_Wall_3_0_0_0_0_0_Win Program\n",
      "Added - SetWindowOperation_Block1_Zone1_Wall_3_0_0_0_0_0_Win Program\n",
      "Added - SetMyVOF_Block1_Zone1_Wall_5_0_0_0_0_0_Win Program\n",
      "Added - SetWindowOperation_Block1_Zone1_Wall_5_0_0_0_0_0_Win Program\n",
      "Added - Comfort Temperature Output Variable\n",
      "Added - Adaptive Cooling Setpoint Temperature Output Variable\n",
      "Added - Adaptive Heating Setpoint Temperature Output Variable\n",
      "Added - Adaptive Cooling Setpoint Temperature_No Tolerance Output Variable\n",
      "Added - Adaptive Heating Setpoint Temperature_No Tolerance Output Variable\n",
      "Added - Ventilation Setpoint Temperature Output Variable\n",
      "Added - Minimum Outdoor Temperature for ventilation Output Variable\n",
      "Added - Minimum Outdoor Temperature Difference for ventilation Output Variable\n",
      "Added - Maximum Outdoor Temperature Difference for ventilation Output Variable\n",
      "Added - Multiplier for Ventilation Opening Factor Output Variable\n",
      "Added - Comfortable Hours_No Applicability_BLOCK1_ZONE2 Output Variable\n",
      "Added - Comfortable Hours_No Applicability_BLOCK1_ZONE1 Output Variable\n",
      "Added - Comfortable Hours_Applicability_BLOCK1_ZONE2 Output Variable\n",
      "Added - Comfortable Hours_Applicability_BLOCK1_ZONE1 Output Variable\n",
      "Added - Discomfortable Applicable Hot Hours_BLOCK1_ZONE2 Output Variable\n",
      "Added - Discomfortable Applicable Hot Hours_BLOCK1_ZONE1 Output Variable\n",
      "Added - Discomfortable Applicable Cold Hours_BLOCK1_ZONE2 Output Variable\n",
      "Added - Discomfortable Applicable Cold Hours_BLOCK1_ZONE1 Output Variable\n",
      "Added - Discomfortable Non Applicable Hot Hours_BLOCK1_ZONE2 Output Variable\n",
      "Added - Discomfortable Non Applicable Hot Hours_BLOCK1_ZONE1 Output Variable\n",
      "Added - Discomfortable Non Applicable Cold Hours_BLOCK1_ZONE2 Output Variable\n",
      "Added - Discomfortable Non Applicable Cold Hours_BLOCK1_ZONE1 Output Variable\n",
      "Added - Zone Floor Area_BLOCK1_ZONE2 Output Variable\n",
      "Added - Zone Floor Area_BLOCK1_ZONE1 Output Variable\n",
      "Added - Zone Air Volume_BLOCK1_ZONE2 Output Variable\n",
      "Added - Zone Air Volume_BLOCK1_ZONE1 Output Variable\n",
      "Added - Ventilation Hours_BLOCK1_ZONE2 Output Variable\n",
      "Added - Ventilation Hours_BLOCK1_ZONE1 Output Variable\n",
      "Global variables objects have been added\n",
      "Internal variables objects have been added\n",
      "Added - RMOT Sensor\n",
      "Added - PMOT Sensor\n",
      "Added - BLOCK1_ZONE2_OpT Sensor\n",
      "Added - BLOCK1_ZONE2_WindSpeed Sensor\n",
      "Added - BLOCK1_ZONE2_OutT Sensor\n",
      "Added - BLOCK1_ZONE1_OpT Sensor\n",
      "Added - BLOCK1_ZONE1_WindSpeed Sensor\n",
      "Added - BLOCK1_ZONE1_OutT Sensor\n",
      "Added - Block1_Zone2_Wall_3_0_0_0_0_0_Win_OpT Sensor\n",
      "Added - Block1_Zone2_Wall_3_0_0_0_0_0_Win_WindSpeed Sensor\n",
      "Added - Block1_Zone2_Wall_3_0_0_0_0_0_Win_OutT Sensor\n",
      "Added - Block1_Zone2_Wall_4_0_0_0_0_0_Win_OpT Sensor\n",
      "Added - Block1_Zone2_Wall_4_0_0_0_0_0_Win_WindSpeed Sensor\n",
      "Added - Block1_Zone2_Wall_4_0_0_0_0_0_Win_OutT Sensor\n",
      "Added - Block1_Zone2_Wall_5_0_0_0_0_0_Win_OpT Sensor\n",
      "Added - Block1_Zone2_Wall_5_0_0_0_0_0_Win_WindSpeed Sensor\n",
      "Added - Block1_Zone2_Wall_5_0_0_0_0_0_Win_OutT Sensor\n",
      "Added - Block1_Zone1_Wall_2_0_0_0_0_0_Win_OpT Sensor\n",
      "Added - Block1_Zone1_Wall_2_0_0_0_0_0_Win_WindSpeed Sensor\n",
      "Added - Block1_Zone1_Wall_2_0_0_0_0_0_Win_OutT Sensor\n",
      "Added - Block1_Zone1_Wall_3_0_0_0_0_0_Win_OpT Sensor\n",
      "Added - Block1_Zone1_Wall_3_0_0_0_0_0_Win_WindSpeed Sensor\n",
      "Added - Block1_Zone1_Wall_3_0_0_0_0_0_Win_OutT Sensor\n",
      "Added - Block1_Zone1_Wall_5_0_0_0_0_0_Win_OpT Sensor\n",
      "Added - Block1_Zone1_Wall_5_0_0_0_0_0_Win_WindSpeed Sensor\n",
      "Added - Block1_Zone1_Wall_5_0_0_0_0_0_Win_OutT Sensor\n",
      "Added - OutT Sensor\n",
      "Added - AHST_Act_BLOCK1_ZONE2 Actuator\n",
      "Added - ACST_Act_BLOCK1_ZONE2 Actuator\n",
      "Added - AHST_Act_BLOCK1_ZONE1 Actuator\n",
      "Added - ACST_Act_BLOCK1_ZONE1 Actuator\n",
      "Added - Block1_Zone2_Wall_3_0_0_0_0_0_Win_VentOpenFact Actuator\n",
      "Added - Block1_Zone2_Wall_4_0_0_0_0_0_Win_VentOpenFact Actuator\n",
      "Added - Block1_Zone2_Wall_5_0_0_0_0_0_Win_VentOpenFact Actuator\n",
      "Added - Block1_Zone1_Wall_2_0_0_0_0_0_Win_VentOpenFact Actuator\n",
      "Added - Block1_Zone1_Wall_3_0_0_0_0_0_Win_VentOpenFact Actuator\n",
      "Added - Block1_Zone1_Wall_5_0_0_0_0_0_Win_VentOpenFact Actuator\n",
      "Added - BLOCK1_ZONE2_CoolCoil Sensor\n",
      "Added - BLOCK1_ZONE2_HeatCoil Sensor\n",
      "Added - BLOCK1_ZONE1_CoolCoil Sensor\n",
      "Added - BLOCK1_ZONE1_HeatCoil Sensor\n",
      "Added - Block1_Zone2_Wall_3_0_0_0_0_0_Win_CoolCoil Sensor\n",
      "Added - Block1_Zone2_Wall_3_0_0_0_0_0_Win_HeatCoil Sensor\n",
      "Added - Block1_Zone2_Wall_4_0_0_0_0_0_Win_CoolCoil Sensor\n",
      "Added - Block1_Zone2_Wall_4_0_0_0_0_0_Win_HeatCoil Sensor\n",
      "Added - Block1_Zone2_Wall_5_0_0_0_0_0_Win_CoolCoil Sensor\n",
      "Added - Block1_Zone2_Wall_5_0_0_0_0_0_Win_HeatCoil Sensor\n",
      "Added - Block1_Zone1_Wall_2_0_0_0_0_0_Win_CoolCoil Sensor\n",
      "Added - Block1_Zone1_Wall_2_0_0_0_0_0_Win_HeatCoil Sensor\n",
      "Added - Block1_Zone1_Wall_3_0_0_0_0_0_Win_CoolCoil Sensor\n",
      "Added - Block1_Zone1_Wall_3_0_0_0_0_0_Win_HeatCoil Sensor\n",
      "Added - Block1_Zone1_Wall_5_0_0_0_0_0_Win_CoolCoil Sensor\n",
      "Added - Block1_Zone1_Wall_5_0_0_0_0_0_Win_HeatCoil Sensor\n",
      "Added - SetComfTemp Program Calling Manager\n",
      "Added - CountHours_BLOCK1_ZONE2 Program Calling Manager\n",
      "Added - CountHours_BLOCK1_ZONE1 Program Calling Manager\n",
      "Added - SetAppLimits Program Calling Manager\n",
      "Added - ApplyCAT Program Calling Manager\n",
      "Added - SetAST Program Calling Manager\n",
      "Added - SetASTnoTol Program Calling Manager\n",
      "Added - CountHoursNoApp_BLOCK1_ZONE2 Program Calling Manager\n",
      "Added - SetGeoVarBLOCK1_ZONE2 Program Calling Manager\n",
      "Added - CountHoursNoApp_BLOCK1_ZONE1 Program Calling Manager\n",
      "Added - SetGeoVarBLOCK1_ZONE1 Program Calling Manager\n",
      "Added - SetInputData Program Calling Manager\n",
      "Added - SetVOFinputData Program Calling Manager\n",
      "Added - SetVST Program Calling Manager\n",
      "Added - ApplyAST_BLOCK1_ZONE2 Program Calling Manager\n",
      "Added - ApplyAST_BLOCK1_ZONE1 Program Calling Manager\n",
      "Added - SetMyVOF_Block1_Zone2_Wall_3_0_0_0_0_0_Win Program Calling Manager\n",
      "Added - SetWindowOperation_Block1_Zone2_Wall_3_0_0_0_0_0_Win Program Calling Manager\n",
      "Added - SetMyVOF_Block1_Zone2_Wall_4_0_0_0_0_0_Win Program Calling Manager\n",
      "Added - SetWindowOperation_Block1_Zone2_Wall_4_0_0_0_0_0_Win Program Calling Manager\n",
      "Added - SetMyVOF_Block1_Zone2_Wall_5_0_0_0_0_0_Win Program Calling Manager\n",
      "Added - SetWindowOperation_Block1_Zone2_Wall_5_0_0_0_0_0_Win Program Calling Manager\n",
      "Added - SetMyVOF_Block1_Zone1_Wall_2_0_0_0_0_0_Win Program Calling Manager\n",
      "Added - SetWindowOperation_Block1_Zone1_Wall_2_0_0_0_0_0_Win Program Calling Manager\n",
      "Added - SetMyVOF_Block1_Zone1_Wall_3_0_0_0_0_0_Win Program Calling Manager\n",
      "Added - SetWindowOperation_Block1_Zone1_Wall_3_0_0_0_0_0_Win Program Calling Manager\n",
      "Added - SetMyVOF_Block1_Zone1_Wall_5_0_0_0_0_0_Win Program Calling Manager\n",
      "Added - SetWindowOperation_Block1_Zone1_Wall_5_0_0_0_0_0_Win Program Calling Manager\n",
      "Added - Comfort Temperature Reporting FrequencyHourly Output:Variable data\n",
      "Added - Adaptive Cooling Setpoint Temperature Reporting FrequencyHourly Output:Variable data\n",
      "Added - Adaptive Heating Setpoint Temperature Reporting FrequencyHourly Output:Variable data\n",
      "Added - Adaptive Cooling Setpoint Temperature_No Tolerance Reporting FrequencyHourly Output:Variable data\n",
      "Added - Adaptive Heating Setpoint Temperature_No Tolerance Reporting FrequencyHourly Output:Variable data\n",
      "Added - Ventilation Setpoint Temperature Reporting FrequencyHourly Output:Variable data\n",
      "Added - Minimum Outdoor Temperature for ventilation Reporting FrequencyHourly Output:Variable data\n",
      "Added - Minimum Outdoor Temperature Difference for ventilation Reporting FrequencyHourly Output:Variable data\n",
      "Added - Maximum Outdoor Temperature Difference for ventilation Reporting FrequencyHourly Output:Variable data\n",
      "Added - Multiplier for Ventilation Opening Factor Reporting FrequencyHourly Output:Variable data\n",
      "Added - Comfortable Hours_No Applicability_BLOCK1_ZONE2 Reporting FrequencyHourly Output:Variable data\n",
      "Added - Comfortable Hours_No Applicability_BLOCK1_ZONE1 Reporting FrequencyHourly Output:Variable data\n",
      "Added - Comfortable Hours_Applicability_BLOCK1_ZONE2 Reporting FrequencyHourly Output:Variable data\n",
      "Added - Comfortable Hours_Applicability_BLOCK1_ZONE1 Reporting FrequencyHourly Output:Variable data\n",
      "Added - Discomfortable Applicable Hot Hours_BLOCK1_ZONE2 Reporting FrequencyHourly Output:Variable data\n",
      "Added - Discomfortable Applicable Hot Hours_BLOCK1_ZONE1 Reporting FrequencyHourly Output:Variable data\n",
      "Added - Discomfortable Applicable Cold Hours_BLOCK1_ZONE2 Reporting FrequencyHourly Output:Variable data\n",
      "Added - Discomfortable Applicable Cold Hours_BLOCK1_ZONE1 Reporting FrequencyHourly Output:Variable data\n",
      "Added - Discomfortable Non Applicable Hot Hours_BLOCK1_ZONE2 Reporting FrequencyHourly Output:Variable data\n",
      "Added - Discomfortable Non Applicable Hot Hours_BLOCK1_ZONE1 Reporting FrequencyHourly Output:Variable data\n",
      "Added - Discomfortable Non Applicable Cold Hours_BLOCK1_ZONE2 Reporting FrequencyHourly Output:Variable data\n",
      "Added - Discomfortable Non Applicable Cold Hours_BLOCK1_ZONE1 Reporting FrequencyHourly Output:Variable data\n",
      "Added - Zone Floor Area_BLOCK1_ZONE2 Reporting FrequencyHourly Output:Variable data\n",
      "Added - Zone Floor Area_BLOCK1_ZONE1 Reporting FrequencyHourly Output:Variable data\n",
      "Added - Zone Air Volume_BLOCK1_ZONE2 Reporting FrequencyHourly Output:Variable data\n",
      "Added - Zone Air Volume_BLOCK1_ZONE1 Reporting FrequencyHourly Output:Variable data\n",
      "Added - Ventilation Hours_BLOCK1_ZONE2 Reporting FrequencyHourly Output:Variable data\n",
      "Added - Ventilation Hours_BLOCK1_ZONE1 Reporting FrequencyHourly Output:Variable data\n",
      "Added - Zone Operative Temperature Reporting FrequencyHourly Output:Variable data\n",
      "Added - Zone Thermal Comfort CEN 15251 Adaptive Model Running Average Outdoor Air Temperature Reporting FrequencyHourly Output:Variable data\n",
      "Added - Zone Thermal Comfort ASHRAE 55 Adaptive Model Running Average Outdoor Air Temperature Reporting FrequencyHourly Output:Variable data\n",
      "Added - Cooling Coil Total Cooling Rate Reporting FrequencyHourly Output:Variable data\n",
      "Added - Heating Coil Heating Rate Reporting FrequencyHourly Output:Variable data\n",
      "Added - Facility Total HVAC Electric Demand Power Reporting FrequencyHourly Output:Variable data\n",
      "Added - Facility Total HVAC Electricity Demand Rate Reporting FrequencyHourly Output:Variable data\n",
      "Added - AFN Surface Venting Window or Door Opening Factor Reporting FrequencyHourly Output:Variable data\n",
      "Added - AFN Zone Infiltration Air Change Rate Reporting FrequencyHourly Output:Variable data\n",
      "Added - AFN Zone Infiltration Volume Reporting FrequencyHourly Output:Variable data\n",
      "Added - AFN Zone Ventilation Air Change Rate Reporting FrequencyHourly Output:Variable data\n",
      "Added - AFN Zone Ventilation Volume Reporting FrequencyHourly Output:Variable data\n"
     ]
    },
    {
     "name": "stdout",
     "output_type": "stream",
     "text": [
      "Added - Site Outdoor Air Drybulb Temperature Reporting FrequencyHourly Output:Variable data\n",
      "Added - Site Wind Speed Reporting FrequencyHourly Output:Variable data\n",
      "Added - Site Outdoor Air Relative Humidity Reporting FrequencyHourly Output:Variable data\n",
      "Added - AHST_Sch_BLOCK1_ZONE2 Reporting FrequencyHourly Output:Variable data\n",
      "Added - ACST_Sch_BLOCK1_ZONE2 Reporting FrequencyHourly Output:Variable data\n",
      "Added - AHST_Sch_BLOCK1_ZONE1 Reporting FrequencyHourly Output:Variable data\n",
      "Added - ACST_Sch_BLOCK1_ZONE1 Reporting FrequencyHourly Output:Variable data\n",
      "Added - VRF Heat Pump Cooling Electricity Energy Reporting FrequencyHourly Output:Variable data\n",
      "Added - VRF Heat Pump Heating Electricity Energy Reporting FrequencyHourly Output:Variable data\n",
      "Added - BLOCK1_ZONE2 VRF Indoor Unit DX Cooling Coil Reporting FrequencyHourly Output:Variable data\n",
      "Added - BLOCK1_ZONE2 VRF Indoor Unit DX Heating Coil Reporting Frequency Hourly Output:Variable data\n",
      "Added - BLOCK1_ZONE1 VRF Indoor Unit DX Cooling Coil Reporting FrequencyHourly Output:Variable data\n",
      "Added - BLOCK1_ZONE1 VRF Indoor Unit DX Heating Coil Reporting Frequency Hourly Output:Variable data\n",
      "IDF has been saved\n",
      "Ending with file:\n",
      "TestModel\n",
      "\n",
      "=======================END OF GENERIC IDF FILE GENERATION PROCESS=======================\n",
      "\n",
      "The following IDFs will not work, and therefore these will be deleted:\n",
      "None\n",
      "\n",
      "=======================START OF OUTPUT IDF FILES GENERATION PROCESS=======================\n",
      "\n",
      "The list of output IDFs is going to be:\n",
      "TestModel[CS_BRA Rupp NV[CA_80[CM_0[HM_1[VC_0[VO_0.0[MT_50.0[MW_50.0[AT_0.1[NS_X.idf\n",
      "TestModel[CS_BRA Rupp NV[CA_80[CM_0[HM_2[VC_0[VO_0.0[MT_50.0[MW_50.0[AT_0.1[NS_X.idf\n",
      "TestModel[CS_BRA Rupp NV[CA_80[CM_3[HM_1[VC_0[VO_0.0[MT_50.0[MW_50.0[AT_0.1[NS_X.idf\n",
      "TestModel[CS_BRA Rupp NV[CA_80[CM_3[HM_2[VC_0[VO_0.0[MT_50.0[MW_50.0[AT_0.1[NS_X.idf\n",
      "And the total number of output IDFs is going to be 4\n",
      "Generating the following output IDF files:\n",
      "TestModel[CS_BRA Rupp NV[CA_80[CM_0[HM_1[VC_0[VO_0.0[MT_50.0[MW_50.0[AT_0.1[NS_X.idf\n",
      "TestModel[CS_BRA Rupp NV[CA_80[CM_0[HM_2[VC_0[VO_0.0[MT_50.0[MW_50.0[AT_0.1[NS_X.idf\n",
      "TestModel[CS_BRA Rupp NV[CA_80[CM_3[HM_1[VC_0[VO_0.0[MT_50.0[MW_50.0[AT_0.1[NS_X.idf\n",
      "TestModel[CS_BRA Rupp NV[CA_80[CM_3[HM_2[VC_0[VO_0.0[MT_50.0[MW_50.0[AT_0.1[NS_X.idf\n",
      "\n",
      "=======================END OF OUTPUT IDF FILES GENERATION PROCESS=======================\n",
      "\n"
     ]
    }
   ],
   "source": [
    "from accim.sim import accis\n",
    "add_accis_instance = accis.addAccis(\n",
    "    ScriptType='vrf_mm',\n",
    "    SupplyAirTempInputMethod='temperature difference',\n",
    "    Output_keep_existing=False,\n",
    "    Output_type='standard',\n",
    "    Output_freqs=['hourly'],\n",
    "    EnergyPlus_version='23.1',\n",
    "    TempCtrl='temperature',\n",
    "    ComfStand=[15],\n",
    "    CAT=[80],\n",
    "    ComfMod=[0, 3],\n",
    "    SetpointAcc=1000,\n",
    "    HVACmode=[1, 2],\n",
    "    VentCtrl=[0],\n",
    "    VSToffset=[0],\n",
    "    MinOToffset=[50],\n",
    "    MaxWindSpeed=[50],\n",
    "    ASTtol_steps=0.1,\n",
    "    ASTtol_start=0.1,\n",
    "    ASTtol_end_input=0.1,\n",
    "    confirmGen=True\n",
    ")"
   ]
  },
  {
   "cell_type": "markdown",
   "id": "1557fa1e",
   "metadata": {},
   "source": [
    "So, now let's see the list of output IDFs we have generated"
   ]
  },
  {
   "cell_type": "code",
   "execution_count": 4,
   "id": "58217779",
   "metadata": {},
   "outputs": [
    {
     "name": "stdout",
     "output_type": "stream",
     "text": [
      "TestModel[CS_BRA Rupp NV[CA_80[CM_0[HM_1[VC_0[VO_0.0[MT_50.0[MW_50.0[AT_0.1[NS_X.idf\n",
      "TestModel[CS_BRA Rupp NV[CA_80[CM_0[HM_2[VC_0[VO_0.0[MT_50.0[MW_50.0[AT_0.1[NS_X.idf\n",
      "TestModel[CS_BRA Rupp NV[CA_80[CM_3[HM_1[VC_0[VO_0.0[MT_50.0[MW_50.0[AT_0.1[NS_X.idf\n",
      "TestModel[CS_BRA Rupp NV[CA_80[CM_3[HM_2[VC_0[VO_0.0[MT_50.0[MW_50.0[AT_0.1[NS_X.idf\n"
     ]
    }
   ],
   "source": [
    "output_idfs = [i for i in listdir() if i.endswith('.idf') and i not in input_idfs]\n",
    "print(*output_idfs, sep='\\n')"
   ]
  },
  {
   "cell_type": "markdown",
   "id": "643060a0",
   "metadata": {},
   "source": [
    "Now, let's have a look at the internal variables which have been stored in the ``addAccis`` instance we have done:"
   ]
  },
  {
   "cell_type": "code",
   "execution_count": 5,
   "id": "704662d7",
   "metadata": {},
   "outputs": [
    {
     "data": {
      "text/plain": [
       "['arguments',\n",
       " 'input_idfs',\n",
       " 'occupied_zones',\n",
       " 'occupied_zones_original_name',\n",
       " 'output_idfs',\n",
       " 'windows_and_doors',\n",
       " 'windows_and_doors_original_name']"
      ]
     },
     "execution_count": 5,
     "metadata": {},
     "output_type": "execute_result"
    }
   ],
   "source": [
    "[i for i in dir(add_accis_instance) if '__' not in i]"
   ]
  },
  {
   "cell_type": "markdown",
   "id": "c228158d",
   "metadata": {},
   "source": [
    "For instance, in arguments, you can see the arguments you have previously specified."
   ]
  },
  {
   "cell_type": "code",
   "execution_count": 6,
   "id": "96cbe024",
   "metadata": {},
   "outputs": [
    {
     "data": {
      "text/plain": [
       "{'ScriptType': 'vrf_mm',\n",
       " 'SupplyAirTempInputMethod': 'temperature difference',\n",
       " 'Output_type': 'standard',\n",
       " 'Output_freqs': ['hourly'],\n",
       " 'Output_keep_existing': False,\n",
       " 'Output_gen_dataframe': None,\n",
       " 'Output_take_dataframe': None,\n",
       " 'EnergyPlus_version': '23.1',\n",
       " 'TempCtrl': 'temperature',\n",
       " 'ComfStand': [15],\n",
       " 'CAT': [80],\n",
       " 'ComfMod': [0, 3],\n",
       " 'SetpointAcc': 1000,\n",
       " 'CoolSeasonStart': 121,\n",
       " 'CoolSeasonEnd': 274,\n",
       " 'HVACmode': [1, 2],\n",
       " 'VentCtrl': [0],\n",
       " 'MaxTempDiffVOF': 20,\n",
       " 'MinTempDiffVOF': 0.5,\n",
       " 'MultiplierVOF': 0.25,\n",
       " 'VSToffset': [0],\n",
       " 'MinOToffset': [50],\n",
       " 'MaxWindSpeed': [50],\n",
       " 'ASTtol_start': 0.1,\n",
       " 'ASTtol_end_input': 0.1,\n",
       " 'ASTtol_steps': 0.1,\n",
       " 'NameSuffix': '',\n",
       " 'verboseMode': True,\n",
       " 'confirmGen': True}"
      ]
     },
     "execution_count": 6,
     "metadata": {},
     "output_type": "execute_result"
    }
   ],
   "source": [
    "add_accis_instance.arguments"
   ]
  },
  {
   "cell_type": "markdown",
   "id": "1dd4c0df",
   "metadata": {},
   "source": [
    "In variables  ``occupied_zones``, ``occupied_zones_original_name``, ``windows_and_doors`` and\n",
    " ``windows_and_doors_original_name`` you can see the zones and windows and doors within the input idfs:"
   ]
  },
  {
   "cell_type": "code",
   "execution_count": 7,
   "id": "ed6ab77e",
   "metadata": {},
   "outputs": [
    {
     "data": {
      "text/plain": [
       "{'TestModel': ['BLOCK1_ZONE2', 'BLOCK1_ZONE1']}"
      ]
     },
     "execution_count": 7,
     "metadata": {},
     "output_type": "execute_result"
    }
   ],
   "source": [
    "add_accis_instance.occupied_zones"
   ]
  },
  {
   "cell_type": "code",
   "execution_count": 8,
   "id": "4b0daae7",
   "metadata": {},
   "outputs": [
    {
     "data": {
      "text/plain": [
       "{'TestModel': ['Block1_Zone2_Wall_3_0_0_0_0_0_Win',\n",
       "  'Block1_Zone2_Wall_4_0_0_0_0_0_Win',\n",
       "  'Block1_Zone2_Wall_5_0_0_0_0_0_Win',\n",
       "  'Block1_Zone1_Wall_2_0_0_0_0_0_Win',\n",
       "  'Block1_Zone1_Wall_3_0_0_0_0_0_Win',\n",
       "  'Block1_Zone1_Wall_5_0_0_0_0_0_Win']}"
      ]
     },
     "execution_count": 8,
     "metadata": {},
     "output_type": "execute_result"
    }
   ],
   "source": [
    "add_accis_instance.windows_and_doors"
   ]
  },
  {
   "cell_type": "markdown",
   "id": "1bc96477",
   "metadata": {},
   "source": [
    "In variables ``input_idfs`` and ``output_idfs`` you can inspect the input and output idfs using [eppy](https://pypi.org/project/eppy/#description):"
   ]
  },
  {
   "cell_type": "code",
   "execution_count": 9,
   "id": "5ffb8151",
   "metadata": {},
   "outputs": [
    {
     "data": {
      "text/plain": [
       "{'TestModel': <eppy.modeleditor.IDF at 0x236703bb400>}"
      ]
     },
     "execution_count": 9,
     "metadata": {},
     "output_type": "execute_result"
    }
   ],
   "source": [
    "add_accis_instance.input_idfs"
   ]
  },
  {
   "cell_type": "markdown",
   "id": "95812220",
   "metadata": {},
   "source": [
    "Now, let's see the variable ``output_idfs`` "
   ]
  },
  {
   "cell_type": "code",
   "execution_count": 12,
   "id": "a265c52c",
   "metadata": {},
   "outputs": [
    {
     "data": {
      "text/plain": [
       "{'TestModel[CS_BRA Rupp NV[CA_80[CM_0[HM_1[VC_0[VO_0.0[MT_50.0[MW_50.0[AT_0.1[NS_X.idf': <eppy.modeleditor.IDF at 0x236703bb3a0>,\n",
       " 'TestModel[CS_BRA Rupp NV[CA_80[CM_0[HM_2[VC_0[VO_0.0[MT_50.0[MW_50.0[AT_0.1[NS_X.idf': <eppy.modeleditor.IDF at 0x236703bb3a0>,\n",
       " 'TestModel[CS_BRA Rupp NV[CA_80[CM_3[HM_1[VC_0[VO_0.0[MT_50.0[MW_50.0[AT_0.1[NS_X.idf': <eppy.modeleditor.IDF at 0x236703bb3a0>,\n",
       " 'TestModel[CS_BRA Rupp NV[CA_80[CM_3[HM_2[VC_0[VO_0.0[MT_50.0[MW_50.0[AT_0.1[NS_X.idf': <eppy.modeleditor.IDF at 0x236703bb3a0>}"
      ]
     },
     "execution_count": 12,
     "metadata": {},
     "output_type": "execute_result"
    }
   ],
   "source": [
    "add_accis_instance.output_idfs"
   ]
  },
  {
   "cell_type": "markdown",
   "id": "e7d2541a",
   "metadata": {},
   "source": [
    "In this case, we have generated more IDFs than we need, so let's remove the others. We only want a single naturally ventilated IDF, to compare the indoor temperature with the mixed-mode IDF with adaptive setpoints. IDFs are NV when HVACmode takes the value 1."
   ]
  },
  {
   "cell_type": "code",
   "execution_count": 14,
   "id": "ab57bbaa",
   "metadata": {},
   "outputs": [
    {
     "name": "stdout",
     "output_type": "stream",
     "text": [
      "TestModel[CS_BRA Rupp NV[CA_80[CM_0[HM_1[VC_0[VO_0.0[MT_50.0[MW_50.0[AT_0.1[NS_X.idf\n"
     ]
    }
   ],
   "source": [
    "idfs_to_be_removed = [i for i in listdir() if i.endswith('.idf') and 'HM_1' in i and 'CS_BRA Rupp NV[CA_80[CM_3[HM_1' not in i]\n",
    "print(*idfs_to_be_removed, sep='\\n')"
   ]
  },
  {
   "cell_type": "code",
   "execution_count": 15,
   "id": "e69685a9",
   "metadata": {},
   "outputs": [],
   "source": [
    "from os import remove\n",
    "for i in idfs_to_be_removed:\n",
    "    remove(i)"
   ]
  },
  {
   "cell_type": "markdown",
   "id": "b346defc",
   "metadata": {},
   "source": [
    "Let's see what IDFs we do finally have:"
   ]
  },
  {
   "cell_type": "code",
   "execution_count": 16,
   "id": "df0fb88d",
   "metadata": {},
   "outputs": [
    {
     "name": "stdout",
     "output_type": "stream",
     "text": [
      "TestModel[CS_BRA Rupp NV[CA_80[CM_0[HM_2[VC_0[VO_0.0[MT_50.0[MW_50.0[AT_0.1[NS_X.idf\n",
      "TestModel[CS_BRA Rupp NV[CA_80[CM_3[HM_1[VC_0[VO_0.0[MT_50.0[MW_50.0[AT_0.1[NS_X.idf\n",
      "TestModel[CS_BRA Rupp NV[CA_80[CM_3[HM_2[VC_0[VO_0.0[MT_50.0[MW_50.0[AT_0.1[NS_X.idf\n"
     ]
    }
   ],
   "source": [
    "output_idfs = [i for i in listdir() if i.endswith('.idf') and i not in input_idfs]\n",
    "print(*output_idfs, sep='\\n')\n"
   ]
  },
  {
   "cell_type": "markdown",
   "id": "519dc414",
   "metadata": {},
   "source": [
    "So, we're done with the IDFs. You can see these have been named based on the input data, separated by the character '['. Let's move to the EPWs."
   ]
  },
  {
   "cell_type": "markdown",
   "id": "de92c008",
   "metadata": {},
   "source": [
    "### 1.2. Preparing EPW files (using `rename_epw_files()`)"
   ]
  },
  {
   "cell_type": "markdown",
   "id": "7fa4e6d8",
   "metadata": {},
   "source": [
    "Let's see the EPWs we are going to use for the simulations:"
   ]
  },
  {
   "cell_type": "code",
   "execution_count": 17,
   "id": "624b8382",
   "metadata": {},
   "outputs": [
    {
     "name": "stdout",
     "output_type": "stream",
     "text": [
      "Current_GC07_Chapeco.epw\n",
      "Current_GC20_Palmas.epw\n",
      "RCP852100_GC07_Chapeco.epw\n",
      "RCP852100_GC20_Palmas.epw\n"
     ]
    }
   ],
   "source": [
    "original_epws = [i for i in listdir() if i.endswith('.epw')]\n",
    "print(*original_epws, sep='\\n')"
   ]
  },
  {
   "cell_type": "markdown",
   "id": "ba8774f0",
   "metadata": {},
   "source": [
    "Now, we're going to rename them. We want them to follow the pattern \"Country_City_RCPscenario-Year\". But, why is that? Because later, when we run the simulations and read the CSV files, we will be able to analyse them considering the fields Country, City, RCPscenario and Year as categorical variables. So let's rename them running the code in the cell below.\n",
    "\n",
    "First, accim will try to rename them based on the original name and the geolocation. If no match between those is found, accim will assign the string 'UNKNOWN' to the city. Then, accim will ask you if you want to edit some of the new names. If so, you'll need to enter the IDs:\n",
    "- If any of the city or subcountry names needs some amendment (if you are not happy with any of the available options, you can exclude it from renaming at the next stage), please enter the EPW IDs separated by space:**(hit enter)**\n",
    "\n",
    "Afterwards, you'll be asked to enter the new city name for each ID you previously entered (in this case, 0 1 2 3). So, \n",
    "- Regarding the file ID: 0 ... Please enter the amended city or subcountry, which must be unique: **Chapeco**\n",
    "- Regarding the file ID: 1 ... Please enter the amended city or subcountry, which must be unique: **Palmas**\n",
    "- Regarding the file ID: 2 ... Please enter the amended city or subcountry, which must be unique: **Chapeco**\n",
    "- Regarding the file ID: 3 ... Please enter the amended city or subcountry, which must be unique: **Palmas**\n",
    "\n",
    "Then, accim will let you know the old names, and the new named after amendments. Next, accim will ask you if you want to exclude some EPW from renaming. In this case, we're just going to hit enter to continue because we don't want to exclude any:\n",
    "- If you want to exclude some EPWs from renaming, please enter the new names separated by space, otherwise, hit enter to continue:\n",
    "\n",
    "Finally, accim will ask for confirmation to proceed with the renaming:\n",
    "Do you want to rename the file or files? [y/n]:**y**\n",
    "\n",
    "At this point, accim will make a copy of the EPWs and rename them. Afterwards, we would be asked if we want to delete the older EPWs. In this case, we won't because the deletion has been already set to False in the arguments."
   ]
  },
  {
   "cell_type": "code",
   "execution_count": 18,
   "id": "c2c9fd38",
   "metadata": {},
   "outputs": [
    {
     "name": "stderr",
     "output_type": "stream",
     "text": [
      "C:\\users\\sanga\\appdata\\local\\programs\\python\\python39\\lib\\site-packages\\accim\\data\\data_preprocessing.py:181: FutureWarning: The default value of regex will change from True to False in a future version.\n",
      "  epw_df['EPW_names'] = epw_df['EPW_file_names'].str.replace('.epw', '')\n",
      "C:\\users\\sanga\\appdata\\local\\programs\\python\\python39\\lib\\site-packages\\accim\\data\\data_preprocessing.py:183: FutureWarning: The default value of regex will change from True to False in a future version. In addition, single character regular expressions will*not* be treated as literal strings when regex=True.\n",
      "  epw_df['EPW_mod'] = epw_df['EPW_names'].str.replace('-', '_').str.replace('.', '_').str.split('_')\n",
      "C:\\users\\sanga\\appdata\\local\\programs\\python\\python39\\lib\\site-packages\\accim\\data\\data_preprocessing.py:185: FutureWarning: The default value of regex will change from True to False in a future version. In addition, single character regular expressions will*not* be treated as literal strings when regex=True.\n",
      "  epw_df['EPW_mod_filtered'] = epw_df['EPW_names'].str.replace('-', '_').str.replace('.', '_').str.split('_')\n"
     ]
    },
    {
     "name": "stdout",
     "output_type": "stream",
     "text": [
      "Since no match has been found between RCP scenario Year and EPW file name, Present year has been assigned to the following EPW files:\n",
      "Current_GC07_Chapeco.epw\n",
      "Current_GC20_Palmas.epw\n",
      "The geolocation process has taken: 2.1 seconds (0.53 s/EPW)\n",
      "\n",
      "The previous and new names of the EPW files and their unique IDs are:\n",
      "ID: 0 / Current_GC07_Chapeco / Brazil_Chapeco_Present\n",
      "ID: 1 / Current_GC20_Palmas / Brazil_Palmas_Present\n",
      "ID: 2 / RCP852100_GC07_Chapeco / Brazil_Chapeco_RCP85-2100\n",
      "ID: 3 / RCP852100_GC20_Palmas / Brazil_Palmas_RCP85-2100\n",
      "\n",
      "If any of the city or subcountry names needs some amendment (if you are not happy with any of the available options, you can exclude it from renaming at the next stage), please enter the EPW IDs separated by space; otherwise, hit enter to omit:\n",
      "\n",
      "The final list of previous and new names of the EPW files and their unique IDs is:\n",
      "ID: 0 / Current_GC07_Chapeco / Brazil_Chapeco_Present\n",
      "ID: 1 / Current_GC20_Palmas / Brazil_Palmas_Present\n",
      "ID: 2 / RCP852100_GC07_Chapeco / Brazil_Chapeco_RCP85-2100\n",
      "ID: 3 / RCP852100_GC20_Palmas / Brazil_Palmas_RCP85-2100\n",
      "\n",
      "If you want to exclude some EPWs from renaming, please enter the IDs separated by space, otherwise, hit enter to continue:\n",
      "\n",
      "Do you want to copy and rename the file or files? [y/n]:y\n",
      "The file Current_GC07_Chapeco has been renamed to Brazil_Chapeco_Present\n",
      "The file Current_GC20_Palmas has been renamed to Brazil_Palmas_Present\n",
      "The file RCP852100_GC07_Chapeco has been renamed to Brazil_Chapeco_RCP85-2100\n",
      "The file RCP852100_GC20_Palmas has been renamed to Brazil_Palmas_RCP85-2100\n"
     ]
    },
    {
     "data": {
      "text/plain": [
       "<accim.data.data_preprocessing.rename_epw_files at 0x236128b9cd0>"
      ]
     },
     "execution_count": 18,
     "metadata": {},
     "output_type": "execute_result"
    }
   ],
   "source": [
    "from accim.data.data_preprocessing import rename_epw_files\n",
    "rename_epw_files(\n",
    "    rename_dict={\n",
    "        'Chapeco': 'Chapeco',\n",
    "        'Palmas': 'Palmas'\n",
    "    },\n",
    "    confirm_deletion=False\n",
    ")"
   ]
  },
  {
   "cell_type": "markdown",
   "id": "0d86b25e",
   "metadata": {},
   "source": [
    "``rename_epw_files`` uses OpenStreetMap to extract the address from coordinates. If you get an SSL certificate error, you might need to find a different way to rename the files. You could also proceed without renaming them, but you could only make comparisons based on the entire EPW filename. <span style=\"color:red\">IMPORTANT: PLEASE, **ONLY** RUN THE NEXT CELL IF YOU GOT AN SSL ERROR IN THE PREVIOUS ONE:</span>"
   ]
  },
  {
   "cell_type": "code",
   "execution_count": null,
   "id": "a5cc8d4e",
   "metadata": {},
   "outputs": [],
   "source": [
    "import os\n",
    "import shutil\n",
    "\n",
    "for i in original_epws:\n",
    "    shutil.copy(i, i.split('.epw')[0]+'_new.epw')\n",
    "\n",
    "renaming_epws = {\n",
    "    'Current_GC07_Chapeco_new.epw': 'Brazil_Chapeco_Present.epw',\n",
    "    'Current_GC20_Palmas_new.epw': 'Brazil_Palmas_Present.epw',\n",
    "    'RCP852100_GC07_Chapeco_new.epw': 'Brazil_Chapeco_RCP85-2100.epw',\n",
    "    'RCP852100_GC20_Palmas_new.epw': 'Brazil_Palmas_RCP85-2100.epw',\n",
    "}\n",
    "\n",
    "for i in renaming_epws:\n",
    "    os.rename(i, renaming_epws[i])"
   ]
  },
  {
   "cell_type": "markdown",
   "id": "8f247dd9",
   "metadata": {},
   "source": [
    "Now, let's see what EPWs we do have:"
   ]
  },
  {
   "cell_type": "code",
   "execution_count": 19,
   "id": "49abc6c9",
   "metadata": {},
   "outputs": [
    {
     "name": "stdout",
     "output_type": "stream",
     "text": [
      "Brazil_Chapeco_Present.epw\n",
      "Brazil_Chapeco_RCP85-2100.epw\n",
      "Brazil_Palmas_Present.epw\n",
      "Brazil_Palmas_RCP85-2100.epw\n",
      "Current_GC07_Chapeco.epw\n",
      "Current_GC20_Palmas.epw\n",
      "RCP852100_GC07_Chapeco.epw\n",
      "RCP852100_GC20_Palmas.epw\n"
     ]
    }
   ],
   "source": [
    "all_epws = [i for i in listdir() if i.endswith('.epw')]\n",
    "print(*all_epws, sep='\\n')"
   ]
  },
  {
   "cell_type": "markdown",
   "id": "c01a4f14",
   "metadata": {},
   "source": [
    "We can see the new EPWs are:"
   ]
  },
  {
   "cell_type": "code",
   "execution_count": 20,
   "id": "d5ba5c70",
   "metadata": {},
   "outputs": [
    {
     "name": "stdout",
     "output_type": "stream",
     "text": [
      "Brazil_Chapeco_Present.epw\n",
      "Brazil_Chapeco_RCP85-2100.epw\n",
      "Brazil_Palmas_Present.epw\n",
      "Brazil_Palmas_RCP85-2100.epw\n"
     ]
    }
   ],
   "source": [
    "new_epws = [i for i in listdir() if i.endswith('.epw') if i not in original_epws]\n",
    "print(*new_epws, sep='\\n')"
   ]
  },
  {
   "cell_type": "markdown",
   "id": "8f88b38e",
   "metadata": {},
   "source": [
    "EPWs are correctly renamed, so now let's move the old EPWs to a different folder to save them as a backup."
   ]
  },
  {
   "cell_type": "code",
   "execution_count": 21,
   "id": "c0c4f796",
   "metadata": {},
   "outputs": [],
   "source": [
    "import shutil\n",
    "for i in original_epws:\n",
    "    shutil.move(i, f'backup/{i}')"
   ]
  },
  {
   "cell_type": "markdown",
   "id": "d6bc6f12",
   "metadata": {},
   "source": [
    "Now, we can move to the next stage."
   ]
  },
  {
   "cell_type": "markdown",
   "id": "0fe727e8",
   "metadata": {},
   "source": [
    "## 2. Running the simulation (using `runEp()`)"
   ]
  },
  {
   "cell_type": "markdown",
   "id": "16603780",
   "metadata": {},
   "source": [
    "At this point, we have prepared the IDF(s) we are going to simulate, which are"
   ]
  },
  {
   "cell_type": "code",
   "execution_count": 22,
   "id": "7c534e17",
   "metadata": {},
   "outputs": [
    {
     "name": "stdout",
     "output_type": "stream",
     "text": [
      "TestModel[CS_BRA Rupp NV[CA_80[CM_0[HM_2[VC_0[VO_0.0[MT_50.0[MW_50.0[AT_0.1[NS_X.idf\n",
      "TestModel[CS_BRA Rupp NV[CA_80[CM_3[HM_1[VC_0[VO_0.0[MT_50.0[MW_50.0[AT_0.1[NS_X.idf\n",
      "TestModel[CS_BRA Rupp NV[CA_80[CM_3[HM_2[VC_0[VO_0.0[MT_50.0[MW_50.0[AT_0.1[NS_X.idf\n"
     ]
    }
   ],
   "source": [
    "print(*output_idfs, sep='\\n')"
   ]
  },
  {
   "cell_type": "markdown",
   "id": "0bfc9e5b",
   "metadata": {},
   "source": [
    "as well as the locations where we are going to run those simulations, whose EPWs are:"
   ]
  },
  {
   "cell_type": "code",
   "execution_count": 23,
   "id": "8946029a",
   "metadata": {},
   "outputs": [
    {
     "name": "stdout",
     "output_type": "stream",
     "text": [
      "Brazil_Chapeco_Present.epw\n",
      "Brazil_Chapeco_RCP85-2100.epw\n",
      "Brazil_Palmas_Present.epw\n",
      "Brazil_Palmas_RCP85-2100.epw\n"
     ]
    }
   ],
   "source": [
    "print(*new_epws, sep='\\n')"
   ]
  },
  {
   "cell_type": "markdown",
   "id": "fdc9fcfb",
   "metadata": {},
   "source": [
    "So, we are going to simulate all IDF(s) with all EPW(s). When we run later the simulations using accim, the output files (i.e. the CSVs) will be named following the pattern **'idf[epw'**, where the character '[' is used as a separator for later data analysis, so that CSV rows can be grouped by EPW location. You may have noticed the same character is used as a separator in the IDF name, in order to group the CSV rows depending on the input data."
   ]
  },
  {
   "cell_type": "markdown",
   "id": "ac424a70",
   "metadata": {},
   "source": [
    "To run the simulations, 2 methods can be used:\n",
    "- the shorter, in which the following 2 lines of code needs to be run:\n",
    "    ```\n",
    "    from accim.run import run\n",
    "    run.runEp()\n",
    "    ```\n",
    "   After this, you'll be asked to enter the EnergyPlus version (which should coincide with the IDF EnergyPlus version):\n",
    "    - Please enter the desired EnergyPlus version: **23.1**\n",
    "    \n",
    "   Then, you will need to say if you want to run only output IDFs of accim, or otherwise all existing IDFs in the folder:\n",
    "    - Do you want to run only ACCIM output IDFs? [y or n]: **y**\n",
    "    \n",
    "   Next, accim will tell you the IDF(s) and EPW(s) it's going to use for the simulations, and finally all the simulations it's going to run based on the name pattern 'idf[epw'.\n",
    "   Finally, it will ask for confirmation to proceed with the simulation:\n",
    "    - Do you still want to proceed? [y or n]:**y**\n",
    "- the longer method, in which the parameters are specified when calling the function. We'll use the longer method, so let's run the cell below. Since there are a few simulations, it might take a few minutes."
   ]
  },
  {
   "cell_type": "code",
   "execution_count": 24,
   "id": "e17de90a",
   "metadata": {},
   "outputs": [
    {
     "name": "stdout",
     "output_type": "stream",
     "text": [
      "The IDFs we are going to run are:\n",
      "TestModel[CS_BRA Rupp NV[CA_80[CM_0[HM_2[VC_0[VO_0.0[MT_50.0[MW_50.0[AT_0.1[NS_X.idf\n",
      "TestModel[CS_BRA Rupp NV[CA_80[CM_3[HM_1[VC_0[VO_0.0[MT_50.0[MW_50.0[AT_0.1[NS_X.idf\n",
      "TestModel[CS_BRA Rupp NV[CA_80[CM_3[HM_2[VC_0[VO_0.0[MT_50.0[MW_50.0[AT_0.1[NS_X.idf\n",
      " and the No. of IDFs is going to be 3\n",
      "The sample_EPWs we are going to run are:\n",
      "Brazil_Chapeco_Present.epw\n",
      "Brazil_Chapeco_RCP85-2100.epw\n",
      "Brazil_Palmas_Present.epw\n",
      "Brazil_Palmas_RCP85-2100.epw\n",
      " and the No. of sample_EPWs is going to be 4\n",
      "Therefore, the simulations are going to be:\n",
      "TestModel[CS_BRA Rupp NV[CA_80[CM_0[HM_2[VC_0[VO_0.0[MT_50.0[MW_50.0[AT_0.1[NS_X[Brazil_Chapeco_Present\n",
      "TestModel[CS_BRA Rupp NV[CA_80[CM_0[HM_2[VC_0[VO_0.0[MT_50.0[MW_50.0[AT_0.1[NS_X[Brazil_Chapeco_RCP85-2100\n",
      "TestModel[CS_BRA Rupp NV[CA_80[CM_0[HM_2[VC_0[VO_0.0[MT_50.0[MW_50.0[AT_0.1[NS_X[Brazil_Palmas_Present\n",
      "TestModel[CS_BRA Rupp NV[CA_80[CM_0[HM_2[VC_0[VO_0.0[MT_50.0[MW_50.0[AT_0.1[NS_X[Brazil_Palmas_RCP85-2100\n",
      "TestModel[CS_BRA Rupp NV[CA_80[CM_3[HM_1[VC_0[VO_0.0[MT_50.0[MW_50.0[AT_0.1[NS_X[Brazil_Chapeco_Present\n",
      "TestModel[CS_BRA Rupp NV[CA_80[CM_3[HM_1[VC_0[VO_0.0[MT_50.0[MW_50.0[AT_0.1[NS_X[Brazil_Chapeco_RCP85-2100\n",
      "TestModel[CS_BRA Rupp NV[CA_80[CM_3[HM_1[VC_0[VO_0.0[MT_50.0[MW_50.0[AT_0.1[NS_X[Brazil_Palmas_Present\n",
      "TestModel[CS_BRA Rupp NV[CA_80[CM_3[HM_1[VC_0[VO_0.0[MT_50.0[MW_50.0[AT_0.1[NS_X[Brazil_Palmas_RCP85-2100\n",
      "TestModel[CS_BRA Rupp NV[CA_80[CM_3[HM_2[VC_0[VO_0.0[MT_50.0[MW_50.0[AT_0.1[NS_X[Brazil_Chapeco_Present\n",
      "TestModel[CS_BRA Rupp NV[CA_80[CM_3[HM_2[VC_0[VO_0.0[MT_50.0[MW_50.0[AT_0.1[NS_X[Brazil_Chapeco_RCP85-2100\n",
      "TestModel[CS_BRA Rupp NV[CA_80[CM_3[HM_2[VC_0[VO_0.0[MT_50.0[MW_50.0[AT_0.1[NS_X[Brazil_Palmas_Present\n",
      "TestModel[CS_BRA Rupp NV[CA_80[CM_3[HM_2[VC_0[VO_0.0[MT_50.0[MW_50.0[AT_0.1[NS_X[Brazil_Palmas_RCP85-2100\n",
      " and the No. of simulations is going to be 12\n",
      "The simulations are done.\n"
     ]
    }
   ],
   "source": [
    "from accim.run import run\n",
    "run.runEp(\n",
    "    runOnlyAccim=True, #only runs output IDFs, that is, IDFs with \"[\" in its name\n",
    "    confirmRun=True, #to skip confirmation\n",
    "    num_CPUs=4, #to specify the number of CPUs to be used\n",
    "    EnergyPlus_version='23.1', #to specify the EnergyPlus version of the IDF, and the version of EnergyPlus you are going to run\n",
    ")\n",
    "\n",
    "print('The simulations are done.')"
   ]
  },
  {
   "cell_type": "markdown",
   "id": "9b89d15a",
   "metadata": {},
   "source": [
    "So simulations are done. Let's see the CSV data we have now:"
   ]
  },
  {
   "cell_type": "code",
   "execution_count": 25,
   "id": "692742de",
   "metadata": {},
   "outputs": [
    {
     "name": "stdout",
     "output_type": "stream",
     "text": [
      "TestModel[CS_BRA Rupp NV[CA_80[CM_0[HM_2[VC_0[VO_0.0[MT_50.0[MW_50.0[AT_0.1[NS_X[Brazil_Chapeco_Present.csv\n",
      "TestModel[CS_BRA Rupp NV[CA_80[CM_0[HM_2[VC_0[VO_0.0[MT_50.0[MW_50.0[AT_0.1[NS_X[Brazil_Chapeco_RCP85-2100.csv\n",
      "TestModel[CS_BRA Rupp NV[CA_80[CM_0[HM_2[VC_0[VO_0.0[MT_50.0[MW_50.0[AT_0.1[NS_X[Brazil_Palmas_Present.csv\n",
      "TestModel[CS_BRA Rupp NV[CA_80[CM_0[HM_2[VC_0[VO_0.0[MT_50.0[MW_50.0[AT_0.1[NS_X[Brazil_Palmas_RCP85-2100.csv\n",
      "TestModel[CS_BRA Rupp NV[CA_80[CM_3[HM_1[VC_0[VO_0.0[MT_50.0[MW_50.0[AT_0.1[NS_X[Brazil_Chapeco_Present.csv\n",
      "TestModel[CS_BRA Rupp NV[CA_80[CM_3[HM_1[VC_0[VO_0.0[MT_50.0[MW_50.0[AT_0.1[NS_X[Brazil_Chapeco_RCP85-2100.csv\n",
      "TestModel[CS_BRA Rupp NV[CA_80[CM_3[HM_1[VC_0[VO_0.0[MT_50.0[MW_50.0[AT_0.1[NS_X[Brazil_Palmas_Present.csv\n",
      "TestModel[CS_BRA Rupp NV[CA_80[CM_3[HM_1[VC_0[VO_0.0[MT_50.0[MW_50.0[AT_0.1[NS_X[Brazil_Palmas_RCP85-2100.csv\n",
      "TestModel[CS_BRA Rupp NV[CA_80[CM_3[HM_2[VC_0[VO_0.0[MT_50.0[MW_50.0[AT_0.1[NS_X[Brazil_Chapeco_Present.csv\n",
      "TestModel[CS_BRA Rupp NV[CA_80[CM_3[HM_2[VC_0[VO_0.0[MT_50.0[MW_50.0[AT_0.1[NS_X[Brazil_Chapeco_RCP85-2100.csv\n",
      "TestModel[CS_BRA Rupp NV[CA_80[CM_3[HM_2[VC_0[VO_0.0[MT_50.0[MW_50.0[AT_0.1[NS_X[Brazil_Palmas_Present.csv\n",
      "TestModel[CS_BRA Rupp NV[CA_80[CM_3[HM_2[VC_0[VO_0.0[MT_50.0[MW_50.0[AT_0.1[NS_X[Brazil_Palmas_RCP85-2100.csv\n"
     ]
    }
   ],
   "source": [
    "csvs = [i for i in listdir() if i.endswith('.csv') and 'Zsz.csv' not in i and 'Table.csv' not in i]\n",
    "print(*csvs, sep='\\n')"
   ]
  },
  {
   "cell_type": "markdown",
   "id": "43224aa7",
   "metadata": {},
   "source": [
    "Now, we can move to the last stage, in which data will be analysed and visualized."
   ]
  },
  {
   "cell_type": "markdown",
   "id": "16b781bd",
   "metadata": {},
   "source": [
    "## 3. Data post-processing"
   ]
  },
  {
   "cell_type": "markdown",
   "id": "6201e8b4",
   "metadata": {},
   "source": [
    "In order to analyse and visualize the data, we need to make a pandas DataFrame out of the CSVs. We will do this by using the `Table()` class. It will concatenate all the CSVs we specify into a single pandas DataFrame. The class ``Table`` also has some internal variables we can see. These are explained in the [documentation](https://accim.readthedocs.io/en/latest/accim.data.html#accim.data.data_postprocessing.Table)\n",
    "\n",
    "To use this method, a minimum knowledge and experience with Python programming is needed, so if this is not your case, you may struggle to make it work."
   ]
  },
  {
   "cell_type": "code",
   "execution_count": 1,
   "id": "22d8a426",
   "metadata": {},
   "outputs": [
    {
     "name": "stdout",
     "output_type": "stream",
     "text": [
      "Input data frequency in file TestModel[CS_BRA Rupp NV[CA_80[CM_0[HM_2[VC_0[VO_0.0[MT_50.0[MW_50.0[AT_0.1[NS_X[Brazil_Chapeco_Present.csv is hourly, therefore no aggregation will be performed.\n",
      "Input data frequency in file TestModel[CS_BRA Rupp NV[CA_80[CM_0[HM_2[VC_0[VO_0.0[MT_50.0[MW_50.0[AT_0.1[NS_X[Brazil_Chapeco_RCP85-2100.csv is hourly, therefore no aggregation will be performed.\n",
      "Input data frequency in file TestModel[CS_BRA Rupp NV[CA_80[CM_0[HM_2[VC_0[VO_0.0[MT_50.0[MW_50.0[AT_0.1[NS_X[Brazil_Palmas_Present.csv is hourly, therefore no aggregation will be performed.\n",
      "Input data frequency in file TestModel[CS_BRA Rupp NV[CA_80[CM_0[HM_2[VC_0[VO_0.0[MT_50.0[MW_50.0[AT_0.1[NS_X[Brazil_Palmas_RCP85-2100.csv is hourly, therefore no aggregation will be performed.\n",
      "Input data frequency in file TestModel[CS_BRA Rupp NV[CA_80[CM_3[HM_1[VC_0[VO_0.0[MT_50.0[MW_50.0[AT_0.1[NS_X[Brazil_Chapeco_Present.csv is hourly, therefore no aggregation will be performed.\n",
      "Input data frequency in file TestModel[CS_BRA Rupp NV[CA_80[CM_3[HM_1[VC_0[VO_0.0[MT_50.0[MW_50.0[AT_0.1[NS_X[Brazil_Chapeco_RCP85-2100.csv is hourly, therefore no aggregation will be performed.\n",
      "Input data frequency in file TestModel[CS_BRA Rupp NV[CA_80[CM_3[HM_1[VC_0[VO_0.0[MT_50.0[MW_50.0[AT_0.1[NS_X[Brazil_Palmas_Present.csv is hourly, therefore no aggregation will be performed.\n",
      "Input data frequency in file TestModel[CS_BRA Rupp NV[CA_80[CM_3[HM_1[VC_0[VO_0.0[MT_50.0[MW_50.0[AT_0.1[NS_X[Brazil_Palmas_RCP85-2100.csv is hourly, therefore no aggregation will be performed.\n",
      "Input data frequency in file TestModel[CS_BRA Rupp NV[CA_80[CM_3[HM_2[VC_0[VO_0.0[MT_50.0[MW_50.0[AT_0.1[NS_X[Brazil_Chapeco_Present.csv is hourly, therefore no aggregation will be performed.\n",
      "Input data frequency in file TestModel[CS_BRA Rupp NV[CA_80[CM_3[HM_2[VC_0[VO_0.0[MT_50.0[MW_50.0[AT_0.1[NS_X[Brazil_Chapeco_RCP85-2100.csv is hourly, therefore no aggregation will be performed.\n",
      "Input data frequency in file TestModel[CS_BRA Rupp NV[CA_80[CM_3[HM_2[VC_0[VO_0.0[MT_50.0[MW_50.0[AT_0.1[NS_X[Brazil_Palmas_Present.csv is hourly, therefore no aggregation will be performed.\n",
      "Input data frequency in file TestModel[CS_BRA Rupp NV[CA_80[CM_3[HM_2[VC_0[VO_0.0[MT_50.0[MW_50.0[AT_0.1[NS_X[Brazil_Palmas_RCP85-2100.csv is hourly, therefore no aggregation will be performed.\n",
      "No zones have been excluded from level computations.\n"
     ]
    }
   ],
   "source": [
    "from accim.data.data_postprocessing import Table\n",
    "dataset_hourly = Table(\n",
    "    #datasets=list\n",
    "    # This argument expects a list of csv file names.\n",
    "    # Since we are not specifying any list, it will use all available CSVs in the folder\n",
    "    # that meet certain conditions in the file name\n",
    "    \n",
    "    source_frequency='hourly',\n",
    "    # This argument tells accim which is the frequency of the input CSVs. \n",
    "    # Input CSVs with multiple frequencies are also allowed. \n",
    "    # It can be 'timestep', 'hourly', 'daily', 'monthly' and 'runperiod'.\n",
    "    \n",
    "    frequency='hourly', \n",
    "    # This argument tells accim which is the frequency for the resulting dataframe.\n",
    "    # If we entered 'daily', accim would aggregate the rows in days.\n",
    "    # It can be 'hourly', 'daily', 'monthly' and 'runperiod'.\n",
    "    # For instance, if we entered 'runperiod', since in this case, it's going to concatenate 12 csvs, \n",
    "    # the resulting dataframe would have 12 rows;\n",
    "    # If we entered 'daily', the number of rows would be 365 times 12.\n",
    "    \n",
    "    frequency_agg_func='sum', \n",
    "    # This argument tells accim the function to be used when the rows are aggregated; can be 'sum' or 'mean'\n",
    "    \n",
    "    standard_outputs=True, \n",
    "    # Used to work with a certain selection of output variables\n",
    "    \n",
    "    level=['building'], \n",
    "    # accim first tries to detect the hierarchy of zones, belonging to blocks, belonging to building.\n",
    "    # after that, accim will aggregate the output variables into new columns for block and/or building level\n",
    "    # Therefore, this argument tells accim which level or levels should address, and should be \n",
    "    # a list containing the strings 'block' and/or 'building'.\n",
    "    \n",
    "    level_agg_func=['sum', 'mean'], \n",
    "    # This argument tells accim the functions to be used when the columns are aggregated.\n",
    "    # It should be a list containing the strings 'sum' and/or 'mean'. \n",
    "        \n",
    "    level_excluded_zones=[],\n",
    "    # Used to exclude some zone from level computations. \n",
    "    # Imagine you want to make the average operative temperature of all zones, \n",
    "    # which are air-conditioned, except one which is naturally ventilated.\n",
    "    # Then you should exclude that zone entering the name here.\n",
    "    \n",
    "    split_epw_names=True, \n",
    "    # Used to split the categorical variable EPW into multiple columns \n",
    "    # for the fields Country, City, RCPscenario and Year\n",
    ")"
   ]
  },
  {
   "cell_type": "markdown",
   "id": "a0ee7582",
   "metadata": {},
   "source": [
    "As we saw in the documentation, we can access the DataFrame instance and print it:"
   ]
  },
  {
   "cell_type": "code",
   "execution_count": 2,
   "id": "ecc560cc",
   "metadata": {},
   "outputs": [
    {
     "data": {
      "text/html": [
       "<div>\n",
       "<style scoped>\n",
       "    .dataframe tbody tr th:only-of-type {\n",
       "        vertical-align: middle;\n",
       "    }\n",
       "\n",
       "    .dataframe tbody tr th {\n",
       "        vertical-align: top;\n",
       "    }\n",
       "\n",
       "    .dataframe thead th {\n",
       "        text-align: right;\n",
       "    }\n",
       "</style>\n",
       "<table border=\"1\" class=\"dataframe\">\n",
       "  <thead>\n",
       "    <tr style=\"text-align: right;\">\n",
       "      <th></th>\n",
       "      <th>Source</th>\n",
       "      <th>Model</th>\n",
       "      <th>ComfStand</th>\n",
       "      <th>CAT</th>\n",
       "      <th>ComfMod</th>\n",
       "      <th>HVACmode</th>\n",
       "      <th>VentCtrl</th>\n",
       "      <th>VSToffset</th>\n",
       "      <th>MinOToffset</th>\n",
       "      <th>MaxWindSpeed</th>\n",
       "      <th>...</th>\n",
       "      <th>Building_Total_Cooling Energy Consumption (kWh/m2) (summed)</th>\n",
       "      <th>Building_Total_Cooling Energy Consumption (kWh/m2) (mean)</th>\n",
       "      <th>Building_Total_Heating Energy Consumption (kWh/m2) (summed)</th>\n",
       "      <th>Building_Total_Heating Energy Consumption (kWh/m2) (mean)</th>\n",
       "      <th>Building_Total_Total Energy Demand (kWh/m2) (summed)</th>\n",
       "      <th>Building_Total_Total Energy Demand (kWh/m2) (mean)</th>\n",
       "      <th>Building_Total_Total Energy Consumption (kWh/m2) (summed)</th>\n",
       "      <th>Building_Total_Total Energy Consumption (kWh/m2) (mean)</th>\n",
       "      <th>Building_Total_Zone Air Volume (m3) (summed)</th>\n",
       "      <th>Building_Total_Zone Floor Area (m2) (summed)</th>\n",
       "    </tr>\n",
       "  </thead>\n",
       "  <tbody>\n",
       "    <tr>\n",
       "      <th>0</th>\n",
       "      <td>TestModel[CS_BRA Rupp NV[CA_80[CM_0[HM_2[VC_0[...</td>\n",
       "      <td>TestModel</td>\n",
       "      <td>CS_BRA Rupp NV</td>\n",
       "      <td>CA_80</td>\n",
       "      <td>CM_0</td>\n",
       "      <td>HM_2</td>\n",
       "      <td>VC_0</td>\n",
       "      <td>VO_0.0</td>\n",
       "      <td>MT_50.0</td>\n",
       "      <td>MW_50.0</td>\n",
       "      <td>...</td>\n",
       "      <td>0.003314</td>\n",
       "      <td>0.001657</td>\n",
       "      <td>0.0</td>\n",
       "      <td>0.0</td>\n",
       "      <td>0.003903</td>\n",
       "      <td>0.000976</td>\n",
       "      <td>0.003314</td>\n",
       "      <td>0.000828</td>\n",
       "      <td>116.02005</td>\n",
       "      <td>33.14855</td>\n",
       "    </tr>\n",
       "    <tr>\n",
       "      <th>1</th>\n",
       "      <td>TestModel[CS_BRA Rupp NV[CA_80[CM_0[HM_2[VC_0[...</td>\n",
       "      <td>TestModel</td>\n",
       "      <td>CS_BRA Rupp NV</td>\n",
       "      <td>CA_80</td>\n",
       "      <td>CM_0</td>\n",
       "      <td>HM_2</td>\n",
       "      <td>VC_0</td>\n",
       "      <td>VO_0.0</td>\n",
       "      <td>MT_50.0</td>\n",
       "      <td>MW_50.0</td>\n",
       "      <td>...</td>\n",
       "      <td>0.000000</td>\n",
       "      <td>0.000000</td>\n",
       "      <td>0.0</td>\n",
       "      <td>0.0</td>\n",
       "      <td>0.000000</td>\n",
       "      <td>0.000000</td>\n",
       "      <td>0.000000</td>\n",
       "      <td>0.000000</td>\n",
       "      <td>116.02005</td>\n",
       "      <td>33.14855</td>\n",
       "    </tr>\n",
       "    <tr>\n",
       "      <th>2</th>\n",
       "      <td>TestModel[CS_BRA Rupp NV[CA_80[CM_0[HM_2[VC_0[...</td>\n",
       "      <td>TestModel</td>\n",
       "      <td>CS_BRA Rupp NV</td>\n",
       "      <td>CA_80</td>\n",
       "      <td>CM_0</td>\n",
       "      <td>HM_2</td>\n",
       "      <td>VC_0</td>\n",
       "      <td>VO_0.0</td>\n",
       "      <td>MT_50.0</td>\n",
       "      <td>MW_50.0</td>\n",
       "      <td>...</td>\n",
       "      <td>0.000000</td>\n",
       "      <td>0.000000</td>\n",
       "      <td>0.0</td>\n",
       "      <td>0.0</td>\n",
       "      <td>0.000000</td>\n",
       "      <td>0.000000</td>\n",
       "      <td>0.000000</td>\n",
       "      <td>0.000000</td>\n",
       "      <td>116.02005</td>\n",
       "      <td>33.14855</td>\n",
       "    </tr>\n",
       "    <tr>\n",
       "      <th>3</th>\n",
       "      <td>TestModel[CS_BRA Rupp NV[CA_80[CM_0[HM_2[VC_0[...</td>\n",
       "      <td>TestModel</td>\n",
       "      <td>CS_BRA Rupp NV</td>\n",
       "      <td>CA_80</td>\n",
       "      <td>CM_0</td>\n",
       "      <td>HM_2</td>\n",
       "      <td>VC_0</td>\n",
       "      <td>VO_0.0</td>\n",
       "      <td>MT_50.0</td>\n",
       "      <td>MW_50.0</td>\n",
       "      <td>...</td>\n",
       "      <td>0.000000</td>\n",
       "      <td>0.000000</td>\n",
       "      <td>0.0</td>\n",
       "      <td>0.0</td>\n",
       "      <td>0.000000</td>\n",
       "      <td>0.000000</td>\n",
       "      <td>0.000000</td>\n",
       "      <td>0.000000</td>\n",
       "      <td>116.02005</td>\n",
       "      <td>33.14855</td>\n",
       "    </tr>\n",
       "    <tr>\n",
       "      <th>4</th>\n",
       "      <td>TestModel[CS_BRA Rupp NV[CA_80[CM_0[HM_2[VC_0[...</td>\n",
       "      <td>TestModel</td>\n",
       "      <td>CS_BRA Rupp NV</td>\n",
       "      <td>CA_80</td>\n",
       "      <td>CM_0</td>\n",
       "      <td>HM_2</td>\n",
       "      <td>VC_0</td>\n",
       "      <td>VO_0.0</td>\n",
       "      <td>MT_50.0</td>\n",
       "      <td>MW_50.0</td>\n",
       "      <td>...</td>\n",
       "      <td>0.000000</td>\n",
       "      <td>0.000000</td>\n",
       "      <td>0.0</td>\n",
       "      <td>0.0</td>\n",
       "      <td>0.000000</td>\n",
       "      <td>0.000000</td>\n",
       "      <td>0.000000</td>\n",
       "      <td>0.000000</td>\n",
       "      <td>116.02005</td>\n",
       "      <td>33.14855</td>\n",
       "    </tr>\n",
       "    <tr>\n",
       "      <th>...</th>\n",
       "      <td>...</td>\n",
       "      <td>...</td>\n",
       "      <td>...</td>\n",
       "      <td>...</td>\n",
       "      <td>...</td>\n",
       "      <td>...</td>\n",
       "      <td>...</td>\n",
       "      <td>...</td>\n",
       "      <td>...</td>\n",
       "      <td>...</td>\n",
       "      <td>...</td>\n",
       "      <td>...</td>\n",
       "      <td>...</td>\n",
       "      <td>...</td>\n",
       "      <td>...</td>\n",
       "      <td>...</td>\n",
       "      <td>...</td>\n",
       "      <td>...</td>\n",
       "      <td>...</td>\n",
       "      <td>...</td>\n",
       "      <td>...</td>\n",
       "    </tr>\n",
       "    <tr>\n",
       "      <th>105115</th>\n",
       "      <td>TestModel[CS_BRA Rupp NV[CA_80[CM_3[HM_2[VC_0[...</td>\n",
       "      <td>TestModel</td>\n",
       "      <td>CS_BRA Rupp NV</td>\n",
       "      <td>CA_80</td>\n",
       "      <td>CM_3</td>\n",
       "      <td>HM_2</td>\n",
       "      <td>VC_0</td>\n",
       "      <td>VO_0.0</td>\n",
       "      <td>MT_50.0</td>\n",
       "      <td>MW_50.0</td>\n",
       "      <td>...</td>\n",
       "      <td>0.079440</td>\n",
       "      <td>0.039720</td>\n",
       "      <td>0.0</td>\n",
       "      <td>0.0</td>\n",
       "      <td>0.086804</td>\n",
       "      <td>0.021701</td>\n",
       "      <td>0.079440</td>\n",
       "      <td>0.019860</td>\n",
       "      <td>116.02005</td>\n",
       "      <td>33.14855</td>\n",
       "    </tr>\n",
       "    <tr>\n",
       "      <th>105116</th>\n",
       "      <td>TestModel[CS_BRA Rupp NV[CA_80[CM_3[HM_2[VC_0[...</td>\n",
       "      <td>TestModel</td>\n",
       "      <td>CS_BRA Rupp NV</td>\n",
       "      <td>CA_80</td>\n",
       "      <td>CM_3</td>\n",
       "      <td>HM_2</td>\n",
       "      <td>VC_0</td>\n",
       "      <td>VO_0.0</td>\n",
       "      <td>MT_50.0</td>\n",
       "      <td>MW_50.0</td>\n",
       "      <td>...</td>\n",
       "      <td>0.046264</td>\n",
       "      <td>0.023132</td>\n",
       "      <td>0.0</td>\n",
       "      <td>0.0</td>\n",
       "      <td>0.050911</td>\n",
       "      <td>0.012728</td>\n",
       "      <td>0.046264</td>\n",
       "      <td>0.011566</td>\n",
       "      <td>116.02005</td>\n",
       "      <td>33.14855</td>\n",
       "    </tr>\n",
       "    <tr>\n",
       "      <th>105117</th>\n",
       "      <td>TestModel[CS_BRA Rupp NV[CA_80[CM_3[HM_2[VC_0[...</td>\n",
       "      <td>TestModel</td>\n",
       "      <td>CS_BRA Rupp NV</td>\n",
       "      <td>CA_80</td>\n",
       "      <td>CM_3</td>\n",
       "      <td>HM_2</td>\n",
       "      <td>VC_0</td>\n",
       "      <td>VO_0.0</td>\n",
       "      <td>MT_50.0</td>\n",
       "      <td>MW_50.0</td>\n",
       "      <td>...</td>\n",
       "      <td>0.035076</td>\n",
       "      <td>0.017538</td>\n",
       "      <td>0.0</td>\n",
       "      <td>0.0</td>\n",
       "      <td>0.039981</td>\n",
       "      <td>0.009995</td>\n",
       "      <td>0.035076</td>\n",
       "      <td>0.008769</td>\n",
       "      <td>116.02005</td>\n",
       "      <td>33.14855</td>\n",
       "    </tr>\n",
       "    <tr>\n",
       "      <th>105118</th>\n",
       "      <td>TestModel[CS_BRA Rupp NV[CA_80[CM_3[HM_2[VC_0[...</td>\n",
       "      <td>TestModel</td>\n",
       "      <td>CS_BRA Rupp NV</td>\n",
       "      <td>CA_80</td>\n",
       "      <td>CM_3</td>\n",
       "      <td>HM_2</td>\n",
       "      <td>VC_0</td>\n",
       "      <td>VO_0.0</td>\n",
       "      <td>MT_50.0</td>\n",
       "      <td>MW_50.0</td>\n",
       "      <td>...</td>\n",
       "      <td>0.027411</td>\n",
       "      <td>0.013706</td>\n",
       "      <td>0.0</td>\n",
       "      <td>0.0</td>\n",
       "      <td>0.032336</td>\n",
       "      <td>0.008084</td>\n",
       "      <td>0.027411</td>\n",
       "      <td>0.006853</td>\n",
       "      <td>116.02005</td>\n",
       "      <td>33.14855</td>\n",
       "    </tr>\n",
       "    <tr>\n",
       "      <th>105119</th>\n",
       "      <td>TestModel[CS_BRA Rupp NV[CA_80[CM_3[HM_2[VC_0[...</td>\n",
       "      <td>TestModel</td>\n",
       "      <td>CS_BRA Rupp NV</td>\n",
       "      <td>CA_80</td>\n",
       "      <td>CM_3</td>\n",
       "      <td>HM_2</td>\n",
       "      <td>VC_0</td>\n",
       "      <td>VO_0.0</td>\n",
       "      <td>MT_50.0</td>\n",
       "      <td>MW_50.0</td>\n",
       "      <td>...</td>\n",
       "      <td>0.022927</td>\n",
       "      <td>0.011463</td>\n",
       "      <td>0.0</td>\n",
       "      <td>0.0</td>\n",
       "      <td>0.027528</td>\n",
       "      <td>0.006882</td>\n",
       "      <td>0.022927</td>\n",
       "      <td>0.005732</td>\n",
       "      <td>116.02005</td>\n",
       "      <td>33.14855</td>\n",
       "    </tr>\n",
       "  </tbody>\n",
       "</table>\n",
       "<p>105120 rows × 119 columns</p>\n",
       "</div>"
      ],
      "text/plain": [
       "                                                   Source      Model  \\\n",
       "0       TestModel[CS_BRA Rupp NV[CA_80[CM_0[HM_2[VC_0[...  TestModel   \n",
       "1       TestModel[CS_BRA Rupp NV[CA_80[CM_0[HM_2[VC_0[...  TestModel   \n",
       "2       TestModel[CS_BRA Rupp NV[CA_80[CM_0[HM_2[VC_0[...  TestModel   \n",
       "3       TestModel[CS_BRA Rupp NV[CA_80[CM_0[HM_2[VC_0[...  TestModel   \n",
       "4       TestModel[CS_BRA Rupp NV[CA_80[CM_0[HM_2[VC_0[...  TestModel   \n",
       "...                                                   ...        ...   \n",
       "105115  TestModel[CS_BRA Rupp NV[CA_80[CM_3[HM_2[VC_0[...  TestModel   \n",
       "105116  TestModel[CS_BRA Rupp NV[CA_80[CM_3[HM_2[VC_0[...  TestModel   \n",
       "105117  TestModel[CS_BRA Rupp NV[CA_80[CM_3[HM_2[VC_0[...  TestModel   \n",
       "105118  TestModel[CS_BRA Rupp NV[CA_80[CM_3[HM_2[VC_0[...  TestModel   \n",
       "105119  TestModel[CS_BRA Rupp NV[CA_80[CM_3[HM_2[VC_0[...  TestModel   \n",
       "\n",
       "             ComfStand    CAT ComfMod HVACmode VentCtrl VSToffset MinOToffset  \\\n",
       "0       CS_BRA Rupp NV  CA_80    CM_0     HM_2     VC_0    VO_0.0     MT_50.0   \n",
       "1       CS_BRA Rupp NV  CA_80    CM_0     HM_2     VC_0    VO_0.0     MT_50.0   \n",
       "2       CS_BRA Rupp NV  CA_80    CM_0     HM_2     VC_0    VO_0.0     MT_50.0   \n",
       "3       CS_BRA Rupp NV  CA_80    CM_0     HM_2     VC_0    VO_0.0     MT_50.0   \n",
       "4       CS_BRA Rupp NV  CA_80    CM_0     HM_2     VC_0    VO_0.0     MT_50.0   \n",
       "...                ...    ...     ...      ...      ...       ...         ...   \n",
       "105115  CS_BRA Rupp NV  CA_80    CM_3     HM_2     VC_0    VO_0.0     MT_50.0   \n",
       "105116  CS_BRA Rupp NV  CA_80    CM_3     HM_2     VC_0    VO_0.0     MT_50.0   \n",
       "105117  CS_BRA Rupp NV  CA_80    CM_3     HM_2     VC_0    VO_0.0     MT_50.0   \n",
       "105118  CS_BRA Rupp NV  CA_80    CM_3     HM_2     VC_0    VO_0.0     MT_50.0   \n",
       "105119  CS_BRA Rupp NV  CA_80    CM_3     HM_2     VC_0    VO_0.0     MT_50.0   \n",
       "\n",
       "       MaxWindSpeed  ...  \\\n",
       "0           MW_50.0  ...   \n",
       "1           MW_50.0  ...   \n",
       "2           MW_50.0  ...   \n",
       "3           MW_50.0  ...   \n",
       "4           MW_50.0  ...   \n",
       "...             ...  ...   \n",
       "105115      MW_50.0  ...   \n",
       "105116      MW_50.0  ...   \n",
       "105117      MW_50.0  ...   \n",
       "105118      MW_50.0  ...   \n",
       "105119      MW_50.0  ...   \n",
       "\n",
       "       Building_Total_Cooling Energy Consumption (kWh/m2) (summed)  \\\n",
       "0                                                0.003314            \n",
       "1                                                0.000000            \n",
       "2                                                0.000000            \n",
       "3                                                0.000000            \n",
       "4                                                0.000000            \n",
       "...                                                   ...            \n",
       "105115                                           0.079440            \n",
       "105116                                           0.046264            \n",
       "105117                                           0.035076            \n",
       "105118                                           0.027411            \n",
       "105119                                           0.022927            \n",
       "\n",
       "       Building_Total_Cooling Energy Consumption (kWh/m2) (mean)  \\\n",
       "0                                                0.001657          \n",
       "1                                                0.000000          \n",
       "2                                                0.000000          \n",
       "3                                                0.000000          \n",
       "4                                                0.000000          \n",
       "...                                                   ...          \n",
       "105115                                           0.039720          \n",
       "105116                                           0.023132          \n",
       "105117                                           0.017538          \n",
       "105118                                           0.013706          \n",
       "105119                                           0.011463          \n",
       "\n",
       "       Building_Total_Heating Energy Consumption (kWh/m2) (summed)  \\\n",
       "0                                                     0.0            \n",
       "1                                                     0.0            \n",
       "2                                                     0.0            \n",
       "3                                                     0.0            \n",
       "4                                                     0.0            \n",
       "...                                                   ...            \n",
       "105115                                                0.0            \n",
       "105116                                                0.0            \n",
       "105117                                                0.0            \n",
       "105118                                                0.0            \n",
       "105119                                                0.0            \n",
       "\n",
       "        Building_Total_Heating Energy Consumption (kWh/m2) (mean)  \\\n",
       "0                                                     0.0           \n",
       "1                                                     0.0           \n",
       "2                                                     0.0           \n",
       "3                                                     0.0           \n",
       "4                                                     0.0           \n",
       "...                                                   ...           \n",
       "105115                                                0.0           \n",
       "105116                                                0.0           \n",
       "105117                                                0.0           \n",
       "105118                                                0.0           \n",
       "105119                                                0.0           \n",
       "\n",
       "       Building_Total_Total Energy Demand (kWh/m2) (summed)  \\\n",
       "0                                                0.003903     \n",
       "1                                                0.000000     \n",
       "2                                                0.000000     \n",
       "3                                                0.000000     \n",
       "4                                                0.000000     \n",
       "...                                                   ...     \n",
       "105115                                           0.086804     \n",
       "105116                                           0.050911     \n",
       "105117                                           0.039981     \n",
       "105118                                           0.032336     \n",
       "105119                                           0.027528     \n",
       "\n",
       "       Building_Total_Total Energy Demand (kWh/m2) (mean)  \\\n",
       "0                                                0.000976   \n",
       "1                                                0.000000   \n",
       "2                                                0.000000   \n",
       "3                                                0.000000   \n",
       "4                                                0.000000   \n",
       "...                                                   ...   \n",
       "105115                                           0.021701   \n",
       "105116                                           0.012728   \n",
       "105117                                           0.009995   \n",
       "105118                                           0.008084   \n",
       "105119                                           0.006882   \n",
       "\n",
       "       Building_Total_Total Energy Consumption (kWh/m2) (summed)  \\\n",
       "0                                                0.003314          \n",
       "1                                                0.000000          \n",
       "2                                                0.000000          \n",
       "3                                                0.000000          \n",
       "4                                                0.000000          \n",
       "...                                                   ...          \n",
       "105115                                           0.079440          \n",
       "105116                                           0.046264          \n",
       "105117                                           0.035076          \n",
       "105118                                           0.027411          \n",
       "105119                                           0.022927          \n",
       "\n",
       "       Building_Total_Total Energy Consumption (kWh/m2) (mean)  \\\n",
       "0                                                0.000828        \n",
       "1                                                0.000000        \n",
       "2                                                0.000000        \n",
       "3                                                0.000000        \n",
       "4                                                0.000000        \n",
       "...                                                   ...        \n",
       "105115                                           0.019860        \n",
       "105116                                           0.011566        \n",
       "105117                                           0.008769        \n",
       "105118                                           0.006853        \n",
       "105119                                           0.005732        \n",
       "\n",
       "       Building_Total_Zone Air Volume (m3) (summed)  \\\n",
       "0                                         116.02005   \n",
       "1                                         116.02005   \n",
       "2                                         116.02005   \n",
       "3                                         116.02005   \n",
       "4                                         116.02005   \n",
       "...                                             ...   \n",
       "105115                                    116.02005   \n",
       "105116                                    116.02005   \n",
       "105117                                    116.02005   \n",
       "105118                                    116.02005   \n",
       "105119                                    116.02005   \n",
       "\n",
       "       Building_Total_Zone Floor Area (m2) (summed)  \n",
       "0                                          33.14855  \n",
       "1                                          33.14855  \n",
       "2                                          33.14855  \n",
       "3                                          33.14855  \n",
       "4                                          33.14855  \n",
       "...                                             ...  \n",
       "105115                                     33.14855  \n",
       "105116                                     33.14855  \n",
       "105117                                     33.14855  \n",
       "105118                                     33.14855  \n",
       "105119                                     33.14855  \n",
       "\n",
       "[105120 rows x 119 columns]"
      ]
     },
     "execution_count": 2,
     "metadata": {},
     "output_type": "execute_result"
    }
   ],
   "source": [
    "dataset_hourly.df"
   ]
  },
  {
   "cell_type": "markdown",
   "id": "292627c2",
   "metadata": {},
   "source": [
    "### 3.1 Visualizing the data "
   ]
  },
  {
   "cell_type": "markdown",
   "id": "4581f539",
   "metadata": {},
   "source": [
    "So, we are going to use the ``Table`` instance we just created. Now, let's filter the columns we are going to use, considering we are going to compare indoor temperature with and without adaptive setpoint temperatures:"
   ]
  },
  {
   "cell_type": "code",
   "execution_count": 3,
   "id": "1e04077d",
   "metadata": {},
   "outputs": [],
   "source": [
    "dataset_hourly.format_table(\n",
    "    type_of_table='custom', # Used to choose some predefined tables. It can be 'energy demand', 'comfort hours', 'temperature', 'all' or 'custom'\n",
    "    custom_cols=[ #if type_of_table is 'custom', custom_cols is used to filter the desired columns to keep\n",
    "        'Adaptive Cooling Setpoint Temperature_No Tolerance (°C)',\n",
    "        'Adaptive Heating Setpoint Temperature_No Tolerance (°C)',\n",
    "        'Building_Total_Zone Operative Temperature (°C) (mean)',\n",
    "        'BLOCK1:ZONE2_ASHRAE 55 Running mean outdoor temperature (°C)',\n",
    "        'Building_Total_Cooling Energy Demand (kWh/m2) (summed)',\n",
    "        'Building_Total_Heating Energy Demand (kWh/m2) (summed)',\n",
    "        'Building_Total_AFN Zone Infiltration Air Change Rate (ach) (summed)'\n",
    "    ]\n",
    ")"
   ]
  },
  {
   "cell_type": "markdown",
   "id": "788287e5",
   "metadata": {},
   "source": [
    "Let's print again the DataFrame to see how has changed:"
   ]
  },
  {
   "cell_type": "code",
   "execution_count": 4,
   "id": "e3c2bbed",
   "metadata": {},
   "outputs": [
    {
     "data": {
      "text/html": [
       "<div>\n",
       "<style scoped>\n",
       "    .dataframe tbody tr th:only-of-type {\n",
       "        vertical-align: middle;\n",
       "    }\n",
       "\n",
       "    .dataframe tbody tr th {\n",
       "        vertical-align: top;\n",
       "    }\n",
       "\n",
       "    .dataframe thead th {\n",
       "        text-align: right;\n",
       "    }\n",
       "</style>\n",
       "<table border=\"1\" class=\"dataframe\">\n",
       "  <thead>\n",
       "    <tr style=\"text-align: right;\">\n",
       "      <th></th>\n",
       "      <th>Date/time</th>\n",
       "      <th>Model</th>\n",
       "      <th>ComfStand</th>\n",
       "      <th>CAT</th>\n",
       "      <th>ComfMod</th>\n",
       "      <th>HVACmode</th>\n",
       "      <th>VentCtrl</th>\n",
       "      <th>VSToffset</th>\n",
       "      <th>MinOToffset</th>\n",
       "      <th>MaxWindSpeed</th>\n",
       "      <th>...</th>\n",
       "      <th>EPW_Scenario-Year</th>\n",
       "      <th>EPW_Scenario</th>\n",
       "      <th>EPW_Year</th>\n",
       "      <th>Adaptive Cooling Setpoint Temperature_No Tolerance (°C)</th>\n",
       "      <th>Adaptive Heating Setpoint Temperature_No Tolerance (°C)</th>\n",
       "      <th>Building_Total_Zone Operative Temperature (°C) (mean)</th>\n",
       "      <th>BLOCK1:ZONE2_ASHRAE 55 Running mean outdoor temperature (°C)</th>\n",
       "      <th>Building_Total_Cooling Energy Demand (kWh/m2) (summed)</th>\n",
       "      <th>Building_Total_Heating Energy Demand (kWh/m2) (summed)</th>\n",
       "      <th>Building_Total_AFN Zone Infiltration Air Change Rate (ach) (summed)</th>\n",
       "    </tr>\n",
       "  </thead>\n",
       "  <tbody>\n",
       "    <tr>\n",
       "      <th>0</th>\n",
       "      <td>01/01  01:00:00</td>\n",
       "      <td>TestModel</td>\n",
       "      <td>CS_BRA Rupp NV</td>\n",
       "      <td>CA_80</td>\n",
       "      <td>CM_0</td>\n",
       "      <td>HM_2</td>\n",
       "      <td>VC_0</td>\n",
       "      <td>VO_0.0</td>\n",
       "      <td>MT_50.0</td>\n",
       "      <td>MW_50.0</td>\n",
       "      <td>...</td>\n",
       "      <td>Present</td>\n",
       "      <td>Present</td>\n",
       "      <td>Present</td>\n",
       "      <td>25.166667</td>\n",
       "      <td>22.050</td>\n",
       "      <td>23.669569</td>\n",
       "      <td>23.801389</td>\n",
       "      <td>0.003903</td>\n",
       "      <td>0.0</td>\n",
       "      <td>0.030392</td>\n",
       "    </tr>\n",
       "    <tr>\n",
       "      <th>1</th>\n",
       "      <td>01/01  02:00:00</td>\n",
       "      <td>TestModel</td>\n",
       "      <td>CS_BRA Rupp NV</td>\n",
       "      <td>CA_80</td>\n",
       "      <td>CM_0</td>\n",
       "      <td>HM_2</td>\n",
       "      <td>VC_0</td>\n",
       "      <td>VO_0.0</td>\n",
       "      <td>MT_50.0</td>\n",
       "      <td>MW_50.0</td>\n",
       "      <td>...</td>\n",
       "      <td>Present</td>\n",
       "      <td>Present</td>\n",
       "      <td>Present</td>\n",
       "      <td>25.500000</td>\n",
       "      <td>22.300</td>\n",
       "      <td>24.159264</td>\n",
       "      <td>23.801389</td>\n",
       "      <td>0.000000</td>\n",
       "      <td>0.0</td>\n",
       "      <td>0.019997</td>\n",
       "    </tr>\n",
       "    <tr>\n",
       "      <th>2</th>\n",
       "      <td>01/01  03:00:00</td>\n",
       "      <td>TestModel</td>\n",
       "      <td>CS_BRA Rupp NV</td>\n",
       "      <td>CA_80</td>\n",
       "      <td>CM_0</td>\n",
       "      <td>HM_2</td>\n",
       "      <td>VC_0</td>\n",
       "      <td>VO_0.0</td>\n",
       "      <td>MT_50.0</td>\n",
       "      <td>MW_50.0</td>\n",
       "      <td>...</td>\n",
       "      <td>Present</td>\n",
       "      <td>Present</td>\n",
       "      <td>Present</td>\n",
       "      <td>25.500000</td>\n",
       "      <td>22.300</td>\n",
       "      <td>24.481197</td>\n",
       "      <td>23.801389</td>\n",
       "      <td>0.000000</td>\n",
       "      <td>0.0</td>\n",
       "      <td>0.021666</td>\n",
       "    </tr>\n",
       "    <tr>\n",
       "      <th>3</th>\n",
       "      <td>01/01  04:00:00</td>\n",
       "      <td>TestModel</td>\n",
       "      <td>CS_BRA Rupp NV</td>\n",
       "      <td>CA_80</td>\n",
       "      <td>CM_0</td>\n",
       "      <td>HM_2</td>\n",
       "      <td>VC_0</td>\n",
       "      <td>VO_0.0</td>\n",
       "      <td>MT_50.0</td>\n",
       "      <td>MW_50.0</td>\n",
       "      <td>...</td>\n",
       "      <td>Present</td>\n",
       "      <td>Present</td>\n",
       "      <td>Present</td>\n",
       "      <td>25.500000</td>\n",
       "      <td>22.300</td>\n",
       "      <td>24.665458</td>\n",
       "      <td>23.801389</td>\n",
       "      <td>0.000000</td>\n",
       "      <td>0.0</td>\n",
       "      <td>0.031366</td>\n",
       "    </tr>\n",
       "    <tr>\n",
       "      <th>4</th>\n",
       "      <td>01/01  05:00:00</td>\n",
       "      <td>TestModel</td>\n",
       "      <td>CS_BRA Rupp NV</td>\n",
       "      <td>CA_80</td>\n",
       "      <td>CM_0</td>\n",
       "      <td>HM_2</td>\n",
       "      <td>VC_0</td>\n",
       "      <td>VO_0.0</td>\n",
       "      <td>MT_50.0</td>\n",
       "      <td>MW_50.0</td>\n",
       "      <td>...</td>\n",
       "      <td>Present</td>\n",
       "      <td>Present</td>\n",
       "      <td>Present</td>\n",
       "      <td>25.500000</td>\n",
       "      <td>22.300</td>\n",
       "      <td>24.785229</td>\n",
       "      <td>23.801389</td>\n",
       "      <td>0.000000</td>\n",
       "      <td>0.0</td>\n",
       "      <td>0.038035</td>\n",
       "    </tr>\n",
       "    <tr>\n",
       "      <th>...</th>\n",
       "      <td>...</td>\n",
       "      <td>...</td>\n",
       "      <td>...</td>\n",
       "      <td>...</td>\n",
       "      <td>...</td>\n",
       "      <td>...</td>\n",
       "      <td>...</td>\n",
       "      <td>...</td>\n",
       "      <td>...</td>\n",
       "      <td>...</td>\n",
       "      <td>...</td>\n",
       "      <td>...</td>\n",
       "      <td>...</td>\n",
       "      <td>...</td>\n",
       "      <td>...</td>\n",
       "      <td>...</td>\n",
       "      <td>...</td>\n",
       "      <td>...</td>\n",
       "      <td>...</td>\n",
       "      <td>...</td>\n",
       "      <td>...</td>\n",
       "    </tr>\n",
       "    <tr>\n",
       "      <th>105115</th>\n",
       "      <td>12/31  20:00:00</td>\n",
       "      <td>TestModel</td>\n",
       "      <td>CS_BRA Rupp NV</td>\n",
       "      <td>CA_80</td>\n",
       "      <td>CM_3</td>\n",
       "      <td>HM_2</td>\n",
       "      <td>VC_0</td>\n",
       "      <td>VO_0.0</td>\n",
       "      <td>MT_50.0</td>\n",
       "      <td>MW_50.0</td>\n",
       "      <td>...</td>\n",
       "      <td>RCP85-2100</td>\n",
       "      <td>RCP85</td>\n",
       "      <td>2100</td>\n",
       "      <td>30.428000</td>\n",
       "      <td>22.828</td>\n",
       "      <td>30.262627</td>\n",
       "      <td>34.167454</td>\n",
       "      <td>0.086804</td>\n",
       "      <td>0.0</td>\n",
       "      <td>0.063113</td>\n",
       "    </tr>\n",
       "    <tr>\n",
       "      <th>105116</th>\n",
       "      <td>12/31  21:00:00</td>\n",
       "      <td>TestModel</td>\n",
       "      <td>CS_BRA Rupp NV</td>\n",
       "      <td>CA_80</td>\n",
       "      <td>CM_3</td>\n",
       "      <td>HM_2</td>\n",
       "      <td>VC_0</td>\n",
       "      <td>VO_0.0</td>\n",
       "      <td>MT_50.0</td>\n",
       "      <td>MW_50.0</td>\n",
       "      <td>...</td>\n",
       "      <td>RCP85-2100</td>\n",
       "      <td>RCP85</td>\n",
       "      <td>2100</td>\n",
       "      <td>30.428000</td>\n",
       "      <td>22.828</td>\n",
       "      <td>30.286349</td>\n",
       "      <td>34.167454</td>\n",
       "      <td>0.050911</td>\n",
       "      <td>0.0</td>\n",
       "      <td>0.085345</td>\n",
       "    </tr>\n",
       "    <tr>\n",
       "      <th>105117</th>\n",
       "      <td>12/31  22:00:00</td>\n",
       "      <td>TestModel</td>\n",
       "      <td>CS_BRA Rupp NV</td>\n",
       "      <td>CA_80</td>\n",
       "      <td>CM_3</td>\n",
       "      <td>HM_2</td>\n",
       "      <td>VC_0</td>\n",
       "      <td>VO_0.0</td>\n",
       "      <td>MT_50.0</td>\n",
       "      <td>MW_50.0</td>\n",
       "      <td>...</td>\n",
       "      <td>RCP85-2100</td>\n",
       "      <td>RCP85</td>\n",
       "      <td>2100</td>\n",
       "      <td>30.428000</td>\n",
       "      <td>22.828</td>\n",
       "      <td>30.299222</td>\n",
       "      <td>34.167454</td>\n",
       "      <td>0.039981</td>\n",
       "      <td>0.0</td>\n",
       "      <td>0.072794</td>\n",
       "    </tr>\n",
       "    <tr>\n",
       "      <th>105118</th>\n",
       "      <td>12/31  23:00:00</td>\n",
       "      <td>TestModel</td>\n",
       "      <td>CS_BRA Rupp NV</td>\n",
       "      <td>CA_80</td>\n",
       "      <td>CM_3</td>\n",
       "      <td>HM_2</td>\n",
       "      <td>VC_0</td>\n",
       "      <td>VO_0.0</td>\n",
       "      <td>MT_50.0</td>\n",
       "      <td>MW_50.0</td>\n",
       "      <td>...</td>\n",
       "      <td>RCP85-2100</td>\n",
       "      <td>RCP85</td>\n",
       "      <td>2100</td>\n",
       "      <td>30.428000</td>\n",
       "      <td>22.828</td>\n",
       "      <td>30.305286</td>\n",
       "      <td>34.167454</td>\n",
       "      <td>0.032336</td>\n",
       "      <td>0.0</td>\n",
       "      <td>0.049223</td>\n",
       "    </tr>\n",
       "    <tr>\n",
       "      <th>105119</th>\n",
       "      <td>12/31  24:00:00</td>\n",
       "      <td>TestModel</td>\n",
       "      <td>CS_BRA Rupp NV</td>\n",
       "      <td>CA_80</td>\n",
       "      <td>CM_3</td>\n",
       "      <td>HM_2</td>\n",
       "      <td>VC_0</td>\n",
       "      <td>VO_0.0</td>\n",
       "      <td>MT_50.0</td>\n",
       "      <td>MW_50.0</td>\n",
       "      <td>...</td>\n",
       "      <td>RCP85-2100</td>\n",
       "      <td>RCP85</td>\n",
       "      <td>2100</td>\n",
       "      <td>30.428000</td>\n",
       "      <td>22.828</td>\n",
       "      <td>30.311846</td>\n",
       "      <td>34.167454</td>\n",
       "      <td>0.027528</td>\n",
       "      <td>0.0</td>\n",
       "      <td>0.036105</td>\n",
       "    </tr>\n",
       "  </tbody>\n",
       "</table>\n",
       "<p>105120 rows × 29 columns</p>\n",
       "</div>"
      ],
      "text/plain": [
       "               Date/time      Model       ComfStand    CAT ComfMod HVACmode  \\\n",
       "0        01/01  01:00:00  TestModel  CS_BRA Rupp NV  CA_80    CM_0     HM_2   \n",
       "1        01/01  02:00:00  TestModel  CS_BRA Rupp NV  CA_80    CM_0     HM_2   \n",
       "2        01/01  03:00:00  TestModel  CS_BRA Rupp NV  CA_80    CM_0     HM_2   \n",
       "3        01/01  04:00:00  TestModel  CS_BRA Rupp NV  CA_80    CM_0     HM_2   \n",
       "4        01/01  05:00:00  TestModel  CS_BRA Rupp NV  CA_80    CM_0     HM_2   \n",
       "...                  ...        ...             ...    ...     ...      ...   \n",
       "105115   12/31  20:00:00  TestModel  CS_BRA Rupp NV  CA_80    CM_3     HM_2   \n",
       "105116   12/31  21:00:00  TestModel  CS_BRA Rupp NV  CA_80    CM_3     HM_2   \n",
       "105117   12/31  22:00:00  TestModel  CS_BRA Rupp NV  CA_80    CM_3     HM_2   \n",
       "105118   12/31  23:00:00  TestModel  CS_BRA Rupp NV  CA_80    CM_3     HM_2   \n",
       "105119   12/31  24:00:00  TestModel  CS_BRA Rupp NV  CA_80    CM_3     HM_2   \n",
       "\n",
       "       VentCtrl VSToffset MinOToffset MaxWindSpeed  ... EPW_Scenario-Year  \\\n",
       "0          VC_0    VO_0.0     MT_50.0      MW_50.0  ...           Present   \n",
       "1          VC_0    VO_0.0     MT_50.0      MW_50.0  ...           Present   \n",
       "2          VC_0    VO_0.0     MT_50.0      MW_50.0  ...           Present   \n",
       "3          VC_0    VO_0.0     MT_50.0      MW_50.0  ...           Present   \n",
       "4          VC_0    VO_0.0     MT_50.0      MW_50.0  ...           Present   \n",
       "...         ...       ...         ...          ...  ...               ...   \n",
       "105115     VC_0    VO_0.0     MT_50.0      MW_50.0  ...        RCP85-2100   \n",
       "105116     VC_0    VO_0.0     MT_50.0      MW_50.0  ...        RCP85-2100   \n",
       "105117     VC_0    VO_0.0     MT_50.0      MW_50.0  ...        RCP85-2100   \n",
       "105118     VC_0    VO_0.0     MT_50.0      MW_50.0  ...        RCP85-2100   \n",
       "105119     VC_0    VO_0.0     MT_50.0      MW_50.0  ...        RCP85-2100   \n",
       "\n",
       "       EPW_Scenario EPW_Year  \\\n",
       "0           Present  Present   \n",
       "1           Present  Present   \n",
       "2           Present  Present   \n",
       "3           Present  Present   \n",
       "4           Present  Present   \n",
       "...             ...      ...   \n",
       "105115        RCP85     2100   \n",
       "105116        RCP85     2100   \n",
       "105117        RCP85     2100   \n",
       "105118        RCP85     2100   \n",
       "105119        RCP85     2100   \n",
       "\n",
       "       Adaptive Cooling Setpoint Temperature_No Tolerance (°C)  \\\n",
       "0                                               25.166667        \n",
       "1                                               25.500000        \n",
       "2                                               25.500000        \n",
       "3                                               25.500000        \n",
       "4                                               25.500000        \n",
       "...                                                   ...        \n",
       "105115                                          30.428000        \n",
       "105116                                          30.428000        \n",
       "105117                                          30.428000        \n",
       "105118                                          30.428000        \n",
       "105119                                          30.428000        \n",
       "\n",
       "       Adaptive Heating Setpoint Temperature_No Tolerance (°C)  \\\n",
       "0                                                  22.050        \n",
       "1                                                  22.300        \n",
       "2                                                  22.300        \n",
       "3                                                  22.300        \n",
       "4                                                  22.300        \n",
       "...                                                   ...        \n",
       "105115                                             22.828        \n",
       "105116                                             22.828        \n",
       "105117                                             22.828        \n",
       "105118                                             22.828        \n",
       "105119                                             22.828        \n",
       "\n",
       "       Building_Total_Zone Operative Temperature (°C) (mean)  \\\n",
       "0                                               23.669569      \n",
       "1                                               24.159264      \n",
       "2                                               24.481197      \n",
       "3                                               24.665458      \n",
       "4                                               24.785229      \n",
       "...                                                   ...      \n",
       "105115                                          30.262627      \n",
       "105116                                          30.286349      \n",
       "105117                                          30.299222      \n",
       "105118                                          30.305286      \n",
       "105119                                          30.311846      \n",
       "\n",
       "       BLOCK1:ZONE2_ASHRAE 55 Running mean outdoor temperature (°C)  \\\n",
       "0                                               23.801389             \n",
       "1                                               23.801389             \n",
       "2                                               23.801389             \n",
       "3                                               23.801389             \n",
       "4                                               23.801389             \n",
       "...                                                   ...             \n",
       "105115                                          34.167454             \n",
       "105116                                          34.167454             \n",
       "105117                                          34.167454             \n",
       "105118                                          34.167454             \n",
       "105119                                          34.167454             \n",
       "\n",
       "       Building_Total_Cooling Energy Demand (kWh/m2) (summed)  \\\n",
       "0                                                0.003903       \n",
       "1                                                0.000000       \n",
       "2                                                0.000000       \n",
       "3                                                0.000000       \n",
       "4                                                0.000000       \n",
       "...                                                   ...       \n",
       "105115                                           0.086804       \n",
       "105116                                           0.050911       \n",
       "105117                                           0.039981       \n",
       "105118                                           0.032336       \n",
       "105119                                           0.027528       \n",
       "\n",
       "       Building_Total_Heating Energy Demand (kWh/m2) (summed)  \\\n",
       "0                                                     0.0       \n",
       "1                                                     0.0       \n",
       "2                                                     0.0       \n",
       "3                                                     0.0       \n",
       "4                                                     0.0       \n",
       "...                                                   ...       \n",
       "105115                                                0.0       \n",
       "105116                                                0.0       \n",
       "105117                                                0.0       \n",
       "105118                                                0.0       \n",
       "105119                                                0.0       \n",
       "\n",
       "       Building_Total_AFN Zone Infiltration Air Change Rate (ach) (summed)  \n",
       "0                                                0.030392                   \n",
       "1                                                0.019997                   \n",
       "2                                                0.021666                   \n",
       "3                                                0.031366                   \n",
       "4                                                0.038035                   \n",
       "...                                                   ...                   \n",
       "105115                                           0.063113                   \n",
       "105116                                           0.085345                   \n",
       "105117                                           0.072794                   \n",
       "105118                                           0.049223                   \n",
       "105119                                           0.036105                   \n",
       "\n",
       "[105120 rows x 29 columns]"
      ]
     },
     "execution_count": 4,
     "metadata": {},
     "output_type": "execute_result"
    }
   ],
   "source": [
    "dataset_hourly.df"
   ]
  },
  {
   "cell_type": "markdown",
   "id": "256feeac",
   "metadata": {},
   "source": [
    "At this point, you might be confused about what can you analyse and plot. The way to identify the IDFs individually is combining or gathering the categorical variables that make them different. In this case, for the IDFs, these are ComfMod and HVACmode (as we requested in the ``addAccis`` instance). In case of the EPW files, the columns related to these are:"
   ]
  },
  {
   "cell_type": "code",
   "execution_count": 5,
   "id": "aacc51a8",
   "metadata": {},
   "outputs": [
    {
     "data": {
      "text/plain": [
       "['EPW',\n",
       " 'EPW_Country_name',\n",
       " 'EPW_City_or_subcountry',\n",
       " 'EPW_Scenario-Year',\n",
       " 'EPW_Scenario',\n",
       " 'EPW_Year']"
      ]
     },
     "execution_count": 5,
     "metadata": {},
     "output_type": "execute_result"
    }
   ],
   "source": [
    "[i for i in dataset_hourly.df if 'EPW' in i]"
   ]
  },
  {
   "cell_type": "markdown",
   "id": "c7b7c499",
   "metadata": {},
   "source": [
    "Therefore, ``EPW_City_or_subcountry`` and ``EPW_Scenario-Year`` should be enough to identify them.\n",
    "\n",
    "To get a clearer view, you can use the method ``gather_vars_query``, which will provide a list of the categorical variables extracted from the csv filename that change, and therefore, can be used in the analysis, and the values these contain. Let's try it:"
   ]
  },
  {
   "cell_type": "code",
   "execution_count": 6,
   "id": "30f84257",
   "metadata": {},
   "outputs": [
    {
     "name": "stdout",
     "output_type": "stream",
     "text": [
      "The categorical columns which have different values and those values are:\n",
      "ComfMod: ['CM_0', 'CM_3']\n",
      "HVACmode: ['HM_2', 'HM_1']\n",
      "EPW_City_or_subcountry: ['Chapeco', 'Palmas']\n",
      "EPW_Scenario-Year: ['Present', 'RCP85-2100']\n",
      "EPW_Scenario: ['Present', 'RCP85']\n",
      "EPW_Year: ['Present', '2100']\n",
      "Month: ['01', '02', '03', '04', '05', '06', '07', '08', '09', '10', '11', '12']\n",
      "Day: ['01', '02', '03', '04', '05', '06', '07', '08', '09', '10', '11', '12', '13', '14', '15', '16', '17', '18', '19', '20', '21', '22', '23', '24', '25', '26', '27', '28', '29', '30', '31']\n",
      "Hour: ['00', '01', '02', '03', '04', '05', '06', '07', '08', '09', '10', '11', '12', '13', '14', '15', '16', '17', '18', '19', '20', '21', '22', '23']\n"
     ]
    }
   ],
   "source": [
    "dataset_hourly.gather_vars_query()"
   ]
  },
  {
   "cell_type": "markdown",
   "id": "64a93586",
   "metadata": {},
   "source": [
    "We can see all of the categorical variables are related to the variations in the output idfs and the differences in the epw files. Therefore, we can confirm to cover all the idfs, we would need to use the variables ``ComfMod`` and ``HVACmode``. Also, to cover all epw files, we would need to use the variables ``EPW_City_or_subcountry`` and ``EPW_Scenario-Year``. So, we can enter these variables as a list in the ``gather_vars_query`` method and see what would be the resulting combinations:"
   ]
  },
  {
   "cell_type": "code",
   "execution_count": 7,
   "id": "71ab1100",
   "metadata": {},
   "outputs": [
    {
     "name": "stdout",
     "output_type": "stream",
     "text": [
      "The categorical columns which have different values and those values are:\n",
      "ComfMod: ['CM_0', 'CM_3']\n",
      "HVACmode: ['HM_2', 'HM_1']\n",
      "EPW_City_or_subcountry: ['Chapeco', 'Palmas']\n",
      "EPW_Scenario-Year: ['Present', 'RCP85-2100']\n",
      "EPW_Scenario: ['Present', 'RCP85']\n",
      "EPW_Year: ['Present', '2100']\n",
      "Month: ['01', '02', '03', '04', '05', '06', '07', '08', '09', '10', '11', '12']\n",
      "Day: ['01', '02', '03', '04', '05', '06', '07', '08', '09', '10', '11', '12', '13', '14', '15', '16', '17', '18', '19', '20', '21', '22', '23', '24', '25', '26', '27', '28', '29', '30', '31']\n",
      "Hour: ['00', '01', '02', '03', '04', '05', '06', '07', '08', '09', '10', '11', '12', '13', '14', '15', '16', '17', '18', '19', '20', '21', '22', '23']\n",
      "The available options resulting from the data entered in vars_to_gather would be: \n",
      "CM_0[HM_2\n",
      "CM_3[HM_1\n",
      "CM_3[HM_2\n"
     ]
    }
   ],
   "source": [
    "dataset_hourly.gather_vars_query(['ComfMod', 'HVACmode'])"
   ]
  },
  {
   "cell_type": "code",
   "execution_count": 8,
   "id": "6400ec01",
   "metadata": {},
   "outputs": [
    {
     "name": "stdout",
     "output_type": "stream",
     "text": [
      "The categorical columns which have different values and those values are:\n",
      "ComfMod: ['CM_0', 'CM_3']\n",
      "HVACmode: ['HM_2', 'HM_1']\n",
      "EPW_City_or_subcountry: ['Chapeco', 'Palmas']\n",
      "EPW_Scenario-Year: ['Present', 'RCP85-2100']\n",
      "EPW_Scenario: ['Present', 'RCP85']\n",
      "EPW_Year: ['Present', '2100']\n",
      "Month: ['01', '02', '03', '04', '05', '06', '07', '08', '09', '10', '11', '12']\n",
      "Day: ['01', '02', '03', '04', '05', '06', '07', '08', '09', '10', '11', '12', '13', '14', '15', '16', '17', '18', '19', '20', '21', '22', '23', '24', '25', '26', '27', '28', '29', '30', '31']\n",
      "Hour: ['00', '01', '02', '03', '04', '05', '06', '07', '08', '09', '10', '11', '12', '13', '14', '15', '16', '17', '18', '19', '20', '21', '22', '23']\n",
      "The available options resulting from the data entered in vars_to_gather would be: \n",
      "Chapeco[Present\n",
      "Chapeco[RCP85-2100\n",
      "Palmas[Present\n",
      "Palmas[RCP85-2100\n"
     ]
    }
   ],
   "source": [
    "dataset_hourly.gather_vars_query(['EPW_City_or_subcountry', 'EPW_Scenario-Year'])"
   ]
  },
  {
   "cell_type": "markdown",
   "id": "31cff9b5",
   "metadata": {},
   "source": [
    "Considering the information above, let's plot the figure:"
   ]
  },
  {
   "cell_type": "code",
   "execution_count": 9,
   "id": "9d385ec2",
   "metadata": {},
   "outputs": [
    {
     "name": "stdout",
     "output_type": "stream",
     "text": [
      "The number of rows and the list of these is going to be:\n",
      "No. of rows = 4\n",
      "List of rows:\n",
      "Chapeco[Present\n",
      "Chapeco[RCP85-2100\n",
      "Palmas[Present\n",
      "Palmas[RCP85-2100\n",
      "The renamed rows are going to be:\n",
      "Chapeco Present\n",
      "Chapeco RCP85-2100\n",
      "Palmas Present\n",
      "Palmas RCP85-2100\n",
      "The number of columns and the list of these is going to be:\n",
      "No. of columns = 2\n",
      "List of columns:\n",
      "CM_3[HM_1\n",
      "CM_3[HM_2\n",
      "The renamed columns are going to be:\n",
      "Brazilian model NV\n",
      "Brazilian model MM\n"
     ]
    },
    {
     "data": {
      "image/png": "[encoded data removed]",
      "text/plain": [
       "<Figure size 864x570.24 with 8 Axes>"
      ]
     },
     "metadata": {
      "needs_background": "light"
     },
     "output_type": "display_data"
    }
   ],
   "source": [
    "dataset_hourly.scatter_plot(\n",
    "    vars_to_gather_rows=['EPW_City_or_subcountry', 'EPW_Scenario-Year'], # variables to gather in rows of subplots\n",
    "    vars_to_gather_cols=['ComfMod', 'HVACmode'],# variables to gather in columns of subplots; all categorical columns which have more than 1 different value across the rows, must be specified in this argument, otherwise you'll get an error.\n",
    "    detailed_cols=['CM_3[HM_1', 'CM_3[HM_2'], # a list of the specific combinations of arguments to be plotted joined by [\n",
    "    data_on_x_axis='BLOCK1:ZONE2_ASHRAE 55 Running mean outdoor temperature (°C)', #column name (string) for the data on x axis\n",
    "    data_on_y_main_axis=[ #list which includes the name of the axis on the first place, and then in the second place, a list which includes the column names you want to plot\n",
    "        [\n",
    "            'Indoor Operative Temperature (°C)',\n",
    "            [\n",
    "                'Adaptive Cooling Setpoint Temperature_No Tolerance (°C)',\n",
    "                'Adaptive Heating Setpoint Temperature_No Tolerance (°C)',\n",
    "                'Building_Total_Zone Operative Temperature (°C) (mean)',\n",
    "            ]\n",
    "        ],\n",
    "    ],\n",
    "    colorlist_y_main_axis=[\n",
    "        [\n",
    "            'Indoor Operative Temperature (°C)',\n",
    "            [\n",
    "                'b',\n",
    "                'r',\n",
    "                'g',\n",
    "            ]\n",
    "        ],\n",
    "    ],\n",
    "    rows_renaming_dict={\n",
    "        'Chapeco[Present': 'Chapeco Present',\n",
    "        'Chapeco[RCP85-2100': 'Chapeco RCP85-2100',\n",
    "        'Palmas[Present': 'Palmas Present',\n",
    "        'Palmas[RCP85-2100': 'Palmas RCP85-2100',\n",
    "    },\n",
    "    cols_renaming_dict={\n",
    "        'CM_3[HM_1': 'Brazilian model NV',\n",
    "        'CM_3[HM_2': 'Brazilian model MM',\n",
    "    },\n",
    "    supxlabel='Running Mean Outdoor Temperature (°C)', # data label on x axis\n",
    "    figname='Scatterplot_NV_vs_MM',\n",
    "    figsize=6,\n",
    "    ratio_height_to_width=0.33,\n",
    "    confirm_graph=True\n",
    ")"
   ]
  },
  {
   "cell_type": "markdown",
   "id": "339ad6d2",
   "metadata": {},
   "source": [
    "In this figure, you can see on the left column the simulations with free-running (or naturally ventilated) mode, while on the right, the same simulations using mixed-mode with adaptive setpoint temperatures, which introduce all hourly indoor temperatures within the adaptive thermal comfort limits."
   ]
  },
  {
   "cell_type": "markdown",
   "id": "358ac545",
   "metadata": {},
   "source": [
    "Next, let's compare the indoor temperatures of all idfs we have generated, and in this case, we're also going to plot the hourly energy demand on the main y axis, and the air renovation and operative temperature in 2 spines in the twin y axis."
   ]
  },
  {
   "cell_type": "code",
   "execution_count": null,
   "id": "f3fd0180",
   "metadata": {},
   "outputs": [
    {
     "name": "stdout",
     "output_type": "stream",
     "text": [
      "The number of rows and the list of these is going to be:\n",
      "No. of rows = 4\n",
      "List of rows:\n",
      "Chapeco[Present\n",
      "Chapeco[RCP85-2100\n",
      "Palmas[Present\n",
      "Palmas[RCP85-2100\n",
      "The renamed rows are going to be:\n",
      "Chapeco Present\n",
      "Chapeco RCP85-2100\n",
      "Palmas Present\n",
      "Palmas RCP85-2100\n",
      "The number of columns and the list of these is going to be:\n",
      "No. of columns = 3\n",
      "List of columns:\n",
      "CM_3[HM_1\n",
      "CM_0[HM_2\n",
      "CM_3[HM_2\n",
      "The renamed columns are going to be:\n",
      "Brazilian adaptive NV\n",
      "Brazilian static MM\n",
      "Brazilian adaptive MM\n"
     ]
    }
   ],
   "source": [
    "dataset_hourly.scatter_plot(\n",
    "    vars_to_gather_cols=['ComfMod', 'HVACmode'], # variables to gather in rows of subplots\n",
    "    vars_to_gather_rows=['EPW_City_or_subcountry', 'EPW_Scenario-Year'],# variables to gather in columns of subplots\n",
    "    detailed_cols=['CM_0[HM_2', 'CM_3[HM_1', 'CM_3[HM_2'], #we only want to see those combinations\n",
    "    custom_cols_order=['CM_3[HM_1', 'CM_0[HM_2', 'CM_3[HM_2'],\n",
    "    data_on_x_axis='BLOCK1:ZONE2_ASHRAE 55 Running mean outdoor temperature (°C)', #column name (string) for the data on x axis\n",
    "    data_on_y_main_axis=[ # similarly to above, a list including the name of the secondary y-axis and the column names you want to plot in it\n",
    "        [\n",
    "            'Energy (kWh/m2)',\n",
    "            [\n",
    "                'Building_Total_Cooling Energy Demand (kWh/m2) (summed)',\n",
    "                'Building_Total_Heating Energy Demand (kWh/m2) (summed)',\n",
    "            ]\n",
    "        ],\n",
    "\n",
    "    ],\n",
    "    data_on_y_sec_axis=[ #list which includes the name of the axis on the first place, and then in the second place, a list which includes the column names you want to plot\n",
    "        [\n",
    "            'Air renovation (ach)',\n",
    "            [\n",
    "                'Building_Total_AFN Zone Infiltration Air Change Rate (ach) (summed)'\n",
    "            ]\n",
    "        ],\n",
    "        [\n",
    "            'Operative Temperature (°C)',\n",
    "            [\n",
    "                'Adaptive Cooling Setpoint Temperature_No Tolerance (°C)',\n",
    "                'Adaptive Heating Setpoint Temperature_No Tolerance (°C)',\n",
    "                'Building_Total_Zone Operative Temperature (°C) (mean)',\n",
    "            ]\n",
    "        ],\n",
    "    ],\n",
    "    colorlist_y_main_axis=[\n",
    "        [\n",
    "            'Energy (kWh/m2)',\n",
    "            [\n",
    "                'cyan',\n",
    "                'orange',\n",
    "            ]\n",
    "        ],\n",
    "    ],\n",
    "    colorlist_y_sec_axis=[\n",
    "        [\n",
    "            'Air renovation (ach)',\n",
    "            [\n",
    "                'yellow'\n",
    "            ]\n",
    "        ],\n",
    "        [\n",
    "            'Operative Temperature (°C)',\n",
    "            [\n",
    "                'b',\n",
    "                'r',\n",
    "                'g',\n",
    "            ]\n",
    "        ],\n",
    "    ],\n",
    "\n",
    "    rows_renaming_dict={\n",
    "        'Chapeco[Present': 'Chapeco Present',\n",
    "        'Chapeco[RCP85-2100': 'Chapeco RCP85-2100',\n",
    "        'Palmas[Present': 'Palmas Present',\n",
    "        'Palmas[RCP85-2100': 'Palmas RCP85-2100',\n",
    "    },\n",
    "    cols_renaming_dict={\n",
    "        'CM_3[HM_1': 'Brazilian adaptive NV',        \n",
    "        'CM_0[HM_2': 'Brazilian static MM',\n",
    "        'CM_3[HM_2': 'Brazilian adaptive MM',\n",
    "    },\n",
    "    supxlabel='Running Mean Outdoor Temperature (°C)', # data label on x axis\n",
    "    figname=f'scatterplot_BRA_stat_BRA_adap_BRA_nv',\n",
    "    figsize=6,\n",
    "    ratio_height_to_width=0.33,\n",
    "    confirm_graph=True\n",
    ")"
   ]
  },
  {
   "cell_type": "markdown",
   "id": "ecb7b70c",
   "metadata": {},
   "source": [
    "Now, let's plot a similar figure to the first scatterplot, but showing the time in the x axis. In this case, we should use the method ``time_plot``:"
   ]
  },
  {
   "cell_type": "code",
   "execution_count": null,
   "id": "67927348",
   "metadata": {},
   "outputs": [],
   "source": [
    "dataset_hourly.time_plot(\n",
    "    vars_to_gather_rows=['EPW'], # variables to gather in rows of subplots\n",
    "    vars_to_gather_cols=['ComfMod', 'HVACmode'],# variables to gather in columns of subplots; all categorical columns which have more than 1 different value across the rows, must be specified in this argument, otherwise you'll get an error.\n",
    "    detailed_cols=['CM_3[HM_1', 'CM_3[HM_2'], # a list of the specific combinations of arguments to be plotted joined by [\n",
    "    data_on_y_main_axis=[ #list which includes the name of the axis on the first place, and then in the second place, a list which includes the column names you want to plot\n",
    "        [\n",
    "            'Indoor Operative Temperature (°C)',\n",
    "            [\n",
    "                'Adaptive Cooling Setpoint Temperature_No Tolerance (°C)',\n",
    "                'Adaptive Heating Setpoint Temperature_No Tolerance (°C)',\n",
    "                'Building_Total_Zone Operative Temperature (°C) (mean)',\n",
    "            ]\n",
    "        ],\n",
    "    ],\n",
    "    colorlist_y_main_axis=[\n",
    "        [\n",
    "            'Indoor Operative Temperature (°C)',\n",
    "            [\n",
    "                'b',\n",
    "                'r',\n",
    "                'g',\n",
    "            ]\n",
    "        ],\n",
    "    ],\n",
    "    rows_renaming_dict={\n",
    "        'Brazil_Chapeco_Present': 'Chapeco Present',\n",
    "        'Brazil_Chapeco_RCP85-2100': 'Chapeco RCP85-2100',\n",
    "        'Brazil_Palmas_Present': 'Palmas Present',\n",
    "        'Brazil_Palmas_RCP85-2100': 'Palmas RCP85-2100',\n",
    "    },\n",
    "    cols_renaming_dict={\n",
    "        'CM_3[HM_1': 'Brazilian model NV',\n",
    "        'CM_3[HM_2': 'Brazilian model MM',\n",
    "    },\n",
    "    figname='Timeplot_NV_vs_MM',\n",
    "    figsize=6,\n",
    "    ratio_height_to_width=0.33,\n",
    "    confirm_graph=True\n",
    ")"
   ]
  },
  {
   "cell_type": "markdown",
   "id": "3439256f",
   "metadata": {},
   "source": [
    "### 3.2 Analysing the data"
   ]
  },
  {
   "cell_type": "markdown",
   "id": "eec8ec84",
   "metadata": {},
   "source": [
    "Now, let's see how many comfort hours there are, as well as the impact on energy demand. Since we want to see the runperiod totals, we will need to make a new instance of ``Table``, asking for runperiod frequency this time."
   ]
  },
  {
   "cell_type": "code",
   "execution_count": null,
   "id": "f1a1f059",
   "metadata": {},
   "outputs": [],
   "source": [
    "from accim.data.data_postprocessing import Table\n",
    "dataset_runperiod = Table(\n",
    "    #datasets=list #Since we are not specifying any list, it will use all available CSVs in the folder\n",
    "    source_frequency='hourly', # This lets accim know which is the frequency of the input CSVs. Input CSVs with multiple frequencies are also allowed. It can be 'hourly', 'daily', 'monthly' and 'runperiod'. It can also be 'timestep' but might generate errors.\n",
    "    frequency='runperiod', # If 'daily', accim will aggregate the rows in days. It can be 'hourly', 'daily', 'monthly' and 'runperiod'. It can also be 'timestep' but might generate errors.\n",
    "    frequency_agg_func='sum', #this makes the sum or average when aggregating in days, months or runperiod; since the original CSV frequency is in hour, it won't make any aeffect\n",
    "    standard_outputs=True, \n",
    "    level=['building'], # A list containing the strings 'block' and/or 'building'. For instance, if ['block', 'building'], accim will generate new columns to sum up or average in blocks and building level.\n",
    "    level_agg_func=['sum', 'mean'], # A list containing the strings 'sum' and/or 'mean'. For instance, if ['sum', 'mean'], accim will generate the new columns explained in the level argument by summing and averaging.\n",
    "    level_excluded_zones=[],\n",
    "    split_epw_names=True, #to split EPW names based on the pattern Country_City_RCPscenario-Year\n",
    ")\n",
    "\n",
    "dataset_runperiod.format_table(\n",
    "    type_of_table='custom',\n",
    "    custom_cols=[\n",
    "        'Building_Total_Comfortable Hours_No Applicability (h) (mean)',\n",
    "        'Building_Total_Total Energy Demand (kWh/m2) (summed)'\n",
    "    ]\n",
    ")"
   ]
  },
  {
   "cell_type": "markdown",
   "id": "21cf8204",
   "metadata": {},
   "source": [
    "Let's see the dataframe we currently have:"
   ]
  },
  {
   "cell_type": "code",
   "execution_count": null,
   "id": "3a6e1cf2",
   "metadata": {},
   "outputs": [],
   "source": [
    "dataset_runperiod.df"
   ]
  },
  {
   "cell_type": "markdown",
   "id": "d5ae20a8",
   "metadata": {},
   "source": [
    "Data is not easy to read like that, so let's make it clearer by using the ``wrangled_table`` method and passing ``multiindex`` in the ``reshaping`` argument:"
   ]
  },
  {
   "cell_type": "code",
   "execution_count": null,
   "id": "62ef67ac",
   "metadata": {},
   "outputs": [],
   "source": [
    "dataset_runperiod.wrangled_table(reshaping='multiindex')\n",
    "\n",
    "dataset_runperiod.wrangled_df_multiindex"
   ]
  },
  {
   "cell_type": "markdown",
   "id": "752cf1be",
   "metadata": {},
   "source": [
    "Now it's better, but we'd like to unstack the variables ComfMod and HVACmode, that is, move them from rows to columns:"
   ]
  },
  {
   "cell_type": "code",
   "execution_count": null,
   "id": "b8d40729",
   "metadata": {},
   "outputs": [],
   "source": [
    "dataset_runperiod.wrangled_table(\n",
    "    reshaping='unstack',\n",
    "    vars_to_gather=['ComfMod', 'HVACmode'],\n",
    "    rename_dict={\n",
    "        'CM_0[HM_2': 'BRA_Stat_MM',\n",
    "        'CM_3[HM_1': 'BRA_Adap_NV',\n",
    "        'CM_3[HM_2': 'BRA_Adap_MM',\n",
    "    }\n",
    ")\n",
    "\n",
    "dataset_runperiod.wrangled_df_unstacked"
   ]
  },
  {
   "cell_type": "markdown",
   "id": "4a41cfe5",
   "metadata": {},
   "source": [
    "The table above shows us the comfort hours in NV (BRA_Adap_NV) mode ranges between 7389.50 and 48.92 hours, while the same comfort model in mixed-mode with adaptive setpoints (BRA_Adap_MM) ranges between 8712.00 and 8577.75. Since there is no HVAC system in NV mode, the energy consumption is 0. With adaptive setpoints, the hvac energy demand ranges between 235.10 and 945.55 (kWh/m2·year), while with the static setpoints it ranges between 771.65 and 1171.15."
   ]
  },
  {
   "cell_type": "markdown",
   "id": "894d81f8",
   "metadata": {},
   "source": [
    "But, what if we want to know the heating, cooling and total energy demand increase or decrease percentage of, for instance, BRA_Adap_MM, compared to the other combinations?"
   ]
  },
  {
   "cell_type": "code",
   "execution_count": null,
   "id": "4ea38904",
   "metadata": {},
   "outputs": [],
   "source": [
    "dataset_runperiod.format_table(\n",
    "    type_of_table='custom',\n",
    "    custom_cols=[\n",
    "        'Building_Total_Heating Energy Demand (kWh/m2) (summed)',\n",
    "        'Building_Total_Cooling Energy Demand (kWh/m2) (summed)',\n",
    "        'Building_Total_Total Energy Demand (kWh/m2) (summed)',\n",
    "    ]\n",
    ")\n",
    "\n",
    "dataset_runperiod.wrangled_table(\n",
    "    reshaping='unstack',\n",
    "    vars_to_gather=['ComfMod', 'HVACmode'],\n",
    "    \n",
    "    baseline='CM_3[HM_2',\n",
    "    comparison_mode=['baseline compared to others'],\n",
    "    comparison_cols=['relative', 'absolute'],\n",
    "    \n",
    "    rename_dict={\n",
    "        'CM_0[HM_2': 'BRA_Stat_MM',\n",
    "        'CM_3[HM_1': 'BRA_Adap_NV',\n",
    "        'CM_3[HM_2': 'BRA_Adap_MM',\n",
    "    },\n",
    "    transpose=True\n",
    ")\n",
    "\n",
    "dataset_runperiod.wrangled_df_unstacked"
   ]
  },
  {
   "cell_type": "markdown",
   "id": "3d1d5b41",
   "metadata": {},
   "source": [
    "For instance, we can see the adaptive setpoints provide reductions in energy demand compared to the static setpoints ranging between 70 and 19%, depending on the scenarios and climate zones."
   ]
  },
  {
   "cell_type": "markdown",
   "id": "10e4501f",
   "metadata": {},
   "source": [
    "Now, we could finally export this table to Excel format for later style edition. Since the reshaping argument we used in the `wrangled_table()` method was 'unstack', the dataframe we are looking for to be exported is `dataset_runperiod.wrangled_df_unstacked`. If we used the 'pivot' argument, the dataframe would have been `dataset_runperiod.wrangled_df_pivoted`. So let's export it:"
   ]
  },
  {
   "cell_type": "code",
   "execution_count": null,
   "id": "b8bbc43d",
   "metadata": {},
   "outputs": [],
   "source": [
    "dataset_runperiod.wrangled_df_unstacked.to_excel('df_unstacked.xlsx')"
   ]
  },
  {
   "cell_type": "code",
   "execution_count": null,
   "id": "7eb1efb9",
   "metadata": {},
   "outputs": [],
   "source": [
    "import pandas as pd\n",
    "\n",
    "df = pd.read_excel('df_unstacked.xlsx', header=[0, 1, 2], index_col=[0, 1])\n",
    "df"
   ]
  },
  {
   "cell_type": "markdown",
   "id": "07bc70a2",
   "metadata": {},
   "source": [
    "Finally, so that we can run this jupyter notebook again, let's leave everything as it was at the beginning."
   ]
  },
  {
   "cell_type": "code",
   "execution_count": 44,
   "id": "fb035b92",
   "metadata": {},
   "outputs": [],
   "source": [
    "for i in original_epws:\n",
    "    shutil.move(f'backup/{i}', i)"
   ]
  },
  {
   "cell_type": "code",
   "execution_count": null,
   "id": "b6137656",
   "metadata": {},
   "outputs": [],
   "source": [
    "files_to_delete = [i for i in listdir() if i not in input_files]"
   ]
  },
  {
   "cell_type": "code",
   "execution_count": 46,
   "id": "e2d79466",
   "metadata": {},
   "outputs": [],
   "source": [
    "for i in files_to_delete:\n",
    "    remove(i)"
   ]
  }
 ],
 "metadata": {
  "kernelspec": {
   "display_name": "Python 3 (ipykernel)",
   "language": "python",
   "name": "python3"
  },
  "language_info": {
   "codemirror_mode": {
    "name": "ipython",
    "version": 3
   },
   "file_extension": ".py",
   "mimetype": "text/x-python",
   "name": "python",
   "nbconvert_exporter": "python",
   "pygments_lexer": "ipython3",
   "version": "3.9.4"
  }
 },
 "nbformat": 4,
 "nbformat_minor": 5
}
