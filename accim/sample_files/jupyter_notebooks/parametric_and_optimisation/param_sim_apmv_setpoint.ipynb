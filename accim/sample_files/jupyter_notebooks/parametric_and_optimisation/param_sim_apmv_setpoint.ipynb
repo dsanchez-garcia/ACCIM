{
 "cells": [
  {
   "cell_type": "markdown",
   "id": "2cf45ee0-4144-4034-99a9-311270c74d30",
   "metadata": {},
   "source": [
    "# Parametric simulation using accim custom models"
   ]
  },
  {
   "cell_type": "code",
   "execution_count": 15,
   "id": "f71c6322-10f1-4fde-bc8d-358163b8619b",
   "metadata": {},
   "outputs": [],
   "source": [
    "#todo import qgrid to manually change output dfs"
   ]
  },
  {
   "cell_type": "code",
   "execution_count": 1,
   "id": "a8361222-b96d-4121-9560-1480e3ee4f44",
   "metadata": {},
   "outputs": [],
   "source": [
    "import accim\n",
    "from accim.parametric_and_optimisation.objectives import return_time_series\n",
    "from accim.parametric_and_optimisation.utils import make_all_combinations\n",
    "from besos import eppy_funcs as ef\n",
    "import matplotlib.pyplot as plt\n",
    "import seaborn as sns\n",
    "from accim.utils import print_available_outputs_mod, get_accim_args\n",
    "from accim.parametric_and_optimisation.main import OptimParamSimulation, get_rdd_file_as_df, get_mdd_file_as_df, parse_mtd_file\n",
    "from os import listdir\n"
   ]
  },
  {
   "cell_type": "markdown",
   "id": "c699ceba-f765-47c5-b5fd-b0cee5522b3a",
   "metadata": {},
   "source": [
    "Let's have a look at the files we currently have in the path:"
   ]
  },
  {
   "cell_type": "code",
   "execution_count": 2,
   "id": "d006793e",
   "metadata": {},
   "outputs": [
    {
     "data": {
      "application/javascript": [
       "if (!(\"Notification\" in window)) {\n",
       "    alert(\"This browser does not support desktop notifications, so the %%notify magic will not work.\");\n",
       "} else if (Notification.permission !== 'granted' && Notification.permission !== 'denied') {\n",
       "    Notification.requestPermission(function (permission) {\n",
       "        if(!('permission' in Notification)) {\n",
       "            Notification.permission = permission;\n",
       "        }\n",
       "    })\n",
       "}\n"
      ],
      "text/plain": [
       "<IPython.core.display.Javascript object>"
      ]
     },
     "metadata": {},
     "output_type": "display_data"
    }
   ],
   "source": [
    "%load_ext jupyternotify"
   ]
  },
  {
   "cell_type": "code",
   "execution_count": 4,
   "id": "04af684b",
   "metadata": {},
   "outputs": [
    {
     "data": {
      "application/javascript": [
       "$(document).ready(\n",
       "    function() {\n",
       "        function appendUniqueDiv(){\n",
       "            // append a div with our uuid so we can check that it's already\n",
       "            // been sent and avoid duplicates on page reload\n",
       "            var notifiedDiv = document.createElement(\"div\")\n",
       "            notifiedDiv.id = \"027433c0-3ca7-436e-9015-992e6a7b4800\"\n",
       "            element.append(notifiedDiv)\n",
       "        }\n",
       "\n",
       "        // only send notifications if the pageload is complete; this will\n",
       "        // help stop extra notifications when a saved notebook is loaded,\n",
       "        // which during testing gives us state \"interactive\", not \"complete\"\n",
       "        if (document.readyState === 'complete') {\n",
       "            // check for the div that signifies that the notification\n",
       "            // was already sent\n",
       "            if (document.getElementById(\"027433c0-3ca7-436e-9015-992e6a7b4800\") === null) {\n",
       "                var notificationPayload = {\"requireInteraction\": false, \"icon\": \"/static/base/images/favicon.ico\", \"body\": \"Cell execution has finished!\"};\n",
       "                if (Notification.permission !== 'denied') {\n",
       "                    if (Notification.permission !== 'granted') { \n",
       "                        Notification.requestPermission(function (permission) {\n",
       "                            if(!('permission' in Notification)) {\n",
       "                                Notification.permission = permission\n",
       "                            }\n",
       "                        })\n",
       "                    }\n",
       "                    if (Notification.permission === 'granted') {\n",
       "                    var notification = new Notification(\"Jupyter Notebook\", notificationPayload)\n",
       "                    appendUniqueDiv()\n",
       "                    notification.onclick = function () {\n",
       "                        window.focus();\n",
       "                        this.close();\n",
       "                        };\n",
       "                    } \n",
       "                }     \n",
       "            }\n",
       "        }\n",
       "    }\n",
       ")\n"
      ],
      "text/plain": [
       "<IPython.core.display.Javascript object>"
      ]
     },
     "metadata": {},
     "output_type": "display_data"
    }
   ],
   "source": [
    "%%notify\n",
    "import time\n",
    "time.sleep(5)"
   ]
  },
  {
   "cell_type": "code",
   "execution_count": 6,
   "id": "233674c3-f15d-4917-aa47-430ae91486d6",
   "metadata": {},
   "outputs": [
    {
     "data": {
      "text/plain": [
       "['.ipynb_checkpoints',\n",
       " 'param_sim_accim_custom_model.ipynb',\n",
       " 'param_sim_accim_predefined_model.ipynb',\n",
       " 'param_sim_apmv_setpoint.ipynb',\n",
       " 'Seville.epw',\n",
       " 'Sydney.epw',\n",
       " 'TestModel.idf',\n",
       " '__init__.py']"
      ]
     },
     "execution_count": 6,
     "metadata": {},
     "output_type": "execute_result"
    }
   ],
   "source": [
    "from os import listdir\n",
    "original_files = [i for i in listdir()]\n",
    "original_files"
   ]
  },
  {
   "cell_type": "markdown",
   "id": "16e31d87-3a87-40c1-aeef-d6ea1171291a",
   "metadata": {},
   "source": [
    "Firstly, the IDF must be read using besos's `get_building` function."
   ]
  },
  {
   "cell_type": "code",
   "execution_count": 7,
   "id": "7d6e13f6-7466-4e96-a559-8c771895c1ac",
   "metadata": {},
   "outputs": [],
   "source": [
    "building = ef.get_building('TestModel.idf')"
   ]
  },
  {
   "cell_type": "markdown",
   "id": "affcedd2-3206-4178-bb93-3ae151e04301",
   "metadata": {},
   "source": [
    "For this analysis, we want to use the HVAC system in all hours of the year, so that temperature is always comfortable. Therefore, we are going to set the occupancy to always on by means of the function `accim.utils.set_occupancy_to_always`, in which we input the IDF class instance we read in the previous cell."
   ]
  },
  {
   "cell_type": "code",
   "execution_count": 8,
   "id": "f5c2feb1-ca1e-4b8a-bc50-1f116cca9fa4",
   "metadata": {},
   "outputs": [
    {
     "name": "stdout",
     "output_type": "stream",
     "text": [
      "On 24/7 Schedule:Compact object was already in the model.\n",
      "People Block1:Zone2 Number of People Schedule Name has been set to always occupied.\n",
      "People Block1:Zone1 Number of People Schedule Name has been set to always occupied.\n"
     ]
    }
   ],
   "source": [
    "accim.utils.set_occupancy_to_always(idf_object=building)"
   ]
  },
  {
   "cell_type": "markdown",
   "id": "29827b0f-9086-4e26-873b-db2f7818a18a",
   "metadata": {},
   "source": [
    "Now, let's start with the settings for the parametric analysis. First, let's instantiate the class `OptimParamSimulation`, and let's pass the IDF instance in the argument `building`. Argument `parameters_type` can take 3 different strings:\n",
    "- \"accim predefined model\", in which models are those previously defined in accim (ComfStand=0 to ComfStand=22);\n",
    "- \"accim custom model\", in which key parameters of the adaptive comfort model are defined in the relevant arguments;\n",
    "- \"apmv setpoints\", in which setpoints are based on the aPMV (Adaptive Predicted Mean Vote) instead of the PMV index;\n",
    "\n",
    "In this case, we're going to use the 'apmv setpoints' type, in which we can use setpoints based on the Adaptive Predicted Mean Vote (aPMV) index."
   ]
  },
  {
   "cell_type": "code",
   "execution_count": 9,
   "id": "2a5fa261-bfee-4b08-a8fe-c62f46a481eb",
   "metadata": {},
   "outputs": [
    {
     "ename": "BadEPFieldError",
     "evalue": "unable to find field Zone_or_ZoneList_Name",
     "output_type": "error",
     "traceback": [
      "\u001b[1;31m---------------------------------------------------------------------------\u001b[0m",
      "\u001b[1;31mBadEPFieldError\u001b[0m                           Traceback (most recent call last)",
      "\u001b[1;32m~\\AppData\\Local\\Temp\\ipykernel_7928\\2483882665.py\u001b[0m in \u001b[0;36m<module>\u001b[1;34m\u001b[0m\n\u001b[1;32m----> 1\u001b[1;33m parametric = OptimParamSimulation(\n\u001b[0m\u001b[0;32m      2\u001b[0m     \u001b[0mbuilding\u001b[0m\u001b[1;33m=\u001b[0m\u001b[0mbuilding\u001b[0m\u001b[1;33m,\u001b[0m\u001b[1;33m\u001b[0m\u001b[1;33m\u001b[0m\u001b[0m\n\u001b[0;32m      3\u001b[0m     \u001b[0mparameters_type\u001b[0m\u001b[1;33m=\u001b[0m\u001b[1;34m'apmv setpoints'\u001b[0m\u001b[1;33m,\u001b[0m\u001b[1;33m\u001b[0m\u001b[1;33m\u001b[0m\u001b[0m\n\u001b[0;32m      4\u001b[0m     \u001b[1;31m#output_type='standard', #\u001b[0m\u001b[1;33m\u001b[0m\u001b[1;33m\u001b[0m\u001b[0m\n\u001b[0;32m      5\u001b[0m     \u001b[1;31m#output_keep_existing=False, #\u001b[0m\u001b[1;33m\u001b[0m\u001b[1;33m\u001b[0m\u001b[0m\n",
      "\u001b[1;32mC:\\users\\sanga\\appdata\\local\\programs\\python\\python39\\lib\\site-packages\\accim\\parametric_and_optimisation\\main.py\u001b[0m in \u001b[0;36m__init__\u001b[1;34m(self, building, parameters_type, output_type, output_keep_existing, output_freqs, ScriptType, SupplyAirTempInputMethod, debugging, verbosemode)\u001b[0m\n\u001b[0;32m    206\u001b[0m             )\n\u001b[0;32m    207\u001b[0m         \u001b[1;32melif\u001b[0m \u001b[0mis_apmv_setpoints\u001b[0m\u001b[1;33m:\u001b[0m\u001b[1;33m\u001b[0m\u001b[1;33m\u001b[0m\u001b[0m\n\u001b[1;32m--> 208\u001b[1;33m             \u001b[0mapmv\u001b[0m\u001b[1;33m.\u001b[0m\u001b[0mapply_apmv_setpoints\u001b[0m\u001b[1;33m(\u001b[0m\u001b[0mbuilding\u001b[0m\u001b[1;33m=\u001b[0m\u001b[0mbuilding\u001b[0m\u001b[1;33m,\u001b[0m \u001b[0moutputs_freq\u001b[0m\u001b[1;33m=\u001b[0m\u001b[0moutput_freqs\u001b[0m\u001b[1;33m)\u001b[0m\u001b[1;33m\u001b[0m\u001b[1;33m\u001b[0m\u001b[0m\n\u001b[0m\u001b[0;32m    209\u001b[0m             print('Arguments output_type, output_keep_existing, ScriptType, and SupplyAirTempInputMethod '\n\u001b[0;32m    210\u001b[0m                   \u001b[1;34m'are only used in accim predefined and custom models, '\u001b[0m\u001b[1;33m\u001b[0m\u001b[1;33m\u001b[0m\u001b[0m\n",
      "\u001b[1;32mC:\\users\\sanga\\appdata\\local\\programs\\python\\python39\\lib\\site-packages\\accim\\sim\\apmv_setpoints.py\u001b[0m in \u001b[0;36mapply_apmv_setpoints\u001b[1;34m(building, outputs_freq, other_PMV_related_outputs, adap_coeff_cooling, adap_coeff_heating, pmv_cooling_sp, pmv_heating_sp, tolerance_cooling_sp_cooling_season, tolerance_cooling_sp_heating_season, tolerance_heating_sp_cooling_season, tolerance_heating_sp_heating_season, cooling_season_start, cooling_season_end, dflt_for_adap_coeff_cooling, dflt_for_adap_coeff_heating, dflt_for_pmv_cooling_sp, dflt_for_pmv_heating_sp, dflt_for_tolerance_cooling_sp_cooling_season, dflt_for_tolerance_cooling_sp_heating_season, dflt_for_tolerance_heating_sp_cooling_season, dflt_for_tolerance_heating_sp_heating_season, verboseMode)\u001b[0m\n\u001b[0;32m    107\u001b[0m     \"\"\"\n\u001b[0;32m    108\u001b[0m     \u001b[1;31m# Mapping occupied zones (i.e. zones that have a related people object)\u001b[0m\u001b[1;33m\u001b[0m\u001b[1;33m\u001b[0m\u001b[0m\n\u001b[1;32m--> 109\u001b[1;33m     \u001b[0mppl_temp\u001b[0m \u001b[1;33m=\u001b[0m \u001b[1;33m[\u001b[0m\u001b[1;33m[\u001b[0m\u001b[0mpeople\u001b[0m\u001b[1;33m.\u001b[0m\u001b[0mZone_or_ZoneList_Name\u001b[0m\u001b[1;33m,\u001b[0m \u001b[0mpeople\u001b[0m\u001b[1;33m.\u001b[0m\u001b[0mName\u001b[0m\u001b[1;33m]\u001b[0m \u001b[1;32mfor\u001b[0m \u001b[0mpeople\u001b[0m \u001b[1;32min\u001b[0m \u001b[0mbuilding\u001b[0m\u001b[1;33m.\u001b[0m\u001b[0midfobjects\u001b[0m\u001b[1;33m[\u001b[0m\u001b[1;34m'People'\u001b[0m\u001b[1;33m]\u001b[0m\u001b[1;33m]\u001b[0m\u001b[1;33m\u001b[0m\u001b[1;33m\u001b[0m\u001b[0m\n\u001b[0m\u001b[0;32m    110\u001b[0m     \u001b[0mzones_with_ppl_colon\u001b[0m \u001b[1;33m=\u001b[0m \u001b[1;33m[\u001b[0m\u001b[0mppl\u001b[0m\u001b[1;33m[\u001b[0m\u001b[1;36m0\u001b[0m\u001b[1;33m]\u001b[0m \u001b[1;32mfor\u001b[0m \u001b[0mppl\u001b[0m \u001b[1;32min\u001b[0m \u001b[0mppl_temp\u001b[0m\u001b[1;33m]\u001b[0m\u001b[1;33m\u001b[0m\u001b[1;33m\u001b[0m\u001b[0m\n\u001b[0;32m    111\u001b[0m     \u001b[0mppl_names\u001b[0m \u001b[1;33m=\u001b[0m \u001b[1;33m[\u001b[0m\u001b[0mppl\u001b[0m\u001b[1;33m[\u001b[0m\u001b[1;36m1\u001b[0m\u001b[1;33m]\u001b[0m \u001b[1;32mfor\u001b[0m \u001b[0mppl\u001b[0m \u001b[1;32min\u001b[0m \u001b[0mppl_temp\u001b[0m\u001b[1;33m]\u001b[0m\u001b[1;33m\u001b[0m\u001b[1;33m\u001b[0m\u001b[0m\n",
      "\u001b[1;32mC:\\users\\sanga\\appdata\\local\\programs\\python\\python39\\lib\\site-packages\\accim\\sim\\apmv_setpoints.py\u001b[0m in \u001b[0;36m<listcomp>\u001b[1;34m(.0)\u001b[0m\n\u001b[0;32m    107\u001b[0m     \"\"\"\n\u001b[0;32m    108\u001b[0m     \u001b[1;31m# Mapping occupied zones (i.e. zones that have a related people object)\u001b[0m\u001b[1;33m\u001b[0m\u001b[1;33m\u001b[0m\u001b[0m\n\u001b[1;32m--> 109\u001b[1;33m     \u001b[0mppl_temp\u001b[0m \u001b[1;33m=\u001b[0m \u001b[1;33m[\u001b[0m\u001b[1;33m[\u001b[0m\u001b[0mpeople\u001b[0m\u001b[1;33m.\u001b[0m\u001b[0mZone_or_ZoneList_Name\u001b[0m\u001b[1;33m,\u001b[0m \u001b[0mpeople\u001b[0m\u001b[1;33m.\u001b[0m\u001b[0mName\u001b[0m\u001b[1;33m]\u001b[0m \u001b[1;32mfor\u001b[0m \u001b[0mpeople\u001b[0m \u001b[1;32min\u001b[0m \u001b[0mbuilding\u001b[0m\u001b[1;33m.\u001b[0m\u001b[0midfobjects\u001b[0m\u001b[1;33m[\u001b[0m\u001b[1;34m'People'\u001b[0m\u001b[1;33m]\u001b[0m\u001b[1;33m]\u001b[0m\u001b[1;33m\u001b[0m\u001b[1;33m\u001b[0m\u001b[0m\n\u001b[0m\u001b[0;32m    110\u001b[0m     \u001b[0mzones_with_ppl_colon\u001b[0m \u001b[1;33m=\u001b[0m \u001b[1;33m[\u001b[0m\u001b[0mppl\u001b[0m\u001b[1;33m[\u001b[0m\u001b[1;36m0\u001b[0m\u001b[1;33m]\u001b[0m \u001b[1;32mfor\u001b[0m \u001b[0mppl\u001b[0m \u001b[1;32min\u001b[0m \u001b[0mppl_temp\u001b[0m\u001b[1;33m]\u001b[0m\u001b[1;33m\u001b[0m\u001b[1;33m\u001b[0m\u001b[0m\n\u001b[0;32m    111\u001b[0m     \u001b[0mppl_names\u001b[0m \u001b[1;33m=\u001b[0m \u001b[1;33m[\u001b[0m\u001b[0mppl\u001b[0m\u001b[1;33m[\u001b[0m\u001b[1;36m1\u001b[0m\u001b[1;33m]\u001b[0m \u001b[1;32mfor\u001b[0m \u001b[0mppl\u001b[0m \u001b[1;32min\u001b[0m \u001b[0mppl_temp\u001b[0m\u001b[1;33m]\u001b[0m\u001b[1;33m\u001b[0m\u001b[1;33m\u001b[0m\u001b[0m\n",
      "\u001b[1;32mC:\\users\\sanga\\appdata\\local\\programs\\python\\python39\\lib\\site-packages\\eppy\\bunch_subclass.py\u001b[0m in \u001b[0;36m__getattr__\u001b[1;34m(self, name)\u001b[0m\n\u001b[0;32m    380\u001b[0m         \u001b[1;32melse\u001b[0m\u001b[1;33m:\u001b[0m\u001b[1;33m\u001b[0m\u001b[1;33m\u001b[0m\u001b[0m\n\u001b[0;32m    381\u001b[0m             \u001b[0mastr\u001b[0m \u001b[1;33m=\u001b[0m \u001b[1;34m\"unable to find field %s\"\u001b[0m \u001b[1;33m%\u001b[0m \u001b[1;33m(\u001b[0m\u001b[0mname\u001b[0m\u001b[1;33m,\u001b[0m\u001b[1;33m)\u001b[0m\u001b[1;33m\u001b[0m\u001b[1;33m\u001b[0m\u001b[0m\n\u001b[1;32m--> 382\u001b[1;33m             \u001b[1;32mraise\u001b[0m \u001b[0mBadEPFieldError\u001b[0m\u001b[1;33m(\u001b[0m\u001b[0mastr\u001b[0m\u001b[1;33m)\u001b[0m\u001b[1;33m\u001b[0m\u001b[1;33m\u001b[0m\u001b[0m\n\u001b[0m\u001b[0;32m    383\u001b[0m \u001b[1;33m\u001b[0m\u001b[0m\n\u001b[0;32m    384\u001b[0m     \u001b[1;32mdef\u001b[0m \u001b[0m__getitem__\u001b[0m\u001b[1;33m(\u001b[0m\u001b[0mself\u001b[0m\u001b[1;33m,\u001b[0m \u001b[0mkey\u001b[0m\u001b[1;33m)\u001b[0m\u001b[1;33m:\u001b[0m\u001b[1;33m\u001b[0m\u001b[1;33m\u001b[0m\u001b[0m\n",
      "\u001b[1;31mBadEPFieldError\u001b[0m: unable to find field Zone_or_ZoneList_Name"
     ]
    }
   ],
   "source": [
    "parametric = OptimParamSimulation(\n",
    "    building=building,\n",
    "    parameters_type='apmv setpoints',\n",
    "    #output_type='standard', #\n",
    "    #output_keep_existing=False, #\n",
    "    #output_freqs=['hourly'], #\n",
    "    #ScriptType='vrf_mm', #\n",
    "    #SupplyAirTempInputMethod='temperature difference', #\n",
    "    #debugging=True, #\n",
    "    #verbosemode=False #\n",
    ")"
   ]
  },
  {
   "cell_type": "markdown",
   "id": "51eed0eb-7b3a-4428-8952-070a650acf61",
   "metadata": {},
   "source": [
    "An initial and generic version of the Adaptive-Comfort-Control-Implementation Script (ACCIS) has been added to the idf instance `building`. For instance, you can take a look at the parameter values accis currently has:"
   ]
  },
  {
   "cell_type": "code",
   "execution_count": 21,
   "id": "ad387b77-4998-4e51-979a-928fa52e551d",
   "metadata": {},
   "outputs": [
    {
     "data": {
      "text/plain": [
       "[\n",
       " ENERGYMANAGEMENTSYSTEM:PROGRAM,\n",
       "     SetInputData,             !- Name\n",
       "     set ComfStand = 1,        !- Program Line 1\n",
       "     set CAT = 1,              !- Program Line 2\n",
       "     set ComfMod = 2,          !- Program Line 3\n",
       "     set HVACmode = 2,         !- Program Line 4\n",
       "     set VentCtrl = 0,         !- Program Line 5\n",
       "     set VSToffset = 0,        !- Program Line 6\n",
       "     set MinOToffset = 7,      !- Program Line 7\n",
       "     set MaxWindSpeed = 6,     !- Program Line 8\n",
       "     set ACSTtol = -0.25,      !- Program Line 9\n",
       "     set AHSTtol = 0.25,       !- Program Line 10\n",
       "     set CoolSeasonStart = 121,    !- Program Line 11\n",
       "     set CoolSeasonEnd = 274;    !- Program Line 12]"
      ]
     },
     "execution_count": 21,
     "metadata": {},
     "output_type": "execute_result"
    }
   ],
   "source": [
    "[i for i in building.idfobjects['energymanagementsystem:program'] if i.Name.lower() == 'setinputdata']"
   ]
  },
  {
   "cell_type": "markdown",
   "id": "99605e82-4d01-4aee-835c-ab9c6c66faa4",
   "metadata": {},
   "source": [
    "## Setting the outputs"
   ]
  },
  {
   "cell_type": "markdown",
   "id": "8d3f905b-543d-4f32-b0dd-67ed99f77780",
   "metadata": {},
   "source": [
    "**If you have already read any of the other parametric simulation examples, you can skip this entire outputs section, since it is exactly the same.**"
   ]
  },
  {
   "cell_type": "markdown",
   "id": "bc714539-79c3-46e9-9caa-44a21fc413cb",
   "metadata": {},
   "source": [
    "### Outputs for the idf (i.e. the outputs for each simulation run)"
   ]
  },
  {
   "cell_type": "markdown",
   "id": "764b7626-0e63-4317-8bbf-28ac2fe68f68",
   "metadata": {},
   "source": [
    "First of all, we are going to set the outputs of the simulations that are going to be performed. This is an important step, especially if you are going to run hundreds or thousands of simulations."
   ]
  },
  {
   "cell_type": "markdown",
   "id": "b2f1d34a-dc0a-4aac-b01f-a7425b95090f",
   "metadata": {},
   "source": [
    "Let's take a look at the Output:Variable objects we currently have in the idf. The method `get_output_var_df_from_idf()` returns a pandas DataFrame which contains the information of the existing Output:Variable objects in the idf:"
   ]
  },
  {
   "cell_type": "code",
   "execution_count": 22,
   "id": "12ee78ba-c60b-4ef1-a6fb-51086a8a53fa",
   "metadata": {},
   "outputs": [
    {
     "data": {
      "text/html": [
       "<div>\n",
       "<style scoped>\n",
       "    .dataframe tbody tr th:only-of-type {\n",
       "        vertical-align: middle;\n",
       "    }\n",
       "\n",
       "    .dataframe tbody tr th {\n",
       "        vertical-align: top;\n",
       "    }\n",
       "\n",
       "    .dataframe thead th {\n",
       "        text-align: right;\n",
       "    }\n",
       "</style>\n",
       "<table border=\"1\" class=\"dataframe\">\n",
       "  <thead>\n",
       "    <tr style=\"text-align: right;\">\n",
       "      <th></th>\n",
       "      <th>key_value</th>\n",
       "      <th>variable_name</th>\n",
       "      <th>reporting_frequency</th>\n",
       "      <th>schedule_name</th>\n",
       "    </tr>\n",
       "  </thead>\n",
       "  <tbody>\n",
       "    <tr>\n",
       "      <th>0</th>\n",
       "      <td>*</td>\n",
       "      <td>Comfort Temperature</td>\n",
       "      <td>Hourly</td>\n",
       "      <td></td>\n",
       "    </tr>\n",
       "    <tr>\n",
       "      <th>1</th>\n",
       "      <td>*</td>\n",
       "      <td>Adaptive Cooling Setpoint Temperature</td>\n",
       "      <td>Hourly</td>\n",
       "      <td></td>\n",
       "    </tr>\n",
       "    <tr>\n",
       "      <th>2</th>\n",
       "      <td>*</td>\n",
       "      <td>Adaptive Heating Setpoint Temperature</td>\n",
       "      <td>Hourly</td>\n",
       "      <td></td>\n",
       "    </tr>\n",
       "    <tr>\n",
       "      <th>3</th>\n",
       "      <td>*</td>\n",
       "      <td>Adaptive Cooling Setpoint Temperature_No Toler...</td>\n",
       "      <td>Hourly</td>\n",
       "      <td></td>\n",
       "    </tr>\n",
       "    <tr>\n",
       "      <th>4</th>\n",
       "      <td>*</td>\n",
       "      <td>Adaptive Heating Setpoint Temperature_No Toler...</td>\n",
       "      <td>Hourly</td>\n",
       "      <td></td>\n",
       "    </tr>\n",
       "    <tr>\n",
       "      <th>...</th>\n",
       "      <td>...</td>\n",
       "      <td>...</td>\n",
       "      <td>...</td>\n",
       "      <td>...</td>\n",
       "    </tr>\n",
       "    <tr>\n",
       "      <th>72</th>\n",
       "      <td>*</td>\n",
       "      <td>VRF Heat Pump Heating Electricity Energy</td>\n",
       "      <td>Hourly</td>\n",
       "      <td></td>\n",
       "    </tr>\n",
       "    <tr>\n",
       "      <th>73</th>\n",
       "      <td>BLOCK1_ZONE2 VRF Indoor Unit DX Cooling Coil</td>\n",
       "      <td>Cooling Coil Total Cooling Rate</td>\n",
       "      <td>Hourly</td>\n",
       "      <td></td>\n",
       "    </tr>\n",
       "    <tr>\n",
       "      <th>74</th>\n",
       "      <td>BLOCK1_ZONE2 VRF Indoor Unit DX Heating Coil</td>\n",
       "      <td>Heating Coil Heating Rate</td>\n",
       "      <td>Hourly</td>\n",
       "      <td></td>\n",
       "    </tr>\n",
       "    <tr>\n",
       "      <th>75</th>\n",
       "      <td>BLOCK1_ZONE1 VRF Indoor Unit DX Cooling Coil</td>\n",
       "      <td>Cooling Coil Total Cooling Rate</td>\n",
       "      <td>Hourly</td>\n",
       "      <td></td>\n",
       "    </tr>\n",
       "    <tr>\n",
       "      <th>76</th>\n",
       "      <td>BLOCK1_ZONE1 VRF Indoor Unit DX Heating Coil</td>\n",
       "      <td>Heating Coil Heating Rate</td>\n",
       "      <td>Hourly</td>\n",
       "      <td></td>\n",
       "    </tr>\n",
       "  </tbody>\n",
       "</table>\n",
       "<p>77 rows × 4 columns</p>\n",
       "</div>"
      ],
      "text/plain": [
       "                                       key_value  \\\n",
       "0                                              *   \n",
       "1                                              *   \n",
       "2                                              *   \n",
       "3                                              *   \n",
       "4                                              *   \n",
       "..                                           ...   \n",
       "72                                             *   \n",
       "73  BLOCK1_ZONE2 VRF Indoor Unit DX Cooling Coil   \n",
       "74  BLOCK1_ZONE2 VRF Indoor Unit DX Heating Coil   \n",
       "75  BLOCK1_ZONE1 VRF Indoor Unit DX Cooling Coil   \n",
       "76  BLOCK1_ZONE1 VRF Indoor Unit DX Heating Coil   \n",
       "\n",
       "                                        variable_name reporting_frequency  \\\n",
       "0                                 Comfort Temperature              Hourly   \n",
       "1               Adaptive Cooling Setpoint Temperature              Hourly   \n",
       "2               Adaptive Heating Setpoint Temperature              Hourly   \n",
       "3   Adaptive Cooling Setpoint Temperature_No Toler...              Hourly   \n",
       "4   Adaptive Heating Setpoint Temperature_No Toler...              Hourly   \n",
       "..                                                ...                 ...   \n",
       "72           VRF Heat Pump Heating Electricity Energy              Hourly   \n",
       "73                    Cooling Coil Total Cooling Rate              Hourly   \n",
       "74                          Heating Coil Heating Rate              Hourly   \n",
       "75                    Cooling Coil Total Cooling Rate              Hourly   \n",
       "76                          Heating Coil Heating Rate              Hourly   \n",
       "\n",
       "   schedule_name  \n",
       "0                 \n",
       "1                 \n",
       "2                 \n",
       "3                 \n",
       "4                 \n",
       "..           ...  \n",
       "72                \n",
       "73                \n",
       "74                \n",
       "75                \n",
       "76                \n",
       "\n",
       "[77 rows x 4 columns]"
      ]
     },
     "execution_count": 22,
     "metadata": {},
     "output_type": "execute_result"
    }
   ],
   "source": [
    "df_output_variables_idf = parametric.get_output_var_df_from_idf()\n",
    "df_output_variables_idf"
   ]
  },
  {
   "cell_type": "markdown",
   "id": "ab1e81e8-c2f0-40c0-b868-0cf7ddb9954f",
   "metadata": {},
   "source": [
    "now, let's see the Output:Meter objects:"
   ]
  },
  {
   "cell_type": "code",
   "execution_count": 23,
   "id": "94c9844b-aacf-41fa-b1d4-ac7b491aa14e",
   "metadata": {},
   "outputs": [
    {
     "data": {
      "text/html": [
       "<div>\n",
       "<style scoped>\n",
       "    .dataframe tbody tr th:only-of-type {\n",
       "        vertical-align: middle;\n",
       "    }\n",
       "\n",
       "    .dataframe tbody tr th {\n",
       "        vertical-align: top;\n",
       "    }\n",
       "\n",
       "    .dataframe thead th {\n",
       "        text-align: right;\n",
       "    }\n",
       "</style>\n",
       "<table border=\"1\" class=\"dataframe\">\n",
       "  <thead>\n",
       "    <tr style=\"text-align: right;\">\n",
       "      <th></th>\n",
       "      <th>key_name</th>\n",
       "      <th>frequency</th>\n",
       "    </tr>\n",
       "  </thead>\n",
       "  <tbody>\n",
       "  </tbody>\n",
       "</table>\n",
       "</div>"
      ],
      "text/plain": [
       "Empty DataFrame\n",
       "Columns: [key_name, frequency]\n",
       "Index: []"
      ]
     },
     "execution_count": 23,
     "metadata": {},
     "output_type": "execute_result"
    }
   ],
   "source": [
    "df_output_meters_idf = parametric.get_output_meter_df_from_idf()\n",
    "df_output_meters_idf.head()"
   ]
  },
  {
   "cell_type": "markdown",
   "id": "093bdcab-a1aa-492a-8864-d2e4e1a0b72c",
   "metadata": {},
   "source": [
    "In this case, we can see there is no Output:Meter. However, there is a large number of Output:Variable objects which might result in heavy simulation outputs. So, let's get rid of some of them. We can drop the rows we want, and then input the modified DataFrame in the method `set_output_var_df_to_idf(outputs_df)`."
   ]
  },
  {
   "cell_type": "code",
   "execution_count": 24,
   "id": "9ccc7b08-119c-4f4c-bb45-9aac8201fe7e",
   "metadata": {},
   "outputs": [
    {
     "data": {
      "text/html": [
       "<div>\n",
       "<style scoped>\n",
       "    .dataframe tbody tr th:only-of-type {\n",
       "        vertical-align: middle;\n",
       "    }\n",
       "\n",
       "    .dataframe tbody tr th {\n",
       "        vertical-align: top;\n",
       "    }\n",
       "\n",
       "    .dataframe thead th {\n",
       "        text-align: right;\n",
       "    }\n",
       "</style>\n",
       "<table border=\"1\" class=\"dataframe\">\n",
       "  <thead>\n",
       "    <tr style=\"text-align: right;\">\n",
       "      <th></th>\n",
       "      <th>key_value</th>\n",
       "      <th>variable_name</th>\n",
       "      <th>reporting_frequency</th>\n",
       "      <th>schedule_name</th>\n",
       "    </tr>\n",
       "  </thead>\n",
       "  <tbody>\n",
       "    <tr>\n",
       "      <th>3</th>\n",
       "      <td>*</td>\n",
       "      <td>Adaptive Cooling Setpoint Temperature_No Toler...</td>\n",
       "      <td>Hourly</td>\n",
       "      <td></td>\n",
       "    </tr>\n",
       "    <tr>\n",
       "      <th>4</th>\n",
       "      <td>*</td>\n",
       "      <td>Adaptive Heating Setpoint Temperature_No Toler...</td>\n",
       "      <td>Hourly</td>\n",
       "      <td></td>\n",
       "    </tr>\n",
       "    <tr>\n",
       "      <th>52</th>\n",
       "      <td>*</td>\n",
       "      <td>Zone Operative Temperature</td>\n",
       "      <td>Hourly</td>\n",
       "      <td></td>\n",
       "    </tr>\n",
       "    <tr>\n",
       "      <th>54</th>\n",
       "      <td>*</td>\n",
       "      <td>Zone Thermal Comfort ASHRAE 55 Adaptive Model ...</td>\n",
       "      <td>Hourly</td>\n",
       "      <td></td>\n",
       "    </tr>\n",
       "  </tbody>\n",
       "</table>\n",
       "</div>"
      ],
      "text/plain": [
       "   key_value                                      variable_name  \\\n",
       "3          *  Adaptive Cooling Setpoint Temperature_No Toler...   \n",
       "4          *  Adaptive Heating Setpoint Temperature_No Toler...   \n",
       "52         *                         Zone Operative Temperature   \n",
       "54         *  Zone Thermal Comfort ASHRAE 55 Adaptive Model ...   \n",
       "\n",
       "   reporting_frequency schedule_name  \n",
       "3               Hourly                \n",
       "4               Hourly                \n",
       "52              Hourly                \n",
       "54              Hourly                "
      ]
     },
     "execution_count": 24,
     "metadata": {},
     "output_type": "execute_result"
    }
   ],
   "source": [
    "df_output_variables_idf = df_output_variables_idf[\n",
    "    (\n",
    "        df_output_variables_idf['variable_name'].str.contains('Setpoint Temperature_No Tolerance')\n",
    "        |\n",
    "        df_output_variables_idf['variable_name'].str.contains('Zone Operative Temperature')\n",
    "        |\n",
    "        df_output_variables_idf['variable_name'].str.contains('Zone Thermal Comfort ASHRAE 55 Adaptive Model Running Average Outdoor Air Temperature')\n",
    "    )\n",
    "]\n",
    "df_output_variables_idf"
   ]
  },
  {
   "cell_type": "markdown",
   "id": "643151b4-a20d-4d00-a1c9-5a78a56be916",
   "metadata": {},
   "source": [
    "Let's keep only the Output:Variable objects we have filtered using the `set_output_var_df_to_idf(outputs_df)`:"
   ]
  },
  {
   "cell_type": "code",
   "execution_count": 25,
   "id": "8958bc66-f42d-4fc0-9622-f2b3ffb03852",
   "metadata": {},
   "outputs": [],
   "source": [
    "parametric.set_output_var_df_to_idf(outputs_df=df_output_variables_idf)"
   ]
  },
  {
   "cell_type": "markdown",
   "id": "eacd9d6d-7fa1-4e6d-8bab-edbfa322140b",
   "metadata": {},
   "source": [
    "We have removed all rows except the adaptive heating and cooling setpoints, the operative temperature and the running mean outdoor temperature. Next optional step is adding Output:Meter objects. We can do that using the method `set_output_met_objects_to_idf(output_meters)`, where `output_meters` is a list of Output:Meter key names."
   ]
  },
  {
   "cell_type": "code",
   "execution_count": 26,
   "id": "addf36d3-b7c2-4254-bec5-322850a464d1",
   "metadata": {},
   "outputs": [],
   "source": [
    "output_meters = [\n",
    "    'Heating:Electricity',\n",
    "    'Cooling:Electricity',\n",
    "    'Electricity:HVAC',\n",
    "]\n",
    "parametric.set_output_met_objects_to_idf(output_meters=output_meters)"
   ]
  },
  {
   "cell_type": "markdown",
   "id": "fa66a111-e72e-4ebd-8110-8222191d6c5d",
   "metadata": {},
   "source": [
    "Let's see Output:Meter objects we currently have after adding these:"
   ]
  },
  {
   "cell_type": "code",
   "execution_count": 27,
   "id": "41878d11-6dcc-4158-9ec4-a74aa9d2dafc",
   "metadata": {},
   "outputs": [
    {
     "data": {
      "text/html": [
       "<div>\n",
       "<style scoped>\n",
       "    .dataframe tbody tr th:only-of-type {\n",
       "        vertical-align: middle;\n",
       "    }\n",
       "\n",
       "    .dataframe tbody tr th {\n",
       "        vertical-align: top;\n",
       "    }\n",
       "\n",
       "    .dataframe thead th {\n",
       "        text-align: right;\n",
       "    }\n",
       "</style>\n",
       "<table border=\"1\" class=\"dataframe\">\n",
       "  <thead>\n",
       "    <tr style=\"text-align: right;\">\n",
       "      <th></th>\n",
       "      <th>key_name</th>\n",
       "      <th>frequency</th>\n",
       "    </tr>\n",
       "  </thead>\n",
       "  <tbody>\n",
       "    <tr>\n",
       "      <th>0</th>\n",
       "      <td>Heating:Electricity</td>\n",
       "      <td>hourly</td>\n",
       "    </tr>\n",
       "    <tr>\n",
       "      <th>1</th>\n",
       "      <td>Cooling:Electricity</td>\n",
       "      <td>hourly</td>\n",
       "    </tr>\n",
       "    <tr>\n",
       "      <th>2</th>\n",
       "      <td>Electricity:HVAC</td>\n",
       "      <td>hourly</td>\n",
       "    </tr>\n",
       "  </tbody>\n",
       "</table>\n",
       "</div>"
      ],
      "text/plain": [
       "              key_name frequency\n",
       "0  Heating:Electricity    hourly\n",
       "1  Cooling:Electricity    hourly\n",
       "2     Electricity:HVAC    hourly"
      ]
     },
     "execution_count": 27,
     "metadata": {},
     "output_type": "execute_result"
    }
   ],
   "source": [
    "df_output_meters_idf = parametric.get_output_meter_df_from_idf()\n",
    "df_output_meters_idf.head()"
   ]
  },
  {
   "cell_type": "markdown",
   "id": "90fd8d9b-ecd8-4c79-9f37-775f2c2921ed",
   "metadata": {},
   "source": [
    "### Outputs to be read and shown in the parametric simulation or optimisation"
   ]
  },
  {
   "cell_type": "markdown",
   "id": "bb18fd43-e07e-42f1-ac75-020bcbe96d9a",
   "metadata": {},
   "source": [
    "To successfully run the parametric simulation or optimisation, it is advisable running a test simulation to know the outputs that each simulation will have. We can do that with the method `get_outputs_df_from_testsim()`, which returns a tuple containing 2 DataFrames containing respectively the Output:Meter and Output:Variable objects from the simulation. In this case, you won't find wildcards such as \"*\"."
   ]
  },
  {
   "cell_type": "code",
   "execution_count": 28,
   "id": "ff6093e9-840d-4142-ad79-98d78f4f13d1",
   "metadata": {},
   "outputs": [],
   "source": [
    "df_output_meters_testsim, df_output_variables_testsim = parametric.get_outputs_df_from_testsim()"
   ]
  },
  {
   "cell_type": "code",
   "execution_count": 29,
   "id": "61a88134-7997-42ce-88b0-ef4606cdfe61",
   "metadata": {},
   "outputs": [
    {
     "data": {
      "text/html": [
       "<div>\n",
       "<style scoped>\n",
       "    .dataframe tbody tr th:only-of-type {\n",
       "        vertical-align: middle;\n",
       "    }\n",
       "\n",
       "    .dataframe tbody tr th {\n",
       "        vertical-align: top;\n",
       "    }\n",
       "\n",
       "    .dataframe thead th {\n",
       "        text-align: right;\n",
       "    }\n",
       "</style>\n",
       "<table border=\"1\" class=\"dataframe\">\n",
       "  <thead>\n",
       "    <tr style=\"text-align: right;\">\n",
       "      <th></th>\n",
       "      <th>key_name</th>\n",
       "      <th>frequency</th>\n",
       "    </tr>\n",
       "  </thead>\n",
       "  <tbody>\n",
       "    <tr>\n",
       "      <th>0</th>\n",
       "      <td>Heating:Electricity</td>\n",
       "      <td>Hourly</td>\n",
       "    </tr>\n",
       "    <tr>\n",
       "      <th>1</th>\n",
       "      <td>Cooling:Electricity</td>\n",
       "      <td>Hourly</td>\n",
       "    </tr>\n",
       "    <tr>\n",
       "      <th>2</th>\n",
       "      <td>Electricity:HVAC</td>\n",
       "      <td>Hourly</td>\n",
       "    </tr>\n",
       "  </tbody>\n",
       "</table>\n",
       "</div>"
      ],
      "text/plain": [
       "              key_name frequency\n",
       "0  Heating:Electricity    Hourly\n",
       "1  Cooling:Electricity    Hourly\n",
       "2     Electricity:HVAC    Hourly"
      ]
     },
     "execution_count": 29,
     "metadata": {},
     "output_type": "execute_result"
    }
   ],
   "source": [
    "df_output_meters_testsim"
   ]
  },
  {
   "cell_type": "code",
   "execution_count": 30,
   "id": "9dd7f778-e7b7-4474-ae02-fd6a8f154c1f",
   "metadata": {},
   "outputs": [
    {
     "data": {
      "text/html": [
       "<div>\n",
       "<style scoped>\n",
       "    .dataframe tbody tr th:only-of-type {\n",
       "        vertical-align: middle;\n",
       "    }\n",
       "\n",
       "    .dataframe tbody tr th {\n",
       "        vertical-align: top;\n",
       "    }\n",
       "\n",
       "    .dataframe thead th {\n",
       "        text-align: right;\n",
       "    }\n",
       "</style>\n",
       "<table border=\"1\" class=\"dataframe\">\n",
       "  <thead>\n",
       "    <tr style=\"text-align: right;\">\n",
       "      <th></th>\n",
       "      <th>key_value</th>\n",
       "      <th>variable_name</th>\n",
       "      <th>frequency</th>\n",
       "    </tr>\n",
       "  </thead>\n",
       "  <tbody>\n",
       "    <tr>\n",
       "      <th>0</th>\n",
       "      <td>EMS</td>\n",
       "      <td>Adaptive Cooling Setpoint Temperature_No Toler...</td>\n",
       "      <td>Hourly</td>\n",
       "    </tr>\n",
       "    <tr>\n",
       "      <th>1</th>\n",
       "      <td>EMS</td>\n",
       "      <td>Adaptive Heating Setpoint Temperature_No Toler...</td>\n",
       "      <td>Hourly</td>\n",
       "    </tr>\n",
       "    <tr>\n",
       "      <th>2</th>\n",
       "      <td>BLOCK1:ZONE2</td>\n",
       "      <td>Zone Operative Temperature</td>\n",
       "      <td>Hourly</td>\n",
       "    </tr>\n",
       "    <tr>\n",
       "      <th>3</th>\n",
       "      <td>BLOCK1:ZONE1</td>\n",
       "      <td>Zone Operative Temperature</td>\n",
       "      <td>Hourly</td>\n",
       "    </tr>\n",
       "    <tr>\n",
       "      <th>4</th>\n",
       "      <td>PEOPLE BLOCK1:ZONE2</td>\n",
       "      <td>Zone Thermal Comfort ASHRAE 55 Adaptive Model ...</td>\n",
       "      <td>Hourly</td>\n",
       "    </tr>\n",
       "    <tr>\n",
       "      <th>5</th>\n",
       "      <td>PEOPLE BLOCK1:ZONE1</td>\n",
       "      <td>Zone Thermal Comfort ASHRAE 55 Adaptive Model ...</td>\n",
       "      <td>Hourly</td>\n",
       "    </tr>\n",
       "  </tbody>\n",
       "</table>\n",
       "</div>"
      ],
      "text/plain": [
       "             key_value                                      variable_name  \\\n",
       "0                  EMS  Adaptive Cooling Setpoint Temperature_No Toler...   \n",
       "1                  EMS  Adaptive Heating Setpoint Temperature_No Toler...   \n",
       "2         BLOCK1:ZONE2                         Zone Operative Temperature   \n",
       "3         BLOCK1:ZONE1                         Zone Operative Temperature   \n",
       "4  PEOPLE BLOCK1:ZONE2  Zone Thermal Comfort ASHRAE 55 Adaptive Model ...   \n",
       "5  PEOPLE BLOCK1:ZONE1  Zone Thermal Comfort ASHRAE 55 Adaptive Model ...   \n",
       "\n",
       "  frequency  \n",
       "0    Hourly  \n",
       "1    Hourly  \n",
       "2    Hourly  \n",
       "3    Hourly  \n",
       "4    Hourly  \n",
       "5    Hourly  "
      ]
     },
     "execution_count": 30,
     "metadata": {},
     "output_type": "execute_result"
    }
   ],
   "source": [
    "df_output_variables_testsim"
   ]
  },
  {
   "cell_type": "markdown",
   "id": "b0ed4500-6054-4a00-ae63-54412bf70944",
   "metadata": {},
   "source": [
    "We can get DataFrames from the .rdd and .mdd files generated from the test simulation using the functions `get_rdd_file_as_df()` and `get_mdd_file_as_df()`. "
   ]
  },
  {
   "cell_type": "code",
   "execution_count": 31,
   "id": "e28454a5-8de7-4551-bf9b-4db3fa8f124f",
   "metadata": {},
   "outputs": [
    {
     "data": {
      "text/html": [
       "<div>\n",
       "<style scoped>\n",
       "    .dataframe tbody tr th:only-of-type {\n",
       "        vertical-align: middle;\n",
       "    }\n",
       "\n",
       "    .dataframe tbody tr th {\n",
       "        vertical-align: top;\n",
       "    }\n",
       "\n",
       "    .dataframe thead th {\n",
       "        text-align: right;\n",
       "    }\n",
       "</style>\n",
       "<table border=\"1\" class=\"dataframe\">\n",
       "  <thead>\n",
       "    <tr style=\"text-align: right;\">\n",
       "      <th></th>\n",
       "      <th>object</th>\n",
       "      <th>key_value</th>\n",
       "      <th>variable_name</th>\n",
       "      <th>frequency</th>\n",
       "      <th>units</th>\n",
       "    </tr>\n",
       "  </thead>\n",
       "  <tbody>\n",
       "    <tr>\n",
       "      <th>0</th>\n",
       "      <td>Output:Variable</td>\n",
       "      <td>*</td>\n",
       "      <td>Site Outdoor Air Drybulb Temperature</td>\n",
       "      <td>hourly</td>\n",
       "      <td>!- Zone Average [C]</td>\n",
       "    </tr>\n",
       "    <tr>\n",
       "      <th>1</th>\n",
       "      <td>Output:Variable</td>\n",
       "      <td>*</td>\n",
       "      <td>Site Outdoor Air Dewpoint Temperature</td>\n",
       "      <td>hourly</td>\n",
       "      <td>!- Zone Average [C]</td>\n",
       "    </tr>\n",
       "    <tr>\n",
       "      <th>2</th>\n",
       "      <td>Output:Variable</td>\n",
       "      <td>*</td>\n",
       "      <td>Site Outdoor Air Wetbulb Temperature</td>\n",
       "      <td>hourly</td>\n",
       "      <td>!- Zone Average [C]</td>\n",
       "    </tr>\n",
       "    <tr>\n",
       "      <th>3</th>\n",
       "      <td>Output:Variable</td>\n",
       "      <td>*</td>\n",
       "      <td>Site Outdoor Air Humidity Ratio</td>\n",
       "      <td>hourly</td>\n",
       "      <td>!- Zone Average [kgWater/kgDryAir]</td>\n",
       "    </tr>\n",
       "    <tr>\n",
       "      <th>4</th>\n",
       "      <td>Output:Variable</td>\n",
       "      <td>*</td>\n",
       "      <td>Site Outdoor Air Relative Humidity</td>\n",
       "      <td>hourly</td>\n",
       "      <td>!- Zone Average [%]</td>\n",
       "    </tr>\n",
       "    <tr>\n",
       "      <th>...</th>\n",
       "      <td>...</td>\n",
       "      <td>...</td>\n",
       "      <td>...</td>\n",
       "      <td>...</td>\n",
       "      <td>...</td>\n",
       "    </tr>\n",
       "    <tr>\n",
       "      <th>712</th>\n",
       "      <td>Output:Variable</td>\n",
       "      <td>*</td>\n",
       "      <td>Zone Ventilation When Unoccupied Time</td>\n",
       "      <td>hourly</td>\n",
       "      <td>!- HVAC Sum [hr]</td>\n",
       "    </tr>\n",
       "    <tr>\n",
       "      <th>713</th>\n",
       "      <td>Output:Variable</td>\n",
       "      <td>*</td>\n",
       "      <td>Facility Any Zone Ventilation Below Target Voz...</td>\n",
       "      <td>hourly</td>\n",
       "      <td>!- HVAC Sum [hr]</td>\n",
       "    </tr>\n",
       "    <tr>\n",
       "      <th>714</th>\n",
       "      <td>Output:Variable</td>\n",
       "      <td>*</td>\n",
       "      <td>Facility All Zones Ventilation At Target Voz Time</td>\n",
       "      <td>hourly</td>\n",
       "      <td>!- HVAC Sum [hr]</td>\n",
       "    </tr>\n",
       "    <tr>\n",
       "      <th>715</th>\n",
       "      <td>Output:Variable</td>\n",
       "      <td>*</td>\n",
       "      <td>Facility Any Zone Ventilation Above Target Voz...</td>\n",
       "      <td>hourly</td>\n",
       "      <td>!- HVAC Sum [hr]</td>\n",
       "    </tr>\n",
       "    <tr>\n",
       "      <th>716</th>\n",
       "      <td>Output:Variable</td>\n",
       "      <td>*</td>\n",
       "      <td>Facility Any Zone Ventilation When Unoccupied ...</td>\n",
       "      <td>hourly</td>\n",
       "      <td>!- HVAC Sum [hr]</td>\n",
       "    </tr>\n",
       "  </tbody>\n",
       "</table>\n",
       "<p>717 rows × 5 columns</p>\n",
       "</div>"
      ],
      "text/plain": [
       "              object key_value  \\\n",
       "0    Output:Variable         *   \n",
       "1    Output:Variable         *   \n",
       "2    Output:Variable         *   \n",
       "3    Output:Variable         *   \n",
       "4    Output:Variable         *   \n",
       "..               ...       ...   \n",
       "712  Output:Variable         *   \n",
       "713  Output:Variable         *   \n",
       "714  Output:Variable         *   \n",
       "715  Output:Variable         *   \n",
       "716  Output:Variable         *   \n",
       "\n",
       "                                         variable_name frequency  \\\n",
       "0                 Site Outdoor Air Drybulb Temperature    hourly   \n",
       "1                Site Outdoor Air Dewpoint Temperature    hourly   \n",
       "2                 Site Outdoor Air Wetbulb Temperature    hourly   \n",
       "3                      Site Outdoor Air Humidity Ratio    hourly   \n",
       "4                   Site Outdoor Air Relative Humidity    hourly   \n",
       "..                                                 ...       ...   \n",
       "712              Zone Ventilation When Unoccupied Time    hourly   \n",
       "713  Facility Any Zone Ventilation Below Target Voz...    hourly   \n",
       "714  Facility All Zones Ventilation At Target Voz Time    hourly   \n",
       "715  Facility Any Zone Ventilation Above Target Voz...    hourly   \n",
       "716  Facility Any Zone Ventilation When Unoccupied ...    hourly   \n",
       "\n",
       "                                   units  \n",
       "0                    !- Zone Average [C]  \n",
       "1                    !- Zone Average [C]  \n",
       "2                    !- Zone Average [C]  \n",
       "3     !- Zone Average [kgWater/kgDryAir]  \n",
       "4                    !- Zone Average [%]  \n",
       "..                                   ...  \n",
       "712                     !- HVAC Sum [hr]  \n",
       "713                     !- HVAC Sum [hr]  \n",
       "714                     !- HVAC Sum [hr]  \n",
       "715                     !- HVAC Sum [hr]  \n",
       "716                     !- HVAC Sum [hr]  \n",
       "\n",
       "[717 rows x 5 columns]"
      ]
     },
     "execution_count": 31,
     "metadata": {},
     "output_type": "execute_result"
    }
   ],
   "source": [
    "df_rdd = get_rdd_file_as_df()\n",
    "df_rdd"
   ]
  },
  {
   "cell_type": "code",
   "execution_count": 32,
   "id": "58649f6e-f08c-49e5-823a-376ff26eb83a",
   "metadata": {},
   "outputs": [
    {
     "data": {
      "text/html": [
       "<div>\n",
       "<style scoped>\n",
       "    .dataframe tbody tr th:only-of-type {\n",
       "        vertical-align: middle;\n",
       "    }\n",
       "\n",
       "    .dataframe tbody tr th {\n",
       "        vertical-align: top;\n",
       "    }\n",
       "\n",
       "    .dataframe thead th {\n",
       "        text-align: right;\n",
       "    }\n",
       "</style>\n",
       "<table border=\"1\" class=\"dataframe\">\n",
       "  <thead>\n",
       "    <tr style=\"text-align: right;\">\n",
       "      <th></th>\n",
       "      <th>object</th>\n",
       "      <th>meter_name</th>\n",
       "      <th>frequency</th>\n",
       "      <th>units</th>\n",
       "    </tr>\n",
       "  </thead>\n",
       "  <tbody>\n",
       "    <tr>\n",
       "      <th>0</th>\n",
       "      <td>Output:Meter</td>\n",
       "      <td>Electricity:Facility</td>\n",
       "      <td>hourly</td>\n",
       "      <td>!- [J]</td>\n",
       "    </tr>\n",
       "    <tr>\n",
       "      <th>1</th>\n",
       "      <td>Output:Meter:Cumulative</td>\n",
       "      <td>Electricity:Facility</td>\n",
       "      <td>hourly</td>\n",
       "      <td>!- [J]</td>\n",
       "    </tr>\n",
       "    <tr>\n",
       "      <th>2</th>\n",
       "      <td>Output:Meter</td>\n",
       "      <td>Electricity:Building</td>\n",
       "      <td>hourly</td>\n",
       "      <td>!- [J]</td>\n",
       "    </tr>\n",
       "    <tr>\n",
       "      <th>3</th>\n",
       "      <td>Output:Meter:Cumulative</td>\n",
       "      <td>Electricity:Building</td>\n",
       "      <td>hourly</td>\n",
       "      <td>!- [J]</td>\n",
       "    </tr>\n",
       "    <tr>\n",
       "      <th>4</th>\n",
       "      <td>Output:Meter</td>\n",
       "      <td>Electricity:Zone:BLOCK1:ZONE2</td>\n",
       "      <td>hourly</td>\n",
       "      <td>!- [J]</td>\n",
       "    </tr>\n",
       "    <tr>\n",
       "      <th>...</th>\n",
       "      <td>...</td>\n",
       "      <td>...</td>\n",
       "      <td>...</td>\n",
       "      <td>...</td>\n",
       "    </tr>\n",
       "    <tr>\n",
       "      <th>157</th>\n",
       "      <td>Output:Meter:Cumulative</td>\n",
       "      <td>General:HeatRecovery:EnergyTransfer</td>\n",
       "      <td>hourly</td>\n",
       "      <td>!- [J]</td>\n",
       "    </tr>\n",
       "    <tr>\n",
       "      <th>158</th>\n",
       "      <td>Output:Meter</td>\n",
       "      <td>Carbon Equivalent:Facility</td>\n",
       "      <td>hourly</td>\n",
       "      <td>!- [kg]</td>\n",
       "    </tr>\n",
       "    <tr>\n",
       "      <th>159</th>\n",
       "      <td>Output:Meter:Cumulative</td>\n",
       "      <td>Carbon Equivalent:Facility</td>\n",
       "      <td>hourly</td>\n",
       "      <td>!- [kg]</td>\n",
       "    </tr>\n",
       "    <tr>\n",
       "      <th>160</th>\n",
       "      <td>Output:Meter</td>\n",
       "      <td>CarbonEquivalentEmissions:Carbon Equivalent</td>\n",
       "      <td>hourly</td>\n",
       "      <td>!- [kg]</td>\n",
       "    </tr>\n",
       "    <tr>\n",
       "      <th>161</th>\n",
       "      <td>Output:Meter:Cumulative</td>\n",
       "      <td>CarbonEquivalentEmissions:Carbon Equivalent</td>\n",
       "      <td>hourly</td>\n",
       "      <td>!- [kg]</td>\n",
       "    </tr>\n",
       "  </tbody>\n",
       "</table>\n",
       "<p>162 rows × 4 columns</p>\n",
       "</div>"
      ],
      "text/plain": [
       "                      object                                   meter_name  \\\n",
       "0               Output:Meter                         Electricity:Facility   \n",
       "1    Output:Meter:Cumulative                         Electricity:Facility   \n",
       "2               Output:Meter                         Electricity:Building   \n",
       "3    Output:Meter:Cumulative                         Electricity:Building   \n",
       "4               Output:Meter                Electricity:Zone:BLOCK1:ZONE2   \n",
       "..                       ...                                          ...   \n",
       "157  Output:Meter:Cumulative          General:HeatRecovery:EnergyTransfer   \n",
       "158             Output:Meter                   Carbon Equivalent:Facility   \n",
       "159  Output:Meter:Cumulative                   Carbon Equivalent:Facility   \n",
       "160             Output:Meter  CarbonEquivalentEmissions:Carbon Equivalent   \n",
       "161  Output:Meter:Cumulative  CarbonEquivalentEmissions:Carbon Equivalent   \n",
       "\n",
       "    frequency     units  \n",
       "0      hourly    !- [J]  \n",
       "1      hourly    !- [J]  \n",
       "2      hourly    !- [J]  \n",
       "3      hourly    !- [J]  \n",
       "4      hourly    !- [J]  \n",
       "..        ...       ...  \n",
       "157    hourly    !- [J]  \n",
       "158    hourly   !- [kg]  \n",
       "159    hourly   !- [kg]  \n",
       "160    hourly   !- [kg]  \n",
       "161    hourly   !- [kg]  \n",
       "\n",
       "[162 rows x 4 columns]"
      ]
     },
     "execution_count": 32,
     "metadata": {},
     "output_type": "execute_result"
    }
   ],
   "source": [
    "df_mdd = get_mdd_file_as_df()\n",
    "df_mdd"
   ]
  },
  {
   "cell_type": "markdown",
   "id": "a84943b5-db09-4f19-95bb-f9583711d0a7",
   "metadata": {},
   "source": [
    "Also, we can parse the .mtd files as a list using the function `parse_mtd_file()`."
   ]
  },
  {
   "cell_type": "code",
   "execution_count": 33,
   "id": "df4da1a7-fcb2-4c59-b790-1bc9e3b128f3",
   "metadata": {},
   "outputs": [
    {
     "data": {
      "text/plain": [
       "[{'meter_id': '14',\n",
       "  'description': 'BLOCK1:ZONE2 GENERAL LIGHTING:Lights Electricity Energy [J]',\n",
       "  'on_meters': ['Electricity:Facility [J]',\n",
       "   'Electricity:Building [J]',\n",
       "   'Electricity:Zone:BLOCK1:ZONE2 [J]',\n",
       "   'Electricity:SpaceType:GENERAL [J]',\n",
       "   'InteriorLights:Electricity [J]',\n",
       "   'InteriorLights:Electricity:Zone:BLOCK1:ZONE2 [J]',\n",
       "   'InteriorLights:Electricity:SpaceType:GENERAL [J]',\n",
       "   'ELECTRIC EQUIPMENT#Block1:Zone2#GeneralLights:InteriorLights:Electricity [J]',\n",
       "   'ELECTRIC EQUIPMENT#Block1:Zone2#GeneralLights:InteriorLights:Electricity:Zone:BLOCK1:ZONE2 [J]',\n",
       "   'ELECTRIC EQUIPMENT#Block1:Zone2#GeneralLights:InteriorLights:Electricity:SpaceType:GENERAL [J]']},\n",
       " {'meter_id': '135',\n",
       "  'description': 'BLOCK1:ZONE1 GENERAL LIGHTING:Lights Electricity Energy [J]',\n",
       "  'on_meters': ['Electricity:Facility [J]',\n",
       "   'Electricity:Building [J]',\n",
       "   'Electricity:Zone:BLOCK1:ZONE1 [J]',\n",
       "   'Electricity:SpaceType:GENERAL [J]',\n",
       "   'InteriorLights:Electricity [J]',\n",
       "   'InteriorLights:Electricity:Zone:BLOCK1:ZONE1 [J]',\n",
       "   'InteriorLights:Electricity:SpaceType:GENERAL [J]',\n",
       "   'ELECTRIC EQUIPMENT#Block1:Zone1#GeneralLights:InteriorLights:Electricity [J]',\n",
       "   'ELECTRIC EQUIPMENT#Block1:Zone1#GeneralLights:InteriorLights:Electricity:Zone:BLOCK1:ZONE1 [J]',\n",
       "   'ELECTRIC EQUIPMENT#Block1:Zone1#GeneralLights:InteriorLights:Electricity:SpaceType:GENERAL [J]']}]"
      ]
     },
     "execution_count": 33,
     "metadata": {},
     "output_type": "execute_result"
    }
   ],
   "source": [
    "mtd_list = parse_mtd_file()\n",
    "mtd_list[0:2]"
   ]
  },
  {
   "cell_type": "markdown",
   "id": "76fa398d-15a0-4504-9f11-468bfd7c094f",
   "metadata": {},
   "source": [
    "Therefore, we have 2 DataFrames, one for the Output:Meter and another for the Output:Variable objects. Next step is setting the outputs for the parametric simulation. To do so, we'll need to pass the DataFrames into the method `set_outputs_for_simulation(df_output_meter, df_output_variable)`. If you have some knowledge about the python package besos, you might think of these dataframes as if each row was a `MeterReader` or `VariableReader` instances respectively for the Output:Meter and Output:Variable dataframes, and the arguments in these were the specified in the columns. The `MeterReader` class takes the arguments `key_name`, `frequency`, `name` and `func`, while `VariableReader` class takes the arguments  `key_value`, `variable_name`, `frequency`, `name` and `func`."
   ]
  },
  {
   "cell_type": "code",
   "execution_count": 34,
   "id": "2b133883-a0be-42a9-bc04-0e6054337b9b",
   "metadata": {},
   "outputs": [
    {
     "data": {
      "text/plain": [
       "['key_name', 'frequency']"
      ]
     },
     "execution_count": 34,
     "metadata": {},
     "output_type": "execute_result"
    }
   ],
   "source": [
    "[i for i in df_output_meters_testsim.columns]"
   ]
  },
  {
   "cell_type": "code",
   "execution_count": 35,
   "id": "c43b0496-1d36-4a0e-b2dc-9f77e41627ff",
   "metadata": {},
   "outputs": [
    {
     "data": {
      "text/plain": [
       "['key_value', 'variable_name', 'frequency']"
      ]
     },
     "execution_count": 35,
     "metadata": {},
     "output_type": "execute_result"
    }
   ],
   "source": [
    "[i for i in df_output_variables_testsim.columns]"
   ]
  },
  {
   "cell_type": "markdown",
   "id": "a03bd526-8bdf-4cce-af62-73ac36e9d0c3",
   "metadata": {},
   "source": [
    "If you take a look at the columns of the dataframes above, you can see the names are the arguments in the `MeterReader` and `VariableReader` classes, and only `name` and `func` are missing. That means, you can add these columns to input the `name` and `func` arguments as desired. In case of the Output:Meter dataframe, we won't add the `name` and `func` columns, which means the name will be the `key_name` and hourly results will be aggregated using the pd.Series.sum() function. However, in case of the Output:Variable dataframe, we will specify these: we want the hourly values rather than the aggregation, therefore we will pass the name bound to the function `return_time_series`, and we will add '_time series' as a suffix to the `variable_name` column. We will also remove the outputs for BLOCK1:ZONE2, which are the rows 2 and 4."
   ]
  },
  {
   "cell_type": "code",
   "execution_count": 36,
   "id": "0e8fecdc-4625-4d95-a87d-67071884963b",
   "metadata": {},
   "outputs": [
    {
     "data": {
      "text/html": [
       "<div>\n",
       "<style scoped>\n",
       "    .dataframe tbody tr th:only-of-type {\n",
       "        vertical-align: middle;\n",
       "    }\n",
       "\n",
       "    .dataframe tbody tr th {\n",
       "        vertical-align: top;\n",
       "    }\n",
       "\n",
       "    .dataframe thead th {\n",
       "        text-align: right;\n",
       "    }\n",
       "</style>\n",
       "<table border=\"1\" class=\"dataframe\">\n",
       "  <thead>\n",
       "    <tr style=\"text-align: right;\">\n",
       "      <th></th>\n",
       "      <th>key_value</th>\n",
       "      <th>variable_name</th>\n",
       "      <th>frequency</th>\n",
       "      <th>func</th>\n",
       "      <th>name</th>\n",
       "    </tr>\n",
       "  </thead>\n",
       "  <tbody>\n",
       "    <tr>\n",
       "      <th>0</th>\n",
       "      <td>EMS</td>\n",
       "      <td>Adaptive Cooling Setpoint Temperature_No Toler...</td>\n",
       "      <td>Hourly</td>\n",
       "      <td>&lt;function return_time_series at 0x00000147791E...</td>\n",
       "      <td>Adaptive Cooling Setpoint Temperature_No Toler...</td>\n",
       "    </tr>\n",
       "    <tr>\n",
       "      <th>1</th>\n",
       "      <td>EMS</td>\n",
       "      <td>Adaptive Heating Setpoint Temperature_No Toler...</td>\n",
       "      <td>Hourly</td>\n",
       "      <td>&lt;function return_time_series at 0x00000147791E...</td>\n",
       "      <td>Adaptive Heating Setpoint Temperature_No Toler...</td>\n",
       "    </tr>\n",
       "    <tr>\n",
       "      <th>3</th>\n",
       "      <td>BLOCK1:ZONE1</td>\n",
       "      <td>Zone Operative Temperature</td>\n",
       "      <td>Hourly</td>\n",
       "      <td>&lt;function return_time_series at 0x00000147791E...</td>\n",
       "      <td>Zone Operative Temperature_time series</td>\n",
       "    </tr>\n",
       "    <tr>\n",
       "      <th>5</th>\n",
       "      <td>PEOPLE BLOCK1:ZONE1</td>\n",
       "      <td>Zone Thermal Comfort ASHRAE 55 Adaptive Model ...</td>\n",
       "      <td>Hourly</td>\n",
       "      <td>&lt;function return_time_series at 0x00000147791E...</td>\n",
       "      <td>Zone Thermal Comfort ASHRAE 55 Adaptive Model ...</td>\n",
       "    </tr>\n",
       "  </tbody>\n",
       "</table>\n",
       "</div>"
      ],
      "text/plain": [
       "             key_value                                      variable_name  \\\n",
       "0                  EMS  Adaptive Cooling Setpoint Temperature_No Toler...   \n",
       "1                  EMS  Adaptive Heating Setpoint Temperature_No Toler...   \n",
       "3         BLOCK1:ZONE1                         Zone Operative Temperature   \n",
       "5  PEOPLE BLOCK1:ZONE1  Zone Thermal Comfort ASHRAE 55 Adaptive Model ...   \n",
       "\n",
       "  frequency                                               func  \\\n",
       "0    Hourly  <function return_time_series at 0x00000147791E...   \n",
       "1    Hourly  <function return_time_series at 0x00000147791E...   \n",
       "3    Hourly  <function return_time_series at 0x00000147791E...   \n",
       "5    Hourly  <function return_time_series at 0x00000147791E...   \n",
       "\n",
       "                                                name  \n",
       "0  Adaptive Cooling Setpoint Temperature_No Toler...  \n",
       "1  Adaptive Heating Setpoint Temperature_No Toler...  \n",
       "3             Zone Operative Temperature_time series  \n",
       "5  Zone Thermal Comfort ASHRAE 55 Adaptive Model ...  "
      ]
     },
     "execution_count": 36,
     "metadata": {},
     "output_type": "execute_result"
    }
   ],
   "source": [
    "df_output_variables_testsim['func'] = return_time_series\n",
    "df_output_variables_testsim['name'] = df_output_variables_testsim['variable_name'] + '_time series'\n",
    "df_output_variables_testsim = df_output_variables_testsim.drop(index=[2, 4])\n",
    "df_output_variables_testsim"
   ]
  },
  {
   "cell_type": "markdown",
   "id": "cec83d60-60bb-4a48-928f-336500ad45e4",
   "metadata": {},
   "source": [
    "Finally, let's set the outputs for parametric simulation and optimisation:"
   ]
  },
  {
   "cell_type": "code",
   "execution_count": 37,
   "id": "9000c1d4-5d65-405b-a139-3be098103846",
   "metadata": {},
   "outputs": [],
   "source": [
    "parametric.set_outputs_for_simulation(\n",
    "    df_output_meter=df_output_meters_testsim,\n",
    "    df_output_variable=df_output_variables_testsim,\n",
    ")"
   ]
  },
  {
   "cell_type": "markdown",
   "id": "ce76ee7a-3816-4a54-a588-8df3fe0cd6a6",
   "metadata": {},
   "source": [
    "If you want to inspect the `VariableReader` and `MeterReader` objects, you can see the internal variable `sim_outputs`:"
   ]
  },
  {
   "cell_type": "code",
   "execution_count": 38,
   "id": "9f4abcee-ae3a-4c41-a338-2ada4419da15",
   "metadata": {},
   "outputs": [
    {
     "data": {
      "text/plain": [
       "[MeterReader(name='Heating:Electricity', class_name='Output:Meter', frequency='Hourly', func=<function sum_values at 0x00000147117728B0>, key_name='Heating:Electricity'),\n",
       " MeterReader(name='Cooling:Electricity', class_name='Output:Meter', frequency='Hourly', func=<function sum_values at 0x00000147117728B0>, key_name='Cooling:Electricity'),\n",
       " MeterReader(name='Electricity:HVAC', class_name='Output:Meter', frequency='Hourly', func=<function sum_values at 0x00000147117728B0>, key_name='Electricity:HVAC'),\n",
       " VariableReader(name='Adaptive Cooling Setpoint Temperature_No Tolerance_time series', class_name='Output:Variable', frequency='Hourly', func=<function return_time_series at 0x00000147791E14C0>, key_value='EMS', variable_name='Adaptive Cooling Setpoint Temperature_No Tolerance'),\n",
       " VariableReader(name='Adaptive Heating Setpoint Temperature_No Tolerance_time series', class_name='Output:Variable', frequency='Hourly', func=<function return_time_series at 0x00000147791E14C0>, key_value='EMS', variable_name='Adaptive Heating Setpoint Temperature_No Tolerance'),\n",
       " VariableReader(name='Zone Operative Temperature_time series', class_name='Output:Variable', frequency='Hourly', func=<function return_time_series at 0x00000147791E14C0>, key_value='BLOCK1:ZONE1', variable_name='Zone Operative Temperature'),\n",
       " VariableReader(name='Zone Thermal Comfort ASHRAE 55 Adaptive Model Running Average Outdoor Air Temperature_time series', class_name='Output:Variable', frequency='Hourly', func=<function return_time_series at 0x00000147791E14C0>, key_value='PEOPLE BLOCK1:ZONE1', variable_name='Zone Thermal Comfort ASHRAE 55 Adaptive Model Running Average Outdoor Air Temperature')]"
      ]
     },
     "execution_count": 38,
     "metadata": {},
     "output_type": "execute_result"
    }
   ],
   "source": [
    "parametric.sim_outputs"
   ]
  },
  {
   "cell_type": "markdown",
   "id": "b5dd98bb-6b1d-4b3c-b762-3c9a0c015f63",
   "metadata": {},
   "source": [
    "## Setting the parameters"
   ]
  },
  {
   "cell_type": "markdown",
   "id": "4804beed-52e5-432a-a999-685c222d668d",
   "metadata": {},
   "source": [
    "At the top of the script, when you instantiated the class `OptimParamSimulation`, you already specified which type of parameters you were going to use. Now, the parameters we're about to set, must match the `parameters_type` argument. At this point, you may not know which parameters you can use, so you can call the method `get_available_parameters()`, which will return a list of available parameters:"
   ]
  },
  {
   "cell_type": "code",
   "execution_count": 39,
   "id": "004029fa-ff72-4f43-a9c3-e004757463e4",
   "metadata": {},
   "outputs": [
    {
     "data": {
      "text/plain": [
       "['CustAST_ACSTaul',\n",
       " 'CustAST_ACSTall',\n",
       " 'CustAST_AHSTaul',\n",
       " 'CustAST_AHSTall',\n",
       " 'CustAST_ASTaul',\n",
       " 'CustAST_ASTall',\n",
       " 'CustAST_m',\n",
       " 'CustAST_n',\n",
       " 'CustAST_ACSToffset',\n",
       " 'CustAST_AHSToffset',\n",
       " 'CustAST_ASToffset']"
      ]
     },
     "execution_count": 39,
     "metadata": {},
     "output_type": "execute_result"
    }
   ],
   "source": [
    "available_parameters = parametric.get_available_parameters()\n",
    "available_parameters"
   ]
  },
  {
   "cell_type": "markdown",
   "id": "612a4d67",
   "metadata": {},
   "source": [
    "If you don't know what are these, please refer to the [documentation](https://accim.readthedocs.io/en/master/4_detailed%20use.html)."
   ]
  },
  {
   "cell_type": "markdown",
   "id": "5d240ace",
   "metadata": {},
   "source": [
    "Tu use the custom model, the following parameters must be defined, either by including them in the parameters to vary, or manually defined:"
   ]
  },
  {
   "cell_type": "code",
   "execution_count": 40,
   "id": "4dd9e89d",
   "metadata": {},
   "outputs": [
    {
     "data": {
      "text/plain": [
       "['CustAST_ACSTaul',\n",
       " 'CustAST_ACSTall',\n",
       " 'CustAST_AHSTaul',\n",
       " 'CustAST_AHSTall',\n",
       " 'CustAST_m',\n",
       " 'CustAST_n',\n",
       " 'CustAST_ACSToffset',\n",
       " 'CustAST_AHSToffset']"
      ]
     },
     "execution_count": 40,
     "metadata": {},
     "output_type": "execute_result"
    }
   ],
   "source": [
    "[i for i in available_parameters if '_AST' not in i]"
   ]
  },
  {
   "cell_type": "markdown",
   "id": "8bef627e",
   "metadata": {},
   "source": [
    "The remaining parameters, which are:"
   ]
  },
  {
   "cell_type": "code",
   "execution_count": 41,
   "id": "8aefe530",
   "metadata": {},
   "outputs": [
    {
     "data": {
      "text/plain": [
       "['CustAST_ASTaul', 'CustAST_ASTall', 'CustAST_ASToffset']"
      ]
     },
     "execution_count": 41,
     "metadata": {},
     "output_type": "execute_result"
    }
   ],
   "source": [
    "[i for i in available_parameters if '_AST' in i]"
   ]
  },
  {
   "cell_type": "markdown",
   "id": "be7ad8b2",
   "metadata": {},
   "source": [
    "are used to set symmetrical comfort thresholds in case of 'CustAST_ASToffset' (i.e. a value of 3 means +3 is used as ACSToffset and -3 as AHSToffset), or in case of 'CustAST_ASTaul' and 'CustAST_ASTall', to set the same value to the applicability upper or lower limit for heating and cooling purposes (i.e. a value of 15 for CustAST_ASTall means 15 is used for CustAST_ACSTaul and CustAST_AHSTaul)"
   ]
  },
  {
   "cell_type": "markdown",
   "id": "45886126-30b8-4e53-b8c0-06135e6a3c38",
   "metadata": {},
   "source": [
    "Using the 'accim custom model' type, the values can be either a list of options or a range of values. Now, let's set the parameters using the method `set_parameters(accis_params_dict, additional_params)`. In this method, we set the parameters related to accim using the argument `accis_params_dict`, which takes a dictionary following the pattern {'parameter name': [1, 2, 3, etc]} in case of list of options, or {'parameter name': (min_value, max_value)} in case of the range of values. We can also add some other parameters not related to accim in the argument `additional_params`, which takes a list of parameters as if these were input straight to the besos EPProblem class."
   ]
  },
  {
   "cell_type": "markdown",
   "id": "72f11957",
   "metadata": {},
   "source": [
    "### Example 1"
   ]
  },
  {
   "cell_type": "markdown",
   "id": "4c40cf7e",
   "metadata": {},
   "source": [
    "An example using ranges, could be:"
   ]
  },
  {
   "cell_type": "code",
   "execution_count": 42,
   "id": "8c46d30f",
   "metadata": {},
   "outputs": [
    {
     "data": {
      "text/html": [
       "\n",
       "                <audio  controls=\"controls\" autoplay=\"autoplay\">\n",
       "                    <source src=\"data:audio/wav;base64,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\" type=\"audio/wav\" />\n",
       "                    Your browser does not support the audio element.\n",
       "                </audio>\n",
       "              "
      ],
      "text/plain": [
       "<IPython.lib.display.Audio object>"
      ]
     },
     "execution_count": 42,
     "metadata": {},
     "output_type": "execute_result"
    }
   ],
   "source": [
    "from IPython.lib.display import Audio\n",
    "import numpy as np\n",
    "\n",
    "framerate = 4410\n",
    "play_time_seconds = 3\n",
    "\n",
    "t = np.linspace(0, play_time_seconds, framerate*play_time_seconds)\n",
    "audio_data = np.sin(2*np.pi*300*t) + np.sin(2*np.pi*240*t)\n",
    "Audio(audio_data, rate=framerate, autoplay=True)"
   ]
  },
  {
   "cell_type": "code",
   "execution_count": 43,
   "id": "8741dd19",
   "metadata": {},
   "outputs": [
    {
     "name": "stderr",
     "output_type": "stream",
     "text": [
      "C:\\users\\sanga\\appdata\\local\\programs\\python\\python39\\lib\\site-packages\\besos\\parameters.py:441: UserWarning: This parameter's descriptor is already named CustAST_m.The name used as an input (CustAST_m) will be discarded.\n",
      "  warnings.warn(\n",
      "C:\\users\\sanga\\appdata\\local\\programs\\python\\python39\\lib\\site-packages\\besos\\parameters.py:441: UserWarning: This parameter's descriptor is already named CustAST_n.The name used as an input (CustAST_n) will be discarded.\n",
      "  warnings.warn(\n",
      "C:\\users\\sanga\\appdata\\local\\programs\\python\\python39\\lib\\site-packages\\besos\\parameters.py:441: UserWarning: This parameter's descriptor is already named CustAST_ASToffset.The name used as an input (CustAST_ASToffset) will be discarded.\n",
      "  warnings.warn(\n",
      "C:\\users\\sanga\\appdata\\local\\programs\\python\\python39\\lib\\site-packages\\besos\\parameters.py:441: UserWarning: This parameter's descriptor is already named CustAST_ASTall.The name used as an input (CustAST_ASTall) will be discarded.\n",
      "  warnings.warn(\n",
      "C:\\users\\sanga\\appdata\\local\\programs\\python\\python39\\lib\\site-packages\\besos\\parameters.py:441: UserWarning: This parameter's descriptor is already named CustAST_ASTaul.The name used as an input (CustAST_ASTaul) will be discarded.\n",
      "  warnings.warn(\n"
     ]
    }
   ],
   "source": [
    "accis_parameters = {\n",
    "    'CustAST_m': (0.01, 0.99),\n",
    "    'CustAST_n': (5, 23),\n",
    "    'CustAST_ASToffset': (2, 4),\n",
    "    'CustAST_ASTall': (10, 15),\n",
    "    'CustAST_ASTaul': (30, 35),\n",
    "}\n",
    "parametric.set_parameters(accis_params_dict=accis_parameters)"
   ]
  },
  {
   "cell_type": "markdown",
   "id": "8094968a",
   "metadata": {},
   "source": [
    "In this case, all parameters have been defined. Otherwise, we would be requested to continue with default values or to input them. Let's see Example 2."
   ]
  },
  {
   "cell_type": "markdown",
   "id": "ae684824",
   "metadata": {},
   "source": [
    "### Example 3"
   ]
  },
  {
   "cell_type": "markdown",
   "id": "41850c3a",
   "metadata": {},
   "source": [
    "A different option might be using m, n and ASToffset as parameters, and setting ASTall and ASTaul to some specific value so that these don't vary."
   ]
  },
  {
   "cell_type": "code",
   "execution_count": null,
   "id": "0d3e6bc3",
   "metadata": {},
   "outputs": [
    {
     "name": "stdout",
     "output_type": "stream",
     "text": [
      "The following parameters are not included in the parameters to be set, and have not been defined yet (i.e. the value is 0): ['ACSTaul', 'ACSTall', 'AHSTaul', 'AHSTall']\n",
      "If you want, default values can be set for these parameters. The default values are:\n",
      "ACSTaul: 33.5\n",
      "ACSTall: 33.5\n",
      "AHSTaul: 10\n",
      "AHSTall: 10\n"
     ]
    }
   ],
   "source": [
    "accis_parameters = {\n",
    "    'CustAST_m': (0.01, 0.99),\n",
    "    'CustAST_n': (5, 23),\n",
    "    'CustAST_ASToffset': (2, 4),\n",
    "}\n",
    "parametric.set_parameters(accis_params_dict=accis_parameters)"
   ]
  },
  {
   "cell_type": "code",
   "execution_count": null,
   "id": "b4eb43dd-879b-4175-ab56-e9c04ea342af",
   "metadata": {},
   "outputs": [],
   "source": []
  },
  {
   "cell_type": "markdown",
   "id": "d5ecdd37",
   "metadata": {},
   "source": [
    "Let's take a look at the values that the arguments currently have:"
   ]
  },
  {
   "cell_type": "code",
   "execution_count": null,
   "id": "c4e8c450",
   "metadata": {},
   "outputs": [],
   "source": [
    "args = get_accim_args(building)\n",
    "args['CustAST']"
   ]
  },
  {
   "cell_type": "markdown",
   "id": "72f13367",
   "metadata": {},
   "source": [
    "As you can see, 'm', 'n', 'ACSToffset' and 'AHSToffset' have the value 0, because these are the arguments included in the parameters, and their values will vary depending on the sample we specify later, and the values for the applicabiliy upper and lower limits have the values we just input."
   ]
  },
  {
   "cell_type": "markdown",
   "id": "c1c8867d",
   "metadata": {},
   "source": [
    "### Example 3"
   ]
  },
  {
   "cell_type": "markdown",
   "id": "01a19235",
   "metadata": {},
   "source": [
    "Now, let's use a list of options instead of range of values."
   ]
  },
  {
   "cell_type": "code",
   "execution_count": null,
   "id": "68be9493",
   "metadata": {},
   "outputs": [],
   "source": [
    "accis_parameters = {\n",
    "    'CustAST_m': [0, 0.3, 0.6],\n",
    "    'CustAST_n': [10, 23],\n",
    "}\n",
    "parametric.set_parameters(accis_params_dict=accis_parameters)"
   ]
  },
  {
   "cell_type": "markdown",
   "id": "d9e4243c",
   "metadata": {},
   "source": [
    "Again, let's take a look at the arguments:"
   ]
  },
  {
   "cell_type": "code",
   "execution_count": null,
   "id": "3e1584dc",
   "metadata": {},
   "outputs": [],
   "source": [
    "args = get_accim_args(building)\n",
    "args['CustAST']"
   ]
  },
  {
   "cell_type": "markdown",
   "id": "e34b063a",
   "metadata": {},
   "source": [
    "So, let's continue with Example 2, dropping CustAST_ASToffset and using default values for the non-defined arguments:"
   ]
  },
  {
   "cell_type": "code",
   "execution_count": null,
   "id": "2f31e1ba",
   "metadata": {},
   "outputs": [],
   "source": [
    "accis_parameters = {\n",
    "    'CustAST_m': (0.01, 0.99),\n",
    "    'CustAST_n': (5, 23),\n",
    "}\n",
    "parametric.set_parameters(accis_params_dict=accis_parameters)"
   ]
  },
  {
   "cell_type": "markdown",
   "id": "b2e1e8a5-4af9-4d23-82b9-af45b49ba26d",
   "metadata": {},
   "source": [
    "If you want to inspect the `Parameter` objects, you can see the internal variable `parameters_list`:"
   ]
  },
  {
   "cell_type": "code",
   "execution_count": null,
   "id": "4b72a5b5-417f-410b-b30a-bf6550dbb364",
   "metadata": {},
   "outputs": [],
   "source": [
    "parametric.parameters_list"
   ]
  },
  {
   "cell_type": "markdown",
   "id": "16b3b170-683d-49b3-9d6b-4d3772245647",
   "metadata": {},
   "source": [
    "## Running the parametric simulation"
   ]
  },
  {
   "cell_type": "markdown",
   "id": "e36956e3-781b-4fe1-980f-ad9fbca21fba",
   "metadata": {},
   "source": [
    "### Setting the problem"
   ]
  },
  {
   "cell_type": "markdown",
   "id": "60150ec0-8c63-4097-bd4f-c8263dc22d47",
   "metadata": {},
   "source": [
    "First, let's set the problem. To do so, use the `set_problem()` method. In case of the parametric simulation you don't need to input any argument. However, in case of the optimisation, you must input the arguments `minimize_outputs`, `constraints` and `constraint_bounds`, similarly as you would do in the besos `EPProblem` class."
   ]
  },
  {
   "cell_type": "code",
   "execution_count": null,
   "id": "cd2c3ebc-99ea-46a2-94cf-37b3ddd77630",
   "metadata": {},
   "outputs": [],
   "source": [
    "parametric.set_problem()"
   ]
  },
  {
   "cell_type": "markdown",
   "id": "cc1eac32-9784-441f-98e3-0382053ba14d",
   "metadata": {},
   "source": [
    "Again, you can inspect the `EPProblem` class instance in the internal variable `problem`:"
   ]
  },
  {
   "cell_type": "code",
   "execution_count": null,
   "id": "a4f80f41-febc-47e0-b610-8c07893a5c20",
   "metadata": {},
   "outputs": [],
   "source": [
    "parametric.problem"
   ]
  },
  {
   "cell_type": "markdown",
   "id": "901b319a-2ef8-4c7c-9fea-7512b81807f0",
   "metadata": {},
   "source": [
    "### Sampling the simulation runs"
   ]
  },
  {
   "cell_type": "markdown",
   "id": "cecbc846-7227-498a-b0f8-f8795269df25",
   "metadata": {},
   "source": [
    "The way to inform besos of the variations and permutations it must carry out in the parametric analysis is by means of a DataFrame, which must contain a column per `Parameter`, in which values are specified. There are multiple ways to do this DataFrame. For instance, we could make a dataframe from scratch:"
   ]
  },
  {
   "cell_type": "code",
   "execution_count": null,
   "id": "30f78385-766d-47f2-b394-c922f8403b30",
   "metadata": {},
   "outputs": [],
   "source": [
    "import pandas as pd\n",
    "param_dict = {\n",
    "    'CustAST_m': [0.1, 0.6], \n",
    "    'CustAST_n': [22, 8], \n",
    "    'CustAST_ASToffset': [2.5, 4],\n",
    "    'CustAST_ASTall': [10, 10],\n",
    "    'CustAST_ASTaul': [35, 35],\n",
    "}\n",
    "input_param_df = pd.DataFrame(data=param_dict)\n",
    "input_param_df"
   ]
  },
  {
   "cell_type": "markdown",
   "id": "242f6e72-de2e-4fa7-8265-f9d154e198f9",
   "metadata": {},
   "source": [
    "We could input that df, which would result in 2 simulations. But now, imagine we want to make all possible combinations from the values we just did from scratch. We could use the function `make_all_combinations(parameters_values_dict)`. The argument `parameters_values_dict` must be a dictionary in the format {'parameter name': list_of_values}, such as the previouly defined param_dict, so let's input it. Let's see the possibilities:"
   ]
  },
  {
   "cell_type": "code",
   "execution_count": null,
   "id": "0f6fcf93-64d2-4a8f-9740-0e329c1dccfd",
   "metadata": {},
   "outputs": [],
   "source": [
    "all_combinations = make_all_combinations(param_dict)\n",
    "all_combinations"
   ]
  },
  {
   "cell_type": "markdown",
   "id": "9a525ce0-8b59-48ca-a160-59ff4781a8bb",
   "metadata": {},
   "source": [
    "Also, we can use the sampling functions from besos (`full_factorial` and `lhs`), which have been wrapped in the methods `sampling_full_factorial(level)` and `sampling_lhs(num_samples)`. After calling these, the samples are saved in the internal variable `parameters_values_df`. Let's see some examples:"
   ]
  },
  {
   "cell_type": "code",
   "execution_count": null,
   "id": "28d1b8c4-33bb-4f00-a8b3-6e6b34f5b71c",
   "metadata": {},
   "outputs": [],
   "source": [
    "parametric.sampling_lhs(num_samples=3)\n",
    "parametric.parameters_values_df"
   ]
  },
  {
   "cell_type": "code",
   "execution_count": null,
   "id": "e617c6d0-bf66-40e7-a9f2-caa9cead6dff",
   "metadata": {},
   "outputs": [],
   "source": [
    "parametric.sampling_full_factorial(level=3)\n",
    "parametric.parameters_values_df"
   ]
  },
  {
   "cell_type": "markdown",
   "id": "c0c976c6-eed1-4727-a274-975585466130",
   "metadata": {},
   "source": [
    "### Running the simulations"
   ]
  },
  {
   "cell_type": "markdown",
   "id": "302f66b3-55ba-468b-91bb-d0c7a53f4387",
   "metadata": {},
   "source": [
    "Now, we're ready to run the simulations, by means of the `run_parametric_simulation(epws, out_dir, df, processes)` method. After calling the method, the outputs (a DataFrame) is saved in the internal variable `outputs_param_simulation`. It is based on the use of the `EvaluatorEP` class, `df_apply` method. We want to run the parametric simulations with both Sydney and Seville climate files, therefore the filenames are input in a list in the `epws` argument. The simulation outputs will be saved in a directory named 'notebook_temp_dir'. The values for the parameters will be driven by the internal variable `parameters_values_df`, as input in the `df` argument."
   ]
  },
  {
   "cell_type": "code",
   "execution_count": null,
   "id": "5e5a19ab-d2a3-44ac-9d2d-01672ac8db08",
   "metadata": {},
   "outputs": [],
   "source": [
    "parametric.run_parametric_simulation(\n",
    "    epws=['Sydney.epw', 'Seville.epw'],\n",
    "    out_dir='notebook_temp_dir',\n",
    "    df=parametric.parameters_values_df,\n",
    "    processes=4, # The number of CPUs to be used. Default is 2.\n",
    "    #keep_input=True, # To keep the input values of parameters, as entered in df argument. Default is True.\n",
    "    #keep_dirs=True # To keep the simulation outputs. Default is True.\n",
    ")"
   ]
  },
  {
   "cell_type": "markdown",
   "id": "8f768acb-e813-4d4d-91d7-7b96a98ecaad",
   "metadata": {},
   "source": [
    "Let's take a look at the simulation results"
   ]
  },
  {
   "cell_type": "code",
   "execution_count": null,
   "id": "9461f205-acd1-4532-b691-9dd7d9778873",
   "metadata": {},
   "outputs": [],
   "source": [
    "parametric.outputs_param_simulation"
   ]
  },
  {
   "cell_type": "markdown",
   "id": "efa37b3d-45f9-4bbd-b2c2-3f36b743ee0b",
   "metadata": {},
   "source": [
    "We can see the columns are the following:"
   ]
  },
  {
   "cell_type": "markdown",
   "id": "907ca41e-e151-4e90-a37b-ed0b596e1852",
   "metadata": {},
   "source": [
    "- the parameters, which are:"
   ]
  },
  {
   "cell_type": "code",
   "execution_count": null,
   "id": "c733f7a2-fd24-4b14-9ab1-98075d261401",
   "metadata": {},
   "outputs": [],
   "source": [
    "[i.value_descriptors[0].name for i in parametric.parameters_list]"
   ]
  },
  {
   "cell_type": "markdown",
   "id": "c30f391f-08a0-488e-8dd3-67aa9189790c",
   "metadata": {},
   "source": [
    "- the outputs, which are:"
   ]
  },
  {
   "cell_type": "code",
   "execution_count": null,
   "id": "405d7408-599d-4493-a497-5bfe686db381",
   "metadata": {},
   "outputs": [],
   "source": [
    "[i.name for i in parametric.sim_outputs]"
   ]
  },
  {
   "cell_type": "markdown",
   "id": "cf172d66-6883-481c-9779-a3382616924e",
   "metadata": {},
   "source": [
    "- the path to the output files for each simulation, in the column 'out_dir'\n",
    "- the epw for each simulation, in the column 'epw'"
   ]
  },
  {
   "cell_type": "markdown",
   "id": "e2f6302e-8105-482b-a984-c4bc03ac8086",
   "metadata": {},
   "source": [
    "### Visualising the results"
   ]
  },
  {
   "cell_type": "markdown",
   "id": "8de1cbd1-8cf0-41c4-b394-6cf8481f2edd",
   "metadata": {},
   "source": [
    "#### Aggregated columns"
   ]
  },
  {
   "cell_type": "markdown",
   "id": "d7b2ad11-4f2b-46d0-8a59-3e7e842b2ae9",
   "metadata": {},
   "source": [
    "At this point, if you have some knowledge of pandas and some package to plot the data (e.g. matplotlib or seaborn), you can carry out your own analysis and visualization. We're going to do some example below."
   ]
  },
  {
   "cell_type": "code",
   "execution_count": null,
   "id": "55517325",
   "metadata": {},
   "outputs": [],
   "source": [
    "#import sys\n",
    "#!{sys.executable} -m pip install matplotlib==3.7.0"
   ]
  },
  {
   "cell_type": "code",
   "execution_count": null,
   "id": "3b08c431-5c10-47bc-b8d9-bbed174fb35c",
   "metadata": {},
   "outputs": [],
   "source": [
    "sns.scatterplot(\n",
    "    data=parametric.outputs_param_simulation,\n",
    "    x='Heating:Electricity',\n",
    "    y='Cooling:Electricity',\n",
    "    hue='CustAST_m',\n",
    "    style='CustAST_n'\n",
    ")"
   ]
  },
  {
   "cell_type": "markdown",
   "id": "710213aa-c8d2-4565-b121-a0db80753b52",
   "metadata": {},
   "source": [
    "#### Time series columns"
   ]
  },
  {
   "cell_type": "markdown",
   "id": "d66994c0-7514-456f-8d9c-2c3acce6e656",
   "metadata": {},
   "source": [
    "If you requested some output to be reported in time series, you can get a dataframe containing the hourly values using the method `get_hourly_df()`. This dataframe is saved in the internal variable `outputs_param_simulation_hourly`:"
   ]
  },
  {
   "cell_type": "code",
   "execution_count": null,
   "id": "74848927-55f4-4e27-ae75-bf66baf49ba7",
   "metadata": {},
   "outputs": [],
   "source": [
    "parametric.get_hourly_df()\n",
    "parametric.outputs_param_simulation_hourly"
   ]
  },
  {
   "cell_type": "markdown",
   "id": "dbac2c53-1b49-43a5-b8c7-02877ec8b4aa",
   "metadata": {},
   "source": [
    "Let's prepare the `outputs_param_simulation_hourly` df for plotting:"
   ]
  },
  {
   "cell_type": "code",
   "execution_count": null,
   "id": "921324d1-f102-4bd3-b43e-340e435bdca0",
   "metadata": {},
   "outputs": [],
   "source": [
    "#Let's make a copy of the dataframe to not to modify the original one\n",
    "df = parametric.outputs_param_simulation_hourly.copy()\n",
    "\n",
    "# The name of the column for the Running mean outdoor temperature is very long, so let's save it in the variable rmot:\n",
    "rmot = [i for i in df.columns if 'Running Average' in i][0]\n",
    "\n",
    "#Let's remove the columns where value is the same for all rows\n",
    "for c in df.columns:\n",
    "    if len(set(df[c])) == 1:\n",
    "        df = df.drop(columns=[c])\n",
    "#Now let's remove the hour and datetime columns, since will\n",
    "df = df.drop(columns=['hour'])\n",
    "\n",
    "# Now let's reshape the df for plotting purposes\n",
    "df = df.melt(id_vars=['datetime', 'CustAST_m', 'CustAST_n','epw', rmot])\n"
   ]
  },
  {
   "cell_type": "markdown",
   "id": "a4aa2a50-88ee-4c66-ab3a-48a26eaec9c1",
   "metadata": {},
   "source": [
    "Firstly, we're going to plot the hourly temperatures to see the slope of the comfort model, and check all hours are within thermal comfort limits (since we applied adaptive setpoints)"
   ]
  },
  {
   "cell_type": "code",
   "execution_count": null,
   "id": "2213ebd0-2f3c-4e74-bd06-117ec72c3108",
   "metadata": {},
   "outputs": [],
   "source": [
    "g = sns.FacetGrid(\n",
    "    data=df[df['epw'].str.contains('Sydney')],\n",
    "    row='CustAST_m',\n",
    "    col='CustAST_n'\n",
    ")\n",
    "g.map_dataframe(\n",
    "    sns.scatterplot,\n",
    "    x=rmot,\n",
    "    y='value',\n",
    "    hue='variable',\n",
    "    s=1,\n",
    "    #alpha=0.5\n",
    ")\n",
    "g.set_axis_labels('RMOT (°C)', 'Indoor Operative Temperature (°C)')\n",
    "g.add_legend(loc='upper center', bbox_to_anchor=(0.5, 0))\n",
    "\n",
    "for lh in g._legend.legend_handles:\n",
    "    lh.set_markersize(5)\n",
    "plt.tight_layout()\n"
   ]
  },
  {
   "cell_type": "markdown",
   "id": "14dfbd82-2e4f-45b6-96ca-da72265e117c",
   "metadata": {},
   "source": [
    "Now, we're going to plot time on x-axis and change the plot type to lineplot, to see the variarion of the indoor operative temperature throughout the year:"
   ]
  },
  {
   "cell_type": "code",
   "execution_count": null,
   "id": "b673ca88-bbd8-4c89-989e-7cf7c613e90c",
   "metadata": {},
   "outputs": [],
   "source": [
    "g = sns.FacetGrid(\n",
    "    data=df[df['epw'].str.contains('Sydney')],\n",
    "    row='CustAST_m',\n",
    "    col='CustAST_n'\n",
    ")\n",
    "g.map_dataframe(\n",
    "    sns.lineplot,\n",
    "    x='datetime',\n",
    "    y='value',\n",
    "    hue='variable',\n",
    ")\n",
    "g.set_axis_labels('Time', 'Indoor Operative Temperature (°C)')\n",
    "g.add_legend(loc='upper center', bbox_to_anchor=(0.5, 0))\n",
    "plt.tight_layout()\n"
   ]
  },
  {
   "cell_type": "code",
   "execution_count": null,
   "id": "be374ada",
   "metadata": {},
   "outputs": [],
   "source": [
    "from IPython.lib.display import Audio\n",
    "import numpy as np\n",
    "\n",
    "framerate = 4410\n",
    "play_time_seconds = 3\n",
    "\n",
    "t = np.linspace(0, play_time_seconds, framerate*play_time_seconds)\n",
    "audio_data = np.sin(2*np.pi*300*t) + np.sin(2*np.pi*240*t)\n",
    "Audio(audio_data, rate=framerate, autoplay=True)"
   ]
  },
  {
   "cell_type": "markdown",
   "id": "e0b253ef-b8ee-402b-a741-b4b89181e589",
   "metadata": {},
   "source": [
    "We're done with the example, so let's remove all new files, so that we can re-run it again."
   ]
  },
  {
   "cell_type": "code",
   "execution_count": 48,
   "id": "abefda96-72f4-4e8a-8d2a-5337647c480b",
   "metadata": {},
   "outputs": [
    {
     "data": {
      "text/plain": [
       "{'available_outputs', 'notebook_temp_dir'}"
      ]
     },
     "execution_count": 48,
     "metadata": {},
     "output_type": "execute_result"
    }
   ],
   "source": [
    "current_files = [i for i in listdir()]\n",
    "new_files = set(current_files) - set(original_files)\n",
    "new_files"
   ]
  },
  {
   "cell_type": "code",
   "execution_count": 51,
   "id": "f9dbc462-7f2b-40e2-b7b0-41e9243b3b59",
   "metadata": {},
   "outputs": [],
   "source": [
    "import os\n",
    "import shutil\n",
    "for item in new_files:\n",
    "    item_path = os.path.join(os.getcwd(), item)\n",
    "    if os.path.isfile(item_path):\n",
    "        os.remove(item_path)\n",
    "    elif os.path.isdir(item_path):\n",
    "        shutil.rmtree(item_path)"
   ]
  }
 ],
 "metadata": {
  "kernelspec": {
   "display_name": "Python 3 (ipykernel)",
   "language": "python",
   "name": "python3"
  },
  "language_info": {
   "codemirror_mode": {
    "name": "ipython",
    "version": 3
   },
   "file_extension": ".py",
   "mimetype": "text/x-python",
   "name": "python",
   "nbconvert_exporter": "python",
   "pygments_lexer": "ipython3",
   "version": "3.9.13"
  }
 },
 "nbformat": 4,
 "nbformat_minor": 5
}
