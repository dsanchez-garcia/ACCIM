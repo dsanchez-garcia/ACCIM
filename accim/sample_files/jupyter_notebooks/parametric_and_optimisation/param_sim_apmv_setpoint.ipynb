{
 "cells": [
  {
   "cell_type": "markdown",
   "id": "2cf45ee0-4144-4034-99a9-311270c74d30",
   "metadata": {},
   "source": [
    "# Parametric simulation using apmv setpoints"
   ]
  },
  {
   "cell_type": "code",
   "execution_count": 1,
   "id": "f71c6322-10f1-4fde-bc8d-358163b8619b",
   "metadata": {},
   "outputs": [],
   "source": [
    "#todo import qgrid to manually change output dfs"
   ]
  },
  {
   "cell_type": "code",
   "execution_count": 2,
   "id": "a8361222-b96d-4121-9560-1480e3ee4f44",
   "metadata": {},
   "outputs": [],
   "source": [
    "import accim\n",
    "from accim.parametric_and_optimisation.objectives import return_time_series\n",
    "from accim.parametric_and_optimisation.utils import make_all_combinations\n",
    "from besos import eppy_funcs as ef\n",
    "import matplotlib.pyplot as plt\n",
    "import seaborn as sns\n",
    "from accim.utils import print_available_outputs_mod, get_accim_args\n",
    "from accim.parametric_and_optimisation.main import OptimParamSimulation, get_rdd_file_as_df, get_mdd_file_as_df, parse_mtd_file\n",
    "from os import listdir\n"
   ]
  },
  {
   "cell_type": "markdown",
   "id": "c699ceba-f765-47c5-b5fd-b0cee5522b3a",
   "metadata": {},
   "source": [
    "Let's have a look at the files we currently have in the path:"
   ]
  },
  {
   "cell_type": "code",
   "execution_count": 4,
   "id": "233674c3-f15d-4917-aa47-430ae91486d6",
   "metadata": {},
   "outputs": [
    {
     "data": {
      "text/plain": [
       "['.ipynb_checkpoints',\n",
       " 'param_sim_accim_custom_model.ipynb',\n",
       " 'param_sim_accim_predefined_model.ipynb',\n",
       " 'param_sim_apmv_setpoint.ipynb',\n",
       " 'Seville.epw',\n",
       " 'Sydney.epw',\n",
       " 'TestModel.idf',\n",
       " 'TestModel_aPMV.idf',\n",
       " '__init__.py']"
      ]
     },
     "execution_count": 4,
     "metadata": {},
     "output_type": "execute_result"
    }
   ],
   "source": [
    "from os import listdir\n",
    "original_files = [i for i in listdir()]\n",
    "original_files"
   ]
  },
  {
   "cell_type": "markdown",
   "id": "16e31d87-3a87-40c1-aeef-d6ea1171291a",
   "metadata": {},
   "source": [
    "Firstly, the IDF must be read using besos's `get_building` function."
   ]
  },
  {
   "cell_type": "code",
   "execution_count": 5,
   "id": "7d6e13f6-7466-4e96-a559-8c771895c1ac",
   "metadata": {},
   "outputs": [],
   "source": [
    "building = ef.get_building('TestModel_aPMV.idf')"
   ]
  },
  {
   "cell_type": "markdown",
   "id": "affcedd2-3206-4178-bb93-3ae151e04301",
   "metadata": {},
   "source": [
    "For this analysis, we want to use the HVAC system in all hours of the year, so that temperature is always comfortable. Therefore, we are going to set the occupancy to always on by means of the function `accim.utils.set_occupancy_to_always`, in which we input the IDF class instance we read in the previous cell."
   ]
  },
  {
   "cell_type": "code",
   "execution_count": 6,
   "id": "f5c2feb1-ca1e-4b8a-bc50-1f116cca9fa4",
   "metadata": {},
   "outputs": [
    {
     "name": "stdout",
     "output_type": "stream",
     "text": [
      "On 24/7 Schedule:Compact object was already in the model.\n",
      "People PlantaX08:Office Number of People Schedule Name has been set to always occupied.\n"
     ]
    }
   ],
   "source": [
    "accim.utils.set_occupancy_to_always(idf_object=building)"
   ]
  },
  {
   "cell_type": "markdown",
   "id": "29827b0f-9086-4e26-873b-db2f7818a18a",
   "metadata": {},
   "source": [
    "Now, let's start with the settings for the parametric analysis. First, let's instantiate the class `OptimParamSimulation`, and let's pass the IDF instance in the argument `building`. Argument `parameters_type` can take 3 different strings:\n",
    "- \"accim predefined model\", in which models are those previously defined in accim (ComfStand=0 to ComfStand=22);\n",
    "- \"accim custom model\", in which key parameters of the adaptive comfort model are defined in the relevant arguments;\n",
    "- \"apmv setpoints\", in which setpoints are based on the aPMV (Adaptive Predicted Mean Vote) instead of the PMV index;\n",
    "\n",
    "In this case, we're going to use the 'apmv setpoints' type, in which we can use setpoints based on the Adaptive Predicted Mean Vote (aPMV) index."
   ]
  },
  {
   "cell_type": "code",
   "execution_count": 7,
   "id": "2a5fa261-bfee-4b08-a8fe-c62f46a481eb",
   "metadata": {},
   "outputs": [
    {
     "name": "stdout",
     "output_type": "stream",
     "text": [
      "PMV_H_SP_PlantaX08_Office Schedule has been added\n",
      "PMV_C_SP_PlantaX08_Office Schedule has been added\n",
      "Added - PMV_PlantaX08_Office Sensor\n",
      "Added - People_Occupant_Count_PlantaX08_Office Sensor\n",
      "Added - PMV_H_SP_act_PlantaX08_Office Actuator\n",
      "Added - PMV_C_SP_act_PlantaX08_Office Actuator\n",
      "Added - CoolingSeason GlobalVariable object\n",
      "Added - CoolSeasonEnd GlobalVariable object\n",
      "Added - CoolSeasonStart GlobalVariable object\n",
      "Added - tolerance_cooling_sp_PlantaX08_Office GlobalVariable object\n",
      "Added - tolerance_cooling_sp_cooling_season_PlantaX08_Office GlobalVariable object\n",
      "Added - tolerance_cooling_sp_heating_season_PlantaX08_Office GlobalVariable object\n",
      "Added - tolerance_heating_sp_PlantaX08_Office GlobalVariable object\n",
      "Added - tolerance_heating_sp_cooling_season_PlantaX08_Office GlobalVariable object\n",
      "Added - tolerance_heating_sp_heating_season_PlantaX08_Office GlobalVariable object\n",
      "Added - adap_coeff_PlantaX08_Office GlobalVariable object\n",
      "Added - adap_coeff_heating_PlantaX08_Office GlobalVariable object\n",
      "Added - adap_coeff_cooling_PlantaX08_Office GlobalVariable object\n",
      "Added - pmv_heating_sp_PlantaX08_Office GlobalVariable object\n",
      "Added - pmv_cooling_sp_PlantaX08_Office GlobalVariable object\n",
      "Added - aPMV_PlantaX08_Office GlobalVariable object\n",
      "Added - comfhour_PlantaX08_Office GlobalVariable object\n",
      "Added - discomfhour_PlantaX08_Office GlobalVariable object\n",
      "Added - discomfhour_heat_PlantaX08_Office GlobalVariable object\n",
      "Added - discomfhour_cold_PlantaX08_Office GlobalVariable object\n",
      "Added - occupied_hour_PlantaX08_Office GlobalVariable object\n",
      "Added - aPMV_H_SP_PlantaX08_Office GlobalVariable object\n",
      "Added - aPMV_C_SP_PlantaX08_Office GlobalVariable object\n",
      "Added - aPMV_H_SP_noTol_PlantaX08_Office GlobalVariable object\n",
      "Added - aPMV_C_SP_noTol_PlantaX08_Office GlobalVariable object\n",
      "Added - set_cooling_season_input_data Program\n",
      "Added - set_cooling_season Program\n",
      "Added - set_zone_input_data_PlantaX08_Office Program\n",
      "Added - apply_aPMV_PlantaX08_Office Program\n",
      "Added - monitor_aPMV_PlantaX08_Office Program\n",
      "Added - count_aPMV_comfort_hours_PlantaX08_Office Program\n",
      "Added - set_cooling_season_input_data Program Calling Manager\n",
      "Added - set_cooling_season Program Calling Manager\n",
      "Added - set_zone_input_data_PlantaX08_Office Program Calling Manager\n",
      "Added - apply_aPMV_PlantaX08_Office Program Calling Manager\n",
      "Added - monitor_aPMV_PlantaX08_Office Program Calling Manager\n",
      "Added - count_aPMV_comfort_hours_PlantaX08_Office Program Calling Manager\n",
      "Added - Adaptive Coefficient_PlantaX08_Office Output Variable\n",
      "Added - aPMV_PlantaX08_Office Output Variable\n",
      "Added - aPMV Heating Setpoint_PlantaX08_Office Output Variable\n",
      "Added - aPMV Cooling Setpoint_PlantaX08_Office Output Variable\n",
      "Added - aPMV Heating Setpoint No Tolerance_PlantaX08_Office Output Variable\n",
      "Added - aPMV Cooling Setpoint No Tolerance_PlantaX08_Office Output Variable\n",
      "Added - Comfortable Hours_PlantaX08_Office Output Variable\n",
      "Added - Discomfortable Hot Hours_PlantaX08_Office Output Variable\n",
      "Added - Discomfortable Cold Hours_PlantaX08_Office Output Variable\n",
      "Added - Discomfortable Total Hours_PlantaX08_Office Output Variable\n",
      "Added - Occupied hours_PlantaX08_Office Output Variable\n",
      "Added - Adaptive Coefficient_PlantaX08_Office Reporting Frequency Hourly Output:Variable data\n",
      "Added - aPMV_PlantaX08_Office Reporting Frequency Hourly Output:Variable data\n",
      "Added - aPMV Heating Setpoint_PlantaX08_Office Reporting Frequency Hourly Output:Variable data\n",
      "Added - aPMV Cooling Setpoint_PlantaX08_Office Reporting Frequency Hourly Output:Variable data\n",
      "Added - aPMV Heating Setpoint No Tolerance_PlantaX08_Office Reporting Frequency Hourly Output:Variable data\n",
      "Added - aPMV Cooling Setpoint No Tolerance_PlantaX08_Office Reporting Frequency Hourly Output:Variable data\n",
      "Added - Comfortable Hours_PlantaX08_Office Reporting Frequency Hourly Output:Variable data\n",
      "Added - Discomfortable Hot Hours_PlantaX08_Office Reporting Frequency Hourly Output:Variable data\n",
      "Added - Discomfortable Cold Hours_PlantaX08_Office Reporting Frequency Hourly Output:Variable data\n",
      "Added - Discomfortable Total Hours_PlantaX08_Office Reporting Frequency Hourly Output:Variable data\n",
      "Added - Occupied hours_PlantaX08_Office Reporting Frequency Hourly Output:Variable data\n",
      "Added - Zone Operative Temperature Reporting Frequency Hourly Output:Variable data\n",
      "Added - Zone Thermal Comfort Clothing Surface Temperature Reporting Frequency Hourly Output:Variable data\n",
      "Added - Zone Thermal Comfort Clothing Value Reporting Frequency Hourly Output:Variable data\n",
      "Added - Zone Thermal Comfort Control Fanger High Setpoint PMV Reporting Frequency Hourly Output:Variable data\n",
      "Added - Zone Thermal Comfort Control Fanger Low Setpoint PMV Reporting Frequency Hourly Output:Variable data\n",
      "Added - Zone Thermal Comfort Fanger Model PMV Reporting Frequency Hourly Output:Variable data\n",
      "Added - Zone Thermal Comfort Fanger Model PPD Reporting Frequency Hourly Output:Variable data\n",
      "Added - Zone Thermal Comfort Mean Radiant Temperature Reporting Frequency Hourly Output:Variable data\n",
      "Added - Zone Air Relative Humidity Reporting Frequency Hourly Output:Variable data\n",
      "Added - Zone Mean Air Temperature Reporting Frequency Hourly Output:Variable data\n",
      "Added - Cooling Coil Total Cooling Rate Reporting Frequency Hourly Output:Variable data\n",
      "Added - Heating Coil Heating Rate Reporting Frequency Hourly Output:Variable data\n",
      "Added - Facility Total HVAC Electric Demand Power Reporting Frequency Hourly Output:Variable data\n",
      "Added - Facility Total HVAC Electricity Demand Rate Reporting Frequency Hourly Output:Variable data\n",
      "Added - AFN Surface Venting Window or Door Opening Factor Reporting Frequency Hourly Output:Variable data\n",
      "Added - AFN Zone Infiltration Air Change Rate Reporting Frequency Hourly Output:Variable data\n",
      "Added - AFN Zone Infiltration Volume Reporting Frequency Hourly Output:Variable data\n",
      "Added - AFN Zone Ventilation Air Change Rate Reporting Frequency Hourly Output:Variable data\n",
      "Added - AFN Zone Ventilation Volume Reporting Frequency Hourly Output:Variable data\n",
      "Added - PMV_H_SP_PlantaX08_Office Reporting Frequency Hourly Output:Variable data\n",
      "Added - PMV_C_SP_PlantaX08_Office Reporting Frequency Hourly Output:Variable data\n",
      "Added - Default Air Velocity for Comfort Calculations Reporting Frequency Hourly Output:Variable data\n",
      "Not added - OutputControl:Files object - Output CSV, MTR and ESO fields set to Yes\n",
      "Arguments output_type, output_keep_existing, ScriptType, and SupplyAirTempInputMethod are only used in accim predefined and custom models, therefore these will not have any effect in this case.\n"
     ]
    }
   ],
   "source": [
    "parametric = OptimParamSimulation(\n",
    "    building=building,\n",
    "    parameters_type='apmv setpoints',\n",
    "    #output_type='standard', #\n",
    "    #output_keep_existing=False, #\n",
    "    #output_freqs=['hourly'], #\n",
    "    #ScriptType='vrf_mm', #\n",
    "    #SupplyAirTempInputMethod='temperature difference', #\n",
    "    #debugging=True, #\n",
    "    #verbosemode=False #\n",
    ")"
   ]
  },
  {
   "cell_type": "markdown",
   "id": "51eed0eb-7b3a-4428-8952-070a650acf61",
   "metadata": {},
   "source": [
    "An initial and generic version of the Adaptive-Comfort-Control-Implementation Script (ACCIS) has been added to the idf instance `building`. For instance, you can take a look at the parameter values accis currently has:"
   ]
  },
  {
   "cell_type": "code",
   "execution_count": 8,
   "id": "ad387b77-4998-4e51-979a-928fa52e551d",
   "metadata": {},
   "outputs": [
    {
     "data": {
      "text/plain": [
       "[\n",
       " ENERGYMANAGEMENTSYSTEM:PROGRAM,\n",
       "     set_zone_input_data_PlantaX08_Office,    !- Name\n",
       "     set adap_coeff_cooling_PlantaX08_Office = 0.293,    !- Program Line 1\n",
       "     set adap_coeff_heating_PlantaX08_Office = -0.293,    !- Program Line 2\n",
       "     set pmv_cooling_sp_PlantaX08_Office = -0.5,    !- Program Line 3\n",
       "     set pmv_heating_sp_PlantaX08_Office = 0.5,    !- Program Line 4\n",
       "     set tolerance_cooling_sp_cooling_season_PlantaX08_Office = -0.1,    !- Program Line 5\n",
       "     set tolerance_cooling_sp_heating_season_PlantaX08_Office = -0.1,    !- Program Line 6\n",
       "     set tolerance_heating_sp_cooling_season_PlantaX08_Office = 0.1,    !- Program Line 7\n",
       "     set tolerance_heating_sp_heating_season_PlantaX08_Office = 0.1;    !- Program Line 8]"
      ]
     },
     "execution_count": 8,
     "metadata": {},
     "output_type": "execute_result"
    }
   ],
   "source": [
    "[i for i in building.idfobjects['energymanagementsystem:program'] if 'set_zone_input_data' in i.Name.lower()]"
   ]
  },
  {
   "cell_type": "markdown",
   "id": "99605e82-4d01-4aee-835c-ab9c6c66faa4",
   "metadata": {},
   "source": [
    "## Setting the outputs"
   ]
  },
  {
   "cell_type": "markdown",
   "id": "8d3f905b-543d-4f32-b0dd-67ed99f77780",
   "metadata": {},
   "source": [
    "**If you have already read any of the other parametric simulation examples, you can skip this entire outputs section, since it is exactly the same.**"
   ]
  },
  {
   "cell_type": "markdown",
   "id": "bc714539-79c3-46e9-9caa-44a21fc413cb",
   "metadata": {},
   "source": [
    "### Outputs for the idf (i.e. the outputs for each simulation run)"
   ]
  },
  {
   "cell_type": "markdown",
   "id": "764b7626-0e63-4317-8bbf-28ac2fe68f68",
   "metadata": {},
   "source": [
    "First of all, we are going to set the outputs of the simulations that are going to be performed. This is an important step, especially if you are going to run hundreds or thousands of simulations."
   ]
  },
  {
   "cell_type": "markdown",
   "id": "b2f1d34a-dc0a-4aac-b01f-a7425b95090f",
   "metadata": {},
   "source": [
    "Let's take a look at the Output:Variable objects we currently have in the idf. The method `get_output_var_df_from_idf()` returns a pandas DataFrame which contains the information of the existing Output:Variable objects in the idf:"
   ]
  },
  {
   "cell_type": "code",
   "execution_count": 9,
   "id": "12ee78ba-c60b-4ef1-a6fb-51086a8a53fa",
   "metadata": {},
   "outputs": [
    {
     "data": {
      "text/html": [
       "<div>\n",
       "<style scoped>\n",
       "    .dataframe tbody tr th:only-of-type {\n",
       "        vertical-align: middle;\n",
       "    }\n",
       "\n",
       "    .dataframe tbody tr th {\n",
       "        vertical-align: top;\n",
       "    }\n",
       "\n",
       "    .dataframe thead th {\n",
       "        text-align: right;\n",
       "    }\n",
       "</style>\n",
       "<table border=\"1\" class=\"dataframe\">\n",
       "  <thead>\n",
       "    <tr style=\"text-align: right;\">\n",
       "      <th></th>\n",
       "      <th>key_value</th>\n",
       "      <th>variable_name</th>\n",
       "      <th>frequency</th>\n",
       "      <th>schedule_name</th>\n",
       "    </tr>\n",
       "  </thead>\n",
       "  <tbody>\n",
       "    <tr>\n",
       "      <th>0</th>\n",
       "      <td>People PlantaX08:Office</td>\n",
       "      <td>Zone Thermal Comfort Fanger Model PMV</td>\n",
       "      <td>hourly</td>\n",
       "      <td>On 24/7</td>\n",
       "    </tr>\n",
       "    <tr>\n",
       "      <th>1</th>\n",
       "      <td>People PlantaX08:Office</td>\n",
       "      <td>Zone Thermal Comfort Fanger Model PPD</td>\n",
       "      <td>hourly</td>\n",
       "      <td>On 24/7</td>\n",
       "    </tr>\n",
       "    <tr>\n",
       "      <th>2</th>\n",
       "      <td>People PlantaX08:Office</td>\n",
       "      <td>Zone Thermal Comfort Mean Radiant Temperature</td>\n",
       "      <td>hourly</td>\n",
       "      <td>On 24/7</td>\n",
       "    </tr>\n",
       "    <tr>\n",
       "      <th>3</th>\n",
       "      <td>People PlantaX08:Office</td>\n",
       "      <td>Zone Thermal Comfort Operative Temperature</td>\n",
       "      <td>hourly</td>\n",
       "      <td>On 24/7</td>\n",
       "    </tr>\n",
       "    <tr>\n",
       "      <th>4</th>\n",
       "      <td>*</td>\n",
       "      <td>Site Outdoor Air Drybulb Temperature</td>\n",
       "      <td>hourly</td>\n",
       "      <td></td>\n",
       "    </tr>\n",
       "    <tr>\n",
       "      <th>5</th>\n",
       "      <td>*</td>\n",
       "      <td>Site Outdoor Air Dewpoint Temperature</td>\n",
       "      <td>hourly</td>\n",
       "      <td></td>\n",
       "    </tr>\n",
       "    <tr>\n",
       "      <th>6</th>\n",
       "      <td>*</td>\n",
       "      <td>Site Wind Speed</td>\n",
       "      <td>hourly</td>\n",
       "      <td></td>\n",
       "    </tr>\n",
       "    <tr>\n",
       "      <th>7</th>\n",
       "      <td>*</td>\n",
       "      <td>Site Wind Direction</td>\n",
       "      <td>hourly</td>\n",
       "      <td></td>\n",
       "    </tr>\n",
       "    <tr>\n",
       "      <th>8</th>\n",
       "      <td>*</td>\n",
       "      <td>Site Direct Solar Radiation Rate per Area</td>\n",
       "      <td>hourly</td>\n",
       "      <td></td>\n",
       "    </tr>\n",
       "    <tr>\n",
       "      <th>9</th>\n",
       "      <td>*</td>\n",
       "      <td>Site Diffuse Solar Radiation Rate per Area</td>\n",
       "      <td>hourly</td>\n",
       "      <td></td>\n",
       "    </tr>\n",
       "    <tr>\n",
       "      <th>10</th>\n",
       "      <td>*</td>\n",
       "      <td>Site Solar Azimuth Angle</td>\n",
       "      <td>hourly</td>\n",
       "      <td></td>\n",
       "    </tr>\n",
       "    <tr>\n",
       "      <th>11</th>\n",
       "      <td>*</td>\n",
       "      <td>Site Solar Altitude Angle</td>\n",
       "      <td>hourly</td>\n",
       "      <td></td>\n",
       "    </tr>\n",
       "    <tr>\n",
       "      <th>12</th>\n",
       "      <td>*</td>\n",
       "      <td>Site Outdoor Air Barometric Pressure</td>\n",
       "      <td>hourly</td>\n",
       "      <td></td>\n",
       "    </tr>\n",
       "    <tr>\n",
       "      <th>13</th>\n",
       "      <td>*</td>\n",
       "      <td>Adaptive Coefficient_PlantaX08_Office</td>\n",
       "      <td>Hourly</td>\n",
       "      <td></td>\n",
       "    </tr>\n",
       "    <tr>\n",
       "      <th>14</th>\n",
       "      <td>*</td>\n",
       "      <td>aPMV_PlantaX08_Office</td>\n",
       "      <td>Hourly</td>\n",
       "      <td></td>\n",
       "    </tr>\n",
       "    <tr>\n",
       "      <th>15</th>\n",
       "      <td>*</td>\n",
       "      <td>aPMV Heating Setpoint_PlantaX08_Office</td>\n",
       "      <td>Hourly</td>\n",
       "      <td></td>\n",
       "    </tr>\n",
       "    <tr>\n",
       "      <th>16</th>\n",
       "      <td>*</td>\n",
       "      <td>aPMV Cooling Setpoint_PlantaX08_Office</td>\n",
       "      <td>Hourly</td>\n",
       "      <td></td>\n",
       "    </tr>\n",
       "    <tr>\n",
       "      <th>17</th>\n",
       "      <td>*</td>\n",
       "      <td>aPMV Heating Setpoint No Tolerance_PlantaX08_O...</td>\n",
       "      <td>Hourly</td>\n",
       "      <td></td>\n",
       "    </tr>\n",
       "    <tr>\n",
       "      <th>18</th>\n",
       "      <td>*</td>\n",
       "      <td>aPMV Cooling Setpoint No Tolerance_PlantaX08_O...</td>\n",
       "      <td>Hourly</td>\n",
       "      <td></td>\n",
       "    </tr>\n",
       "    <tr>\n",
       "      <th>19</th>\n",
       "      <td>*</td>\n",
       "      <td>Comfortable Hours_PlantaX08_Office</td>\n",
       "      <td>Hourly</td>\n",
       "      <td></td>\n",
       "    </tr>\n",
       "    <tr>\n",
       "      <th>20</th>\n",
       "      <td>*</td>\n",
       "      <td>Discomfortable Hot Hours_PlantaX08_Office</td>\n",
       "      <td>Hourly</td>\n",
       "      <td></td>\n",
       "    </tr>\n",
       "    <tr>\n",
       "      <th>21</th>\n",
       "      <td>*</td>\n",
       "      <td>Discomfortable Cold Hours_PlantaX08_Office</td>\n",
       "      <td>Hourly</td>\n",
       "      <td></td>\n",
       "    </tr>\n",
       "    <tr>\n",
       "      <th>22</th>\n",
       "      <td>*</td>\n",
       "      <td>Discomfortable Total Hours_PlantaX08_Office</td>\n",
       "      <td>Hourly</td>\n",
       "      <td></td>\n",
       "    </tr>\n",
       "    <tr>\n",
       "      <th>23</th>\n",
       "      <td>*</td>\n",
       "      <td>Occupied hours_PlantaX08_Office</td>\n",
       "      <td>Hourly</td>\n",
       "      <td></td>\n",
       "    </tr>\n",
       "    <tr>\n",
       "      <th>24</th>\n",
       "      <td>*</td>\n",
       "      <td>Zone Operative Temperature</td>\n",
       "      <td>Hourly</td>\n",
       "      <td></td>\n",
       "    </tr>\n",
       "    <tr>\n",
       "      <th>25</th>\n",
       "      <td>*</td>\n",
       "      <td>Zone Thermal Comfort Clothing Surface Temperature</td>\n",
       "      <td>Hourly</td>\n",
       "      <td></td>\n",
       "    </tr>\n",
       "    <tr>\n",
       "      <th>26</th>\n",
       "      <td>*</td>\n",
       "      <td>Zone Thermal Comfort Clothing Value</td>\n",
       "      <td>Hourly</td>\n",
       "      <td></td>\n",
       "    </tr>\n",
       "    <tr>\n",
       "      <th>27</th>\n",
       "      <td>*</td>\n",
       "      <td>Zone Thermal Comfort Control Fanger High Setpo...</td>\n",
       "      <td>Hourly</td>\n",
       "      <td></td>\n",
       "    </tr>\n",
       "    <tr>\n",
       "      <th>28</th>\n",
       "      <td>*</td>\n",
       "      <td>Zone Thermal Comfort Control Fanger Low Setpoi...</td>\n",
       "      <td>Hourly</td>\n",
       "      <td></td>\n",
       "    </tr>\n",
       "    <tr>\n",
       "      <th>29</th>\n",
       "      <td>*</td>\n",
       "      <td>Zone Thermal Comfort Fanger Model PMV</td>\n",
       "      <td>Hourly</td>\n",
       "      <td></td>\n",
       "    </tr>\n",
       "    <tr>\n",
       "      <th>30</th>\n",
       "      <td>*</td>\n",
       "      <td>Zone Thermal Comfort Fanger Model PPD</td>\n",
       "      <td>Hourly</td>\n",
       "      <td></td>\n",
       "    </tr>\n",
       "    <tr>\n",
       "      <th>31</th>\n",
       "      <td>*</td>\n",
       "      <td>Zone Thermal Comfort Mean Radiant Temperature</td>\n",
       "      <td>Hourly</td>\n",
       "      <td></td>\n",
       "    </tr>\n",
       "    <tr>\n",
       "      <th>32</th>\n",
       "      <td>*</td>\n",
       "      <td>Zone Air Relative Humidity</td>\n",
       "      <td>Hourly</td>\n",
       "      <td></td>\n",
       "    </tr>\n",
       "    <tr>\n",
       "      <th>33</th>\n",
       "      <td>*</td>\n",
       "      <td>Zone Mean Air Temperature</td>\n",
       "      <td>Hourly</td>\n",
       "      <td></td>\n",
       "    </tr>\n",
       "    <tr>\n",
       "      <th>34</th>\n",
       "      <td>*</td>\n",
       "      <td>Cooling Coil Total Cooling Rate</td>\n",
       "      <td>Hourly</td>\n",
       "      <td></td>\n",
       "    </tr>\n",
       "    <tr>\n",
       "      <th>35</th>\n",
       "      <td>*</td>\n",
       "      <td>Heating Coil Heating Rate</td>\n",
       "      <td>Hourly</td>\n",
       "      <td></td>\n",
       "    </tr>\n",
       "    <tr>\n",
       "      <th>36</th>\n",
       "      <td>*</td>\n",
       "      <td>Facility Total HVAC Electric Demand Power</td>\n",
       "      <td>Hourly</td>\n",
       "      <td></td>\n",
       "    </tr>\n",
       "    <tr>\n",
       "      <th>37</th>\n",
       "      <td>*</td>\n",
       "      <td>Facility Total HVAC Electricity Demand Rate</td>\n",
       "      <td>Hourly</td>\n",
       "      <td></td>\n",
       "    </tr>\n",
       "    <tr>\n",
       "      <th>38</th>\n",
       "      <td>*</td>\n",
       "      <td>AFN Surface Venting Window or Door Opening Factor</td>\n",
       "      <td>Hourly</td>\n",
       "      <td></td>\n",
       "    </tr>\n",
       "    <tr>\n",
       "      <th>39</th>\n",
       "      <td>*</td>\n",
       "      <td>AFN Zone Infiltration Air Change Rate</td>\n",
       "      <td>Hourly</td>\n",
       "      <td></td>\n",
       "    </tr>\n",
       "    <tr>\n",
       "      <th>40</th>\n",
       "      <td>*</td>\n",
       "      <td>AFN Zone Infiltration Volume</td>\n",
       "      <td>Hourly</td>\n",
       "      <td></td>\n",
       "    </tr>\n",
       "    <tr>\n",
       "      <th>41</th>\n",
       "      <td>*</td>\n",
       "      <td>AFN Zone Ventilation Air Change Rate</td>\n",
       "      <td>Hourly</td>\n",
       "      <td></td>\n",
       "    </tr>\n",
       "    <tr>\n",
       "      <th>42</th>\n",
       "      <td>*</td>\n",
       "      <td>AFN Zone Ventilation Volume</td>\n",
       "      <td>Hourly</td>\n",
       "      <td></td>\n",
       "    </tr>\n",
       "    <tr>\n",
       "      <th>43</th>\n",
       "      <td>PMV_H_SP_PlantaX08_Office</td>\n",
       "      <td>Schedule Value</td>\n",
       "      <td>Hourly</td>\n",
       "      <td></td>\n",
       "    </tr>\n",
       "    <tr>\n",
       "      <th>44</th>\n",
       "      <td>PMV_C_SP_PlantaX08_Office</td>\n",
       "      <td>Schedule Value</td>\n",
       "      <td>Hourly</td>\n",
       "      <td></td>\n",
       "    </tr>\n",
       "    <tr>\n",
       "      <th>45</th>\n",
       "      <td>Default Air Velocity for Comfort Calculations</td>\n",
       "      <td>Schedule Value</td>\n",
       "      <td>Hourly</td>\n",
       "      <td></td>\n",
       "    </tr>\n",
       "  </tbody>\n",
       "</table>\n",
       "</div>"
      ],
      "text/plain": [
       "                                        key_value  \\\n",
       "0                         People PlantaX08:Office   \n",
       "1                         People PlantaX08:Office   \n",
       "2                         People PlantaX08:Office   \n",
       "3                         People PlantaX08:Office   \n",
       "4                                               *   \n",
       "5                                               *   \n",
       "6                                               *   \n",
       "7                                               *   \n",
       "8                                               *   \n",
       "9                                               *   \n",
       "10                                              *   \n",
       "11                                              *   \n",
       "12                                              *   \n",
       "13                                              *   \n",
       "14                                              *   \n",
       "15                                              *   \n",
       "16                                              *   \n",
       "17                                              *   \n",
       "18                                              *   \n",
       "19                                              *   \n",
       "20                                              *   \n",
       "21                                              *   \n",
       "22                                              *   \n",
       "23                                              *   \n",
       "24                                              *   \n",
       "25                                              *   \n",
       "26                                              *   \n",
       "27                                              *   \n",
       "28                                              *   \n",
       "29                                              *   \n",
       "30                                              *   \n",
       "31                                              *   \n",
       "32                                              *   \n",
       "33                                              *   \n",
       "34                                              *   \n",
       "35                                              *   \n",
       "36                                              *   \n",
       "37                                              *   \n",
       "38                                              *   \n",
       "39                                              *   \n",
       "40                                              *   \n",
       "41                                              *   \n",
       "42                                              *   \n",
       "43                      PMV_H_SP_PlantaX08_Office   \n",
       "44                      PMV_C_SP_PlantaX08_Office   \n",
       "45  Default Air Velocity for Comfort Calculations   \n",
       "\n",
       "                                        variable_name frequency schedule_name  \n",
       "0               Zone Thermal Comfort Fanger Model PMV    hourly       On 24/7  \n",
       "1               Zone Thermal Comfort Fanger Model PPD    hourly       On 24/7  \n",
       "2       Zone Thermal Comfort Mean Radiant Temperature    hourly       On 24/7  \n",
       "3          Zone Thermal Comfort Operative Temperature    hourly       On 24/7  \n",
       "4                Site Outdoor Air Drybulb Temperature    hourly                \n",
       "5               Site Outdoor Air Dewpoint Temperature    hourly                \n",
       "6                                     Site Wind Speed    hourly                \n",
       "7                                 Site Wind Direction    hourly                \n",
       "8           Site Direct Solar Radiation Rate per Area    hourly                \n",
       "9          Site Diffuse Solar Radiation Rate per Area    hourly                \n",
       "10                           Site Solar Azimuth Angle    hourly                \n",
       "11                          Site Solar Altitude Angle    hourly                \n",
       "12               Site Outdoor Air Barometric Pressure    hourly                \n",
       "13              Adaptive Coefficient_PlantaX08_Office    Hourly                \n",
       "14                              aPMV_PlantaX08_Office    Hourly                \n",
       "15             aPMV Heating Setpoint_PlantaX08_Office    Hourly                \n",
       "16             aPMV Cooling Setpoint_PlantaX08_Office    Hourly                \n",
       "17  aPMV Heating Setpoint No Tolerance_PlantaX08_O...    Hourly                \n",
       "18  aPMV Cooling Setpoint No Tolerance_PlantaX08_O...    Hourly                \n",
       "19                 Comfortable Hours_PlantaX08_Office    Hourly                \n",
       "20          Discomfortable Hot Hours_PlantaX08_Office    Hourly                \n",
       "21         Discomfortable Cold Hours_PlantaX08_Office    Hourly                \n",
       "22        Discomfortable Total Hours_PlantaX08_Office    Hourly                \n",
       "23                    Occupied hours_PlantaX08_Office    Hourly                \n",
       "24                         Zone Operative Temperature    Hourly                \n",
       "25  Zone Thermal Comfort Clothing Surface Temperature    Hourly                \n",
       "26                Zone Thermal Comfort Clothing Value    Hourly                \n",
       "27  Zone Thermal Comfort Control Fanger High Setpo...    Hourly                \n",
       "28  Zone Thermal Comfort Control Fanger Low Setpoi...    Hourly                \n",
       "29              Zone Thermal Comfort Fanger Model PMV    Hourly                \n",
       "30              Zone Thermal Comfort Fanger Model PPD    Hourly                \n",
       "31      Zone Thermal Comfort Mean Radiant Temperature    Hourly                \n",
       "32                         Zone Air Relative Humidity    Hourly                \n",
       "33                          Zone Mean Air Temperature    Hourly                \n",
       "34                    Cooling Coil Total Cooling Rate    Hourly                \n",
       "35                          Heating Coil Heating Rate    Hourly                \n",
       "36          Facility Total HVAC Electric Demand Power    Hourly                \n",
       "37        Facility Total HVAC Electricity Demand Rate    Hourly                \n",
       "38  AFN Surface Venting Window or Door Opening Factor    Hourly                \n",
       "39              AFN Zone Infiltration Air Change Rate    Hourly                \n",
       "40                       AFN Zone Infiltration Volume    Hourly                \n",
       "41               AFN Zone Ventilation Air Change Rate    Hourly                \n",
       "42                        AFN Zone Ventilation Volume    Hourly                \n",
       "43                                     Schedule Value    Hourly                \n",
       "44                                     Schedule Value    Hourly                \n",
       "45                                     Schedule Value    Hourly                "
      ]
     },
     "execution_count": 9,
     "metadata": {},
     "output_type": "execute_result"
    }
   ],
   "source": [
    "df_output_variables_idf = parametric.get_output_var_df_from_idf()\n",
    "df_output_variables_idf"
   ]
  },
  {
   "cell_type": "markdown",
   "id": "ab1e81e8-c2f0-40c0-b868-0cf7ddb9954f",
   "metadata": {},
   "source": [
    "now, let's see the Output:Meter objects:"
   ]
  },
  {
   "cell_type": "code",
   "execution_count": 10,
   "id": "94c9844b-aacf-41fa-b1d4-ac7b491aa14e",
   "metadata": {},
   "outputs": [
    {
     "data": {
      "text/html": [
       "<div>\n",
       "<style scoped>\n",
       "    .dataframe tbody tr th:only-of-type {\n",
       "        vertical-align: middle;\n",
       "    }\n",
       "\n",
       "    .dataframe tbody tr th {\n",
       "        vertical-align: top;\n",
       "    }\n",
       "\n",
       "    .dataframe thead th {\n",
       "        text-align: right;\n",
       "    }\n",
       "</style>\n",
       "<table border=\"1\" class=\"dataframe\">\n",
       "  <thead>\n",
       "    <tr style=\"text-align: right;\">\n",
       "      <th></th>\n",
       "      <th>key_name</th>\n",
       "      <th>frequency</th>\n",
       "    </tr>\n",
       "  </thead>\n",
       "  <tbody>\n",
       "  </tbody>\n",
       "</table>\n",
       "</div>"
      ],
      "text/plain": [
       "Empty DataFrame\n",
       "Columns: [key_name, frequency]\n",
       "Index: []"
      ]
     },
     "execution_count": 10,
     "metadata": {},
     "output_type": "execute_result"
    }
   ],
   "source": [
    "df_output_meters_idf = parametric.get_output_meter_df_from_idf()\n",
    "df_output_meters_idf.head()"
   ]
  },
  {
   "cell_type": "markdown",
   "id": "093bdcab-a1aa-492a-8864-d2e4e1a0b72c",
   "metadata": {},
   "source": [
    "In this case, we can see there is no Output:Meter. However, there is a large number of Output:Variable objects which might result in heavy simulation outputs. So, let's get rid of some of them. We can drop the rows we want, and then input the modified DataFrame in the method `set_output_var_df_to_idf(outputs_df)`."
   ]
  },
  {
   "cell_type": "code",
   "execution_count": 11,
   "id": "9ccc7b08-119c-4f4c-bb45-9aac8201fe7e",
   "metadata": {},
   "outputs": [
    {
     "data": {
      "text/html": [
       "<div>\n",
       "<style scoped>\n",
       "    .dataframe tbody tr th:only-of-type {\n",
       "        vertical-align: middle;\n",
       "    }\n",
       "\n",
       "    .dataframe tbody tr th {\n",
       "        vertical-align: top;\n",
       "    }\n",
       "\n",
       "    .dataframe thead th {\n",
       "        text-align: right;\n",
       "    }\n",
       "</style>\n",
       "<table border=\"1\" class=\"dataframe\">\n",
       "  <thead>\n",
       "    <tr style=\"text-align: right;\">\n",
       "      <th></th>\n",
       "      <th>key_value</th>\n",
       "      <th>variable_name</th>\n",
       "      <th>frequency</th>\n",
       "      <th>schedule_name</th>\n",
       "    </tr>\n",
       "  </thead>\n",
       "  <tbody>\n",
       "    <tr>\n",
       "      <th>14</th>\n",
       "      <td>*</td>\n",
       "      <td>aPMV_PlantaX08_Office</td>\n",
       "      <td>Hourly</td>\n",
       "      <td></td>\n",
       "    </tr>\n",
       "    <tr>\n",
       "      <th>15</th>\n",
       "      <td>*</td>\n",
       "      <td>aPMV Heating Setpoint_PlantaX08_Office</td>\n",
       "      <td>Hourly</td>\n",
       "      <td></td>\n",
       "    </tr>\n",
       "    <tr>\n",
       "      <th>16</th>\n",
       "      <td>*</td>\n",
       "      <td>aPMV Cooling Setpoint_PlantaX08_Office</td>\n",
       "      <td>Hourly</td>\n",
       "      <td></td>\n",
       "    </tr>\n",
       "    <tr>\n",
       "      <th>17</th>\n",
       "      <td>*</td>\n",
       "      <td>aPMV Heating Setpoint No Tolerance_PlantaX08_O...</td>\n",
       "      <td>Hourly</td>\n",
       "      <td></td>\n",
       "    </tr>\n",
       "    <tr>\n",
       "      <th>18</th>\n",
       "      <td>*</td>\n",
       "      <td>aPMV Cooling Setpoint No Tolerance_PlantaX08_O...</td>\n",
       "      <td>Hourly</td>\n",
       "      <td></td>\n",
       "    </tr>\n",
       "  </tbody>\n",
       "</table>\n",
       "</div>"
      ],
      "text/plain": [
       "   key_value                                      variable_name frequency  \\\n",
       "14         *                              aPMV_PlantaX08_Office    Hourly   \n",
       "15         *             aPMV Heating Setpoint_PlantaX08_Office    Hourly   \n",
       "16         *             aPMV Cooling Setpoint_PlantaX08_Office    Hourly   \n",
       "17         *  aPMV Heating Setpoint No Tolerance_PlantaX08_O...    Hourly   \n",
       "18         *  aPMV Cooling Setpoint No Tolerance_PlantaX08_O...    Hourly   \n",
       "\n",
       "   schedule_name  \n",
       "14                \n",
       "15                \n",
       "16                \n",
       "17                \n",
       "18                "
      ]
     },
     "execution_count": 11,
     "metadata": {},
     "output_type": "execute_result"
    }
   ],
   "source": [
    "df_output_variables_idf = df_output_variables_idf[\n",
    "        df_output_variables_idf['variable_name'].str.contains('aPMV')\n",
    "]\n",
    "df_output_variables_idf"
   ]
  },
  {
   "cell_type": "markdown",
   "id": "643151b4-a20d-4d00-a1c9-5a78a56be916",
   "metadata": {},
   "source": [
    "Let's keep only the Output:Variable objects we have filtered using the `set_output_var_df_to_idf(outputs_df)`:"
   ]
  },
  {
   "cell_type": "code",
   "execution_count": 12,
   "id": "8958bc66-f42d-4fc0-9622-f2b3ffb03852",
   "metadata": {},
   "outputs": [],
   "source": [
    "parametric.set_output_var_df_to_idf(outputs_df=df_output_variables_idf)"
   ]
  },
  {
   "cell_type": "markdown",
   "id": "eacd9d6d-7fa1-4e6d-8bab-edbfa322140b",
   "metadata": {},
   "source": [
    "We have removed all rows except the adaptive heating and cooling setpoints, the operative temperature and the running mean outdoor temperature. Next optional step is adding Output:Meter objects. We can do that using the method `set_output_met_objects_to_idf(output_meters)`, where `output_meters` is a list of Output:Meter key names."
   ]
  },
  {
   "cell_type": "code",
   "execution_count": 13,
   "id": "addf36d3-b7c2-4254-bec5-322850a464d1",
   "metadata": {},
   "outputs": [],
   "source": [
    "output_meters = [\n",
    "    'Heating:Electricity',\n",
    "    'Cooling:Electricity',\n",
    "    'Electricity:HVAC',\n",
    "]\n",
    "parametric.set_output_met_objects_to_idf(output_meters=output_meters)"
   ]
  },
  {
   "cell_type": "markdown",
   "id": "fa66a111-e72e-4ebd-8110-8222191d6c5d",
   "metadata": {},
   "source": [
    "Let's see Output:Meter objects we currently have after adding these:"
   ]
  },
  {
   "cell_type": "code",
   "execution_count": 14,
   "id": "41878d11-6dcc-4158-9ec4-a74aa9d2dafc",
   "metadata": {},
   "outputs": [
    {
     "data": {
      "text/html": [
       "<div>\n",
       "<style scoped>\n",
       "    .dataframe tbody tr th:only-of-type {\n",
       "        vertical-align: middle;\n",
       "    }\n",
       "\n",
       "    .dataframe tbody tr th {\n",
       "        vertical-align: top;\n",
       "    }\n",
       "\n",
       "    .dataframe thead th {\n",
       "        text-align: right;\n",
       "    }\n",
       "</style>\n",
       "<table border=\"1\" class=\"dataframe\">\n",
       "  <thead>\n",
       "    <tr style=\"text-align: right;\">\n",
       "      <th></th>\n",
       "      <th>key_name</th>\n",
       "      <th>frequency</th>\n",
       "    </tr>\n",
       "  </thead>\n",
       "  <tbody>\n",
       "    <tr>\n",
       "      <th>0</th>\n",
       "      <td>Heating:Electricity</td>\n",
       "      <td>hourly</td>\n",
       "    </tr>\n",
       "    <tr>\n",
       "      <th>1</th>\n",
       "      <td>Cooling:Electricity</td>\n",
       "      <td>hourly</td>\n",
       "    </tr>\n",
       "    <tr>\n",
       "      <th>2</th>\n",
       "      <td>Electricity:HVAC</td>\n",
       "      <td>hourly</td>\n",
       "    </tr>\n",
       "  </tbody>\n",
       "</table>\n",
       "</div>"
      ],
      "text/plain": [
       "              key_name frequency\n",
       "0  Heating:Electricity    hourly\n",
       "1  Cooling:Electricity    hourly\n",
       "2     Electricity:HVAC    hourly"
      ]
     },
     "execution_count": 14,
     "metadata": {},
     "output_type": "execute_result"
    }
   ],
   "source": [
    "df_output_meters_idf = parametric.get_output_meter_df_from_idf()\n",
    "df_output_meters_idf"
   ]
  },
  {
   "cell_type": "markdown",
   "id": "90fd8d9b-ecd8-4c79-9f37-775f2c2921ed",
   "metadata": {},
   "source": [
    "### Outputs to be read and shown in the parametric simulation or optimisation"
   ]
  },
  {
   "cell_type": "markdown",
   "id": "bb18fd43-e07e-42f1-ac75-020bcbe96d9a",
   "metadata": {},
   "source": [
    "To successfully run the parametric simulation or optimisation, it is advisable running a test simulation to know the outputs that each simulation will have. We can do that with the method `get_outputs_df_from_testsim()`, which returns a tuple containing 2 DataFrames containing respectively the Output:Meter and Output:Variable objects from the simulation. In this case, you won't find wildcards such as \"*\"."
   ]
  },
  {
   "cell_type": "code",
   "execution_count": 15,
   "id": "ff6093e9-840d-4142-ad79-98d78f4f13d1",
   "metadata": {},
   "outputs": [],
   "source": [
    "df_output_meters_testsim, df_output_variables_testsim = parametric.get_outputs_df_from_testsim()"
   ]
  },
  {
   "cell_type": "code",
   "execution_count": 16,
   "id": "61a88134-7997-42ce-88b0-ef4606cdfe61",
   "metadata": {},
   "outputs": [
    {
     "data": {
      "text/html": [
       "<div>\n",
       "<style scoped>\n",
       "    .dataframe tbody tr th:only-of-type {\n",
       "        vertical-align: middle;\n",
       "    }\n",
       "\n",
       "    .dataframe tbody tr th {\n",
       "        vertical-align: top;\n",
       "    }\n",
       "\n",
       "    .dataframe thead th {\n",
       "        text-align: right;\n",
       "    }\n",
       "</style>\n",
       "<table border=\"1\" class=\"dataframe\">\n",
       "  <thead>\n",
       "    <tr style=\"text-align: right;\">\n",
       "      <th></th>\n",
       "      <th>key_name</th>\n",
       "      <th>frequency</th>\n",
       "    </tr>\n",
       "  </thead>\n",
       "  <tbody>\n",
       "    <tr>\n",
       "      <th>0</th>\n",
       "      <td>Heating:Electricity</td>\n",
       "      <td>Hourly</td>\n",
       "    </tr>\n",
       "    <tr>\n",
       "      <th>1</th>\n",
       "      <td>Cooling:Electricity</td>\n",
       "      <td>Hourly</td>\n",
       "    </tr>\n",
       "    <tr>\n",
       "      <th>2</th>\n",
       "      <td>Electricity:HVAC</td>\n",
       "      <td>Hourly</td>\n",
       "    </tr>\n",
       "  </tbody>\n",
       "</table>\n",
       "</div>"
      ],
      "text/plain": [
       "              key_name frequency\n",
       "0  Heating:Electricity    Hourly\n",
       "1  Cooling:Electricity    Hourly\n",
       "2     Electricity:HVAC    Hourly"
      ]
     },
     "execution_count": 16,
     "metadata": {},
     "output_type": "execute_result"
    }
   ],
   "source": [
    "df_output_meters_testsim"
   ]
  },
  {
   "cell_type": "code",
   "execution_count": 17,
   "id": "9dd7f778-e7b7-4474-ae02-fd6a8f154c1f",
   "metadata": {},
   "outputs": [
    {
     "data": {
      "text/html": [
       "<div>\n",
       "<style scoped>\n",
       "    .dataframe tbody tr th:only-of-type {\n",
       "        vertical-align: middle;\n",
       "    }\n",
       "\n",
       "    .dataframe tbody tr th {\n",
       "        vertical-align: top;\n",
       "    }\n",
       "\n",
       "    .dataframe thead th {\n",
       "        text-align: right;\n",
       "    }\n",
       "</style>\n",
       "<table border=\"1\" class=\"dataframe\">\n",
       "  <thead>\n",
       "    <tr style=\"text-align: right;\">\n",
       "      <th></th>\n",
       "      <th>key_value</th>\n",
       "      <th>variable_name</th>\n",
       "      <th>frequency</th>\n",
       "    </tr>\n",
       "  </thead>\n",
       "  <tbody>\n",
       "    <tr>\n",
       "      <th>0</th>\n",
       "      <td>EMS</td>\n",
       "      <td>aPMV_PlantaX08_Office</td>\n",
       "      <td>Hourly</td>\n",
       "    </tr>\n",
       "    <tr>\n",
       "      <th>1</th>\n",
       "      <td>EMS</td>\n",
       "      <td>aPMV Heating Setpoint_PlantaX08_Office</td>\n",
       "      <td>Hourly</td>\n",
       "    </tr>\n",
       "    <tr>\n",
       "      <th>2</th>\n",
       "      <td>EMS</td>\n",
       "      <td>aPMV Cooling Setpoint_PlantaX08_Office</td>\n",
       "      <td>Hourly</td>\n",
       "    </tr>\n",
       "    <tr>\n",
       "      <th>3</th>\n",
       "      <td>EMS</td>\n",
       "      <td>aPMV Heating Setpoint No Tolerance_PlantaX08_O...</td>\n",
       "      <td>Hourly</td>\n",
       "    </tr>\n",
       "    <tr>\n",
       "      <th>4</th>\n",
       "      <td>EMS</td>\n",
       "      <td>aPMV Cooling Setpoint No Tolerance_PlantaX08_O...</td>\n",
       "      <td>Hourly</td>\n",
       "    </tr>\n",
       "  </tbody>\n",
       "</table>\n",
       "</div>"
      ],
      "text/plain": [
       "  key_value                                      variable_name frequency\n",
       "0       EMS                              aPMV_PlantaX08_Office    Hourly\n",
       "1       EMS             aPMV Heating Setpoint_PlantaX08_Office    Hourly\n",
       "2       EMS             aPMV Cooling Setpoint_PlantaX08_Office    Hourly\n",
       "3       EMS  aPMV Heating Setpoint No Tolerance_PlantaX08_O...    Hourly\n",
       "4       EMS  aPMV Cooling Setpoint No Tolerance_PlantaX08_O...    Hourly"
      ]
     },
     "execution_count": 17,
     "metadata": {},
     "output_type": "execute_result"
    }
   ],
   "source": [
    "df_output_variables_testsim"
   ]
  },
  {
   "cell_type": "markdown",
   "id": "b0ed4500-6054-4a00-ae63-54412bf70944",
   "metadata": {},
   "source": [
    "We can get DataFrames from the .rdd and .mdd files generated from the test simulation using the functions `get_rdd_file_as_df()` and `get_mdd_file_as_df()`. "
   ]
  },
  {
   "cell_type": "code",
   "execution_count": 18,
   "id": "e28454a5-8de7-4551-bf9b-4db3fa8f124f",
   "metadata": {},
   "outputs": [
    {
     "data": {
      "text/html": [
       "<div>\n",
       "<style scoped>\n",
       "    .dataframe tbody tr th:only-of-type {\n",
       "        vertical-align: middle;\n",
       "    }\n",
       "\n",
       "    .dataframe tbody tr th {\n",
       "        vertical-align: top;\n",
       "    }\n",
       "\n",
       "    .dataframe thead th {\n",
       "        text-align: right;\n",
       "    }\n",
       "</style>\n",
       "<table border=\"1\" class=\"dataframe\">\n",
       "  <thead>\n",
       "    <tr style=\"text-align: right;\">\n",
       "      <th></th>\n",
       "      <th>object</th>\n",
       "      <th>key_value</th>\n",
       "      <th>variable_name</th>\n",
       "      <th>frequency</th>\n",
       "      <th>units</th>\n",
       "    </tr>\n",
       "  </thead>\n",
       "  <tbody>\n",
       "    <tr>\n",
       "      <th>0</th>\n",
       "      <td>Output:Variable</td>\n",
       "      <td>*</td>\n",
       "      <td>Site Outdoor Air Drybulb Temperature</td>\n",
       "      <td>hourly</td>\n",
       "      <td>!- Zone Average [C]</td>\n",
       "    </tr>\n",
       "    <tr>\n",
       "      <th>1</th>\n",
       "      <td>Output:Variable</td>\n",
       "      <td>*</td>\n",
       "      <td>Site Outdoor Air Dewpoint Temperature</td>\n",
       "      <td>hourly</td>\n",
       "      <td>!- Zone Average [C]</td>\n",
       "    </tr>\n",
       "    <tr>\n",
       "      <th>2</th>\n",
       "      <td>Output:Variable</td>\n",
       "      <td>*</td>\n",
       "      <td>Site Outdoor Air Wetbulb Temperature</td>\n",
       "      <td>hourly</td>\n",
       "      <td>!- Zone Average [C]</td>\n",
       "    </tr>\n",
       "    <tr>\n",
       "      <th>3</th>\n",
       "      <td>Output:Variable</td>\n",
       "      <td>*</td>\n",
       "      <td>Site Outdoor Air Humidity Ratio</td>\n",
       "      <td>hourly</td>\n",
       "      <td>!- Zone Average [kgWater/kgDryAir]</td>\n",
       "    </tr>\n",
       "    <tr>\n",
       "      <th>4</th>\n",
       "      <td>Output:Variable</td>\n",
       "      <td>*</td>\n",
       "      <td>Site Outdoor Air Relative Humidity</td>\n",
       "      <td>hourly</td>\n",
       "      <td>!- Zone Average [%]</td>\n",
       "    </tr>\n",
       "    <tr>\n",
       "      <th>...</th>\n",
       "      <td>...</td>\n",
       "      <td>...</td>\n",
       "      <td>...</td>\n",
       "      <td>...</td>\n",
       "      <td>...</td>\n",
       "    </tr>\n",
       "    <tr>\n",
       "      <th>502</th>\n",
       "      <td>Output:Variable</td>\n",
       "      <td>*</td>\n",
       "      <td>Zone Mechanical Ventilation Standard Density V...</td>\n",
       "      <td>hourly</td>\n",
       "      <td>!- HVAC Average [m3/s]</td>\n",
       "    </tr>\n",
       "    <tr>\n",
       "      <th>503</th>\n",
       "      <td>Output:Variable</td>\n",
       "      <td>*</td>\n",
       "      <td>Zone Mechanical Ventilation Standard Density V...</td>\n",
       "      <td>hourly</td>\n",
       "      <td>!- HVAC Sum [m3]</td>\n",
       "    </tr>\n",
       "    <tr>\n",
       "      <th>504</th>\n",
       "      <td>Output:Variable</td>\n",
       "      <td>*</td>\n",
       "      <td>Zone Mechanical Ventilation Current Density Vo...</td>\n",
       "      <td>hourly</td>\n",
       "      <td>!- HVAC Average [m3/s]</td>\n",
       "    </tr>\n",
       "    <tr>\n",
       "      <th>505</th>\n",
       "      <td>Output:Variable</td>\n",
       "      <td>*</td>\n",
       "      <td>Zone Mechanical Ventilation Current Density Vo...</td>\n",
       "      <td>hourly</td>\n",
       "      <td>!- HVAC Sum [m3]</td>\n",
       "    </tr>\n",
       "    <tr>\n",
       "      <th>506</th>\n",
       "      <td>Output:Variable</td>\n",
       "      <td>*</td>\n",
       "      <td>Zone Mechanical Ventilation Air Changes per Hour</td>\n",
       "      <td>hourly</td>\n",
       "      <td>!- HVAC Average [ach]</td>\n",
       "    </tr>\n",
       "  </tbody>\n",
       "</table>\n",
       "<p>507 rows × 5 columns</p>\n",
       "</div>"
      ],
      "text/plain": [
       "              object key_value  \\\n",
       "0    Output:Variable         *   \n",
       "1    Output:Variable         *   \n",
       "2    Output:Variable         *   \n",
       "3    Output:Variable         *   \n",
       "4    Output:Variable         *   \n",
       "..               ...       ...   \n",
       "502  Output:Variable         *   \n",
       "503  Output:Variable         *   \n",
       "504  Output:Variable         *   \n",
       "505  Output:Variable         *   \n",
       "506  Output:Variable         *   \n",
       "\n",
       "                                         variable_name frequency  \\\n",
       "0                 Site Outdoor Air Drybulb Temperature    hourly   \n",
       "1                Site Outdoor Air Dewpoint Temperature    hourly   \n",
       "2                 Site Outdoor Air Wetbulb Temperature    hourly   \n",
       "3                      Site Outdoor Air Humidity Ratio    hourly   \n",
       "4                   Site Outdoor Air Relative Humidity    hourly   \n",
       "..                                                 ...       ...   \n",
       "502  Zone Mechanical Ventilation Standard Density V...    hourly   \n",
       "503  Zone Mechanical Ventilation Standard Density V...    hourly   \n",
       "504  Zone Mechanical Ventilation Current Density Vo...    hourly   \n",
       "505  Zone Mechanical Ventilation Current Density Vo...    hourly   \n",
       "506   Zone Mechanical Ventilation Air Changes per Hour    hourly   \n",
       "\n",
       "                                   units  \n",
       "0                    !- Zone Average [C]  \n",
       "1                    !- Zone Average [C]  \n",
       "2                    !- Zone Average [C]  \n",
       "3     !- Zone Average [kgWater/kgDryAir]  \n",
       "4                    !- Zone Average [%]  \n",
       "..                                   ...  \n",
       "502               !- HVAC Average [m3/s]  \n",
       "503                     !- HVAC Sum [m3]  \n",
       "504               !- HVAC Average [m3/s]  \n",
       "505                     !- HVAC Sum [m3]  \n",
       "506                !- HVAC Average [ach]  \n",
       "\n",
       "[507 rows x 5 columns]"
      ]
     },
     "execution_count": 18,
     "metadata": {},
     "output_type": "execute_result"
    }
   ],
   "source": [
    "df_rdd = get_rdd_file_as_df()\n",
    "df_rdd"
   ]
  },
  {
   "cell_type": "code",
   "execution_count": 19,
   "id": "58649f6e-f08c-49e5-823a-376ff26eb83a",
   "metadata": {},
   "outputs": [
    {
     "data": {
      "text/html": [
       "<div>\n",
       "<style scoped>\n",
       "    .dataframe tbody tr th:only-of-type {\n",
       "        vertical-align: middle;\n",
       "    }\n",
       "\n",
       "    .dataframe tbody tr th {\n",
       "        vertical-align: top;\n",
       "    }\n",
       "\n",
       "    .dataframe thead th {\n",
       "        text-align: right;\n",
       "    }\n",
       "</style>\n",
       "<table border=\"1\" class=\"dataframe\">\n",
       "  <thead>\n",
       "    <tr style=\"text-align: right;\">\n",
       "      <th></th>\n",
       "      <th>object</th>\n",
       "      <th>meter_name</th>\n",
       "      <th>frequency</th>\n",
       "      <th>units</th>\n",
       "    </tr>\n",
       "  </thead>\n",
       "  <tbody>\n",
       "    <tr>\n",
       "      <th>0</th>\n",
       "      <td>Output:Meter</td>\n",
       "      <td>Electricity:Facility</td>\n",
       "      <td>hourly</td>\n",
       "      <td>!- [J]</td>\n",
       "    </tr>\n",
       "    <tr>\n",
       "      <th>1</th>\n",
       "      <td>Output:Meter:Cumulative</td>\n",
       "      <td>Electricity:Facility</td>\n",
       "      <td>hourly</td>\n",
       "      <td>!- [J]</td>\n",
       "    </tr>\n",
       "    <tr>\n",
       "      <th>2</th>\n",
       "      <td>Output:Meter</td>\n",
       "      <td>Electricity:Building</td>\n",
       "      <td>hourly</td>\n",
       "      <td>!- [J]</td>\n",
       "    </tr>\n",
       "    <tr>\n",
       "      <th>3</th>\n",
       "      <td>Output:Meter:Cumulative</td>\n",
       "      <td>Electricity:Building</td>\n",
       "      <td>hourly</td>\n",
       "      <td>!- [J]</td>\n",
       "    </tr>\n",
       "    <tr>\n",
       "      <th>4</th>\n",
       "      <td>Output:Meter</td>\n",
       "      <td>Electricity:Zone:PLANTAX08:OFFICE</td>\n",
       "      <td>hourly</td>\n",
       "      <td>!- [J]</td>\n",
       "    </tr>\n",
       "    <tr>\n",
       "      <th>...</th>\n",
       "      <td>...</td>\n",
       "      <td>...</td>\n",
       "      <td>...</td>\n",
       "      <td>...</td>\n",
       "    </tr>\n",
       "    <tr>\n",
       "      <th>73</th>\n",
       "      <td>Output:Meter:Cumulative</td>\n",
       "      <td>General:Heating:Electricity</td>\n",
       "      <td>hourly</td>\n",
       "      <td>!- [J]</td>\n",
       "    </tr>\n",
       "    <tr>\n",
       "      <th>74</th>\n",
       "      <td>Output:Meter</td>\n",
       "      <td>Carbon Equivalent:Facility</td>\n",
       "      <td>hourly</td>\n",
       "      <td>!- [kg]</td>\n",
       "    </tr>\n",
       "    <tr>\n",
       "      <th>75</th>\n",
       "      <td>Output:Meter:Cumulative</td>\n",
       "      <td>Carbon Equivalent:Facility</td>\n",
       "      <td>hourly</td>\n",
       "      <td>!- [kg]</td>\n",
       "    </tr>\n",
       "    <tr>\n",
       "      <th>76</th>\n",
       "      <td>Output:Meter</td>\n",
       "      <td>CarbonEquivalentEmissions:Carbon Equivalent</td>\n",
       "      <td>hourly</td>\n",
       "      <td>!- [kg]</td>\n",
       "    </tr>\n",
       "    <tr>\n",
       "      <th>77</th>\n",
       "      <td>Output:Meter:Cumulative</td>\n",
       "      <td>CarbonEquivalentEmissions:Carbon Equivalent</td>\n",
       "      <td>hourly</td>\n",
       "      <td>!- [kg]</td>\n",
       "    </tr>\n",
       "  </tbody>\n",
       "</table>\n",
       "<p>78 rows × 4 columns</p>\n",
       "</div>"
      ],
      "text/plain": [
       "                     object                                   meter_name  \\\n",
       "0              Output:Meter                         Electricity:Facility   \n",
       "1   Output:Meter:Cumulative                         Electricity:Facility   \n",
       "2              Output:Meter                         Electricity:Building   \n",
       "3   Output:Meter:Cumulative                         Electricity:Building   \n",
       "4              Output:Meter            Electricity:Zone:PLANTAX08:OFFICE   \n",
       "..                      ...                                          ...   \n",
       "73  Output:Meter:Cumulative                  General:Heating:Electricity   \n",
       "74             Output:Meter                   Carbon Equivalent:Facility   \n",
       "75  Output:Meter:Cumulative                   Carbon Equivalent:Facility   \n",
       "76             Output:Meter  CarbonEquivalentEmissions:Carbon Equivalent   \n",
       "77  Output:Meter:Cumulative  CarbonEquivalentEmissions:Carbon Equivalent   \n",
       "\n",
       "   frequency     units  \n",
       "0     hourly    !- [J]  \n",
       "1     hourly    !- [J]  \n",
       "2     hourly    !- [J]  \n",
       "3     hourly    !- [J]  \n",
       "4     hourly    !- [J]  \n",
       "..       ...       ...  \n",
       "73    hourly    !- [J]  \n",
       "74    hourly   !- [kg]  \n",
       "75    hourly   !- [kg]  \n",
       "76    hourly   !- [kg]  \n",
       "77    hourly   !- [kg]  \n",
       "\n",
       "[78 rows x 4 columns]"
      ]
     },
     "execution_count": 19,
     "metadata": {},
     "output_type": "execute_result"
    }
   ],
   "source": [
    "df_mdd = get_mdd_file_as_df()\n",
    "df_mdd"
   ]
  },
  {
   "cell_type": "markdown",
   "id": "a84943b5-db09-4f19-95bb-f9583711d0a7",
   "metadata": {},
   "source": [
    "Also, we can parse the .mtd files as a list using the function `parse_mtd_file()`."
   ]
  },
  {
   "cell_type": "code",
   "execution_count": 20,
   "id": "df4da1a7-fcb2-4c59-b790-1bc9e3b128f3",
   "metadata": {},
   "outputs": [
    {
     "data": {
      "text/plain": [
       "[{'meter_id': '8',\n",
       "  'description': 'PLANTAX08:OFFICE GENERAL LIGHTING:Lights Electricity Energy [J]',\n",
       "  'on_meters': ['Electricity:Facility [J]',\n",
       "   'Electricity:Building [J]',\n",
       "   'Electricity:Zone:PLANTAX08:OFFICE [J]',\n",
       "   'InteriorLights:Electricity [J]',\n",
       "   'InteriorLights:Electricity:Zone:PLANTAX08:OFFICE [J]',\n",
       "   'ELECTRIC EQUIPMENT#PlantaX08:Office#GeneralLights:InteriorLights:Electricity [J]']},\n",
       " {'meter_id': '92',\n",
       "  'description': 'PLANTAX08:OFFICE:Zone Air System Sensible Heating Energy [J]',\n",
       "  'on_meters': ['EnergyTransfer:Facility [J]',\n",
       "   'EnergyTransfer:Building [J]',\n",
       "   'EnergyTransfer:Zone:PLANTAX08:OFFICE [J]',\n",
       "   'Heating:EnergyTransfer [J]',\n",
       "   'Heating:EnergyTransfer:Zone:PLANTAX08:OFFICE [J]',\n",
       "   'General:Heating:EnergyTransfer [J]']}]"
      ]
     },
     "execution_count": 20,
     "metadata": {},
     "output_type": "execute_result"
    }
   ],
   "source": [
    "mtd_list = parse_mtd_file()\n",
    "mtd_list[0:2]"
   ]
  },
  {
   "cell_type": "markdown",
   "id": "76fa398d-15a0-4504-9f11-468bfd7c094f",
   "metadata": {},
   "source": [
    "Therefore, we have 2 DataFrames, one for the Output:Meter and another for the Output:Variable objects. Next step is setting the outputs for the parametric simulation. To do so, we'll need to pass the DataFrames into the method `set_outputs_for_simulation(df_output_meter, df_output_variable)`. If you have some knowledge about the python package besos, you might think of these dataframes as if each row was a `MeterReader` or `VariableReader` instances respectively for the Output:Meter and Output:Variable dataframes, and the arguments in these were the specified in the columns. The `MeterReader` class takes the arguments `key_name`, `frequency`, `name` and `func`, while `VariableReader` class takes the arguments  `key_value`, `variable_name`, `frequency`, `name` and `func`."
   ]
  },
  {
   "cell_type": "code",
   "execution_count": 21,
   "id": "2b133883-a0be-42a9-bc04-0e6054337b9b",
   "metadata": {},
   "outputs": [
    {
     "data": {
      "text/plain": [
       "['key_name', 'frequency']"
      ]
     },
     "execution_count": 21,
     "metadata": {},
     "output_type": "execute_result"
    }
   ],
   "source": [
    "[i for i in df_output_meters_testsim.columns]"
   ]
  },
  {
   "cell_type": "code",
   "execution_count": 22,
   "id": "c43b0496-1d36-4a0e-b2dc-9f77e41627ff",
   "metadata": {},
   "outputs": [
    {
     "data": {
      "text/plain": [
       "['key_value', 'variable_name', 'frequency']"
      ]
     },
     "execution_count": 22,
     "metadata": {},
     "output_type": "execute_result"
    }
   ],
   "source": [
    "[i for i in df_output_variables_testsim.columns]"
   ]
  },
  {
   "cell_type": "markdown",
   "id": "a03bd526-8bdf-4cce-af62-73ac36e9d0c3",
   "metadata": {},
   "source": [
    "If you take a look at the columns of the dataframes above, you can see the names are the arguments in the `MeterReader` and `VariableReader` classes, and only `name` and `func` are missing. That means, you can add these columns to input the `name` and `func` arguments as desired. In case of the Output:Meter dataframe, we won't add the `name` and `func` columns, which means the name will be the `key_name` and hourly results will be aggregated using the pd.Series.sum() function. However, in case of the Output:Variable dataframe, we will specify these: we want the hourly values rather than the aggregation, therefore we will pass the name bound to the function `return_time_series`, and we will add '_time series' as a suffix to the `variable_name` column. We will also remove the outputs for BLOCK1:ZONE2, which are the rows 2 and 4."
   ]
  },
  {
   "cell_type": "code",
   "execution_count": 23,
   "id": "0e8fecdc-4625-4d95-a87d-67071884963b",
   "metadata": {},
   "outputs": [
    {
     "data": {
      "text/html": [
       "<div>\n",
       "<style scoped>\n",
       "    .dataframe tbody tr th:only-of-type {\n",
       "        vertical-align: middle;\n",
       "    }\n",
       "\n",
       "    .dataframe tbody tr th {\n",
       "        vertical-align: top;\n",
       "    }\n",
       "\n",
       "    .dataframe thead th {\n",
       "        text-align: right;\n",
       "    }\n",
       "</style>\n",
       "<table border=\"1\" class=\"dataframe\">\n",
       "  <thead>\n",
       "    <tr style=\"text-align: right;\">\n",
       "      <th></th>\n",
       "      <th>key_value</th>\n",
       "      <th>variable_name</th>\n",
       "      <th>frequency</th>\n",
       "      <th>func</th>\n",
       "      <th>name</th>\n",
       "    </tr>\n",
       "  </thead>\n",
       "  <tbody>\n",
       "    <tr>\n",
       "      <th>0</th>\n",
       "      <td>EMS</td>\n",
       "      <td>aPMV_PlantaX08_Office</td>\n",
       "      <td>Hourly</td>\n",
       "      <td>&lt;function return_time_series at 0x00000124F3C4...</td>\n",
       "      <td>aPMV_PlantaX08_Office_time series</td>\n",
       "    </tr>\n",
       "    <tr>\n",
       "      <th>1</th>\n",
       "      <td>EMS</td>\n",
       "      <td>aPMV Heating Setpoint_PlantaX08_Office</td>\n",
       "      <td>Hourly</td>\n",
       "      <td>&lt;function return_time_series at 0x00000124F3C4...</td>\n",
       "      <td>aPMV Heating Setpoint_PlantaX08_Office_time se...</td>\n",
       "    </tr>\n",
       "    <tr>\n",
       "      <th>2</th>\n",
       "      <td>EMS</td>\n",
       "      <td>aPMV Cooling Setpoint_PlantaX08_Office</td>\n",
       "      <td>Hourly</td>\n",
       "      <td>&lt;function return_time_series at 0x00000124F3C4...</td>\n",
       "      <td>aPMV Cooling Setpoint_PlantaX08_Office_time se...</td>\n",
       "    </tr>\n",
       "    <tr>\n",
       "      <th>3</th>\n",
       "      <td>EMS</td>\n",
       "      <td>aPMV Heating Setpoint No Tolerance_PlantaX08_O...</td>\n",
       "      <td>Hourly</td>\n",
       "      <td>&lt;function return_time_series at 0x00000124F3C4...</td>\n",
       "      <td>aPMV Heating Setpoint No Tolerance_PlantaX08_O...</td>\n",
       "    </tr>\n",
       "    <tr>\n",
       "      <th>4</th>\n",
       "      <td>EMS</td>\n",
       "      <td>aPMV Cooling Setpoint No Tolerance_PlantaX08_O...</td>\n",
       "      <td>Hourly</td>\n",
       "      <td>&lt;function return_time_series at 0x00000124F3C4...</td>\n",
       "      <td>aPMV Cooling Setpoint No Tolerance_PlantaX08_O...</td>\n",
       "    </tr>\n",
       "  </tbody>\n",
       "</table>\n",
       "</div>"
      ],
      "text/plain": [
       "  key_value                                      variable_name frequency  \\\n",
       "0       EMS                              aPMV_PlantaX08_Office    Hourly   \n",
       "1       EMS             aPMV Heating Setpoint_PlantaX08_Office    Hourly   \n",
       "2       EMS             aPMV Cooling Setpoint_PlantaX08_Office    Hourly   \n",
       "3       EMS  aPMV Heating Setpoint No Tolerance_PlantaX08_O...    Hourly   \n",
       "4       EMS  aPMV Cooling Setpoint No Tolerance_PlantaX08_O...    Hourly   \n",
       "\n",
       "                                                func  \\\n",
       "0  <function return_time_series at 0x00000124F3C4...   \n",
       "1  <function return_time_series at 0x00000124F3C4...   \n",
       "2  <function return_time_series at 0x00000124F3C4...   \n",
       "3  <function return_time_series at 0x00000124F3C4...   \n",
       "4  <function return_time_series at 0x00000124F3C4...   \n",
       "\n",
       "                                                name  \n",
       "0                  aPMV_PlantaX08_Office_time series  \n",
       "1  aPMV Heating Setpoint_PlantaX08_Office_time se...  \n",
       "2  aPMV Cooling Setpoint_PlantaX08_Office_time se...  \n",
       "3  aPMV Heating Setpoint No Tolerance_PlantaX08_O...  \n",
       "4  aPMV Cooling Setpoint No Tolerance_PlantaX08_O...  "
      ]
     },
     "execution_count": 23,
     "metadata": {},
     "output_type": "execute_result"
    }
   ],
   "source": [
    "df_output_variables_testsim['func'] = return_time_series\n",
    "df_output_variables_testsim['name'] = df_output_variables_testsim['variable_name'] + '_time series'\n",
    "df_output_variables_testsim"
   ]
  },
  {
   "cell_type": "markdown",
   "id": "cec83d60-60bb-4a48-928f-336500ad45e4",
   "metadata": {},
   "source": [
    "Finally, let's set the outputs for parametric simulation and optimisation:"
   ]
  },
  {
   "cell_type": "code",
   "execution_count": 24,
   "id": "9000c1d4-5d65-405b-a139-3be098103846",
   "metadata": {},
   "outputs": [],
   "source": [
    "parametric.set_outputs_for_simulation(\n",
    "    df_output_meter=df_output_meters_testsim,\n",
    "    df_output_variable=df_output_variables_testsim,\n",
    ")"
   ]
  },
  {
   "cell_type": "markdown",
   "id": "ce76ee7a-3816-4a54-a588-8df3fe0cd6a6",
   "metadata": {},
   "source": [
    "If you want to inspect the `VariableReader` and `MeterReader` objects, you can see the internal variable `sim_outputs`:"
   ]
  },
  {
   "cell_type": "code",
   "execution_count": 25,
   "id": "9f4abcee-ae3a-4c41-a338-2ada4419da15",
   "metadata": {},
   "outputs": [
    {
     "data": {
      "text/plain": [
       "[MeterReader(name='Heating:Electricity', class_name='Output:Meter', frequency='Hourly', func=<function sum_values at 0x000001248436ED30>, key_name='Heating:Electricity'),\n",
       " MeterReader(name='Cooling:Electricity', class_name='Output:Meter', frequency='Hourly', func=<function sum_values at 0x000001248436ED30>, key_name='Cooling:Electricity'),\n",
       " MeterReader(name='Electricity:HVAC', class_name='Output:Meter', frequency='Hourly', func=<function sum_values at 0x000001248436ED30>, key_name='Electricity:HVAC'),\n",
       " VariableReader(name='aPMV_PlantaX08_Office_time series', class_name='Output:Variable', frequency='Hourly', func=<function return_time_series at 0x00000124F3C438B0>, key_value='EMS', variable_name='aPMV_PlantaX08_Office'),\n",
       " VariableReader(name='aPMV Heating Setpoint_PlantaX08_Office_time series', class_name='Output:Variable', frequency='Hourly', func=<function return_time_series at 0x00000124F3C438B0>, key_value='EMS', variable_name='aPMV Heating Setpoint_PlantaX08_Office'),\n",
       " VariableReader(name='aPMV Cooling Setpoint_PlantaX08_Office_time series', class_name='Output:Variable', frequency='Hourly', func=<function return_time_series at 0x00000124F3C438B0>, key_value='EMS', variable_name='aPMV Cooling Setpoint_PlantaX08_Office'),\n",
       " VariableReader(name='aPMV Heating Setpoint No Tolerance_PlantaX08_Office_time series', class_name='Output:Variable', frequency='Hourly', func=<function return_time_series at 0x00000124F3C438B0>, key_value='EMS', variable_name='aPMV Heating Setpoint No Tolerance_PlantaX08_Office'),\n",
       " VariableReader(name='aPMV Cooling Setpoint No Tolerance_PlantaX08_Office_time series', class_name='Output:Variable', frequency='Hourly', func=<function return_time_series at 0x00000124F3C438B0>, key_value='EMS', variable_name='aPMV Cooling Setpoint No Tolerance_PlantaX08_Office')]"
      ]
     },
     "execution_count": 25,
     "metadata": {},
     "output_type": "execute_result"
    }
   ],
   "source": [
    "parametric.sim_outputs"
   ]
  },
  {
   "cell_type": "markdown",
   "id": "b5dd98bb-6b1d-4b3c-b762-3c9a0c015f63",
   "metadata": {},
   "source": [
    "## Setting the parameters"
   ]
  },
  {
   "cell_type": "markdown",
   "id": "4804beed-52e5-432a-a999-685c222d668d",
   "metadata": {},
   "source": [
    "At the top of the script, when you instantiated the class `OptimParamSimulation`, you already specified which type of parameters you were going to use. Now, the parameters we're about to set, must match the `parameters_type` argument. At this point, you may not know which parameters you can use, so you can call the method `get_available_parameters()`, which will return a list of available parameters:"
   ]
  },
  {
   "cell_type": "code",
   "execution_count": 26,
   "id": "004029fa-ff72-4f43-a9c3-e004757463e4",
   "metadata": {},
   "outputs": [
    {
     "data": {
      "text/plain": [
       "['Adaptive coefficient',\n",
       " 'Adaptive cooling coefficient',\n",
       " 'Adaptive heating coefficient',\n",
       " 'PMV setpoint',\n",
       " 'PMV cooling setpoint',\n",
       " 'PMV heating setpoint']"
      ]
     },
     "execution_count": 26,
     "metadata": {},
     "output_type": "execute_result"
    }
   ],
   "source": [
    "available_parameters = parametric.get_available_parameters()\n",
    "available_parameters"
   ]
  },
  {
   "cell_type": "markdown",
   "id": "612a4d67",
   "metadata": {},
   "source": [
    "If you don't know what are these, please refer to the [documentation](https://accim.readthedocs.io/en/master/4_detailed%20use.html)."
   ]
  },
  {
   "cell_type": "markdown",
   "id": "8bef627e",
   "metadata": {},
   "source": [
    "The remaining parameters, which are:"
   ]
  },
  {
   "cell_type": "code",
   "execution_count": 27,
   "id": "8aefe530",
   "metadata": {},
   "outputs": [],
   "source": [
    "#[i for i in available_parameters if '_AST' in i]"
   ]
  },
  {
   "cell_type": "markdown",
   "id": "be7ad8b2",
   "metadata": {},
   "source": [
    "are used to set symmetrical comfort thresholds in case of 'CustAST_ASToffset' (i.e. a value of 3 means +3 is used as ACSToffset and -3 as AHSToffset), or in case of 'CustAST_ASTaul' and 'CustAST_ASTall', to set the same value to the applicability upper or lower limit for heating and cooling purposes (i.e. a value of 15 for CustAST_ASTall means 15 is used for CustAST_ACSTaul and CustAST_AHSTaul)"
   ]
  },
  {
   "cell_type": "markdown",
   "id": "45886126-30b8-4e53-b8c0-06135e6a3c38",
   "metadata": {},
   "source": [
    "Using the 'apmv setpoints' type, the values can be either a list of options or a range of values. Now, let's set the parameters using the method `set_parameters(accis_params_dict, additional_params)`. In this method, we set the parameters related to accim using the argument `accis_params_dict`, which takes a dictionary following the pattern {'parameter name': [1, 2, 3, etc]} in case of list of options, or {'parameter name': (min_value, max_value)} in case of the range of values. We can also add some other parameters not related to accim in the argument `additional_params`, which takes a list of parameters as if these were input straight to the besos EPProblem class."
   ]
  },
  {
   "cell_type": "markdown",
   "id": "72f11957",
   "metadata": {},
   "source": [
    "### Example 1"
   ]
  },
  {
   "cell_type": "markdown",
   "id": "4c40cf7e",
   "metadata": {},
   "source": [
    "An example using ranges, could be:"
   ]
  },
  {
   "cell_type": "code",
   "execution_count": 28,
   "id": "8741dd19",
   "metadata": {},
   "outputs": [
    {
     "name": "stderr",
     "output_type": "stream",
     "text": [
      "C:\\Users\\usuario\\AppData\\Local\\Programs\\Python\\Python39\\lib\\site-packages\\besos\\parameters.py:441: UserWarning: This parameter's descriptor is already named Adaptive coefficient.The name used as an input (Adaptive coefficient) will be discarded.\n",
      "  warnings.warn(\n",
      "C:\\Users\\usuario\\AppData\\Local\\Programs\\Python\\Python39\\lib\\site-packages\\besos\\parameters.py:441: UserWarning: This parameter's descriptor is already named PMV setpoint.The name used as an input (PMV setpoint) will be discarded.\n",
      "  warnings.warn(\n"
     ]
    }
   ],
   "source": [
    "accis_parameters = {\n",
    "    'Adaptive coefficient': (0.01, 0.99),\n",
    "    'PMV setpoint': (0.2, 0.7),\n",
    "}\n",
    "parametric.set_parameters(accis_params_dict=accis_parameters)"
   ]
  },
  {
   "cell_type": "markdown",
   "id": "c1c8867d",
   "metadata": {},
   "source": [
    "## Example 2"
   ]
  },
  {
   "cell_type": "markdown",
   "id": "01a19235",
   "metadata": {},
   "source": [
    "Now, let's use a list of options instead of range of values."
   ]
  },
  {
   "cell_type": "code",
   "execution_count": 29,
   "id": "68be9493",
   "metadata": {},
   "outputs": [],
   "source": [
    "accis_parameters = {\n",
    "    'Adaptive coefficient': [0, 0.3, 0.6],\n",
    "    'PMV setpoint': [0.2, 0.5, 0.7],\n",
    "}\n",
    "parametric.set_parameters(accis_params_dict=accis_parameters)"
   ]
  },
  {
   "cell_type": "markdown",
   "id": "d9e4243c",
   "metadata": {},
   "source": [
    "Again, let's take a look at the arguments:"
   ]
  },
  {
   "cell_type": "code",
   "execution_count": 30,
   "id": "3e1584dc",
   "metadata": {},
   "outputs": [
    {
     "data": {
      "text/plain": [
       "{'set_zone_input_data_PlantaX08_Office': {'adap_coeff_cooling_PlantaX08_Office': 0.293,\n",
       "  'adap_coeff_heating_PlantaX08_Office': -0.293,\n",
       "  'pmv_cooling_sp_PlantaX08_Office': -0.5,\n",
       "  'pmv_heating_sp_PlantaX08_Office': 0.5,\n",
       "  'tolerance_cooling_sp_cooling_season_PlantaX08_Office': -0.1,\n",
       "  'tolerance_cooling_sp_heating_season_PlantaX08_Office': -0.1,\n",
       "  'tolerance_heating_sp_cooling_season_PlantaX08_Office': 0.1,\n",
       "  'tolerance_heating_sp_heating_season_PlantaX08_Office': 0.1}}"
      ]
     },
     "execution_count": 30,
     "metadata": {},
     "output_type": "execute_result"
    }
   ],
   "source": [
    "args = get_accim_args(building)\n",
    "args"
   ]
  },
  {
   "cell_type": "markdown",
   "id": "f9411e7a-6f0b-4619-810d-02b44578d54d",
   "metadata": {},
   "source": [
    "So, let's continue with Example 1."
   ]
  },
  {
   "cell_type": "code",
   "execution_count": 31,
   "id": "a0f53283-8b43-451f-9d16-bd1b2e83eca9",
   "metadata": {},
   "outputs": [],
   "source": [
    "accis_parameters = {\n",
    "    'Adaptive coefficient': (0.01, 0.99),\n",
    "    'PMV setpoint': (0.2, 0.7),\n",
    "}\n",
    "parametric.set_parameters(accis_params_dict=accis_parameters)"
   ]
  },
  {
   "cell_type": "markdown",
   "id": "0dcdef7d-e068-491f-9926-8ceeee97ab2d",
   "metadata": {},
   "source": [
    "If you want to inspect the `Parameter` objects, you can see the internal variable `parameters_list`:"
   ]
  },
  {
   "cell_type": "code",
   "execution_count": 32,
   "id": "4b72a5b5-417f-410b-b30a-bf6550dbb364",
   "metadata": {},
   "outputs": [
    {
     "data": {
      "text/plain": [
       "[Parameter(selector=GenericSelector(set=<function change_adaptive_coeff_all_zones at 0x0000012498551AF0>), value_descriptors=[RangeParameter(name='Adaptive coefficient', min=0.01, max=0.99)]),\n",
       " Parameter(selector=GenericSelector(set=<function change_pmv_setpoint_all_zones at 0x0000012498551CA0>), value_descriptors=[RangeParameter(name='PMV setpoint', min=0.2, max=0.7)])]"
      ]
     },
     "execution_count": 32,
     "metadata": {},
     "output_type": "execute_result"
    }
   ],
   "source": [
    "parametric.parameters_list"
   ]
  },
  {
   "cell_type": "markdown",
   "id": "16b3b170-683d-49b3-9d6b-4d3772245647",
   "metadata": {},
   "source": [
    "## Running the parametric simulation"
   ]
  },
  {
   "cell_type": "markdown",
   "id": "e36956e3-781b-4fe1-980f-ad9fbca21fba",
   "metadata": {},
   "source": [
    "### Setting the problem"
   ]
  },
  {
   "cell_type": "markdown",
   "id": "60150ec0-8c63-4097-bd4f-c8263dc22d47",
   "metadata": {},
   "source": [
    "First, let's set the problem. To do so, use the `set_problem()` method. In case of the parametric simulation you don't need to input any argument. However, in case of the optimisation, you must input the arguments `minimize_outputs`, `constraints` and `constraint_bounds`, similarly as you would do in the besos `EPProblem` class."
   ]
  },
  {
   "cell_type": "code",
   "execution_count": 33,
   "id": "cd2c3ebc-99ea-46a2-94cf-37b3ddd77630",
   "metadata": {},
   "outputs": [],
   "source": [
    "parametric.set_problem()"
   ]
  },
  {
   "cell_type": "markdown",
   "id": "cc1eac32-9784-441f-98e3-0382053ba14d",
   "metadata": {},
   "source": [
    "Again, you can inspect the `EPProblem` class instance in the internal variable `problem`:"
   ]
  },
  {
   "cell_type": "code",
   "execution_count": 34,
   "id": "a4f80f41-febc-47e0-b610-8c07893a5c20",
   "metadata": {},
   "outputs": [
    {
     "data": {
      "text/plain": [
       "EPProblem(inputs=[Parameter(selector=GenericSelector(set=<function change_adaptive_coeff_all_zones at 0x0000012498551AF0>), value_descriptors=[RangeParameter(name='Adaptive coefficient', min=0.01, max=0.99)]), Parameter(selector=GenericSelector(set=<function change_pmv_setpoint_all_zones at 0x0000012498551CA0>), value_descriptors=[RangeParameter(name='PMV setpoint', min=0.2, max=0.7)])], outputs=[MeterReader(name='Heating:Electricity', class_name='Output:Meter', frequency='Hourly', func=<function sum_values at 0x000001248436ED30>, key_name='Heating:Electricity'), MeterReader(name='Cooling:Electricity', class_name='Output:Meter', frequency='Hourly', func=<function sum_values at 0x000001248436ED30>, key_name='Cooling:Electricity'), MeterReader(name='Electricity:HVAC', class_name='Output:Meter', frequency='Hourly', func=<function sum_values at 0x000001248436ED30>, key_name='Electricity:HVAC'), VariableReader(name='aPMV_PlantaX08_Office_time series', class_name='Output:Variable', frequency='Hourly', func=<function return_time_series at 0x00000124F3C438B0>, key_value='EMS', variable_name='aPMV_PlantaX08_Office'), VariableReader(name='aPMV Heating Setpoint_PlantaX08_Office_time series', class_name='Output:Variable', frequency='Hourly', func=<function return_time_series at 0x00000124F3C438B0>, key_value='EMS', variable_name='aPMV Heating Setpoint_PlantaX08_Office'), VariableReader(name='aPMV Cooling Setpoint_PlantaX08_Office_time series', class_name='Output:Variable', frequency='Hourly', func=<function return_time_series at 0x00000124F3C438B0>, key_value='EMS', variable_name='aPMV Cooling Setpoint_PlantaX08_Office'), VariableReader(name='aPMV Heating Setpoint No Tolerance_PlantaX08_Office_time series', class_name='Output:Variable', frequency='Hourly', func=<function return_time_series at 0x00000124F3C438B0>, key_value='EMS', variable_name='aPMV Heating Setpoint No Tolerance_PlantaX08_Office'), VariableReader(name='aPMV Cooling Setpoint No Tolerance_PlantaX08_Office_time series', class_name='Output:Variable', frequency='Hourly', func=<function return_time_series at 0x00000124F3C438B0>, key_value='EMS', variable_name='aPMV Cooling Setpoint No Tolerance_PlantaX08_Office')], minimize_outputs=[True, True, True, True, True, True, True, True], converters={'outputs': <class 'besos.objectives.MeterReader'>, 'constraints': <class 'besos.objectives.MeterReader'>})"
      ]
     },
     "execution_count": 34,
     "metadata": {},
     "output_type": "execute_result"
    }
   ],
   "source": [
    "parametric.problem"
   ]
  },
  {
   "cell_type": "markdown",
   "id": "901b319a-2ef8-4c7c-9fea-7512b81807f0",
   "metadata": {},
   "source": [
    "### Sampling the simulation runs"
   ]
  },
  {
   "cell_type": "markdown",
   "id": "cecbc846-7227-498a-b0f8-f8795269df25",
   "metadata": {},
   "source": [
    "The way to inform besos of the variations and permutations it must carry out in the parametric analysis is by means of a DataFrame, which must contain a column per `Parameter`, in which values are specified. There are multiple ways to do this DataFrame. For instance, we could make a dataframe from scratch:"
   ]
  },
  {
   "cell_type": "code",
   "execution_count": 35,
   "id": "30f78385-766d-47f2-b394-c922f8403b30",
   "metadata": {},
   "outputs": [
    {
     "data": {
      "text/html": [
       "<div>\n",
       "<style scoped>\n",
       "    .dataframe tbody tr th:only-of-type {\n",
       "        vertical-align: middle;\n",
       "    }\n",
       "\n",
       "    .dataframe tbody tr th {\n",
       "        vertical-align: top;\n",
       "    }\n",
       "\n",
       "    .dataframe thead th {\n",
       "        text-align: right;\n",
       "    }\n",
       "</style>\n",
       "<table border=\"1\" class=\"dataframe\">\n",
       "  <thead>\n",
       "    <tr style=\"text-align: right;\">\n",
       "      <th></th>\n",
       "      <th>Adaptive coefficient</th>\n",
       "      <th>PMV setpoint</th>\n",
       "    </tr>\n",
       "  </thead>\n",
       "  <tbody>\n",
       "    <tr>\n",
       "      <th>0</th>\n",
       "      <td>0.1</td>\n",
       "      <td>0.2</td>\n",
       "    </tr>\n",
       "    <tr>\n",
       "      <th>1</th>\n",
       "      <td>0.6</td>\n",
       "      <td>0.5</td>\n",
       "    </tr>\n",
       "  </tbody>\n",
       "</table>\n",
       "</div>"
      ],
      "text/plain": [
       "   Adaptive coefficient  PMV setpoint\n",
       "0                   0.1           0.2\n",
       "1                   0.6           0.5"
      ]
     },
     "execution_count": 35,
     "metadata": {},
     "output_type": "execute_result"
    }
   ],
   "source": [
    "import pandas as pd\n",
    "param_dict = {\n",
    "    'Adaptive coefficient': [0.1, 0.6], \n",
    "    'PMV setpoint': [0.2, 0.5], \n",
    "}\n",
    "input_param_df = pd.DataFrame(data=param_dict)\n",
    "input_param_df"
   ]
  },
  {
   "cell_type": "markdown",
   "id": "242f6e72-de2e-4fa7-8265-f9d154e198f9",
   "metadata": {},
   "source": [
    "We could input that df, which would result in 2 simulations. But now, imagine we want to make all possible combinations from the values we just did from scratch. We could use the function `make_all_combinations(parameters_values_dict)`. The argument `parameters_values_dict` must be a dictionary in the format {'parameter name': list_of_values}, such as the previouly defined param_dict, so let's input it. Let's see the possibilities:"
   ]
  },
  {
   "cell_type": "code",
   "execution_count": 36,
   "id": "0f6fcf93-64d2-4a8f-9740-0e329c1dccfd",
   "metadata": {},
   "outputs": [
    {
     "data": {
      "text/html": [
       "<div>\n",
       "<style scoped>\n",
       "    .dataframe tbody tr th:only-of-type {\n",
       "        vertical-align: middle;\n",
       "    }\n",
       "\n",
       "    .dataframe tbody tr th {\n",
       "        vertical-align: top;\n",
       "    }\n",
       "\n",
       "    .dataframe thead th {\n",
       "        text-align: right;\n",
       "    }\n",
       "</style>\n",
       "<table border=\"1\" class=\"dataframe\">\n",
       "  <thead>\n",
       "    <tr style=\"text-align: right;\">\n",
       "      <th></th>\n",
       "      <th>Adaptive coefficient</th>\n",
       "      <th>PMV setpoint</th>\n",
       "    </tr>\n",
       "  </thead>\n",
       "  <tbody>\n",
       "    <tr>\n",
       "      <th>0</th>\n",
       "      <td>0.1</td>\n",
       "      <td>0.2</td>\n",
       "    </tr>\n",
       "    <tr>\n",
       "      <th>1</th>\n",
       "      <td>0.1</td>\n",
       "      <td>0.5</td>\n",
       "    </tr>\n",
       "    <tr>\n",
       "      <th>2</th>\n",
       "      <td>0.6</td>\n",
       "      <td>0.2</td>\n",
       "    </tr>\n",
       "    <tr>\n",
       "      <th>3</th>\n",
       "      <td>0.6</td>\n",
       "      <td>0.5</td>\n",
       "    </tr>\n",
       "  </tbody>\n",
       "</table>\n",
       "</div>"
      ],
      "text/plain": [
       "   Adaptive coefficient  PMV setpoint\n",
       "0                   0.1           0.2\n",
       "1                   0.1           0.5\n",
       "2                   0.6           0.2\n",
       "3                   0.6           0.5"
      ]
     },
     "execution_count": 36,
     "metadata": {},
     "output_type": "execute_result"
    }
   ],
   "source": [
    "all_combinations = make_all_combinations(param_dict)\n",
    "all_combinations"
   ]
  },
  {
   "cell_type": "markdown",
   "id": "9a525ce0-8b59-48ca-a160-59ff4781a8bb",
   "metadata": {},
   "source": [
    "Also, we can use the sampling functions from besos (`full_factorial` and `lhs`), which have been wrapped in the methods `sampling_full_factorial(level)` and `sampling_lhs(num_samples)`. After calling these, the samples are saved in the internal variable `parameters_values_df`. Let's see some examples:"
   ]
  },
  {
   "cell_type": "code",
   "execution_count": 37,
   "id": "28d1b8c4-33bb-4f00-a8b3-6e6b34f5b71c",
   "metadata": {},
   "outputs": [
    {
     "data": {
      "text/html": [
       "<div>\n",
       "<style scoped>\n",
       "    .dataframe tbody tr th:only-of-type {\n",
       "        vertical-align: middle;\n",
       "    }\n",
       "\n",
       "    .dataframe tbody tr th {\n",
       "        vertical-align: top;\n",
       "    }\n",
       "\n",
       "    .dataframe thead th {\n",
       "        text-align: right;\n",
       "    }\n",
       "</style>\n",
       "<table border=\"1\" class=\"dataframe\">\n",
       "  <thead>\n",
       "    <tr style=\"text-align: right;\">\n",
       "      <th></th>\n",
       "      <th>Adaptive coefficient</th>\n",
       "      <th>PMV setpoint</th>\n",
       "    </tr>\n",
       "  </thead>\n",
       "  <tbody>\n",
       "    <tr>\n",
       "      <th>0</th>\n",
       "      <td>0.161046</td>\n",
       "      <td>0.647970</td>\n",
       "    </tr>\n",
       "    <tr>\n",
       "      <th>1</th>\n",
       "      <td>0.582909</td>\n",
       "      <td>0.520494</td>\n",
       "    </tr>\n",
       "    <tr>\n",
       "      <th>2</th>\n",
       "      <td>0.955981</td>\n",
       "      <td>0.326564</td>\n",
       "    </tr>\n",
       "  </tbody>\n",
       "</table>\n",
       "</div>"
      ],
      "text/plain": [
       "   Adaptive coefficient  PMV setpoint\n",
       "0              0.161046      0.647970\n",
       "1              0.582909      0.520494\n",
       "2              0.955981      0.326564"
      ]
     },
     "execution_count": 37,
     "metadata": {},
     "output_type": "execute_result"
    }
   ],
   "source": [
    "parametric.sampling_lhs(num_samples=3)\n",
    "parametric.parameters_values_df"
   ]
  },
  {
   "cell_type": "code",
   "execution_count": 38,
   "id": "e617c6d0-bf66-40e7-a9f2-caa9cead6dff",
   "metadata": {},
   "outputs": [
    {
     "data": {
      "text/html": [
       "<div>\n",
       "<style scoped>\n",
       "    .dataframe tbody tr th:only-of-type {\n",
       "        vertical-align: middle;\n",
       "    }\n",
       "\n",
       "    .dataframe tbody tr th {\n",
       "        vertical-align: top;\n",
       "    }\n",
       "\n",
       "    .dataframe thead th {\n",
       "        text-align: right;\n",
       "    }\n",
       "</style>\n",
       "<table border=\"1\" class=\"dataframe\">\n",
       "  <thead>\n",
       "    <tr style=\"text-align: right;\">\n",
       "      <th></th>\n",
       "      <th>Adaptive coefficient</th>\n",
       "      <th>PMV setpoint</th>\n",
       "    </tr>\n",
       "  </thead>\n",
       "  <tbody>\n",
       "    <tr>\n",
       "      <th>0</th>\n",
       "      <td>0.010000</td>\n",
       "      <td>0.200000</td>\n",
       "    </tr>\n",
       "    <tr>\n",
       "      <th>1</th>\n",
       "      <td>0.336667</td>\n",
       "      <td>0.200000</td>\n",
       "    </tr>\n",
       "    <tr>\n",
       "      <th>2</th>\n",
       "      <td>0.663333</td>\n",
       "      <td>0.200000</td>\n",
       "    </tr>\n",
       "    <tr>\n",
       "      <th>3</th>\n",
       "      <td>0.010000</td>\n",
       "      <td>0.366667</td>\n",
       "    </tr>\n",
       "    <tr>\n",
       "      <th>4</th>\n",
       "      <td>0.336667</td>\n",
       "      <td>0.366667</td>\n",
       "    </tr>\n",
       "    <tr>\n",
       "      <th>5</th>\n",
       "      <td>0.663333</td>\n",
       "      <td>0.366667</td>\n",
       "    </tr>\n",
       "    <tr>\n",
       "      <th>6</th>\n",
       "      <td>0.010000</td>\n",
       "      <td>0.533333</td>\n",
       "    </tr>\n",
       "    <tr>\n",
       "      <th>7</th>\n",
       "      <td>0.336667</td>\n",
       "      <td>0.533333</td>\n",
       "    </tr>\n",
       "    <tr>\n",
       "      <th>8</th>\n",
       "      <td>0.663333</td>\n",
       "      <td>0.533333</td>\n",
       "    </tr>\n",
       "  </tbody>\n",
       "</table>\n",
       "</div>"
      ],
      "text/plain": [
       "   Adaptive coefficient  PMV setpoint\n",
       "0              0.010000      0.200000\n",
       "1              0.336667      0.200000\n",
       "2              0.663333      0.200000\n",
       "3              0.010000      0.366667\n",
       "4              0.336667      0.366667\n",
       "5              0.663333      0.366667\n",
       "6              0.010000      0.533333\n",
       "7              0.336667      0.533333\n",
       "8              0.663333      0.533333"
      ]
     },
     "execution_count": 38,
     "metadata": {},
     "output_type": "execute_result"
    }
   ],
   "source": [
    "parametric.sampling_full_factorial(level=3)\n",
    "parametric.parameters_values_df"
   ]
  },
  {
   "cell_type": "markdown",
   "id": "c0c976c6-eed1-4727-a274-975585466130",
   "metadata": {},
   "source": [
    "### Running the simulations"
   ]
  },
  {
   "cell_type": "markdown",
   "id": "302f66b3-55ba-468b-91bb-d0c7a53f4387",
   "metadata": {},
   "source": [
    "Now, we're ready to run the simulations, by means of the `run_parametric_simulation(epws, out_dir, df, processes)` method. After calling the method, the outputs (a DataFrame) is saved in the internal variable `outputs_param_simulation`. It is based on the use of the `EvaluatorEP` class, `df_apply` method. We want to run the parametric simulations with both Sydney and Seville climate files, therefore the filenames are input in a list in the `epws` argument. The simulation outputs will be saved in a directory named 'notebook_temp_dir'. The values for the parameters will be driven by the internal variable `parameters_values_df`, as input in the `df` argument."
   ]
  },
  {
   "cell_type": "code",
   "execution_count": 39,
   "id": "5e5a19ab-d2a3-44ac-9d2d-01672ac8db08",
   "metadata": {},
   "outputs": [
    {
     "name": "stdout",
     "output_type": "stream",
     "text": [
      "Running EnergyPlus with stdout output suppressed...\n",
      "Running EnergyPlus with stdout output suppressed...\n",
      "Running EnergyPlus with stdout output suppressed...\n",
      "Running EnergyPlus with stdout output suppressed...\n",
      "Running EnergyPlus with stdout output suppressed...\n",
      "Running EnergyPlus with stdout output suppressed...\n",
      "Running EnergyPlus with stdout output suppressed...\n",
      "Running EnergyPlus with stdout output suppressed...\n",
      "Running EnergyPlus with stdout output suppressed...\n",
      "Running EnergyPlus with stdout output suppressed...\n",
      "Running EnergyPlus with stdout output suppressed...\n",
      "Running EnergyPlus with stdout output suppressed...\n",
      "Running EnergyPlus with stdout output suppressed...\n",
      "Running EnergyPlus with stdout output suppressed...\n",
      "Running EnergyPlus with stdout output suppressed...\n",
      "Running EnergyPlus with stdout output suppressed...\n",
      "Running EnergyPlus with stdout output suppressed...\n",
      "Running EnergyPlus with stdout output suppressed...\n"
     ]
    }
   ],
   "source": [
    "parametric.run_parametric_simulation(\n",
    "    epws=['Sydney.epw', 'Seville.epw'],\n",
    "    out_dir='notebook_temp_dir',\n",
    "    df=parametric.parameters_values_df,\n",
    "    processes=4, # The number of CPUs to be used. Default is 2.\n",
    "    #keep_input=True, # To keep the input values of parameters, as entered in df argument. Default is True.\n",
    "    #keep_dirs=True # To keep the simulation outputs. Default is True.\n",
    ")"
   ]
  },
  {
   "cell_type": "markdown",
   "id": "8f768acb-e813-4d4d-91d7-7b96a98ecaad",
   "metadata": {},
   "source": [
    "Let's take a look at the simulation results"
   ]
  },
  {
   "cell_type": "code",
   "execution_count": 40,
   "id": "9461f205-acd1-4532-b691-9dd7d9778873",
   "metadata": {},
   "outputs": [
    {
     "data": {
      "text/html": [
       "<div>\n",
       "<style scoped>\n",
       "    .dataframe tbody tr th:only-of-type {\n",
       "        vertical-align: middle;\n",
       "    }\n",
       "\n",
       "    .dataframe tbody tr th {\n",
       "        vertical-align: top;\n",
       "    }\n",
       "\n",
       "    .dataframe thead th {\n",
       "        text-align: right;\n",
       "    }\n",
       "</style>\n",
       "<table border=\"1\" class=\"dataframe\">\n",
       "  <thead>\n",
       "    <tr style=\"text-align: right;\">\n",
       "      <th></th>\n",
       "      <th>index</th>\n",
       "      <th>Adaptive coefficient</th>\n",
       "      <th>PMV setpoint</th>\n",
       "      <th>Heating:Electricity</th>\n",
       "      <th>Cooling:Electricity</th>\n",
       "      <th>Electricity:HVAC</th>\n",
       "      <th>aPMV_PlantaX08_Office_time series</th>\n",
       "      <th>aPMV Heating Setpoint_PlantaX08_Office_time series</th>\n",
       "      <th>aPMV Cooling Setpoint_PlantaX08_Office_time series</th>\n",
       "      <th>aPMV Heating Setpoint No Tolerance_PlantaX08_Office_time series</th>\n",
       "      <th>aPMV Cooling Setpoint No Tolerance_PlantaX08_Office_time series</th>\n",
       "      <th>output_dir</th>\n",
       "      <th>epw</th>\n",
       "    </tr>\n",
       "  </thead>\n",
       "  <tbody>\n",
       "    <tr>\n",
       "      <th>0</th>\n",
       "      <td>0</td>\n",
       "      <td>0.010000</td>\n",
       "      <td>0.200000</td>\n",
       "      <td>4.430677e+09</td>\n",
       "      <td>5.550654e+10</td>\n",
       "      <td>6.935760e+10</td>\n",
       "      <td>[0.09933135225694305, 0.09747402937981481, 0.0...</td>\n",
       "      <td>[-0.10040080160320641, -0.10040080160320641, -...</td>\n",
       "      <td>[0.0996007984031936, 0.0996007984031936, 0.099...</td>\n",
       "      <td>[-0.20040080160320642, -0.20040080160320642, -...</td>\n",
       "      <td>[0.19960079840319359, 0.19960079840319359, 0.1...</td>\n",
       "      <td>notebook_temp_dir\\BESOS_Output\\SR3QE6UDOHUEJPP...</td>\n",
       "      <td>Sydney</td>\n",
       "    </tr>\n",
       "    <tr>\n",
       "      <th>1</th>\n",
       "      <td>1</td>\n",
       "      <td>0.336667</td>\n",
       "      <td>0.200000</td>\n",
       "      <td>4.370369e+09</td>\n",
       "      <td>5.582303e+10</td>\n",
       "      <td>6.966568e+10</td>\n",
       "      <td>[0.08472669118656813, 0.0829682145727887, 0.08...</td>\n",
       "      <td>[-0.11443888491779843, -0.11443888491779843, -...</td>\n",
       "      <td>[0.08738288569643972, 0.08738288569643972, 0.0...</td>\n",
       "      <td>[-0.21443888491779847, -0.21443888491779847, -...</td>\n",
       "      <td>[0.1873828856964397, 0.1873828856964397, 0.187...</td>\n",
       "      <td>notebook_temp_dir\\BESOS_Output\\D9POX96L1BSLJ7W...</td>\n",
       "      <td>Sydney</td>\n",
       "    </tr>\n",
       "    <tr>\n",
       "      <th>2</th>\n",
       "      <td>2</td>\n",
       "      <td>0.663333</td>\n",
       "      <td>0.200000</td>\n",
       "      <td>4.287080e+09</td>\n",
       "      <td>5.607719e+10</td>\n",
       "      <td>6.988272e+10</td>\n",
       "      <td>[0.07272163356571212, 0.07103183093021859, 0.0...</td>\n",
       "      <td>[-0.13059185242121443, -0.13059185242121443, -...</td>\n",
       "      <td>[0.07657445556209536, 0.07657445556209536, 0.0...</td>\n",
       "      <td>[-0.23059185242121447, -0.23059185242121447, -...</td>\n",
       "      <td>[0.17657445556209536, 0.17657445556209536, 0.1...</td>\n",
       "      <td>notebook_temp_dir\\BESOS_Output\\Y9G5UBLBBVJ2YKV...</td>\n",
       "      <td>Sydney</td>\n",
       "    </tr>\n",
       "    <tr>\n",
       "      <th>3</th>\n",
       "      <td>3</td>\n",
       "      <td>0.010000</td>\n",
       "      <td>0.366667</td>\n",
       "      <td>2.715173e+09</td>\n",
       "      <td>4.983063e+10</td>\n",
       "      <td>6.129406e+10</td>\n",
       "      <td>[0.26432893872445135, 0.26258393049827494, 0.2...</td>\n",
       "      <td>[-0.26801605888256935, -0.26801605888256935, -...</td>\n",
       "      <td>[0.26532713384257717, 0.26532713384257717, 0.2...</td>\n",
       "      <td>[-0.3680160588825694, -0.3680160588825694, -0....</td>\n",
       "      <td>[0.3653271338425772, 0.3653271338425772, 0.365...</td>\n",
       "      <td>notebook_temp_dir\\BESOS_Output\\VHAERSD19O5B8DX...</td>\n",
       "      <td>Sydney</td>\n",
       "    </tr>\n",
       "    <tr>\n",
       "      <th>4</th>\n",
       "      <td>4</td>\n",
       "      <td>0.336667</td>\n",
       "      <td>0.366667</td>\n",
       "      <td>2.520139e+09</td>\n",
       "      <td>5.078110e+10</td>\n",
       "      <td>6.219936e+10</td>\n",
       "      <td>[0.20997146814517528, 0.20846649404045434, 0.2...</td>\n",
       "      <td>[-0.31830396754975276, -0.31830396754975276, -...</td>\n",
       "      <td>[0.22637721293640586, 0.22637721293640586, 0.2...</td>\n",
       "      <td>[-0.4183039675497528, -0.4183039675497528, -0....</td>\n",
       "      <td>[0.3263772129364058, 0.3263772129364058, 0.326...</td>\n",
       "      <td>notebook_temp_dir\\BESOS_Output\\H0VCRITCWBIFAA1...</td>\n",
       "      <td>Sydney</td>\n",
       "    </tr>\n",
       "    <tr>\n",
       "      <th>5</th>\n",
       "      <td>5</td>\n",
       "      <td>0.663333</td>\n",
       "      <td>0.366667</td>\n",
       "      <td>2.227634e+09</td>\n",
       "      <td>5.147311e+10</td>\n",
       "      <td>6.272198e+10</td>\n",
       "      <td>[0.17246387757010237, 0.17084874526575433, 0.1...</td>\n",
       "      <td>[-0.38451035090295105, -0.38451035090295105, -...</td>\n",
       "      <td>[0.1949325230136741, 0.1949325230136741, 0.194...</td>\n",
       "      <td>[-0.4845103509029511, -0.4845103509029511, -0....</td>\n",
       "      <td>[0.2949325230136741, 0.2949325230136741, 0.294...</td>\n",
       "      <td>notebook_temp_dir\\BESOS_Output\\6HWA8TD4BQ5R6VX...</td>\n",
       "      <td>Sydney</td>\n",
       "    </tr>\n",
       "    <tr>\n",
       "      <th>6</th>\n",
       "      <td>6</td>\n",
       "      <td>0.010000</td>\n",
       "      <td>0.533333</td>\n",
       "      <td>1.587544e+09</td>\n",
       "      <td>4.492337e+10</td>\n",
       "      <td>5.465422e+10</td>\n",
       "      <td>[0.428429222855546, 0.4265779302257047, 0.4271...</td>\n",
       "      <td>[-0.4361930294906165, -0.4361930294906165, -0....</td>\n",
       "      <td>[0.43050397877984065, 0.43050397877984065, 0.4...</td>\n",
       "      <td>[-0.5361930294906165, -0.5361930294906165, -0....</td>\n",
       "      <td>[0.5305039787798407, 0.5305039787798407, 0.530...</td>\n",
       "      <td>notebook_temp_dir\\BESOS_Output\\HSUYT937EKLUO7K...</td>\n",
       "      <td>Sydney</td>\n",
       "    </tr>\n",
       "    <tr>\n",
       "      <th>7</th>\n",
       "      <td>7</td>\n",
       "      <td>0.336667</td>\n",
       "      <td>0.533333</td>\n",
       "      <td>1.228050e+09</td>\n",
       "      <td>4.678994e+10</td>\n",
       "      <td>5.643830e+10</td>\n",
       "      <td>[0.3146473378260366, 0.3131558664030421, 0.313...</td>\n",
       "      <td>[-0.5500541711809316, -0.5500541711809316, -0....</td>\n",
       "      <td>[0.3521477015825169, 0.3521477015825169, 0.352...</td>\n",
       "      <td>[-0.6500541711809316, -0.6500541711809316, -0....</td>\n",
       "      <td>[0.4521477015825169, 0.4521477015825169, 0.452...</td>\n",
       "      <td>notebook_temp_dir\\BESOS_Output\\UU1RH7C9H8I8GAZ...</td>\n",
       "      <td>Sydney</td>\n",
       "    </tr>\n",
       "    <tr>\n",
       "      <th>8</th>\n",
       "      <td>8</td>\n",
       "      <td>0.663333</td>\n",
       "      <td>0.533333</td>\n",
       "      <td>7.316810e+08</td>\n",
       "      <td>4.812971e+10</td>\n",
       "      <td>5.749629e+10</td>\n",
       "      <td>[0.24585721696018256, 0.24454105886194522, 0.2...</td>\n",
       "      <td>[-0.725309491059147, -0.725309491059147, -0.72...</td>\n",
       "      <td>[0.29395929087327627, 0.29395929087327627, 0.2...</td>\n",
       "      <td>[-0.825309491059147, -0.825309491059147, -0.82...</td>\n",
       "      <td>[0.39395929087327636, 0.39395929087327636, 0.3...</td>\n",
       "      <td>notebook_temp_dir\\BESOS_Output\\7NXNGL79ZUDUSSQ...</td>\n",
       "      <td>Sydney</td>\n",
       "    </tr>\n",
       "    <tr>\n",
       "      <th>9</th>\n",
       "      <td>0</td>\n",
       "      <td>0.010000</td>\n",
       "      <td>0.200000</td>\n",
       "      <td>4.741650e+09</td>\n",
       "      <td>5.255372e+10</td>\n",
       "      <td>6.641519e+10</td>\n",
       "      <td>[-0.0684066305595897, -0.09542065518525461, -0...</td>\n",
       "      <td>[-0.10040080160320641, -0.10040080160320641, -...</td>\n",
       "      <td>[0.0996007984031936, 0.0996007984031936, 0.099...</td>\n",
       "      <td>[-0.20040080160320642, -0.20040080160320642, -...</td>\n",
       "      <td>[0.19960079840319359, 0.19960079840319359, 0.1...</td>\n",
       "      <td>notebook_temp_dir\\BESOS_Output\\ZRUQ0TT5XJVAG0X...</td>\n",
       "      <td>Seville</td>\n",
       "    </tr>\n",
       "    <tr>\n",
       "      <th>10</th>\n",
       "      <td>1</td>\n",
       "      <td>0.336667</td>\n",
       "      <td>0.200000</td>\n",
       "      <td>4.645853e+09</td>\n",
       "      <td>5.285230e+10</td>\n",
       "      <td>6.666769e+10</td>\n",
       "      <td>[-0.08645892992548915, -0.1136028916586078, -0...</td>\n",
       "      <td>[-0.11443888491779843, -0.11443888491779843, -...</td>\n",
       "      <td>[0.08738288569643972, 0.08738288569643972, 0.0...</td>\n",
       "      <td>[-0.21443888491779847, -0.21443888491779847, -...</td>\n",
       "      <td>[0.1873828856964397, 0.1873828856964397, 0.187...</td>\n",
       "      <td>notebook_temp_dir\\BESOS_Output\\AC7FLTHO5C7M9Z3...</td>\n",
       "      <td>Seville</td>\n",
       "    </tr>\n",
       "    <tr>\n",
       "      <th>11</th>\n",
       "      <td>2</td>\n",
       "      <td>0.663333</td>\n",
       "      <td>0.200000</td>\n",
       "      <td>4.515799e+09</td>\n",
       "      <td>5.309786e+10</td>\n",
       "      <td>6.682744e+10</td>\n",
       "      <td>[-0.10866911054647004, -0.13706998935755238, -...</td>\n",
       "      <td>[-0.13059185242121443, -0.13059185242121443, -...</td>\n",
       "      <td>[0.07657445556209536, 0.07657445556209536, 0.0...</td>\n",
       "      <td>[-0.23059185242121447, -0.23059185242121447, -...</td>\n",
       "      <td>[0.17657445556209536, 0.17657445556209536, 0.1...</td>\n",
       "      <td>notebook_temp_dir\\BESOS_Output\\JLP1M6HPMUQ3FLI...</td>\n",
       "      <td>Seville</td>\n",
       "    </tr>\n",
       "    <tr>\n",
       "      <th>12</th>\n",
       "      <td>3</td>\n",
       "      <td>0.010000</td>\n",
       "      <td>0.366667</td>\n",
       "      <td>2.390033e+09</td>\n",
       "      <td>4.704551e+10</td>\n",
       "      <td>5.791326e+10</td>\n",
       "      <td>[-0.08334896562446882, -0.11908692518931617, -...</td>\n",
       "      <td>[-0.26801605888256935, -0.26801605888256935, -...</td>\n",
       "      <td>[0.26532713384257717, 0.26532713384257717, 0.2...</td>\n",
       "      <td>[-0.3680160588825694, -0.3680160588825694, -0....</td>\n",
       "      <td>[0.3653271338425772, 0.3653271338425772, 0.365...</td>\n",
       "      <td>notebook_temp_dir\\BESOS_Output\\GY4XJ1R86HF0387...</td>\n",
       "      <td>Seville</td>\n",
       "    </tr>\n",
       "    <tr>\n",
       "      <th>13</th>\n",
       "      <td>4</td>\n",
       "      <td>0.336667</td>\n",
       "      <td>0.366667</td>\n",
       "      <td>2.097282e+09</td>\n",
       "      <td>4.797199e+10</td>\n",
       "      <td>5.869043e+10</td>\n",
       "      <td>[-0.11687259913436766, -0.14438398018081408, -...</td>\n",
       "      <td>[-0.31830396754975276, -0.31830396754975276, -...</td>\n",
       "      <td>[0.22637721293640586, 0.22637721293640586, 0.2...</td>\n",
       "      <td>[-0.4183039675497528, -0.4183039675497528, -0....</td>\n",
       "      <td>[0.3263772129364058, 0.3263772129364058, 0.326...</td>\n",
       "      <td>notebook_temp_dir\\BESOS_Output\\KZHQW34M8VWIJ9Y...</td>\n",
       "      <td>Seville</td>\n",
       "    </tr>\n",
       "    <tr>\n",
       "      <th>14</th>\n",
       "      <td>5</td>\n",
       "      <td>0.663333</td>\n",
       "      <td>0.366667</td>\n",
       "      <td>1.690646e+09</td>\n",
       "      <td>4.867181e+10</td>\n",
       "      <td>5.910165e+10</td>\n",
       "      <td>[-0.14947901357486224, -0.17033481375312265, -...</td>\n",
       "      <td>[-0.38451035090295105, -0.38451035090295105, -...</td>\n",
       "      <td>[0.1949325230136741, 0.1949325230136741, 0.194...</td>\n",
       "      <td>[-0.4845103509029511, -0.4845103509029511, -0....</td>\n",
       "      <td>[0.2949325230136741, 0.2949325230136741, 0.294...</td>\n",
       "      <td>notebook_temp_dir\\BESOS_Output\\OWYW6G6W9KTB6AL...</td>\n",
       "      <td>Seville</td>\n",
       "    </tr>\n",
       "    <tr>\n",
       "      <th>15</th>\n",
       "      <td>6</td>\n",
       "      <td>0.010000</td>\n",
       "      <td>0.533333</td>\n",
       "      <td>1.057647e+09</td>\n",
       "      <td>4.276359e+10</td>\n",
       "      <td>5.172158e+10</td>\n",
       "      <td>[0.028246043602938014, -0.019138296944444546, ...</td>\n",
       "      <td>[-0.4361930294906165, -0.4361930294906165, -0....</td>\n",
       "      <td>[0.43050397877984065, 0.43050397877984065, 0.4...</td>\n",
       "      <td>[-0.5361930294906165, -0.5361930294906165, -0....</td>\n",
       "      <td>[0.5305039787798407, 0.5305039787798407, 0.530...</td>\n",
       "      <td>notebook_temp_dir\\BESOS_Output\\4671UO2PHVD27C7...</td>\n",
       "      <td>Seville</td>\n",
       "    </tr>\n",
       "    <tr>\n",
       "      <th>16</th>\n",
       "      <td>7</td>\n",
       "      <td>0.336667</td>\n",
       "      <td>0.533333</td>\n",
       "      <td>6.537313e+08</td>\n",
       "      <td>4.453935e+10</td>\n",
       "      <td>5.335833e+10</td>\n",
       "      <td>[-0.03392245303705151, -0.06866027421932207, -...</td>\n",
       "      <td>[-0.5500541711809316, -0.5500541711809316, -0....</td>\n",
       "      <td>[0.3521477015825169, 0.3521477015825169, 0.352...</td>\n",
       "      <td>[-0.6500541711809316, -0.6500541711809316, -0....</td>\n",
       "      <td>[0.4521477015825169, 0.4521477015825169, 0.452...</td>\n",
       "      <td>notebook_temp_dir\\BESOS_Output\\4HETLG3JFLNRDQR...</td>\n",
       "      <td>Seville</td>\n",
       "    </tr>\n",
       "    <tr>\n",
       "      <th>17</th>\n",
       "      <td>8</td>\n",
       "      <td>0.663333</td>\n",
       "      <td>0.533333</td>\n",
       "      <td>2.541049e+08</td>\n",
       "      <td>4.589314e+10</td>\n",
       "      <td>5.451760e+10</td>\n",
       "      <td>[-0.0872243174288312, -0.11433380526746546, -0...</td>\n",
       "      <td>[-0.725309491059147, -0.725309491059147, -0.72...</td>\n",
       "      <td>[0.29395929087327627, 0.29395929087327627, 0.2...</td>\n",
       "      <td>[-0.825309491059147, -0.825309491059147, -0.82...</td>\n",
       "      <td>[0.39395929087327636, 0.39395929087327636, 0.3...</td>\n",
       "      <td>notebook_temp_dir\\BESOS_Output\\PYDK88P7GDJZUZ1...</td>\n",
       "      <td>Seville</td>\n",
       "    </tr>\n",
       "  </tbody>\n",
       "</table>\n",
       "</div>"
      ],
      "text/plain": [
       "    index  Adaptive coefficient  PMV setpoint  Heating:Electricity  \\\n",
       "0       0              0.010000      0.200000         4.430677e+09   \n",
       "1       1              0.336667      0.200000         4.370369e+09   \n",
       "2       2              0.663333      0.200000         4.287080e+09   \n",
       "3       3              0.010000      0.366667         2.715173e+09   \n",
       "4       4              0.336667      0.366667         2.520139e+09   \n",
       "5       5              0.663333      0.366667         2.227634e+09   \n",
       "6       6              0.010000      0.533333         1.587544e+09   \n",
       "7       7              0.336667      0.533333         1.228050e+09   \n",
       "8       8              0.663333      0.533333         7.316810e+08   \n",
       "9       0              0.010000      0.200000         4.741650e+09   \n",
       "10      1              0.336667      0.200000         4.645853e+09   \n",
       "11      2              0.663333      0.200000         4.515799e+09   \n",
       "12      3              0.010000      0.366667         2.390033e+09   \n",
       "13      4              0.336667      0.366667         2.097282e+09   \n",
       "14      5              0.663333      0.366667         1.690646e+09   \n",
       "15      6              0.010000      0.533333         1.057647e+09   \n",
       "16      7              0.336667      0.533333         6.537313e+08   \n",
       "17      8              0.663333      0.533333         2.541049e+08   \n",
       "\n",
       "    Cooling:Electricity  Electricity:HVAC  \\\n",
       "0          5.550654e+10      6.935760e+10   \n",
       "1          5.582303e+10      6.966568e+10   \n",
       "2          5.607719e+10      6.988272e+10   \n",
       "3          4.983063e+10      6.129406e+10   \n",
       "4          5.078110e+10      6.219936e+10   \n",
       "5          5.147311e+10      6.272198e+10   \n",
       "6          4.492337e+10      5.465422e+10   \n",
       "7          4.678994e+10      5.643830e+10   \n",
       "8          4.812971e+10      5.749629e+10   \n",
       "9          5.255372e+10      6.641519e+10   \n",
       "10         5.285230e+10      6.666769e+10   \n",
       "11         5.309786e+10      6.682744e+10   \n",
       "12         4.704551e+10      5.791326e+10   \n",
       "13         4.797199e+10      5.869043e+10   \n",
       "14         4.867181e+10      5.910165e+10   \n",
       "15         4.276359e+10      5.172158e+10   \n",
       "16         4.453935e+10      5.335833e+10   \n",
       "17         4.589314e+10      5.451760e+10   \n",
       "\n",
       "                    aPMV_PlantaX08_Office_time series  \\\n",
       "0   [0.09933135225694305, 0.09747402937981481, 0.0...   \n",
       "1   [0.08472669118656813, 0.0829682145727887, 0.08...   \n",
       "2   [0.07272163356571212, 0.07103183093021859, 0.0...   \n",
       "3   [0.26432893872445135, 0.26258393049827494, 0.2...   \n",
       "4   [0.20997146814517528, 0.20846649404045434, 0.2...   \n",
       "5   [0.17246387757010237, 0.17084874526575433, 0.1...   \n",
       "6   [0.428429222855546, 0.4265779302257047, 0.4271...   \n",
       "7   [0.3146473378260366, 0.3131558664030421, 0.313...   \n",
       "8   [0.24585721696018256, 0.24454105886194522, 0.2...   \n",
       "9   [-0.0684066305595897, -0.09542065518525461, -0...   \n",
       "10  [-0.08645892992548915, -0.1136028916586078, -0...   \n",
       "11  [-0.10866911054647004, -0.13706998935755238, -...   \n",
       "12  [-0.08334896562446882, -0.11908692518931617, -...   \n",
       "13  [-0.11687259913436766, -0.14438398018081408, -...   \n",
       "14  [-0.14947901357486224, -0.17033481375312265, -...   \n",
       "15  [0.028246043602938014, -0.019138296944444546, ...   \n",
       "16  [-0.03392245303705151, -0.06866027421932207, -...   \n",
       "17  [-0.0872243174288312, -0.11433380526746546, -0...   \n",
       "\n",
       "   aPMV Heating Setpoint_PlantaX08_Office_time series  \\\n",
       "0   [-0.10040080160320641, -0.10040080160320641, -...   \n",
       "1   [-0.11443888491779843, -0.11443888491779843, -...   \n",
       "2   [-0.13059185242121443, -0.13059185242121443, -...   \n",
       "3   [-0.26801605888256935, -0.26801605888256935, -...   \n",
       "4   [-0.31830396754975276, -0.31830396754975276, -...   \n",
       "5   [-0.38451035090295105, -0.38451035090295105, -...   \n",
       "6   [-0.4361930294906165, -0.4361930294906165, -0....   \n",
       "7   [-0.5500541711809316, -0.5500541711809316, -0....   \n",
       "8   [-0.725309491059147, -0.725309491059147, -0.72...   \n",
       "9   [-0.10040080160320641, -0.10040080160320641, -...   \n",
       "10  [-0.11443888491779843, -0.11443888491779843, -...   \n",
       "11  [-0.13059185242121443, -0.13059185242121443, -...   \n",
       "12  [-0.26801605888256935, -0.26801605888256935, -...   \n",
       "13  [-0.31830396754975276, -0.31830396754975276, -...   \n",
       "14  [-0.38451035090295105, -0.38451035090295105, -...   \n",
       "15  [-0.4361930294906165, -0.4361930294906165, -0....   \n",
       "16  [-0.5500541711809316, -0.5500541711809316, -0....   \n",
       "17  [-0.725309491059147, -0.725309491059147, -0.72...   \n",
       "\n",
       "   aPMV Cooling Setpoint_PlantaX08_Office_time series  \\\n",
       "0   [0.0996007984031936, 0.0996007984031936, 0.099...   \n",
       "1   [0.08738288569643972, 0.08738288569643972, 0.0...   \n",
       "2   [0.07657445556209536, 0.07657445556209536, 0.0...   \n",
       "3   [0.26532713384257717, 0.26532713384257717, 0.2...   \n",
       "4   [0.22637721293640586, 0.22637721293640586, 0.2...   \n",
       "5   [0.1949325230136741, 0.1949325230136741, 0.194...   \n",
       "6   [0.43050397877984065, 0.43050397877984065, 0.4...   \n",
       "7   [0.3521477015825169, 0.3521477015825169, 0.352...   \n",
       "8   [0.29395929087327627, 0.29395929087327627, 0.2...   \n",
       "9   [0.0996007984031936, 0.0996007984031936, 0.099...   \n",
       "10  [0.08738288569643972, 0.08738288569643972, 0.0...   \n",
       "11  [0.07657445556209536, 0.07657445556209536, 0.0...   \n",
       "12  [0.26532713384257717, 0.26532713384257717, 0.2...   \n",
       "13  [0.22637721293640586, 0.22637721293640586, 0.2...   \n",
       "14  [0.1949325230136741, 0.1949325230136741, 0.194...   \n",
       "15  [0.43050397877984065, 0.43050397877984065, 0.4...   \n",
       "16  [0.3521477015825169, 0.3521477015825169, 0.352...   \n",
       "17  [0.29395929087327627, 0.29395929087327627, 0.2...   \n",
       "\n",
       "   aPMV Heating Setpoint No Tolerance_PlantaX08_Office_time series  \\\n",
       "0   [-0.20040080160320642, -0.20040080160320642, -...                \n",
       "1   [-0.21443888491779847, -0.21443888491779847, -...                \n",
       "2   [-0.23059185242121447, -0.23059185242121447, -...                \n",
       "3   [-0.3680160588825694, -0.3680160588825694, -0....                \n",
       "4   [-0.4183039675497528, -0.4183039675497528, -0....                \n",
       "5   [-0.4845103509029511, -0.4845103509029511, -0....                \n",
       "6   [-0.5361930294906165, -0.5361930294906165, -0....                \n",
       "7   [-0.6500541711809316, -0.6500541711809316, -0....                \n",
       "8   [-0.825309491059147, -0.825309491059147, -0.82...                \n",
       "9   [-0.20040080160320642, -0.20040080160320642, -...                \n",
       "10  [-0.21443888491779847, -0.21443888491779847, -...                \n",
       "11  [-0.23059185242121447, -0.23059185242121447, -...                \n",
       "12  [-0.3680160588825694, -0.3680160588825694, -0....                \n",
       "13  [-0.4183039675497528, -0.4183039675497528, -0....                \n",
       "14  [-0.4845103509029511, -0.4845103509029511, -0....                \n",
       "15  [-0.5361930294906165, -0.5361930294906165, -0....                \n",
       "16  [-0.6500541711809316, -0.6500541711809316, -0....                \n",
       "17  [-0.825309491059147, -0.825309491059147, -0.82...                \n",
       "\n",
       "   aPMV Cooling Setpoint No Tolerance_PlantaX08_Office_time series  \\\n",
       "0   [0.19960079840319359, 0.19960079840319359, 0.1...                \n",
       "1   [0.1873828856964397, 0.1873828856964397, 0.187...                \n",
       "2   [0.17657445556209536, 0.17657445556209536, 0.1...                \n",
       "3   [0.3653271338425772, 0.3653271338425772, 0.365...                \n",
       "4   [0.3263772129364058, 0.3263772129364058, 0.326...                \n",
       "5   [0.2949325230136741, 0.2949325230136741, 0.294...                \n",
       "6   [0.5305039787798407, 0.5305039787798407, 0.530...                \n",
       "7   [0.4521477015825169, 0.4521477015825169, 0.452...                \n",
       "8   [0.39395929087327636, 0.39395929087327636, 0.3...                \n",
       "9   [0.19960079840319359, 0.19960079840319359, 0.1...                \n",
       "10  [0.1873828856964397, 0.1873828856964397, 0.187...                \n",
       "11  [0.17657445556209536, 0.17657445556209536, 0.1...                \n",
       "12  [0.3653271338425772, 0.3653271338425772, 0.365...                \n",
       "13  [0.3263772129364058, 0.3263772129364058, 0.326...                \n",
       "14  [0.2949325230136741, 0.2949325230136741, 0.294...                \n",
       "15  [0.5305039787798407, 0.5305039787798407, 0.530...                \n",
       "16  [0.4521477015825169, 0.4521477015825169, 0.452...                \n",
       "17  [0.39395929087327636, 0.39395929087327636, 0.3...                \n",
       "\n",
       "                                           output_dir      epw  \n",
       "0   notebook_temp_dir\\BESOS_Output\\SR3QE6UDOHUEJPP...   Sydney  \n",
       "1   notebook_temp_dir\\BESOS_Output\\D9POX96L1BSLJ7W...   Sydney  \n",
       "2   notebook_temp_dir\\BESOS_Output\\Y9G5UBLBBVJ2YKV...   Sydney  \n",
       "3   notebook_temp_dir\\BESOS_Output\\VHAERSD19O5B8DX...   Sydney  \n",
       "4   notebook_temp_dir\\BESOS_Output\\H0VCRITCWBIFAA1...   Sydney  \n",
       "5   notebook_temp_dir\\BESOS_Output\\6HWA8TD4BQ5R6VX...   Sydney  \n",
       "6   notebook_temp_dir\\BESOS_Output\\HSUYT937EKLUO7K...   Sydney  \n",
       "7   notebook_temp_dir\\BESOS_Output\\UU1RH7C9H8I8GAZ...   Sydney  \n",
       "8   notebook_temp_dir\\BESOS_Output\\7NXNGL79ZUDUSSQ...   Sydney  \n",
       "9   notebook_temp_dir\\BESOS_Output\\ZRUQ0TT5XJVAG0X...  Seville  \n",
       "10  notebook_temp_dir\\BESOS_Output\\AC7FLTHO5C7M9Z3...  Seville  \n",
       "11  notebook_temp_dir\\BESOS_Output\\JLP1M6HPMUQ3FLI...  Seville  \n",
       "12  notebook_temp_dir\\BESOS_Output\\GY4XJ1R86HF0387...  Seville  \n",
       "13  notebook_temp_dir\\BESOS_Output\\KZHQW34M8VWIJ9Y...  Seville  \n",
       "14  notebook_temp_dir\\BESOS_Output\\OWYW6G6W9KTB6AL...  Seville  \n",
       "15  notebook_temp_dir\\BESOS_Output\\4671UO2PHVD27C7...  Seville  \n",
       "16  notebook_temp_dir\\BESOS_Output\\4HETLG3JFLNRDQR...  Seville  \n",
       "17  notebook_temp_dir\\BESOS_Output\\PYDK88P7GDJZUZ1...  Seville  "
      ]
     },
     "execution_count": 40,
     "metadata": {},
     "output_type": "execute_result"
    }
   ],
   "source": [
    "parametric.outputs_param_simulation"
   ]
  },
  {
   "cell_type": "markdown",
   "id": "efa37b3d-45f9-4bbd-b2c2-3f36b743ee0b",
   "metadata": {},
   "source": [
    "We can see the columns are the following:"
   ]
  },
  {
   "cell_type": "markdown",
   "id": "907ca41e-e151-4e90-a37b-ed0b596e1852",
   "metadata": {},
   "source": [
    "- the parameters, which are:"
   ]
  },
  {
   "cell_type": "code",
   "execution_count": 41,
   "id": "c733f7a2-fd24-4b14-9ab1-98075d261401",
   "metadata": {},
   "outputs": [
    {
     "data": {
      "text/plain": [
       "['Adaptive coefficient', 'PMV setpoint']"
      ]
     },
     "execution_count": 41,
     "metadata": {},
     "output_type": "execute_result"
    }
   ],
   "source": [
    "[i.value_descriptors[0].name for i in parametric.parameters_list]"
   ]
  },
  {
   "cell_type": "markdown",
   "id": "c30f391f-08a0-488e-8dd3-67aa9189790c",
   "metadata": {},
   "source": [
    "- the outputs, which are:"
   ]
  },
  {
   "cell_type": "code",
   "execution_count": 42,
   "id": "405d7408-599d-4493-a497-5bfe686db381",
   "metadata": {},
   "outputs": [
    {
     "data": {
      "text/plain": [
       "['Heating:Electricity',\n",
       " 'Cooling:Electricity',\n",
       " 'Electricity:HVAC',\n",
       " 'aPMV_PlantaX08_Office_time series',\n",
       " 'aPMV Heating Setpoint_PlantaX08_Office_time series',\n",
       " 'aPMV Cooling Setpoint_PlantaX08_Office_time series',\n",
       " 'aPMV Heating Setpoint No Tolerance_PlantaX08_Office_time series',\n",
       " 'aPMV Cooling Setpoint No Tolerance_PlantaX08_Office_time series']"
      ]
     },
     "execution_count": 42,
     "metadata": {},
     "output_type": "execute_result"
    }
   ],
   "source": [
    "[i.name for i in parametric.sim_outputs]"
   ]
  },
  {
   "cell_type": "markdown",
   "id": "cf172d66-6883-481c-9779-a3382616924e",
   "metadata": {},
   "source": [
    "- the path to the output files for each simulation, in the column 'out_dir'\n",
    "- the epw for each simulation, in the column 'epw'"
   ]
  },
  {
   "cell_type": "markdown",
   "id": "40195067-60e6-414c-8930-67fac7ab2377",
   "metadata": {},
   "source": [
    "Let's round the values for the parameters columns:"
   ]
  },
  {
   "cell_type": "code",
   "execution_count": 43,
   "id": "90645e28-40e3-4051-a523-967f4193ecd5",
   "metadata": {},
   "outputs": [],
   "source": [
    "for col in [i.value_descriptors[0].name for i in parametric.parameters_list]:\n",
    "    parametric.outputs_param_simulation = parametric.outputs_param_simulation.round({col: 2})"
   ]
  },
  {
   "cell_type": "code",
   "execution_count": null,
   "id": "605ae6dd-9d69-401d-83ea-daed08d87f73",
   "metadata": {},
   "outputs": [],
   "source": []
  },
  {
   "cell_type": "markdown",
   "id": "e2f6302e-8105-482b-a984-c4bc03ac8086",
   "metadata": {},
   "source": [
    "### Visualising the results"
   ]
  },
  {
   "cell_type": "markdown",
   "id": "8de1cbd1-8cf0-41c4-b394-6cf8481f2edd",
   "metadata": {},
   "source": [
    "#### Aggregated columns"
   ]
  },
  {
   "cell_type": "markdown",
   "id": "d7b2ad11-4f2b-46d0-8a59-3e7e842b2ae9",
   "metadata": {},
   "source": [
    "At this point, if you have some knowledge of pandas and some package to plot the data (e.g. matplotlib or seaborn), you can carry out your own analysis and visualization. We're going to do some example below."
   ]
  },
  {
   "cell_type": "code",
   "execution_count": 44,
   "id": "3b08c431-5c10-47bc-b8d9-bbed174fb35c",
   "metadata": {},
   "outputs": [
    {
     "data": {
      "text/plain": [
       "<Axes: xlabel='Heating:Electricity', ylabel='Cooling:Electricity'>"
      ]
     },
     "execution_count": 44,
     "metadata": {},
     "output_type": "execute_result"
    },
    {
     "data": {
      "image/png": "[encoded data removed]",
      "text/plain": [
       "<Figure size 640x480 with 1 Axes>"
      ]
     },
     "metadata": {},
     "output_type": "display_data"
    }
   ],
   "source": [
    "sns.scatterplot(\n",
    "    data=parametric.outputs_param_simulation,\n",
    "    x='Heating:Electricity',\n",
    "    y='Cooling:Electricity',\n",
    "    hue='Adaptive coefficient',\n",
    "    style='PMV setpoint'\n",
    ")"
   ]
  },
  {
   "cell_type": "markdown",
   "id": "710213aa-c8d2-4565-b121-a0db80753b52",
   "metadata": {},
   "source": [
    "#### Time series columns"
   ]
  },
  {
   "cell_type": "markdown",
   "id": "d66994c0-7514-456f-8d9c-2c3acce6e656",
   "metadata": {},
   "source": [
    "If you requested some output to be reported in time series, you can get a dataframe containing the hourly values using the method `get_hourly_df()`. This dataframe is saved in the internal variable `outputs_param_simulation_hourly`:"
   ]
  },
  {
   "cell_type": "code",
   "execution_count": 45,
   "id": "74848927-55f4-4e27-ae75-bf66baf49ba7",
   "metadata": {},
   "outputs": [
    {
     "data": {
      "text/html": [
       "<div>\n",
       "<style scoped>\n",
       "    .dataframe tbody tr th:only-of-type {\n",
       "        vertical-align: middle;\n",
       "    }\n",
       "\n",
       "    .dataframe tbody tr th {\n",
       "        vertical-align: top;\n",
       "    }\n",
       "\n",
       "    .dataframe thead th {\n",
       "        text-align: right;\n",
       "    }\n",
       "</style>\n",
       "<table border=\"1\" class=\"dataframe\">\n",
       "  <thead>\n",
       "    <tr style=\"text-align: right;\">\n",
       "      <th></th>\n",
       "      <th>Adaptive coefficient</th>\n",
       "      <th>PMV setpoint</th>\n",
       "      <th>epw</th>\n",
       "      <th>hour</th>\n",
       "      <th>datetime</th>\n",
       "      <th>aPMV_PlantaX08_Office_time series</th>\n",
       "      <th>aPMV Heating Setpoint_PlantaX08_Office_time series</th>\n",
       "      <th>aPMV Cooling Setpoint_PlantaX08_Office_time series</th>\n",
       "      <th>aPMV Heating Setpoint No Tolerance_PlantaX08_Office_time series</th>\n",
       "      <th>aPMV Cooling Setpoint No Tolerance_PlantaX08_Office_time series</th>\n",
       "    </tr>\n",
       "  </thead>\n",
       "  <tbody>\n",
       "    <tr>\n",
       "      <th>0</th>\n",
       "      <td>0.01</td>\n",
       "      <td>0.20</td>\n",
       "      <td>Sydney</td>\n",
       "      <td>1</td>\n",
       "      <td>2024-01-01 01:00:00</td>\n",
       "      <td>0.099331</td>\n",
       "      <td>-0.100401</td>\n",
       "      <td>0.099601</td>\n",
       "      <td>-0.200401</td>\n",
       "      <td>0.199601</td>\n",
       "    </tr>\n",
       "    <tr>\n",
       "      <th>1</th>\n",
       "      <td>0.01</td>\n",
       "      <td>0.20</td>\n",
       "      <td>Sydney</td>\n",
       "      <td>2</td>\n",
       "      <td>2024-01-01 02:00:00</td>\n",
       "      <td>0.097474</td>\n",
       "      <td>-0.100401</td>\n",
       "      <td>0.099601</td>\n",
       "      <td>-0.200401</td>\n",
       "      <td>0.199601</td>\n",
       "    </tr>\n",
       "    <tr>\n",
       "      <th>2</th>\n",
       "      <td>0.01</td>\n",
       "      <td>0.20</td>\n",
       "      <td>Sydney</td>\n",
       "      <td>3</td>\n",
       "      <td>2024-01-01 03:00:00</td>\n",
       "      <td>0.097966</td>\n",
       "      <td>-0.100401</td>\n",
       "      <td>0.099601</td>\n",
       "      <td>-0.200401</td>\n",
       "      <td>0.199601</td>\n",
       "    </tr>\n",
       "    <tr>\n",
       "      <th>3</th>\n",
       "      <td>0.01</td>\n",
       "      <td>0.20</td>\n",
       "      <td>Sydney</td>\n",
       "      <td>4</td>\n",
       "      <td>2024-01-01 04:00:00</td>\n",
       "      <td>0.098786</td>\n",
       "      <td>-0.100401</td>\n",
       "      <td>0.099601</td>\n",
       "      <td>-0.200401</td>\n",
       "      <td>0.199601</td>\n",
       "    </tr>\n",
       "    <tr>\n",
       "      <th>4</th>\n",
       "      <td>0.01</td>\n",
       "      <td>0.20</td>\n",
       "      <td>Sydney</td>\n",
       "      <td>5</td>\n",
       "      <td>2024-01-01 05:00:00</td>\n",
       "      <td>0.099169</td>\n",
       "      <td>-0.100401</td>\n",
       "      <td>0.099601</td>\n",
       "      <td>-0.200401</td>\n",
       "      <td>0.199601</td>\n",
       "    </tr>\n",
       "    <tr>\n",
       "      <th>...</th>\n",
       "      <td>...</td>\n",
       "      <td>...</td>\n",
       "      <td>...</td>\n",
       "      <td>...</td>\n",
       "      <td>...</td>\n",
       "      <td>...</td>\n",
       "      <td>...</td>\n",
       "      <td>...</td>\n",
       "      <td>...</td>\n",
       "      <td>...</td>\n",
       "    </tr>\n",
       "    <tr>\n",
       "      <th>157675</th>\n",
       "      <td>0.66</td>\n",
       "      <td>0.53</td>\n",
       "      <td>Seville</td>\n",
       "      <td>8756</td>\n",
       "      <td>2024-12-30 20:00:00</td>\n",
       "      <td>-0.296712</td>\n",
       "      <td>-0.725309</td>\n",
       "      <td>0.293959</td>\n",
       "      <td>-0.825309</td>\n",
       "      <td>0.393959</td>\n",
       "    </tr>\n",
       "    <tr>\n",
       "      <th>157676</th>\n",
       "      <td>0.66</td>\n",
       "      <td>0.53</td>\n",
       "      <td>Seville</td>\n",
       "      <td>8757</td>\n",
       "      <td>2024-12-30 21:00:00</td>\n",
       "      <td>-0.523263</td>\n",
       "      <td>-0.725309</td>\n",
       "      <td>0.293959</td>\n",
       "      <td>-0.825309</td>\n",
       "      <td>0.393959</td>\n",
       "    </tr>\n",
       "    <tr>\n",
       "      <th>157677</th>\n",
       "      <td>0.66</td>\n",
       "      <td>0.53</td>\n",
       "      <td>Seville</td>\n",
       "      <td>8758</td>\n",
       "      <td>2024-12-30 22:00:00</td>\n",
       "      <td>-0.718538</td>\n",
       "      <td>-0.725309</td>\n",
       "      <td>0.293959</td>\n",
       "      <td>-0.825309</td>\n",
       "      <td>0.393959</td>\n",
       "    </tr>\n",
       "    <tr>\n",
       "      <th>157678</th>\n",
       "      <td>0.66</td>\n",
       "      <td>0.53</td>\n",
       "      <td>Seville</td>\n",
       "      <td>8759</td>\n",
       "      <td>2024-12-30 23:00:00</td>\n",
       "      <td>-0.886391</td>\n",
       "      <td>-0.725309</td>\n",
       "      <td>0.293959</td>\n",
       "      <td>-0.825309</td>\n",
       "      <td>0.393959</td>\n",
       "    </tr>\n",
       "    <tr>\n",
       "      <th>157679</th>\n",
       "      <td>0.66</td>\n",
       "      <td>0.53</td>\n",
       "      <td>Seville</td>\n",
       "      <td>8760</td>\n",
       "      <td>2024-12-31 00:00:00</td>\n",
       "      <td>-0.972892</td>\n",
       "      <td>-0.725309</td>\n",
       "      <td>0.293959</td>\n",
       "      <td>-0.825309</td>\n",
       "      <td>0.393959</td>\n",
       "    </tr>\n",
       "  </tbody>\n",
       "</table>\n",
       "<p>157680 rows × 10 columns</p>\n",
       "</div>"
      ],
      "text/plain": [
       "        Adaptive coefficient  PMV setpoint      epw  hour            datetime  \\\n",
       "0                       0.01          0.20   Sydney     1 2024-01-01 01:00:00   \n",
       "1                       0.01          0.20   Sydney     2 2024-01-01 02:00:00   \n",
       "2                       0.01          0.20   Sydney     3 2024-01-01 03:00:00   \n",
       "3                       0.01          0.20   Sydney     4 2024-01-01 04:00:00   \n",
       "4                       0.01          0.20   Sydney     5 2024-01-01 05:00:00   \n",
       "...                      ...           ...      ...   ...                 ...   \n",
       "157675                  0.66          0.53  Seville  8756 2024-12-30 20:00:00   \n",
       "157676                  0.66          0.53  Seville  8757 2024-12-30 21:00:00   \n",
       "157677                  0.66          0.53  Seville  8758 2024-12-30 22:00:00   \n",
       "157678                  0.66          0.53  Seville  8759 2024-12-30 23:00:00   \n",
       "157679                  0.66          0.53  Seville  8760 2024-12-31 00:00:00   \n",
       "\n",
       "        aPMV_PlantaX08_Office_time series  \\\n",
       "0                                0.099331   \n",
       "1                                0.097474   \n",
       "2                                0.097966   \n",
       "3                                0.098786   \n",
       "4                                0.099169   \n",
       "...                                   ...   \n",
       "157675                          -0.296712   \n",
       "157676                          -0.523263   \n",
       "157677                          -0.718538   \n",
       "157678                          -0.886391   \n",
       "157679                          -0.972892   \n",
       "\n",
       "        aPMV Heating Setpoint_PlantaX08_Office_time series  \\\n",
       "0                                               -0.100401    \n",
       "1                                               -0.100401    \n",
       "2                                               -0.100401    \n",
       "3                                               -0.100401    \n",
       "4                                               -0.100401    \n",
       "...                                                   ...    \n",
       "157675                                          -0.725309    \n",
       "157676                                          -0.725309    \n",
       "157677                                          -0.725309    \n",
       "157678                                          -0.725309    \n",
       "157679                                          -0.725309    \n",
       "\n",
       "        aPMV Cooling Setpoint_PlantaX08_Office_time series  \\\n",
       "0                                                0.099601    \n",
       "1                                                0.099601    \n",
       "2                                                0.099601    \n",
       "3                                                0.099601    \n",
       "4                                                0.099601    \n",
       "...                                                   ...    \n",
       "157675                                           0.293959    \n",
       "157676                                           0.293959    \n",
       "157677                                           0.293959    \n",
       "157678                                           0.293959    \n",
       "157679                                           0.293959    \n",
       "\n",
       "        aPMV Heating Setpoint No Tolerance_PlantaX08_Office_time series  \\\n",
       "0                                               -0.200401                 \n",
       "1                                               -0.200401                 \n",
       "2                                               -0.200401                 \n",
       "3                                               -0.200401                 \n",
       "4                                               -0.200401                 \n",
       "...                                                   ...                 \n",
       "157675                                          -0.825309                 \n",
       "157676                                          -0.825309                 \n",
       "157677                                          -0.825309                 \n",
       "157678                                          -0.825309                 \n",
       "157679                                          -0.825309                 \n",
       "\n",
       "        aPMV Cooling Setpoint No Tolerance_PlantaX08_Office_time series  \n",
       "0                                                0.199601                \n",
       "1                                                0.199601                \n",
       "2                                                0.199601                \n",
       "3                                                0.199601                \n",
       "4                                                0.199601                \n",
       "...                                                   ...                \n",
       "157675                                           0.393959                \n",
       "157676                                           0.393959                \n",
       "157677                                           0.393959                \n",
       "157678                                           0.393959                \n",
       "157679                                           0.393959                \n",
       "\n",
       "[157680 rows x 10 columns]"
      ]
     },
     "execution_count": 45,
     "metadata": {},
     "output_type": "execute_result"
    }
   ],
   "source": [
    "parametric.get_hourly_df()\n",
    "parametric.outputs_param_simulation_hourly"
   ]
  },
  {
   "cell_type": "markdown",
   "id": "dbac2c53-1b49-43a5-b8c7-02877ec8b4aa",
   "metadata": {},
   "source": [
    "Let's prepare the `outputs_param_simulation_hourly` df for plotting:"
   ]
  },
  {
   "cell_type": "code",
   "execution_count": 46,
   "id": "921324d1-f102-4bd3-b43e-340e435bdca0",
   "metadata": {},
   "outputs": [],
   "source": [
    "#Let's make a copy of the dataframe to not to modify the original one\n",
    "df = parametric.outputs_param_simulation_hourly.copy()\n",
    "\n",
    "#Let's remove the columns where value is the same for all rows\n",
    "for c in df.columns:\n",
    "    if len(set(df[c])) == 1:\n",
    "        df = df.drop(columns=[c])\n",
    "#Now let's remove the hour and datetime columns, since will\n",
    "df = df.drop(columns=['hour'])\n",
    "\n",
    "# Now let's reshape the df for plotting purposes\n",
    "df = df.melt(id_vars=['datetime', 'Adaptive coefficient', 'PMV setpoint','epw'])\n"
   ]
  },
  {
   "cell_type": "markdown",
   "id": "14dfbd82-2e4f-45b6-96ca-da72265e117c",
   "metadata": {},
   "source": [
    "Now, we're going to plot time on x-axis, to see the variarion of the aPMV values throughout the year:"
   ]
  },
  {
   "cell_type": "code",
   "execution_count": 47,
   "id": "b673ca88-bbd8-4c89-989e-7cf7c613e90c",
   "metadata": {},
   "outputs": [
    {
     "data": {
      "image/png": "[encoded data removed]",
      "text/plain": [
       "<Figure size 1413.25x900 with 9 Axes>"
      ]
     },
     "metadata": {},
     "output_type": "display_data"
    }
   ],
   "source": [
    "g = sns.FacetGrid(\n",
    "    data=df[df['epw'].str.contains('Sydney')],\n",
    "    row='Adaptive coefficient',\n",
    "    col='PMV setpoint'\n",
    ")\n",
    "g.map_dataframe(\n",
    "    sns.lineplot,\n",
    "    x='datetime',\n",
    "    y='value',\n",
    "    hue='variable',\n",
    ")\n",
    "g.set_axis_labels('Time', 'aPMV')\n",
    "g.add_legend(loc='upper center', bbox_to_anchor=(0.5, 0))\n",
    "plt.tight_layout()\n"
   ]
  },
  {
   "cell_type": "markdown",
   "id": "58c1f0c5-42fa-4ed3-9c6e-55bb205af588",
   "metadata": {},
   "source": [
    "We could also do the same for Seville"
   ]
  },
  {
   "cell_type": "code",
   "execution_count": 48,
   "id": "f26daea2-d939-493b-8624-9a9ad66c611d",
   "metadata": {},
   "outputs": [
    {
     "data": {
      "image/png": "[encoded data removed]",
      "text/plain": [
       "<Figure size 1413.25x900 with 9 Axes>"
      ]
     },
     "metadata": {},
     "output_type": "display_data"
    }
   ],
   "source": [
    "g = sns.FacetGrid(\n",
    "    data=df[df['epw'].str.contains('Seville')],\n",
    "    row='Adaptive coefficient',\n",
    "    col='PMV setpoint'\n",
    ")\n",
    "g.map_dataframe(\n",
    "    sns.lineplot,\n",
    "    x='datetime',\n",
    "    y='value',\n",
    "    hue='variable',\n",
    ")\n",
    "g.set_axis_labels('Time', 'aPMV')\n",
    "g.add_legend(loc='upper center', bbox_to_anchor=(0.5, 0))\n",
    "plt.tight_layout()"
   ]
  },
  {
   "cell_type": "markdown",
   "id": "e0b253ef-b8ee-402b-a741-b4b89181e589",
   "metadata": {},
   "source": [
    "We're done with the example, so let's remove all new files, so that we can re-run it again."
   ]
  },
  {
   "cell_type": "code",
   "execution_count": 49,
   "id": "abefda96-72f4-4e8a-8d2a-5337647c480b",
   "metadata": {},
   "outputs": [
    {
     "data": {
      "text/plain": [
       "{'available_outputs', 'notebook_temp_dir'}"
      ]
     },
     "execution_count": 49,
     "metadata": {},
     "output_type": "execute_result"
    }
   ],
   "source": [
    "current_files = [i for i in listdir()]\n",
    "new_files = set(current_files) - set(original_files)\n",
    "new_files"
   ]
  },
  {
   "cell_type": "code",
   "execution_count": 50,
   "id": "f9dbc462-7f2b-40e2-b7b0-41e9243b3b59",
   "metadata": {},
   "outputs": [],
   "source": [
    "import os\n",
    "import shutil\n",
    "for item in new_files:\n",
    "    item_path = os.path.join(os.getcwd(), item)\n",
    "    if os.path.isfile(item_path):\n",
    "        os.remove(item_path)\n",
    "    elif os.path.isdir(item_path):\n",
    "        shutil.rmtree(item_path)"
   ]
  }
 ],
 "metadata": {
  "kernelspec": {
   "display_name": "Python 3 (ipykernel)",
   "language": "python",
   "name": "python3"
  },
  "language_info": {
   "codemirror_mode": {
    "name": "ipython",
    "version": 3
   },
   "file_extension": ".py",
   "mimetype": "text/x-python",
   "name": "python",
   "nbconvert_exporter": "python",
   "pygments_lexer": "ipython3",
   "version": "3.9.13"
  }
 },
 "nbformat": 4,
 "nbformat_minor": 5
}
