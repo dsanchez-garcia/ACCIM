{
 "cells": [
  {
   "cell_type": "markdown",
   "id": "2cf45ee0-4144-4034-99a9-311270c74d30",
   "metadata": {},
   "source": [
    "# Parametric simulation using accim predefined models"
   ]
  },
  {
   "cell_type": "code",
   "execution_count": 1,
   "id": "f71c6322-10f1-4fde-bc8d-358163b8619b",
   "metadata": {},
   "outputs": [],
   "source": [
    "#todo import qgrid to manually change output dfs"
   ]
  },
  {
   "cell_type": "code",
   "execution_count": 2,
   "id": "a8361222-b96d-4121-9560-1480e3ee4f44",
   "metadata": {},
   "outputs": [
    {
     "name": "stderr",
     "output_type": "stream",
     "text": [
      "C:\\Users\\usuario\\AppData\\Local\\Programs\\Python\\Python39\\lib\\site-packages\\tqdm\\auto.py:21: TqdmWarning: IProgress not found. Please update jupyter and ipywidgets. See https://ipywidgets.readthedocs.io/en/stable/user_install.html\n",
      "  from .autonotebook import tqdm as notebook_tqdm\n"
     ]
    }
   ],
   "source": [
    "import accim\n",
    "from accim.parametric_and_optimisation.objectives import return_time_series\n",
    "from besos import eppy_funcs as ef\n",
    "from matplotlib import pyplot as plt\n",
    "from accim.utils import print_available_outputs_mod\n",
    "from accim.parametric_and_optimisation.main import OptimParamSimulation, get_rdd_file_as_df, get_mdd_file_as_df, parse_mtd_file\n",
    "from os import listdir\n"
   ]
  },
  {
   "cell_type": "markdown",
   "id": "c699ceba-f765-47c5-b5fd-b0cee5522b3a",
   "metadata": {},
   "source": [
    "Let's have a look at the files we currently have in the path:"
   ]
  },
  {
   "cell_type": "code",
   "execution_count": 3,
   "id": "233674c3-f15d-4917-aa47-430ae91486d6",
   "metadata": {},
   "outputs": [
    {
     "data": {
      "text/plain": [
       "['.ipynb_checkpoints',\n",
       " 'accim_predefined_model.ipynb',\n",
       " 'Seville.epw',\n",
       " 'Sydney.epw',\n",
       " 'TestModel.idf',\n",
       " '__init__.py']"
      ]
     },
     "execution_count": 3,
     "metadata": {},
     "output_type": "execute_result"
    }
   ],
   "source": [
    "original_files = [i for i in listdir()]\n",
    "original_files"
   ]
  },
  {
   "cell_type": "markdown",
   "id": "16e31d87-3a87-40c1-aeef-d6ea1171291a",
   "metadata": {},
   "source": [
    "Firstly, the IDF must be read using besos's `get_building` function."
   ]
  },
  {
   "cell_type": "code",
   "execution_count": 4,
   "id": "7d6e13f6-7466-4e96-a559-8c771895c1ac",
   "metadata": {},
   "outputs": [],
   "source": [
    "building = ef.get_building('TestModel.idf')"
   ]
  },
  {
   "cell_type": "markdown",
   "id": "affcedd2-3206-4178-bb93-3ae151e04301",
   "metadata": {},
   "source": [
    "For this analysis, we want to use the HVAC system in all hours of the year, so that temperature is always comfortable. Therefore, we are going to set the occupancy to always on by means of the function `accim.utils.set_occupancy_to_always`, in which we input the IDF class instance we read in the previous cell."
   ]
  },
  {
   "cell_type": "code",
   "execution_count": 5,
   "id": "f5c2feb1-ca1e-4b8a-bc50-1f116cca9fa4",
   "metadata": {},
   "outputs": [
    {
     "name": "stdout",
     "output_type": "stream",
     "text": [
      "On 24/7 Schedule:Compact object was already in the model.\n",
      "People Block1:Zone2 Number of People Schedule Name has been set to always occupied.\n",
      "People Block1:Zone1 Number of People Schedule Name has been set to always occupied.\n"
     ]
    }
   ],
   "source": [
    "accim.utils.set_occupancy_to_always(idf_object=building)"
   ]
  },
  {
   "cell_type": "markdown",
   "id": "29827b0f-9086-4e26-873b-db2f7818a18a",
   "metadata": {},
   "source": [
    "Now, let's start with the settings for the parametric analysis. First, let's instantiate the class `OptimParamSimulation`, and let's pass the IDF instance in the argument `building`. Argument `parameters_type` can take 3 different strings:\n",
    "- \"accim predefined model\", in which models are those previously defined in accim (ComfStand=0 to ComfStand=22);\n",
    "- \"accim custom model\", in which key parameters of the adaptive comfort model are defined in the relevant arguments;\n",
    "- \"apmv setpoints\", in which setpoints are based on the aPMV (Adaptive Predicted Mean Vote) instead of the PMV index;\n",
    "\n",
    "In this case, we're going to use the 'accim predefined model' type, in which the models we can use are those already defined in accim."
   ]
  },
  {
   "cell_type": "code",
   "execution_count": 6,
   "id": "2a5fa261-bfee-4b08-a8fe-c62f46a481eb",
   "metadata": {},
   "outputs": [
    {
     "name": "stdout",
     "output_type": "stream",
     "text": [
      "\n",
      "--------------------------------------------------------\n",
      "Adaptive-Comfort-Control-Implemented Model (ACCIM) v0.7.5\n",
      "--------------------------------------------------------\n",
      "\n",
      "This tool allows to apply adaptive setpoint temperatures. \n",
      "For further information, please read the documentation: \n",
      "https://accim.readthedocs.io/en/master/\n",
      "For a visual understanding of the tool, please visit the following jupyter notebooks:\n",
      "-    Using addAccis() to apply adaptive setpoint temperatures\n",
      "https://accim.readthedocs.io/en/master/jupyter_notebooks/addAccis/using_addAccis.html\n",
      "-    Using rename_epw_files() to rename the EPWs for proper data analysis after simulation\n",
      "https://accim.readthedocs.io/en/master/jupyter_notebooks/rename_epw_files/using_rename_epw_files.html\n",
      "-    Using runEp() to directly run simulations with EnergyPlus\n",
      "https://accim.readthedocs.io/en/master/jupyter_notebooks/runEp/using_runEp.html\n",
      "-    Using the class Table() for data analysis\n",
      "https://accim.readthedocs.io/en/master/jupyter_notebooks/Table/using_Table.html\n",
      "-    Full example\n",
      "https://accim.readthedocs.io/en/master/jupyter_notebooks/full_example/full_example.html\n",
      "\n",
      "Starting with the process.\n",
      "Basic input data:\n",
      "ScriptType is: vrf_mm\n",
      "Supply Air Temperature Input Method is: temperature difference\n",
      "Output type is: standard\n",
      "Output frequencies are: \n",
      "['hourly']\n",
      "EnergyPlus version is: 23.1\n",
      "Temperature Control method is: temperature\n",
      "\n",
      "=======================START OF GENERIC IDF FILE GENERATION PROCESS=======================\n",
      "\n",
      "Starting with file:\n",
      "The occupied zones in the model <besos.IDF_class.IDF object at 0x0000024215858DF0> are:\n",
      "BLOCK1:ZONE2\n",
      "BLOCK1:ZONE1\n",
      "The windows and doors in the model <besos.IDF_class.IDF object at 0x0000024215858DF0> are:\n",
      "Block1_Zone2_Wall_3_0_0_0_0_0_Win\n",
      "Block1_Zone2_Wall_4_0_0_0_0_0_Win\n",
      "Block1_Zone2_Wall_5_0_0_0_0_0_Win\n",
      "Block1_Zone1_Wall_2_0_0_0_0_0_Win\n",
      "Block1_Zone1_Wall_3_0_0_0_0_0_Win\n",
      "Block1_Zone1_Wall_5_0_0_0_0_0_Win\n",
      "The zones in the model <besos.IDF_class.IDF object at 0x0000024215858DF0> are:\n",
      "BLOCK1_ZONE2\n",
      "BLOCK1_ZONE1\n",
      "The people objects in the model have been amended.\n",
      "BLOCK1:ZONE2 Thermostat has been added\n",
      "BLOCK1:ZONE1 Thermostat has been added\n",
      "On Schedule already was in the model\n",
      "TypOperativeTempControlSch Schedule already was in the model\n",
      "All ZoneHVAC:IdealLoadsAirSystem Heating and Cooling availability schedules has been set to on\n",
      "On 24/7 Schedule already was in the model\n",
      "Control type schedule: Always 4 Schedule has been added\n",
      "Relative humidity setpoint schedule: Always 50.00 Schedule has been added\n",
      "Heating Fanger comfort setpoint: Always -0.5 Schedule has been added\n",
      "Cooling Fanger comfort setpoint: Always  0.1 Schedule has been added\n",
      "Zone CO2 setpoint: Always 900ppm Schedule has been added\n",
      "Min CO2 concentration: Always 600ppm Schedule has been added\n",
      "Generic contaminant setpoint: Always 0.5ppm Schedule has been added\n",
      "Air distribution effectiveness (always 1) Schedule has been added\n",
      "VRF Heating Cooling (Northern Hemisphere) Schedule has been added\n",
      "DefaultFanEffRatioCurve Curve:Cubic Object has been added\n",
      "VRFTUCoolCapFT Curve:Cubic Object has been added\n",
      "VRFTUHeatCapFT Curve:Cubic Object has been added\n",
      "VRFCoolCapFTBoundary Curve:Cubic Object has been added\n",
      "VRFCoolEIRFTBoundary Curve:Cubic Object has been added\n",
      "CoolingEIRLowPLR Curve:Cubic Object has been added\n",
      "VRFHeatCapFTBoundary Curve:Cubic Object has been added\n",
      "VRFHeatEIRFTBoundary Curve:Cubic Object has been added\n",
      "HeatingEIRLowPLR Curve:Cubic Object has been added\n",
      "DefaultFanPowerRatioCurve Curve:Exponent Object has been added\n",
      "DXHtgCoilDefrostEIRFT Curve:Biquadratic Object has been added\n",
      "VRFCoolCapFT Curve:Biquadratic Object has been added\n",
      "VRFCoolCapFTHi Curve:Biquadratic Object has been added\n",
      "VRFCoolEIRFT Curve:Biquadratic Object has been added\n",
      "VRFCoolEIRFTHi Curve:Biquadratic Object has been added\n",
      "VRFHeatCapFT Curve:Biquadratic Object has been added\n",
      "VRFHeatCapFTHi Curve:Biquadratic Object has been added\n",
      "VRFHeatEIRFT Curve:Biquadratic Object has been added\n",
      "VRFHeatEIRFTHi Curve:Biquadratic Object has been added\n",
      "CoolingLengthCorrectionFactor Curve:Biquadratic Object has been added\n",
      "VRF Piping Correction Factor for Length in Heating Mode Curve:Biquadratic Object has been added\n",
      "VRF Heat Recovery Cooling Capacity Modifier Curve:Biquadratic Object has been added\n",
      "VRF Heat Recovery Cooling Energy Modifier Curve:Biquadratic Object has been added\n",
      "VRF Heat Recovery Heating Capacity Modifier Curve:Biquadratic Object has been added\n",
      "VRF Heat Recovery Heating Energy Modifier Curve:Biquadratic Object has been added\n",
      "VRFACCoolCapFFF Curve:Quadratic Object has been added\n",
      "CoolingEIRHiPLR Curve:Quadratic Object has been added\n",
      "VRFCPLFFPLR Curve:Quadratic Object has been added\n",
      "HeatingEIRHiPLR Curve:Quadratic Object has been added\n",
      "CoolingCombRatio Curve:Linear Object has been added\n",
      "HeatingCombRatio Curve:Linear Object has been added\n",
      "VRF Outdoor Unit_BLOCK1:ZONE2 AirConditioner:VariableRefrigerantFlow Object has been added\n",
      "VRF Outdoor Unit_BLOCK1:ZONE1 AirConditioner:VariableRefrigerantFlow Object has been added\n",
      "VRF Outdoor Unit_BLOCK1:ZONE2 Outdoor Air Node Object has been added\n",
      "VRF Outdoor Unit_BLOCK1:ZONE2 Zone List Object has been added\n",
      "VRF Outdoor Unit_BLOCK1:ZONE1 Outdoor Air Node Object has been added\n",
      "VRF Outdoor Unit_BLOCK1:ZONE1 Zone List Object has been added\n",
      "BLOCK1:ZONE2 Sizing:Zone Object has been added\n",
      "BLOCK1:ZONE1 Sizing:Zone Object has been added\n",
      "BLOCK1:ZONE2 Design Specification Outdoor Air Object has been added\n",
      "BLOCK1:ZONE1 Design Specification Outdoor Air Object has been added\n",
      "BLOCK1:ZONE2 Design Specification Zone Air Distribution Object has been added\n",
      "BLOCK1:ZONE1 Design Specification Zone Air Distribution Object has been added\n",
      "BLOCK1:ZONE2 Nodelist Objects has been added\n",
      "BLOCK1:ZONE1 Nodelist Objects has been added\n",
      "BLOCK1:ZONE2 ZoneHVAC:EquipmentConnections Objects has been added\n",
      "BLOCK1:ZONE1 ZoneHVAC:EquipmentConnections Objects has been added\n",
      "BLOCK1:ZONE2 ZoneHVAC:EquipmentList Objects has been added\n",
      "BLOCK1:ZONE1 ZoneHVAC:EquipmentList Objects has been added\n",
      "BLOCK1:ZONE2 ZoneHVAC:TerminalUnit:VariableRefrigerantFlow Object has been added\n",
      "BLOCK1:ZONE1 ZoneHVAC:TerminalUnit:VariableRefrigerantFlow Object has been added\n",
      "BLOCK1:ZONE2 Coil:Cooling:DX:VariableRefrigerantFlow Object has been added\n",
      "BLOCK1:ZONE1 Coil:Cooling:DX:VariableRefrigerantFlow Object has been added\n",
      "BLOCK1:ZONE2 Coil:Heating:DX:VariableRefrigerantFlow Object has been added\n",
      "BLOCK1:ZONE1 Coil:Heating:DX:VariableRefrigerantFlow Object has been added\n",
      "BLOCK1:ZONE2 Fan:ConstantVolume Object has been added\n",
      "BLOCK1:ZONE1 Fan:ConstantVolume Object has been added\n",
      "Vent_SP_temp Schedule has been added\n",
      "AHST_Sch_BLOCK1_ZONE2 Schedule has been added\n",
      "ACST_Sch_BLOCK1_ZONE2 Schedule has been added\n",
      "AHST_Sch_BLOCK1_ZONE1 Schedule has been added\n",
      "ACST_Sch_BLOCK1_ZONE1 Schedule has been added\n",
      "Added - SetComfTemp Program\n",
      "Added - CountHours_BLOCK1_ZONE2 Program\n",
      "Added - CountHours_BLOCK1_ZONE1 Program\n",
      "Added - SetAppLimits Program\n",
      "Added - ApplyCAT Program\n",
      "Added - SetAST Program\n",
      "Added - SetASTnoTol Program\n",
      "Added - CountHoursNoApp_BLOCK1_ZONE2 Program\n",
      "Added - SetGeoVarBLOCK1_ZONE2 Program\n",
      "Added - CountHoursNoApp_BLOCK1_ZONE1 Program\n",
      "Added - SetGeoVarBLOCK1_ZONE1 Program\n",
      "Added - SetInputData Program\n",
      "Added - SetVOFinputData Program\n",
      "Added - SetVST Program\n",
      "Added - ApplyAST_BLOCK1_ZONE2 Program\n",
      "Added - ApplyAST_BLOCK1_ZONE1 Program\n",
      "Added - SetMyVOF_Block1_Zone2_Wall_3_0_0_0_0_0_Win Program\n",
      "Added - SetWindowOperation_Block1_Zone2_Wall_3_0_0_0_0_0_Win Program\n",
      "Added - SetMyVOF_Block1_Zone2_Wall_4_0_0_0_0_0_Win Program\n",
      "Added - SetWindowOperation_Block1_Zone2_Wall_4_0_0_0_0_0_Win Program\n",
      "Added - SetMyVOF_Block1_Zone2_Wall_5_0_0_0_0_0_Win Program\n",
      "Added - SetWindowOperation_Block1_Zone2_Wall_5_0_0_0_0_0_Win Program\n",
      "Added - SetMyVOF_Block1_Zone1_Wall_2_0_0_0_0_0_Win Program\n",
      "Added - SetWindowOperation_Block1_Zone1_Wall_2_0_0_0_0_0_Win Program\n",
      "Added - SetMyVOF_Block1_Zone1_Wall_3_0_0_0_0_0_Win Program\n",
      "Added - SetWindowOperation_Block1_Zone1_Wall_3_0_0_0_0_0_Win Program\n",
      "Added - SetMyVOF_Block1_Zone1_Wall_5_0_0_0_0_0_Win Program\n",
      "Added - SetWindowOperation_Block1_Zone1_Wall_5_0_0_0_0_0_Win Program\n",
      "Added - Comfort Temperature Output Variable\n",
      "Added - Adaptive Cooling Setpoint Temperature Output Variable\n",
      "Added - Adaptive Heating Setpoint Temperature Output Variable\n",
      "Added - Adaptive Cooling Setpoint Temperature_No Tolerance Output Variable\n",
      "Added - Adaptive Heating Setpoint Temperature_No Tolerance Output Variable\n",
      "Added - z_test_ComfStand Output Variable\n",
      "Added - z_test_ACSTaul Output Variable\n",
      "Added - z_test_ACSTall Output Variable\n",
      "Added - z_test_AHSTaul Output Variable\n",
      "Added - z_test_AHSTall Output Variable\n",
      "Added - z_test_CAT Output Variable\n",
      "Added - z_test_ACSToffset Output Variable\n",
      "Added - z_test_AHSToffset Output Variable\n",
      "Added - z_test_ComfMod Output Variable\n",
      "Added - z_test_ACSTtol Output Variable\n",
      "Added - z_test_SetpointAcc Output Variable\n",
      "Added - z_test_CustAST_m Output Variable\n",
      "Added - z_test_CustAST_n Output Variable\n",
      "Added - z_test_AHSTtol Output Variable\n",
      "Added - Ventilation Setpoint Temperature Output Variable\n",
      "Added - Minimum Outdoor Temperature for ventilation Output Variable\n",
      "Added - Minimum Outdoor Temperature Difference for ventilation Output Variable\n",
      "Added - Maximum Outdoor Temperature Difference for ventilation Output Variable\n",
      "Added - Multiplier for Ventilation Opening Factor Output Variable\n",
      "Added - Comfortable Hours_No Applicability_BLOCK1_ZONE2 Output Variable\n",
      "Added - Comfortable Hours_No Applicability_BLOCK1_ZONE1 Output Variable\n",
      "Added - Comfortable Hours_Applicability_BLOCK1_ZONE2 Output Variable\n",
      "Added - Comfortable Hours_Applicability_BLOCK1_ZONE1 Output Variable\n",
      "Added - Occupied Comfortable Hours_No Applicability_BLOCK1_ZONE2 Output Variable\n",
      "Added - Occupied Comfortable Hours_No Applicability_BLOCK1_ZONE1 Output Variable\n",
      "Added - Occupied Discomfortable Hours_No Applicability_BLOCK1_ZONE2 Output Variable\n",
      "Added - Occupied Discomfortable Hours_No Applicability_BLOCK1_ZONE1 Output Variable\n",
      "Added - Occupied Hours_BLOCK1_ZONE2 Output Variable\n",
      "Added - Occupied Hours_BLOCK1_ZONE1 Output Variable\n",
      "Added - Discomfortable Applicable Hot Hours_BLOCK1_ZONE2 Output Variable\n",
      "Added - Discomfortable Applicable Hot Hours_BLOCK1_ZONE1 Output Variable\n",
      "Added - Discomfortable Applicable Cold Hours_BLOCK1_ZONE2 Output Variable\n",
      "Added - Discomfortable Applicable Cold Hours_BLOCK1_ZONE1 Output Variable\n",
      "Added - Discomfortable Non Applicable Hot Hours_BLOCK1_ZONE2 Output Variable\n",
      "Added - Discomfortable Non Applicable Hot Hours_BLOCK1_ZONE1 Output Variable\n",
      "Added - Discomfortable Non Applicable Cold Hours_BLOCK1_ZONE2 Output Variable\n",
      "Added - Discomfortable Non Applicable Cold Hours_BLOCK1_ZONE1 Output Variable\n",
      "Added - Zone Floor Area_BLOCK1_ZONE2 Output Variable\n",
      "Added - Zone Floor Area_BLOCK1_ZONE1 Output Variable\n",
      "Added - Zone Air Volume_BLOCK1_ZONE2 Output Variable\n",
      "Added - Zone Air Volume_BLOCK1_ZONE1 Output Variable\n",
      "Added - People Occupant Count_BLOCK1_ZONE2 Output Variable\n",
      "Added - People Occupant Count_BLOCK1_ZONE1 Output Variable\n",
      "Added - Ventilation Hours_BLOCK1_ZONE2 Output Variable\n",
      "Added - Ventilation Hours_BLOCK1_ZONE1 Output Variable\n",
      "Global variables objects have been added\n",
      "Internal variables objects have been added\n",
      "Added - RMOT Sensor\n",
      "Added - PMOT Sensor\n",
      "Added - Occ_count_BLOCK1_ZONE2 Sensor\n",
      "Added - Occ_count_BLOCK1_ZONE1 Sensor\n",
      "Added - BLOCK1_ZONE2_OpT Sensor\n",
      "Added - BLOCK1_ZONE2_WindSpeed Sensor\n",
      "Added - BLOCK1_ZONE2_OutT Sensor\n",
      "Added - BLOCK1_ZONE1_OpT Sensor\n",
      "Added - BLOCK1_ZONE1_WindSpeed Sensor\n",
      "Added - BLOCK1_ZONE1_OutT Sensor\n",
      "Added - Block1_Zone2_Wall_3_0_0_0_0_0_Win_OpT Sensor\n",
      "Added - Block1_Zone2_Wall_3_0_0_0_0_0_Win_WindSpeed Sensor\n",
      "Added - Block1_Zone2_Wall_3_0_0_0_0_0_Win_OutT Sensor\n",
      "Added - Block1_Zone2_Wall_3_0_0_0_0_0_Win_Occ_count Sensor\n",
      "Added - Block1_Zone2_Wall_4_0_0_0_0_0_Win_OpT Sensor\n",
      "Added - Block1_Zone2_Wall_4_0_0_0_0_0_Win_WindSpeed Sensor\n",
      "Added - Block1_Zone2_Wall_4_0_0_0_0_0_Win_OutT Sensor\n",
      "Added - Block1_Zone2_Wall_4_0_0_0_0_0_Win_Occ_count Sensor\n",
      "Added - Block1_Zone2_Wall_5_0_0_0_0_0_Win_OpT Sensor\n",
      "Added - Block1_Zone2_Wall_5_0_0_0_0_0_Win_WindSpeed Sensor\n",
      "Added - Block1_Zone2_Wall_5_0_0_0_0_0_Win_OutT Sensor\n",
      "Added - Block1_Zone2_Wall_5_0_0_0_0_0_Win_Occ_count Sensor\n",
      "Added - Block1_Zone1_Wall_2_0_0_0_0_0_Win_OpT Sensor\n",
      "Added - Block1_Zone1_Wall_2_0_0_0_0_0_Win_WindSpeed Sensor\n",
      "Added - Block1_Zone1_Wall_2_0_0_0_0_0_Win_OutT Sensor\n",
      "Added - Block1_Zone1_Wall_2_0_0_0_0_0_Win_Occ_count Sensor\n",
      "Added - Block1_Zone1_Wall_3_0_0_0_0_0_Win_OpT Sensor\n",
      "Added - Block1_Zone1_Wall_3_0_0_0_0_0_Win_WindSpeed Sensor\n",
      "Added - Block1_Zone1_Wall_3_0_0_0_0_0_Win_OutT Sensor\n",
      "Added - Block1_Zone1_Wall_3_0_0_0_0_0_Win_Occ_count Sensor\n",
      "Added - Block1_Zone1_Wall_5_0_0_0_0_0_Win_OpT Sensor\n",
      "Added - Block1_Zone1_Wall_5_0_0_0_0_0_Win_WindSpeed Sensor\n",
      "Added - Block1_Zone1_Wall_5_0_0_0_0_0_Win_OutT Sensor\n",
      "Added - Block1_Zone1_Wall_5_0_0_0_0_0_Win_Occ_count Sensor\n",
      "Added - OutT Sensor\n",
      "Added - AHST_Act_BLOCK1_ZONE2 Actuator\n",
      "Added - ACST_Act_BLOCK1:ZONE2 Actuator\n",
      "Added - AHST_Act_BLOCK1_ZONE1 Actuator\n",
      "Added - ACST_Act_BLOCK1:ZONE1 Actuator\n",
      "Added - Block1_Zone2_Wall_3_0_0_0_0_0_Win_VentOpenFact Actuator\n",
      "Added - Block1_Zone2_Wall_4_0_0_0_0_0_Win_VentOpenFact Actuator\n",
      "Added - Block1_Zone2_Wall_5_0_0_0_0_0_Win_VentOpenFact Actuator\n",
      "Added - Block1_Zone1_Wall_2_0_0_0_0_0_Win_VentOpenFact Actuator\n",
      "Added - Block1_Zone1_Wall_3_0_0_0_0_0_Win_VentOpenFact Actuator\n",
      "Added - Block1_Zone1_Wall_5_0_0_0_0_0_Win_VentOpenFact Actuator\n",
      "Added - BLOCK1_ZONE2_CoolCoil Sensor\n",
      "Added - BLOCK1_ZONE2_HeatCoil Sensor\n",
      "Added - BLOCK1_ZONE1_CoolCoil Sensor\n",
      "Added - BLOCK1_ZONE1_HeatCoil Sensor\n",
      "Added - Block1_Zone2_Wall_3_0_0_0_0_0_Win_CoolCoil Sensor\n",
      "Added - Block1_Zone2_Wall_3_0_0_0_0_0_Win_HeatCoil Sensor\n",
      "Added - Block1_Zone2_Wall_4_0_0_0_0_0_Win_CoolCoil Sensor\n",
      "Added - Block1_Zone2_Wall_4_0_0_0_0_0_Win_HeatCoil Sensor\n",
      "Added - Block1_Zone2_Wall_5_0_0_0_0_0_Win_CoolCoil Sensor\n",
      "Added - Block1_Zone2_Wall_5_0_0_0_0_0_Win_HeatCoil Sensor\n",
      "Added - Block1_Zone1_Wall_2_0_0_0_0_0_Win_CoolCoil Sensor\n",
      "Added - Block1_Zone1_Wall_2_0_0_0_0_0_Win_HeatCoil Sensor\n",
      "Added - Block1_Zone1_Wall_3_0_0_0_0_0_Win_CoolCoil Sensor\n",
      "Added - Block1_Zone1_Wall_3_0_0_0_0_0_Win_HeatCoil Sensor\n",
      "Added - Block1_Zone1_Wall_5_0_0_0_0_0_Win_CoolCoil Sensor\n",
      "Added - Block1_Zone1_Wall_5_0_0_0_0_0_Win_HeatCoil Sensor\n",
      "Added - SetComfTemp Program Calling Manager\n",
      "Added - CountHours_BLOCK1_ZONE2 Program Calling Manager\n",
      "Added - CountHours_BLOCK1_ZONE1 Program Calling Manager\n",
      "Added - SetAppLimits Program Calling Manager\n",
      "Added - ApplyCAT Program Calling Manager\n",
      "Added - SetAST Program Calling Manager\n",
      "Added - SetASTnoTol Program Calling Manager\n",
      "Added - CountHoursNoApp_BLOCK1_ZONE2 Program Calling Manager\n",
      "Added - SetGeoVarBLOCK1_ZONE2 Program Calling Manager\n",
      "Added - CountHoursNoApp_BLOCK1_ZONE1 Program Calling Manager\n",
      "Added - SetGeoVarBLOCK1_ZONE1 Program Calling Manager\n",
      "Added - SetInputData Program Calling Manager\n",
      "Added - SetVOFinputData Program Calling Manager\n",
      "Added - SetVST Program Calling Manager\n",
      "Added - ApplyAST_BLOCK1_ZONE2 Program Calling Manager\n",
      "Added - ApplyAST_BLOCK1_ZONE1 Program Calling Manager\n",
      "Added - SetMyVOF_Block1_Zone2_Wall_3_0_0_0_0_0_Win Program Calling Manager\n",
      "Added - SetWindowOperation_Block1_Zone2_Wall_3_0_0_0_0_0_Win Program Calling Manager\n",
      "Added - SetMyVOF_Block1_Zone2_Wall_4_0_0_0_0_0_Win Program Calling Manager\n",
      "Added - SetWindowOperation_Block1_Zone2_Wall_4_0_0_0_0_0_Win Program Calling Manager\n",
      "Added - SetMyVOF_Block1_Zone2_Wall_5_0_0_0_0_0_Win Program Calling Manager\n",
      "Added - SetWindowOperation_Block1_Zone2_Wall_5_0_0_0_0_0_Win Program Calling Manager\n",
      "Added - SetMyVOF_Block1_Zone1_Wall_2_0_0_0_0_0_Win Program Calling Manager\n",
      "Added - SetWindowOperation_Block1_Zone1_Wall_2_0_0_0_0_0_Win Program Calling Manager\n",
      "Added - SetMyVOF_Block1_Zone1_Wall_3_0_0_0_0_0_Win Program Calling Manager\n",
      "Added - SetWindowOperation_Block1_Zone1_Wall_3_0_0_0_0_0_Win Program Calling Manager\n",
      "Added - SetMyVOF_Block1_Zone1_Wall_5_0_0_0_0_0_Win Program Calling Manager\n",
      "Added - SetWindowOperation_Block1_Zone1_Wall_5_0_0_0_0_0_Win Program Calling Manager\n",
      "Added - Comfort Temperature Reporting FrequencyHourly Output:Variable data\n",
      "Added - Adaptive Cooling Setpoint Temperature Reporting FrequencyHourly Output:Variable data\n",
      "Added - Adaptive Heating Setpoint Temperature Reporting FrequencyHourly Output:Variable data\n",
      "Added - Adaptive Cooling Setpoint Temperature_No Tolerance Reporting FrequencyHourly Output:Variable data\n",
      "Added - Adaptive Heating Setpoint Temperature_No Tolerance Reporting FrequencyHourly Output:Variable data\n",
      "Added - z_test_ComfStand Reporting FrequencyHourly Output:Variable data\n",
      "Added - z_test_ACSTaul Reporting FrequencyHourly Output:Variable data\n",
      "Added - z_test_ACSTall Reporting FrequencyHourly Output:Variable data\n",
      "Added - z_test_AHSTaul Reporting FrequencyHourly Output:Variable data\n",
      "Added - z_test_AHSTall Reporting FrequencyHourly Output:Variable data\n",
      "Added - z_test_CAT Reporting FrequencyHourly Output:Variable data\n",
      "Added - z_test_ACSToffset Reporting FrequencyHourly Output:Variable data\n",
      "Added - z_test_AHSToffset Reporting FrequencyHourly Output:Variable data\n",
      "Added - z_test_ComfMod Reporting FrequencyHourly Output:Variable data\n",
      "Added - z_test_ACSTtol Reporting FrequencyHourly Output:Variable data\n",
      "Added - z_test_SetpointAcc Reporting FrequencyHourly Output:Variable data\n",
      "Added - z_test_CustAST_m Reporting FrequencyHourly Output:Variable data\n",
      "Added - z_test_CustAST_n Reporting FrequencyHourly Output:Variable data\n",
      "Added - z_test_AHSTtol Reporting FrequencyHourly Output:Variable data\n",
      "Added - Ventilation Setpoint Temperature Reporting FrequencyHourly Output:Variable data\n",
      "Added - Minimum Outdoor Temperature for ventilation Reporting FrequencyHourly Output:Variable data\n",
      "Added - Minimum Outdoor Temperature Difference for ventilation Reporting FrequencyHourly Output:Variable data\n",
      "Added - Maximum Outdoor Temperature Difference for ventilation Reporting FrequencyHourly Output:Variable data\n",
      "Added - Multiplier for Ventilation Opening Factor Reporting FrequencyHourly Output:Variable data\n",
      "Added - Comfortable Hours_No Applicability_BLOCK1_ZONE2 Reporting FrequencyHourly Output:Variable data\n",
      "Added - Comfortable Hours_No Applicability_BLOCK1_ZONE1 Reporting FrequencyHourly Output:Variable data\n",
      "Added - Comfortable Hours_Applicability_BLOCK1_ZONE2 Reporting FrequencyHourly Output:Variable data\n",
      "Added - Comfortable Hours_Applicability_BLOCK1_ZONE1 Reporting FrequencyHourly Output:Variable data\n",
      "Added - Occupied Comfortable Hours_No Applicability_BLOCK1_ZONE2 Reporting FrequencyHourly Output:Variable data\n",
      "Added - Occupied Comfortable Hours_No Applicability_BLOCK1_ZONE1 Reporting FrequencyHourly Output:Variable data\n",
      "Added - Occupied Discomfortable Hours_No Applicability_BLOCK1_ZONE2 Reporting FrequencyHourly Output:Variable data\n",
      "Added - Occupied Discomfortable Hours_No Applicability_BLOCK1_ZONE1 Reporting FrequencyHourly Output:Variable data\n",
      "Added - Occupied Hours_BLOCK1_ZONE2 Reporting FrequencyHourly Output:Variable data\n",
      "Added - Occupied Hours_BLOCK1_ZONE1 Reporting FrequencyHourly Output:Variable data\n",
      "Added - Discomfortable Applicable Hot Hours_BLOCK1_ZONE2 Reporting FrequencyHourly Output:Variable data\n",
      "Added - Discomfortable Applicable Hot Hours_BLOCK1_ZONE1 Reporting FrequencyHourly Output:Variable data\n",
      "Added - Discomfortable Applicable Cold Hours_BLOCK1_ZONE2 Reporting FrequencyHourly Output:Variable data\n",
      "Added - Discomfortable Applicable Cold Hours_BLOCK1_ZONE1 Reporting FrequencyHourly Output:Variable data\n",
      "Added - Discomfortable Non Applicable Hot Hours_BLOCK1_ZONE2 Reporting FrequencyHourly Output:Variable data\n",
      "Added - Discomfortable Non Applicable Hot Hours_BLOCK1_ZONE1 Reporting FrequencyHourly Output:Variable data\n",
      "Added - Discomfortable Non Applicable Cold Hours_BLOCK1_ZONE2 Reporting FrequencyHourly Output:Variable data\n",
      "Added - Discomfortable Non Applicable Cold Hours_BLOCK1_ZONE1 Reporting FrequencyHourly Output:Variable data\n",
      "Added - Zone Floor Area_BLOCK1_ZONE2 Reporting FrequencyHourly Output:Variable data\n",
      "Added - Zone Floor Area_BLOCK1_ZONE1 Reporting FrequencyHourly Output:Variable data\n",
      "Added - Zone Air Volume_BLOCK1_ZONE2 Reporting FrequencyHourly Output:Variable data\n",
      "Added - Zone Air Volume_BLOCK1_ZONE1 Reporting FrequencyHourly Output:Variable data\n",
      "Added - People Occupant Count_BLOCK1_ZONE2 Reporting FrequencyHourly Output:Variable data\n",
      "Added - People Occupant Count_BLOCK1_ZONE1 Reporting FrequencyHourly Output:Variable data\n",
      "Added - Ventilation Hours_BLOCK1_ZONE2 Reporting FrequencyHourly Output:Variable data\n",
      "Added - Ventilation Hours_BLOCK1_ZONE1 Reporting FrequencyHourly Output:Variable data\n",
      "Added - Zone Thermostat Operative Temperature Reporting FrequencyHourly Output:Variable data\n",
      "Added - Zone Thermostat Air Temperature Reporting FrequencyHourly Output:Variable data\n",
      "Added - Zone Operative Temperature Reporting FrequencyHourly Output:Variable data\n",
      "Added - Zone Thermal Comfort CEN 15251 Adaptive Model Running Average Outdoor Air Temperature Reporting FrequencyHourly Output:Variable data\n",
      "Added - Zone Thermal Comfort ASHRAE 55 Adaptive Model Running Average Outdoor Air Temperature Reporting FrequencyHourly Output:Variable data\n",
      "Added - Cooling Coil Total Cooling Rate Reporting FrequencyHourly Output:Variable data\n",
      "Added - Heating Coil Heating Rate Reporting FrequencyHourly Output:Variable data\n",
      "Added - Facility Total HVAC Electric Demand Power Reporting FrequencyHourly Output:Variable data\n",
      "Added - Facility Total HVAC Electricity Demand Rate Reporting FrequencyHourly Output:Variable data\n",
      "Added - AFN Surface Venting Window or Door Opening Factor Reporting FrequencyHourly Output:Variable data\n",
      "Added - AFN Zone Infiltration Air Change Rate Reporting FrequencyHourly Output:Variable data\n",
      "Added - AFN Zone Infiltration Volume Reporting FrequencyHourly Output:Variable data\n",
      "Added - AFN Zone Ventilation Air Change Rate Reporting FrequencyHourly Output:Variable data\n",
      "Added - AFN Zone Ventilation Volume Reporting FrequencyHourly Output:Variable data\n",
      "Added - Site Outdoor Air Drybulb Temperature Reporting FrequencyHourly Output:Variable data\n",
      "Added - Site Wind Speed Reporting FrequencyHourly Output:Variable data\n",
      "Added - Site Outdoor Air Relative Humidity Reporting FrequencyHourly Output:Variable data\n",
      "Added - AHST_Sch_BLOCK1_ZONE2 Reporting FrequencyHourly Output:Variable data\n",
      "Added - ACST_Sch_BLOCK1_ZONE2 Reporting FrequencyHourly Output:Variable data\n",
      "Added - AHST_Sch_BLOCK1_ZONE1 Reporting FrequencyHourly Output:Variable data\n",
      "Added - ACST_Sch_BLOCK1_ZONE1 Reporting FrequencyHourly Output:Variable data\n",
      "Added - VRF Heat Pump Cooling Electricity Energy Reporting FrequencyHourly Output:Variable data\n",
      "Added - VRF Heat Pump Heating Electricity Energy Reporting FrequencyHourly Output:Variable data\n",
      "Added - BLOCK1_ZONE2 VRF Indoor Unit DX Cooling Coil Reporting FrequencyHourly Output:Variable data\n",
      "Added - BLOCK1_ZONE2 VRF Indoor Unit DX Heating Coil Reporting Frequency Hourly Output:Variable data\n",
      "Added - BLOCK1_ZONE1 VRF Indoor Unit DX Cooling Coil Reporting FrequencyHourly Output:Variable data\n",
      "Added - BLOCK1_ZONE1 VRF Indoor Unit DX Heating Coil Reporting Frequency Hourly Output:Variable data\n",
      "Added - OutputControl:Files object\n",
      "Added - Output:VariableDictionary object\n",
      "\n",
      "=======================END OF OUTPUT IDF FILE GENERATION PROCESS=======================\n",
      "\n"
     ]
    }
   ],
   "source": [
    "parametric = OptimParamSimulation(\n",
    "    building=building,\n",
    "    parameters_type='accim predefined model',\n",
    "    #output_type='standard', #\n",
    "    #output_keep_existing=False, #\n",
    "    #output_freqs=['hourly'], #\n",
    "    #ScriptType='vrf_mm', #\n",
    "    #SupplyAirTempInputMethod='temperature difference', #\n",
    "    #debugging=True, #\n",
    "    #verbosemode=False #\n",
    ")"
   ]
  },
  {
   "cell_type": "markdown",
   "id": "51eed0eb-7b3a-4428-8952-070a650acf61",
   "metadata": {},
   "source": [
    "An initial and generic version of the Adaptive-Comfort-Control-Implementation Script (ACCIS) has been added to the idf instance `building`. For instance, you can take a look at the parameter values accis currently has:"
   ]
  },
  {
   "cell_type": "code",
   "execution_count": 7,
   "id": "ad387b77-4998-4e51-979a-928fa52e551d",
   "metadata": {},
   "outputs": [
    {
     "data": {
      "text/plain": [
       "[\n",
       " ENERGYMANAGEMENTSYSTEM:PROGRAM,\n",
       "     SetInputData,             !- Name\n",
       "     set ComfStand = 1,        !- Program Line 1\n",
       "     set CAT = 1,              !- Program Line 2\n",
       "     set ComfMod = 2,          !- Program Line 3\n",
       "     set HVACmode = 2,         !- Program Line 4\n",
       "     set VentCtrl = 0,         !- Program Line 5\n",
       "     set VSToffset = 0,        !- Program Line 6\n",
       "     set MinOToffset = 7,      !- Program Line 7\n",
       "     set MaxWindSpeed = 6,     !- Program Line 8\n",
       "     set ACSTtol = -0.25,      !- Program Line 9\n",
       "     set AHSTtol = 0.25,       !- Program Line 10\n",
       "     set CoolSeasonStart = 121,    !- Program Line 11\n",
       "     set CoolSeasonEnd = 274;    !- Program Line 12]"
      ]
     },
     "execution_count": 7,
     "metadata": {},
     "output_type": "execute_result"
    }
   ],
   "source": [
    "[i for i in building.idfobjects['energymanagementsystem:program'] if i.Name.lower() == 'setinputdata']"
   ]
  },
  {
   "cell_type": "markdown",
   "id": "99605e82-4d01-4aee-835c-ab9c6c66faa4",
   "metadata": {},
   "source": [
    "## Setting the outputs"
   ]
  },
  {
   "cell_type": "markdown",
   "id": "bc714539-79c3-46e9-9caa-44a21fc413cb",
   "metadata": {},
   "source": [
    "### Outputs for the idf (i.e. the outputs for each simulation run)"
   ]
  },
  {
   "cell_type": "markdown",
   "id": "764b7626-0e63-4317-8bbf-28ac2fe68f68",
   "metadata": {},
   "source": [
    "First of all, we are going to set the outputs of the simulations that are going to be performed. This is an important step, especially if you are going to run hundreds or thousands of simulations."
   ]
  },
  {
   "cell_type": "markdown",
   "id": "b2f1d34a-dc0a-4aac-b01f-a7425b95090f",
   "metadata": {},
   "source": [
    "Let's take a look at the Output:Variable objects we currently have in the idf. The method `get_output_var_df_from_idf()` returns a pandas DataFrame which contains the information of the existing Output:Variable objects in the idf:"
   ]
  },
  {
   "cell_type": "code",
   "execution_count": 8,
   "id": "12ee78ba-c60b-4ef1-a6fb-51086a8a53fa",
   "metadata": {},
   "outputs": [
    {
     "data": {
      "text/html": [
       "<div>\n",
       "<style scoped>\n",
       "    .dataframe tbody tr th:only-of-type {\n",
       "        vertical-align: middle;\n",
       "    }\n",
       "\n",
       "    .dataframe tbody tr th {\n",
       "        vertical-align: top;\n",
       "    }\n",
       "\n",
       "    .dataframe thead th {\n",
       "        text-align: right;\n",
       "    }\n",
       "</style>\n",
       "<table border=\"1\" class=\"dataframe\">\n",
       "  <thead>\n",
       "    <tr style=\"text-align: right;\">\n",
       "      <th></th>\n",
       "      <th>key_value</th>\n",
       "      <th>variable_name</th>\n",
       "      <th>reporting_frequency</th>\n",
       "      <th>schedule_name</th>\n",
       "    </tr>\n",
       "  </thead>\n",
       "  <tbody>\n",
       "    <tr>\n",
       "      <th>0</th>\n",
       "      <td>*</td>\n",
       "      <td>Comfort Temperature</td>\n",
       "      <td>Hourly</td>\n",
       "      <td></td>\n",
       "    </tr>\n",
       "    <tr>\n",
       "      <th>1</th>\n",
       "      <td>*</td>\n",
       "      <td>Adaptive Cooling Setpoint Temperature</td>\n",
       "      <td>Hourly</td>\n",
       "      <td></td>\n",
       "    </tr>\n",
       "    <tr>\n",
       "      <th>2</th>\n",
       "      <td>*</td>\n",
       "      <td>Adaptive Heating Setpoint Temperature</td>\n",
       "      <td>Hourly</td>\n",
       "      <td></td>\n",
       "    </tr>\n",
       "    <tr>\n",
       "      <th>3</th>\n",
       "      <td>*</td>\n",
       "      <td>Adaptive Cooling Setpoint Temperature_No Toler...</td>\n",
       "      <td>Hourly</td>\n",
       "      <td></td>\n",
       "    </tr>\n",
       "    <tr>\n",
       "      <th>4</th>\n",
       "      <td>*</td>\n",
       "      <td>Adaptive Heating Setpoint Temperature_No Toler...</td>\n",
       "      <td>Hourly</td>\n",
       "      <td></td>\n",
       "    </tr>\n",
       "    <tr>\n",
       "      <th>...</th>\n",
       "      <td>...</td>\n",
       "      <td>...</td>\n",
       "      <td>...</td>\n",
       "      <td>...</td>\n",
       "    </tr>\n",
       "    <tr>\n",
       "      <th>72</th>\n",
       "      <td>*</td>\n",
       "      <td>VRF Heat Pump Heating Electricity Energy</td>\n",
       "      <td>Hourly</td>\n",
       "      <td></td>\n",
       "    </tr>\n",
       "    <tr>\n",
       "      <th>73</th>\n",
       "      <td>BLOCK1_ZONE2 VRF Indoor Unit DX Cooling Coil</td>\n",
       "      <td>Cooling Coil Total Cooling Rate</td>\n",
       "      <td>Hourly</td>\n",
       "      <td></td>\n",
       "    </tr>\n",
       "    <tr>\n",
       "      <th>74</th>\n",
       "      <td>BLOCK1_ZONE2 VRF Indoor Unit DX Heating Coil</td>\n",
       "      <td>Heating Coil Heating Rate</td>\n",
       "      <td>Hourly</td>\n",
       "      <td></td>\n",
       "    </tr>\n",
       "    <tr>\n",
       "      <th>75</th>\n",
       "      <td>BLOCK1_ZONE1 VRF Indoor Unit DX Cooling Coil</td>\n",
       "      <td>Cooling Coil Total Cooling Rate</td>\n",
       "      <td>Hourly</td>\n",
       "      <td></td>\n",
       "    </tr>\n",
       "    <tr>\n",
       "      <th>76</th>\n",
       "      <td>BLOCK1_ZONE1 VRF Indoor Unit DX Heating Coil</td>\n",
       "      <td>Heating Coil Heating Rate</td>\n",
       "      <td>Hourly</td>\n",
       "      <td></td>\n",
       "    </tr>\n",
       "  </tbody>\n",
       "</table>\n",
       "<p>77 rows × 4 columns</p>\n",
       "</div>"
      ],
      "text/plain": [
       "                                       key_value  \\\n",
       "0                                              *   \n",
       "1                                              *   \n",
       "2                                              *   \n",
       "3                                              *   \n",
       "4                                              *   \n",
       "..                                           ...   \n",
       "72                                             *   \n",
       "73  BLOCK1_ZONE2 VRF Indoor Unit DX Cooling Coil   \n",
       "74  BLOCK1_ZONE2 VRF Indoor Unit DX Heating Coil   \n",
       "75  BLOCK1_ZONE1 VRF Indoor Unit DX Cooling Coil   \n",
       "76  BLOCK1_ZONE1 VRF Indoor Unit DX Heating Coil   \n",
       "\n",
       "                                        variable_name reporting_frequency  \\\n",
       "0                                 Comfort Temperature              Hourly   \n",
       "1               Adaptive Cooling Setpoint Temperature              Hourly   \n",
       "2               Adaptive Heating Setpoint Temperature              Hourly   \n",
       "3   Adaptive Cooling Setpoint Temperature_No Toler...              Hourly   \n",
       "4   Adaptive Heating Setpoint Temperature_No Toler...              Hourly   \n",
       "..                                                ...                 ...   \n",
       "72           VRF Heat Pump Heating Electricity Energy              Hourly   \n",
       "73                    Cooling Coil Total Cooling Rate              Hourly   \n",
       "74                          Heating Coil Heating Rate              Hourly   \n",
       "75                    Cooling Coil Total Cooling Rate              Hourly   \n",
       "76                          Heating Coil Heating Rate              Hourly   \n",
       "\n",
       "   schedule_name  \n",
       "0                 \n",
       "1                 \n",
       "2                 \n",
       "3                 \n",
       "4                 \n",
       "..           ...  \n",
       "72                \n",
       "73                \n",
       "74                \n",
       "75                \n",
       "76                \n",
       "\n",
       "[77 rows x 4 columns]"
      ]
     },
     "execution_count": 8,
     "metadata": {},
     "output_type": "execute_result"
    }
   ],
   "source": [
    "df_output_variables_idf = parametric.get_output_var_df_from_idf()\n",
    "df_output_variables_idf"
   ]
  },
  {
   "cell_type": "markdown",
   "id": "ab1e81e8-c2f0-40c0-b868-0cf7ddb9954f",
   "metadata": {},
   "source": [
    "now, let's see the Output:Meter objects:"
   ]
  },
  {
   "cell_type": "code",
   "execution_count": 9,
   "id": "94c9844b-aacf-41fa-b1d4-ac7b491aa14e",
   "metadata": {},
   "outputs": [
    {
     "data": {
      "text/html": [
       "<div>\n",
       "<style scoped>\n",
       "    .dataframe tbody tr th:only-of-type {\n",
       "        vertical-align: middle;\n",
       "    }\n",
       "\n",
       "    .dataframe tbody tr th {\n",
       "        vertical-align: top;\n",
       "    }\n",
       "\n",
       "    .dataframe thead th {\n",
       "        text-align: right;\n",
       "    }\n",
       "</style>\n",
       "<table border=\"1\" class=\"dataframe\">\n",
       "  <thead>\n",
       "    <tr style=\"text-align: right;\">\n",
       "      <th></th>\n",
       "      <th>key_name</th>\n",
       "      <th>frequency</th>\n",
       "    </tr>\n",
       "  </thead>\n",
       "  <tbody>\n",
       "  </tbody>\n",
       "</table>\n",
       "</div>"
      ],
      "text/plain": [
       "Empty DataFrame\n",
       "Columns: [key_name, frequency]\n",
       "Index: []"
      ]
     },
     "execution_count": 9,
     "metadata": {},
     "output_type": "execute_result"
    }
   ],
   "source": [
    "df_output_meters_idf = parametric.get_output_meter_df_from_idf()\n",
    "df_output_meters_idf.head()"
   ]
  },
  {
   "cell_type": "markdown",
   "id": "093bdcab-a1aa-492a-8864-d2e4e1a0b72c",
   "metadata": {},
   "source": [
    "In this case, we can see there is no Output:Meter. However, there is a large number of Output:Variable objects which might result in heavy simulation outputs. So, let's get rid of some of them. We can drop the rows we want, and then input the modified DataFrame in the method `set_output_var_df_to_idf(outputs_df)`."
   ]
  },
  {
   "cell_type": "code",
   "execution_count": 10,
   "id": "9ccc7b08-119c-4f4c-bb45-9aac8201fe7e",
   "metadata": {},
   "outputs": [
    {
     "data": {
      "text/html": [
       "<div>\n",
       "<style scoped>\n",
       "    .dataframe tbody tr th:only-of-type {\n",
       "        vertical-align: middle;\n",
       "    }\n",
       "\n",
       "    .dataframe tbody tr th {\n",
       "        vertical-align: top;\n",
       "    }\n",
       "\n",
       "    .dataframe thead th {\n",
       "        text-align: right;\n",
       "    }\n",
       "</style>\n",
       "<table border=\"1\" class=\"dataframe\">\n",
       "  <thead>\n",
       "    <tr style=\"text-align: right;\">\n",
       "      <th></th>\n",
       "      <th>key_value</th>\n",
       "      <th>variable_name</th>\n",
       "      <th>reporting_frequency</th>\n",
       "      <th>schedule_name</th>\n",
       "    </tr>\n",
       "  </thead>\n",
       "  <tbody>\n",
       "    <tr>\n",
       "      <th>3</th>\n",
       "      <td>*</td>\n",
       "      <td>Adaptive Cooling Setpoint Temperature_No Toler...</td>\n",
       "      <td>Hourly</td>\n",
       "      <td></td>\n",
       "    </tr>\n",
       "    <tr>\n",
       "      <th>4</th>\n",
       "      <td>*</td>\n",
       "      <td>Adaptive Heating Setpoint Temperature_No Toler...</td>\n",
       "      <td>Hourly</td>\n",
       "      <td></td>\n",
       "    </tr>\n",
       "    <tr>\n",
       "      <th>52</th>\n",
       "      <td>*</td>\n",
       "      <td>Zone Operative Temperature</td>\n",
       "      <td>Hourly</td>\n",
       "      <td></td>\n",
       "    </tr>\n",
       "    <tr>\n",
       "      <th>54</th>\n",
       "      <td>*</td>\n",
       "      <td>Zone Thermal Comfort ASHRAE 55 Adaptive Model ...</td>\n",
       "      <td>Hourly</td>\n",
       "      <td></td>\n",
       "    </tr>\n",
       "  </tbody>\n",
       "</table>\n",
       "</div>"
      ],
      "text/plain": [
       "   key_value                                      variable_name  \\\n",
       "3          *  Adaptive Cooling Setpoint Temperature_No Toler...   \n",
       "4          *  Adaptive Heating Setpoint Temperature_No Toler...   \n",
       "52         *                         Zone Operative Temperature   \n",
       "54         *  Zone Thermal Comfort ASHRAE 55 Adaptive Model ...   \n",
       "\n",
       "   reporting_frequency schedule_name  \n",
       "3               Hourly                \n",
       "4               Hourly                \n",
       "52              Hourly                \n",
       "54              Hourly                "
      ]
     },
     "execution_count": 10,
     "metadata": {},
     "output_type": "execute_result"
    }
   ],
   "source": [
    "df_output_variables_idf = df_output_variables_idf[\n",
    "    (\n",
    "        df_output_variables_idf['variable_name'].str.contains('Setpoint Temperature_No Tolerance')\n",
    "        |\n",
    "        df_output_variables_idf['variable_name'].str.contains('Zone Operative Temperature')\n",
    "        |\n",
    "        df_output_variables_idf['variable_name'].str.contains('Zone Thermal Comfort ASHRAE 55 Adaptive Model Running Average Outdoor Air Temperature')\n",
    "    )\n",
    "]\n",
    "df_output_variables_idf"
   ]
  },
  {
   "cell_type": "markdown",
   "id": "643151b4-a20d-4d00-a1c9-5a78a56be916",
   "metadata": {},
   "source": [
    "Let's keep only the Output:Variable objects we have filtered using the `set_output_var_df_to_idf(outputs_df)`:"
   ]
  },
  {
   "cell_type": "code",
   "execution_count": 11,
   "id": "8958bc66-f42d-4fc0-9622-f2b3ffb03852",
   "metadata": {},
   "outputs": [],
   "source": [
    "parametric.set_output_var_df_to_idf(outputs_df=df_output_variables_idf)"
   ]
  },
  {
   "cell_type": "markdown",
   "id": "eacd9d6d-7fa1-4e6d-8bab-edbfa322140b",
   "metadata": {},
   "source": [
    "We have removed all rows except the adaptive heating and cooling setpoints, the operative temperature and the running mean outdoor temperature. Next optional step is adding Output:Meter objects. We can do that using the method `set_output_met_objects_to_idf(output_meters)`, where `output_meters` is a list of Output:Meter key names."
   ]
  },
  {
   "cell_type": "code",
   "execution_count": 12,
   "id": "addf36d3-b7c2-4254-bec5-322850a464d1",
   "metadata": {},
   "outputs": [],
   "source": [
    "output_meters = [\n",
    "    'Heating:Electricity',\n",
    "    'Cooling:Electricity',\n",
    "    'Electricity:HVAC',\n",
    "]\n",
    "parametric.set_output_met_objects_to_idf(output_meters=output_meters)"
   ]
  },
  {
   "cell_type": "markdown",
   "id": "fa66a111-e72e-4ebd-8110-8222191d6c5d",
   "metadata": {},
   "source": [
    "Let's see Output:Meter objects we currently have after adding these:"
   ]
  },
  {
   "cell_type": "code",
   "execution_count": 13,
   "id": "41878d11-6dcc-4158-9ec4-a74aa9d2dafc",
   "metadata": {},
   "outputs": [
    {
     "data": {
      "text/html": [
       "<div>\n",
       "<style scoped>\n",
       "    .dataframe tbody tr th:only-of-type {\n",
       "        vertical-align: middle;\n",
       "    }\n",
       "\n",
       "    .dataframe tbody tr th {\n",
       "        vertical-align: top;\n",
       "    }\n",
       "\n",
       "    .dataframe thead th {\n",
       "        text-align: right;\n",
       "    }\n",
       "</style>\n",
       "<table border=\"1\" class=\"dataframe\">\n",
       "  <thead>\n",
       "    <tr style=\"text-align: right;\">\n",
       "      <th></th>\n",
       "      <th>key_name</th>\n",
       "      <th>frequency</th>\n",
       "    </tr>\n",
       "  </thead>\n",
       "  <tbody>\n",
       "    <tr>\n",
       "      <th>0</th>\n",
       "      <td>Heating:Electricity</td>\n",
       "      <td>hourly</td>\n",
       "    </tr>\n",
       "    <tr>\n",
       "      <th>1</th>\n",
       "      <td>Cooling:Electricity</td>\n",
       "      <td>hourly</td>\n",
       "    </tr>\n",
       "    <tr>\n",
       "      <th>2</th>\n",
       "      <td>Electricity:HVAC</td>\n",
       "      <td>hourly</td>\n",
       "    </tr>\n",
       "  </tbody>\n",
       "</table>\n",
       "</div>"
      ],
      "text/plain": [
       "              key_name frequency\n",
       "0  Heating:Electricity    hourly\n",
       "1  Cooling:Electricity    hourly\n",
       "2     Electricity:HVAC    hourly"
      ]
     },
     "execution_count": 13,
     "metadata": {},
     "output_type": "execute_result"
    }
   ],
   "source": [
    "df_output_meters_idf = parametric.get_output_meter_df_from_idf()\n",
    "df_output_meters_idf.head()"
   ]
  },
  {
   "cell_type": "markdown",
   "id": "90fd8d9b-ecd8-4c79-9f37-775f2c2921ed",
   "metadata": {},
   "source": [
    "### Outputs to be read and shown in the parametric simulation or optimisation"
   ]
  },
  {
   "cell_type": "markdown",
   "id": "bb18fd43-e07e-42f1-ac75-020bcbe96d9a",
   "metadata": {},
   "source": [
    "To successfully run the parametric simulation or optimisation, it is advisable running a test simulation to know the outputs that each simulation will have. We can do that with the method `get_outputs_df_from_testsim()`, which returns a tuple containing 2 DataFrames containing respectively the Output:Meter and Output:Variable objects from the simulation. In this case, you won't find wildcards such as \"*\"."
   ]
  },
  {
   "cell_type": "code",
   "execution_count": 14,
   "id": "ff6093e9-840d-4142-ad79-98d78f4f13d1",
   "metadata": {},
   "outputs": [],
   "source": [
    "df_output_meters_testsim, df_output_variables_testsim = parametric.get_outputs_df_from_testsim()"
   ]
  },
  {
   "cell_type": "code",
   "execution_count": 15,
   "id": "61a88134-7997-42ce-88b0-ef4606cdfe61",
   "metadata": {},
   "outputs": [
    {
     "data": {
      "text/html": [
       "<div>\n",
       "<style scoped>\n",
       "    .dataframe tbody tr th:only-of-type {\n",
       "        vertical-align: middle;\n",
       "    }\n",
       "\n",
       "    .dataframe tbody tr th {\n",
       "        vertical-align: top;\n",
       "    }\n",
       "\n",
       "    .dataframe thead th {\n",
       "        text-align: right;\n",
       "    }\n",
       "</style>\n",
       "<table border=\"1\" class=\"dataframe\">\n",
       "  <thead>\n",
       "    <tr style=\"text-align: right;\">\n",
       "      <th></th>\n",
       "      <th>key_name</th>\n",
       "      <th>frequency</th>\n",
       "    </tr>\n",
       "  </thead>\n",
       "  <tbody>\n",
       "    <tr>\n",
       "      <th>0</th>\n",
       "      <td>Heating:Electricity</td>\n",
       "      <td>Hourly</td>\n",
       "    </tr>\n",
       "    <tr>\n",
       "      <th>1</th>\n",
       "      <td>Cooling:Electricity</td>\n",
       "      <td>Hourly</td>\n",
       "    </tr>\n",
       "    <tr>\n",
       "      <th>2</th>\n",
       "      <td>Electricity:HVAC</td>\n",
       "      <td>Hourly</td>\n",
       "    </tr>\n",
       "  </tbody>\n",
       "</table>\n",
       "</div>"
      ],
      "text/plain": [
       "              key_name frequency\n",
       "0  Heating:Electricity    Hourly\n",
       "1  Cooling:Electricity    Hourly\n",
       "2     Electricity:HVAC    Hourly"
      ]
     },
     "execution_count": 15,
     "metadata": {},
     "output_type": "execute_result"
    }
   ],
   "source": [
    "df_output_meters_testsim"
   ]
  },
  {
   "cell_type": "code",
   "execution_count": 16,
   "id": "9dd7f778-e7b7-4474-ae02-fd6a8f154c1f",
   "metadata": {},
   "outputs": [
    {
     "data": {
      "text/html": [
       "<div>\n",
       "<style scoped>\n",
       "    .dataframe tbody tr th:only-of-type {\n",
       "        vertical-align: middle;\n",
       "    }\n",
       "\n",
       "    .dataframe tbody tr th {\n",
       "        vertical-align: top;\n",
       "    }\n",
       "\n",
       "    .dataframe thead th {\n",
       "        text-align: right;\n",
       "    }\n",
       "</style>\n",
       "<table border=\"1\" class=\"dataframe\">\n",
       "  <thead>\n",
       "    <tr style=\"text-align: right;\">\n",
       "      <th></th>\n",
       "      <th>key_value</th>\n",
       "      <th>variable_name</th>\n",
       "      <th>frequency</th>\n",
       "    </tr>\n",
       "  </thead>\n",
       "  <tbody>\n",
       "    <tr>\n",
       "      <th>0</th>\n",
       "      <td>EMS</td>\n",
       "      <td>Adaptive Cooling Setpoint Temperature_No Toler...</td>\n",
       "      <td>Hourly</td>\n",
       "    </tr>\n",
       "    <tr>\n",
       "      <th>1</th>\n",
       "      <td>EMS</td>\n",
       "      <td>Adaptive Heating Setpoint Temperature_No Toler...</td>\n",
       "      <td>Hourly</td>\n",
       "    </tr>\n",
       "    <tr>\n",
       "      <th>2</th>\n",
       "      <td>BLOCK1:ZONE2</td>\n",
       "      <td>Zone Operative Temperature</td>\n",
       "      <td>Hourly</td>\n",
       "    </tr>\n",
       "    <tr>\n",
       "      <th>3</th>\n",
       "      <td>BLOCK1:ZONE1</td>\n",
       "      <td>Zone Operative Temperature</td>\n",
       "      <td>Hourly</td>\n",
       "    </tr>\n",
       "    <tr>\n",
       "      <th>4</th>\n",
       "      <td>PEOPLE BLOCK1:ZONE2</td>\n",
       "      <td>Zone Thermal Comfort ASHRAE 55 Adaptive Model ...</td>\n",
       "      <td>Hourly</td>\n",
       "    </tr>\n",
       "    <tr>\n",
       "      <th>5</th>\n",
       "      <td>PEOPLE BLOCK1:ZONE1</td>\n",
       "      <td>Zone Thermal Comfort ASHRAE 55 Adaptive Model ...</td>\n",
       "      <td>Hourly</td>\n",
       "    </tr>\n",
       "  </tbody>\n",
       "</table>\n",
       "</div>"
      ],
      "text/plain": [
       "             key_value                                      variable_name  \\\n",
       "0                  EMS  Adaptive Cooling Setpoint Temperature_No Toler...   \n",
       "1                  EMS  Adaptive Heating Setpoint Temperature_No Toler...   \n",
       "2         BLOCK1:ZONE2                         Zone Operative Temperature   \n",
       "3         BLOCK1:ZONE1                         Zone Operative Temperature   \n",
       "4  PEOPLE BLOCK1:ZONE2  Zone Thermal Comfort ASHRAE 55 Adaptive Model ...   \n",
       "5  PEOPLE BLOCK1:ZONE1  Zone Thermal Comfort ASHRAE 55 Adaptive Model ...   \n",
       "\n",
       "  frequency  \n",
       "0    Hourly  \n",
       "1    Hourly  \n",
       "2    Hourly  \n",
       "3    Hourly  \n",
       "4    Hourly  \n",
       "5    Hourly  "
      ]
     },
     "execution_count": 16,
     "metadata": {},
     "output_type": "execute_result"
    }
   ],
   "source": [
    "df_output_variables_testsim"
   ]
  },
  {
   "cell_type": "markdown",
   "id": "b0ed4500-6054-4a00-ae63-54412bf70944",
   "metadata": {},
   "source": [
    "We can get DataFrames from the .rdd and .mdd files generated from the test simulation using the functions `get_rdd_file_as_df()` and `get_mdd_file_as_df()`. "
   ]
  },
  {
   "cell_type": "code",
   "execution_count": 17,
   "id": "e28454a5-8de7-4551-bf9b-4db3fa8f124f",
   "metadata": {},
   "outputs": [
    {
     "data": {
      "text/html": [
       "<div>\n",
       "<style scoped>\n",
       "    .dataframe tbody tr th:only-of-type {\n",
       "        vertical-align: middle;\n",
       "    }\n",
       "\n",
       "    .dataframe tbody tr th {\n",
       "        vertical-align: top;\n",
       "    }\n",
       "\n",
       "    .dataframe thead th {\n",
       "        text-align: right;\n",
       "    }\n",
       "</style>\n",
       "<table border=\"1\" class=\"dataframe\">\n",
       "  <thead>\n",
       "    <tr style=\"text-align: right;\">\n",
       "      <th></th>\n",
       "      <th>object</th>\n",
       "      <th>key_value</th>\n",
       "      <th>variable_name</th>\n",
       "      <th>frequency</th>\n",
       "      <th>units</th>\n",
       "    </tr>\n",
       "  </thead>\n",
       "  <tbody>\n",
       "    <tr>\n",
       "      <th>0</th>\n",
       "      <td>Output:Variable</td>\n",
       "      <td>*</td>\n",
       "      <td>Site Outdoor Air Drybulb Temperature</td>\n",
       "      <td>hourly</td>\n",
       "      <td>!- Zone Average [C]</td>\n",
       "    </tr>\n",
       "    <tr>\n",
       "      <th>1</th>\n",
       "      <td>Output:Variable</td>\n",
       "      <td>*</td>\n",
       "      <td>Site Outdoor Air Dewpoint Temperature</td>\n",
       "      <td>hourly</td>\n",
       "      <td>!- Zone Average [C]</td>\n",
       "    </tr>\n",
       "    <tr>\n",
       "      <th>2</th>\n",
       "      <td>Output:Variable</td>\n",
       "      <td>*</td>\n",
       "      <td>Site Outdoor Air Wetbulb Temperature</td>\n",
       "      <td>hourly</td>\n",
       "      <td>!- Zone Average [C]</td>\n",
       "    </tr>\n",
       "    <tr>\n",
       "      <th>3</th>\n",
       "      <td>Output:Variable</td>\n",
       "      <td>*</td>\n",
       "      <td>Site Outdoor Air Humidity Ratio</td>\n",
       "      <td>hourly</td>\n",
       "      <td>!- Zone Average [kgWater/kgDryAir]</td>\n",
       "    </tr>\n",
       "    <tr>\n",
       "      <th>4</th>\n",
       "      <td>Output:Variable</td>\n",
       "      <td>*</td>\n",
       "      <td>Site Outdoor Air Relative Humidity</td>\n",
       "      <td>hourly</td>\n",
       "      <td>!- Zone Average [%]</td>\n",
       "    </tr>\n",
       "    <tr>\n",
       "      <th>...</th>\n",
       "      <td>...</td>\n",
       "      <td>...</td>\n",
       "      <td>...</td>\n",
       "      <td>...</td>\n",
       "      <td>...</td>\n",
       "    </tr>\n",
       "    <tr>\n",
       "      <th>712</th>\n",
       "      <td>Output:Variable</td>\n",
       "      <td>*</td>\n",
       "      <td>Zone Ventilation When Unoccupied Time</td>\n",
       "      <td>hourly</td>\n",
       "      <td>!- HVAC Sum [hr]</td>\n",
       "    </tr>\n",
       "    <tr>\n",
       "      <th>713</th>\n",
       "      <td>Output:Variable</td>\n",
       "      <td>*</td>\n",
       "      <td>Facility Any Zone Ventilation Below Target Voz...</td>\n",
       "      <td>hourly</td>\n",
       "      <td>!- HVAC Sum [hr]</td>\n",
       "    </tr>\n",
       "    <tr>\n",
       "      <th>714</th>\n",
       "      <td>Output:Variable</td>\n",
       "      <td>*</td>\n",
       "      <td>Facility All Zones Ventilation At Target Voz Time</td>\n",
       "      <td>hourly</td>\n",
       "      <td>!- HVAC Sum [hr]</td>\n",
       "    </tr>\n",
       "    <tr>\n",
       "      <th>715</th>\n",
       "      <td>Output:Variable</td>\n",
       "      <td>*</td>\n",
       "      <td>Facility Any Zone Ventilation Above Target Voz...</td>\n",
       "      <td>hourly</td>\n",
       "      <td>!- HVAC Sum [hr]</td>\n",
       "    </tr>\n",
       "    <tr>\n",
       "      <th>716</th>\n",
       "      <td>Output:Variable</td>\n",
       "      <td>*</td>\n",
       "      <td>Facility Any Zone Ventilation When Unoccupied ...</td>\n",
       "      <td>hourly</td>\n",
       "      <td>!- HVAC Sum [hr]</td>\n",
       "    </tr>\n",
       "  </tbody>\n",
       "</table>\n",
       "<p>717 rows × 5 columns</p>\n",
       "</div>"
      ],
      "text/plain": [
       "              object key_value  \\\n",
       "0    Output:Variable         *   \n",
       "1    Output:Variable         *   \n",
       "2    Output:Variable         *   \n",
       "3    Output:Variable         *   \n",
       "4    Output:Variable         *   \n",
       "..               ...       ...   \n",
       "712  Output:Variable         *   \n",
       "713  Output:Variable         *   \n",
       "714  Output:Variable         *   \n",
       "715  Output:Variable         *   \n",
       "716  Output:Variable         *   \n",
       "\n",
       "                                         variable_name frequency  \\\n",
       "0                 Site Outdoor Air Drybulb Temperature    hourly   \n",
       "1                Site Outdoor Air Dewpoint Temperature    hourly   \n",
       "2                 Site Outdoor Air Wetbulb Temperature    hourly   \n",
       "3                      Site Outdoor Air Humidity Ratio    hourly   \n",
       "4                   Site Outdoor Air Relative Humidity    hourly   \n",
       "..                                                 ...       ...   \n",
       "712              Zone Ventilation When Unoccupied Time    hourly   \n",
       "713  Facility Any Zone Ventilation Below Target Voz...    hourly   \n",
       "714  Facility All Zones Ventilation At Target Voz Time    hourly   \n",
       "715  Facility Any Zone Ventilation Above Target Voz...    hourly   \n",
       "716  Facility Any Zone Ventilation When Unoccupied ...    hourly   \n",
       "\n",
       "                                   units  \n",
       "0                    !- Zone Average [C]  \n",
       "1                    !- Zone Average [C]  \n",
       "2                    !- Zone Average [C]  \n",
       "3     !- Zone Average [kgWater/kgDryAir]  \n",
       "4                    !- Zone Average [%]  \n",
       "..                                   ...  \n",
       "712                     !- HVAC Sum [hr]  \n",
       "713                     !- HVAC Sum [hr]  \n",
       "714                     !- HVAC Sum [hr]  \n",
       "715                     !- HVAC Sum [hr]  \n",
       "716                     !- HVAC Sum [hr]  \n",
       "\n",
       "[717 rows x 5 columns]"
      ]
     },
     "execution_count": 17,
     "metadata": {},
     "output_type": "execute_result"
    }
   ],
   "source": [
    "df_rdd = get_rdd_file_as_df()\n",
    "df_rdd"
   ]
  },
  {
   "cell_type": "code",
   "execution_count": 18,
   "id": "58649f6e-f08c-49e5-823a-376ff26eb83a",
   "metadata": {},
   "outputs": [
    {
     "data": {
      "text/html": [
       "<div>\n",
       "<style scoped>\n",
       "    .dataframe tbody tr th:only-of-type {\n",
       "        vertical-align: middle;\n",
       "    }\n",
       "\n",
       "    .dataframe tbody tr th {\n",
       "        vertical-align: top;\n",
       "    }\n",
       "\n",
       "    .dataframe thead th {\n",
       "        text-align: right;\n",
       "    }\n",
       "</style>\n",
       "<table border=\"1\" class=\"dataframe\">\n",
       "  <thead>\n",
       "    <tr style=\"text-align: right;\">\n",
       "      <th></th>\n",
       "      <th>object</th>\n",
       "      <th>meter_name</th>\n",
       "      <th>frequency</th>\n",
       "      <th>units</th>\n",
       "    </tr>\n",
       "  </thead>\n",
       "  <tbody>\n",
       "    <tr>\n",
       "      <th>0</th>\n",
       "      <td>Output:Meter</td>\n",
       "      <td>Electricity:Facility</td>\n",
       "      <td>hourly</td>\n",
       "      <td>!- [J]</td>\n",
       "    </tr>\n",
       "    <tr>\n",
       "      <th>1</th>\n",
       "      <td>Output:Meter:Cumulative</td>\n",
       "      <td>Electricity:Facility</td>\n",
       "      <td>hourly</td>\n",
       "      <td>!- [J]</td>\n",
       "    </tr>\n",
       "    <tr>\n",
       "      <th>2</th>\n",
       "      <td>Output:Meter</td>\n",
       "      <td>Electricity:Building</td>\n",
       "      <td>hourly</td>\n",
       "      <td>!- [J]</td>\n",
       "    </tr>\n",
       "    <tr>\n",
       "      <th>3</th>\n",
       "      <td>Output:Meter:Cumulative</td>\n",
       "      <td>Electricity:Building</td>\n",
       "      <td>hourly</td>\n",
       "      <td>!- [J]</td>\n",
       "    </tr>\n",
       "    <tr>\n",
       "      <th>4</th>\n",
       "      <td>Output:Meter</td>\n",
       "      <td>Electricity:Zone:BLOCK1:ZONE2</td>\n",
       "      <td>hourly</td>\n",
       "      <td>!- [J]</td>\n",
       "    </tr>\n",
       "    <tr>\n",
       "      <th>...</th>\n",
       "      <td>...</td>\n",
       "      <td>...</td>\n",
       "      <td>...</td>\n",
       "      <td>...</td>\n",
       "    </tr>\n",
       "    <tr>\n",
       "      <th>157</th>\n",
       "      <td>Output:Meter:Cumulative</td>\n",
       "      <td>General:HeatRecovery:EnergyTransfer</td>\n",
       "      <td>hourly</td>\n",
       "      <td>!- [J]</td>\n",
       "    </tr>\n",
       "    <tr>\n",
       "      <th>158</th>\n",
       "      <td>Output:Meter</td>\n",
       "      <td>Carbon Equivalent:Facility</td>\n",
       "      <td>hourly</td>\n",
       "      <td>!- [kg]</td>\n",
       "    </tr>\n",
       "    <tr>\n",
       "      <th>159</th>\n",
       "      <td>Output:Meter:Cumulative</td>\n",
       "      <td>Carbon Equivalent:Facility</td>\n",
       "      <td>hourly</td>\n",
       "      <td>!- [kg]</td>\n",
       "    </tr>\n",
       "    <tr>\n",
       "      <th>160</th>\n",
       "      <td>Output:Meter</td>\n",
       "      <td>CarbonEquivalentEmissions:Carbon Equivalent</td>\n",
       "      <td>hourly</td>\n",
       "      <td>!- [kg]</td>\n",
       "    </tr>\n",
       "    <tr>\n",
       "      <th>161</th>\n",
       "      <td>Output:Meter:Cumulative</td>\n",
       "      <td>CarbonEquivalentEmissions:Carbon Equivalent</td>\n",
       "      <td>hourly</td>\n",
       "      <td>!- [kg]</td>\n",
       "    </tr>\n",
       "  </tbody>\n",
       "</table>\n",
       "<p>162 rows × 4 columns</p>\n",
       "</div>"
      ],
      "text/plain": [
       "                      object                                   meter_name  \\\n",
       "0               Output:Meter                         Electricity:Facility   \n",
       "1    Output:Meter:Cumulative                         Electricity:Facility   \n",
       "2               Output:Meter                         Electricity:Building   \n",
       "3    Output:Meter:Cumulative                         Electricity:Building   \n",
       "4               Output:Meter                Electricity:Zone:BLOCK1:ZONE2   \n",
       "..                       ...                                          ...   \n",
       "157  Output:Meter:Cumulative          General:HeatRecovery:EnergyTransfer   \n",
       "158             Output:Meter                   Carbon Equivalent:Facility   \n",
       "159  Output:Meter:Cumulative                   Carbon Equivalent:Facility   \n",
       "160             Output:Meter  CarbonEquivalentEmissions:Carbon Equivalent   \n",
       "161  Output:Meter:Cumulative  CarbonEquivalentEmissions:Carbon Equivalent   \n",
       "\n",
       "    frequency     units  \n",
       "0      hourly    !- [J]  \n",
       "1      hourly    !- [J]  \n",
       "2      hourly    !- [J]  \n",
       "3      hourly    !- [J]  \n",
       "4      hourly    !- [J]  \n",
       "..        ...       ...  \n",
       "157    hourly    !- [J]  \n",
       "158    hourly   !- [kg]  \n",
       "159    hourly   !- [kg]  \n",
       "160    hourly   !- [kg]  \n",
       "161    hourly   !- [kg]  \n",
       "\n",
       "[162 rows x 4 columns]"
      ]
     },
     "execution_count": 18,
     "metadata": {},
     "output_type": "execute_result"
    }
   ],
   "source": [
    "df_mdd = get_mdd_file_as_df()\n",
    "df_mdd"
   ]
  },
  {
   "cell_type": "markdown",
   "id": "a84943b5-db09-4f19-95bb-f9583711d0a7",
   "metadata": {},
   "source": [
    "Also, we can parse the .mtd files as a list using the function `parse_mtd_file()`."
   ]
  },
  {
   "cell_type": "code",
   "execution_count": 19,
   "id": "df4da1a7-fcb2-4c59-b790-1bc9e3b128f3",
   "metadata": {},
   "outputs": [
    {
     "data": {
      "text/plain": [
       "[{'meter_id': '14',\n",
       "  'description': 'BLOCK1:ZONE2 GENERAL LIGHTING:Lights Electricity Energy [J]',\n",
       "  'on_meters': ['Electricity:Facility [J]',\n",
       "   'Electricity:Building [J]',\n",
       "   'Electricity:Zone:BLOCK1:ZONE2 [J]',\n",
       "   'Electricity:SpaceType:GENERAL [J]',\n",
       "   'InteriorLights:Electricity [J]',\n",
       "   'InteriorLights:Electricity:Zone:BLOCK1:ZONE2 [J]',\n",
       "   'InteriorLights:Electricity:SpaceType:GENERAL [J]',\n",
       "   'ELECTRIC EQUIPMENT#Block1:Zone2#GeneralLights:InteriorLights:Electricity [J]',\n",
       "   'ELECTRIC EQUIPMENT#Block1:Zone2#GeneralLights:InteriorLights:Electricity:Zone:BLOCK1:ZONE2 [J]',\n",
       "   'ELECTRIC EQUIPMENT#Block1:Zone2#GeneralLights:InteriorLights:Electricity:SpaceType:GENERAL [J]']},\n",
       " {'meter_id': '135',\n",
       "  'description': 'BLOCK1:ZONE1 GENERAL LIGHTING:Lights Electricity Energy [J]',\n",
       "  'on_meters': ['Electricity:Facility [J]',\n",
       "   'Electricity:Building [J]',\n",
       "   'Electricity:Zone:BLOCK1:ZONE1 [J]',\n",
       "   'Electricity:SpaceType:GENERAL [J]',\n",
       "   'InteriorLights:Electricity [J]',\n",
       "   'InteriorLights:Electricity:Zone:BLOCK1:ZONE1 [J]',\n",
       "   'InteriorLights:Electricity:SpaceType:GENERAL [J]',\n",
       "   'ELECTRIC EQUIPMENT#Block1:Zone1#GeneralLights:InteriorLights:Electricity [J]',\n",
       "   'ELECTRIC EQUIPMENT#Block1:Zone1#GeneralLights:InteriorLights:Electricity:Zone:BLOCK1:ZONE1 [J]',\n",
       "   'ELECTRIC EQUIPMENT#Block1:Zone1#GeneralLights:InteriorLights:Electricity:SpaceType:GENERAL [J]']}]"
      ]
     },
     "execution_count": 19,
     "metadata": {},
     "output_type": "execute_result"
    }
   ],
   "source": [
    "mtd_list = parse_mtd_file()\n",
    "mtd_list[0:2]"
   ]
  },
  {
   "cell_type": "markdown",
   "id": "76fa398d-15a0-4504-9f11-468bfd7c094f",
   "metadata": {},
   "source": [
    "Therefore, we have 2 DataFrames, one for the Output:Meter and another for the Output:Variable objects. Next step is setting the outputs for the parametric simulation. To do so, we'll need to pass the DataFrames into the method `set_outputs_for_simulation(df_output_meter, df_output_variable)`. If you have some knowledge about the python package besos, you might think of these dataframes as if each row was a `MeterReader` or `VariableReader` instances respectively for the Output:Meter and Output:Variable dataframes, and the arguments in these were the specified in the columns. The `MeterReader` class takes the arguments `key_name`, `frequency`, `name` and `func`, while `VariableReader` class takes the arguments  `key_value`, `variable_name`, `frequency`, `name` and `func`."
   ]
  },
  {
   "cell_type": "code",
   "execution_count": 20,
   "id": "2b133883-a0be-42a9-bc04-0e6054337b9b",
   "metadata": {},
   "outputs": [
    {
     "data": {
      "text/plain": [
       "['key_name', 'frequency']"
      ]
     },
     "execution_count": 20,
     "metadata": {},
     "output_type": "execute_result"
    }
   ],
   "source": [
    "[i for i in df_output_meters_testsim.columns]"
   ]
  },
  {
   "cell_type": "code",
   "execution_count": 21,
   "id": "c43b0496-1d36-4a0e-b2dc-9f77e41627ff",
   "metadata": {},
   "outputs": [
    {
     "data": {
      "text/plain": [
       "['key_value', 'variable_name', 'frequency']"
      ]
     },
     "execution_count": 21,
     "metadata": {},
     "output_type": "execute_result"
    }
   ],
   "source": [
    "[i for i in df_output_variables_testsim.columns]"
   ]
  },
  {
   "cell_type": "markdown",
   "id": "a03bd526-8bdf-4cce-af62-73ac36e9d0c3",
   "metadata": {},
   "source": [
    "If you take a look at the columns of the dataframes above, you can see the names are the arguments in the `MeterReader` and `VariableReader` classes, and only `name` and `func` are missing. That means, you can add these columns to input the `name` and `func` arguments as desired. In case of the Output:Meter dataframe, we won't add the `name` and `func` columns, which means the name will be the `key_name` and hourly results will be aggregated using the pd.Series.sum() function. However, in case of the Output:Variable dataframe, we will specify these: we want the hourly values rather than the aggregation, therefore we will pass the name bound to the function `return_time_series`, and we will add '_time series' as a suffix to the `variable_name` column. We will also remove the outputs for BLOCK1:ZONE2, which are the rows 2 and 4."
   ]
  },
  {
   "cell_type": "code",
   "execution_count": 22,
   "id": "0e8fecdc-4625-4d95-a87d-67071884963b",
   "metadata": {},
   "outputs": [
    {
     "data": {
      "text/html": [
       "<div>\n",
       "<style scoped>\n",
       "    .dataframe tbody tr th:only-of-type {\n",
       "        vertical-align: middle;\n",
       "    }\n",
       "\n",
       "    .dataframe tbody tr th {\n",
       "        vertical-align: top;\n",
       "    }\n",
       "\n",
       "    .dataframe thead th {\n",
       "        text-align: right;\n",
       "    }\n",
       "</style>\n",
       "<table border=\"1\" class=\"dataframe\">\n",
       "  <thead>\n",
       "    <tr style=\"text-align: right;\">\n",
       "      <th></th>\n",
       "      <th>key_value</th>\n",
       "      <th>variable_name</th>\n",
       "      <th>frequency</th>\n",
       "      <th>func</th>\n",
       "      <th>name</th>\n",
       "    </tr>\n",
       "  </thead>\n",
       "  <tbody>\n",
       "    <tr>\n",
       "      <th>0</th>\n",
       "      <td>EMS</td>\n",
       "      <td>Adaptive Cooling Setpoint Temperature_No Toler...</td>\n",
       "      <td>Hourly</td>\n",
       "      <td>&lt;function return_time_series at 0x000002427114...</td>\n",
       "      <td>Adaptive Cooling Setpoint Temperature_No Toler...</td>\n",
       "    </tr>\n",
       "    <tr>\n",
       "      <th>1</th>\n",
       "      <td>EMS</td>\n",
       "      <td>Adaptive Heating Setpoint Temperature_No Toler...</td>\n",
       "      <td>Hourly</td>\n",
       "      <td>&lt;function return_time_series at 0x000002427114...</td>\n",
       "      <td>Adaptive Heating Setpoint Temperature_No Toler...</td>\n",
       "    </tr>\n",
       "    <tr>\n",
       "      <th>3</th>\n",
       "      <td>BLOCK1:ZONE1</td>\n",
       "      <td>Zone Operative Temperature</td>\n",
       "      <td>Hourly</td>\n",
       "      <td>&lt;function return_time_series at 0x000002427114...</td>\n",
       "      <td>Zone Operative Temperature_time series</td>\n",
       "    </tr>\n",
       "    <tr>\n",
       "      <th>5</th>\n",
       "      <td>PEOPLE BLOCK1:ZONE1</td>\n",
       "      <td>Zone Thermal Comfort ASHRAE 55 Adaptive Model ...</td>\n",
       "      <td>Hourly</td>\n",
       "      <td>&lt;function return_time_series at 0x000002427114...</td>\n",
       "      <td>Zone Thermal Comfort ASHRAE 55 Adaptive Model ...</td>\n",
       "    </tr>\n",
       "  </tbody>\n",
       "</table>\n",
       "</div>"
      ],
      "text/plain": [
       "             key_value                                      variable_name  \\\n",
       "0                  EMS  Adaptive Cooling Setpoint Temperature_No Toler...   \n",
       "1                  EMS  Adaptive Heating Setpoint Temperature_No Toler...   \n",
       "3         BLOCK1:ZONE1                         Zone Operative Temperature   \n",
       "5  PEOPLE BLOCK1:ZONE1  Zone Thermal Comfort ASHRAE 55 Adaptive Model ...   \n",
       "\n",
       "  frequency                                               func  \\\n",
       "0    Hourly  <function return_time_series at 0x000002427114...   \n",
       "1    Hourly  <function return_time_series at 0x000002427114...   \n",
       "3    Hourly  <function return_time_series at 0x000002427114...   \n",
       "5    Hourly  <function return_time_series at 0x000002427114...   \n",
       "\n",
       "                                                name  \n",
       "0  Adaptive Cooling Setpoint Temperature_No Toler...  \n",
       "1  Adaptive Heating Setpoint Temperature_No Toler...  \n",
       "3             Zone Operative Temperature_time series  \n",
       "5  Zone Thermal Comfort ASHRAE 55 Adaptive Model ...  "
      ]
     },
     "execution_count": 22,
     "metadata": {},
     "output_type": "execute_result"
    }
   ],
   "source": [
    "df_output_variables_testsim['func'] = return_time_series\n",
    "df_output_variables_testsim['name'] = df_output_variables_testsim['variable_name'] + '_time series'\n",
    "df_output_variables_testsim = df_output_variables_testsim.drop(index=[2, 4])\n",
    "df_output_variables_testsim"
   ]
  },
  {
   "cell_type": "markdown",
   "id": "cec83d60-60bb-4a48-928f-336500ad45e4",
   "metadata": {},
   "source": [
    "Finally, let's set the outputs for parametric simulation and optimisation:"
   ]
  },
  {
   "cell_type": "code",
   "execution_count": 23,
   "id": "9000c1d4-5d65-405b-a139-3be098103846",
   "metadata": {},
   "outputs": [],
   "source": [
    "parametric.set_outputs_for_simulation(\n",
    "    df_output_meter=df_output_meters_testsim,\n",
    "    df_output_variable=df_output_variables_testsim,\n",
    ")"
   ]
  },
  {
   "cell_type": "markdown",
   "id": "ce76ee7a-3816-4a54-a588-8df3fe0cd6a6",
   "metadata": {},
   "source": [
    "If you want to inspect the `VariableReader` and `MeterReader` objects, you can see the internal variable `sim_outputs`:"
   ]
  },
  {
   "cell_type": "code",
   "execution_count": 27,
   "id": "9f4abcee-ae3a-4c41-a338-2ada4419da15",
   "metadata": {},
   "outputs": [
    {
     "data": {
      "text/plain": [
       "[MeterReader(name='Heating:Electricity', class_name='Output:Meter', frequency='Hourly', func=<function sum_values at 0x000002420171BA60>, key_name='Heating:Electricity'),\n",
       " MeterReader(name='Cooling:Electricity', class_name='Output:Meter', frequency='Hourly', func=<function sum_values at 0x000002420171BA60>, key_name='Cooling:Electricity'),\n",
       " MeterReader(name='Electricity:HVAC', class_name='Output:Meter', frequency='Hourly', func=<function sum_values at 0x000002420171BA60>, key_name='Electricity:HVAC'),\n",
       " VariableReader(name='Adaptive Cooling Setpoint Temperature_No Tolerance_time series', class_name='Output:Variable', frequency='Hourly', func=<function return_time_series at 0x0000024271140700>, key_value='EMS', variable_name='Adaptive Cooling Setpoint Temperature_No Tolerance'),\n",
       " VariableReader(name='Adaptive Heating Setpoint Temperature_No Tolerance_time series', class_name='Output:Variable', frequency='Hourly', func=<function return_time_series at 0x0000024271140700>, key_value='EMS', variable_name='Adaptive Heating Setpoint Temperature_No Tolerance'),\n",
       " VariableReader(name='Zone Operative Temperature_time series', class_name='Output:Variable', frequency='Hourly', func=<function return_time_series at 0x0000024271140700>, key_value='BLOCK1:ZONE1', variable_name='Zone Operative Temperature'),\n",
       " VariableReader(name='Zone Thermal Comfort ASHRAE 55 Adaptive Model Running Average Outdoor Air Temperature_time series', class_name='Output:Variable', frequency='Hourly', func=<function return_time_series at 0x0000024271140700>, key_value='PEOPLE BLOCK1:ZONE1', variable_name='Zone Thermal Comfort ASHRAE 55 Adaptive Model Running Average Outdoor Air Temperature')]"
      ]
     },
     "execution_count": 27,
     "metadata": {},
     "output_type": "execute_result"
    }
   ],
   "source": [
    "parametric.sim_outputs"
   ]
  },
  {
   "cell_type": "markdown",
   "id": "b5dd98bb-6b1d-4b3c-b762-3c9a0c015f63",
   "metadata": {},
   "source": [
    "## Setting the parameters"
   ]
  },
  {
   "cell_type": "markdown",
   "id": "4804beed-52e5-432a-a999-685c222d668d",
   "metadata": {},
   "source": [
    "At the top of the script, when you instantiated the class `OptimParamSimulation`, you already specified which type of parameters you were going to use. Now, the parameters we're about to set, must match the `parameters_type` argument. At this point, you may not know which parameters you can use, so you can call the method `get_available_parameters()`, which will return a list of available parameters:"
   ]
  },
  {
   "cell_type": "code",
   "execution_count": 29,
   "id": "004029fa-ff72-4f43-a9c3-e004757463e4",
   "metadata": {},
   "outputs": [
    {
     "data": {
      "text/plain": [
       "['ComfStand',\n",
       " 'CAT',\n",
       " 'CATcoolOffset',\n",
       " 'CATheatOffset',\n",
       " 'ComfMod',\n",
       " 'SetpointAcc',\n",
       " 'CoolSeasonStart',\n",
       " 'CoolSeasonEnd',\n",
       " 'HVACmode',\n",
       " 'VentCtrl',\n",
       " 'MaxTempDiffVOF',\n",
       " 'MinTempDiffVOF',\n",
       " 'MultiplierVOF',\n",
       " 'VSToffset',\n",
       " 'MinOToffset',\n",
       " 'MaxWindSpeed',\n",
       " 'ASTtol']"
      ]
     },
     "execution_count": 29,
     "metadata": {},
     "output_type": "execute_result"
    }
   ],
   "source": [
    "available_parameters = parametric.get_available_parameters()\n",
    "available_parameters"
   ]
  },
  {
   "cell_type": "markdown",
   "id": "45886126-30b8-4e53-b8c0-06135e6a3c38",
   "metadata": {},
   "source": [
    "If you don't know what are these, please refer to the [documentation](https://accim.readthedocs.io/en/master/4_detailed%20use.html).\n",
    "\n",
    "Using the 'accim predefined model' type, the values must be a list of options, since the values for some arguments are used to select some specific comfort model, and have a categorical use rather than numeric. Now, let's set the parameters using the method `set_parameters(accis_params_dict, additional_params)`. In this method, we set the parameters related to accim using the argument `accis_params_dict`, which takes a dictionary following the pattern {'parameter name': [1, 2, 3, etc]}. We can also add some other parameters not related to accim in the argument `additional_params`, which takes a list of parameters as if these were input straight to the besos EPProblem class. If additional arguments are added, the descriptors must be `CategoryParameter`."
   ]
  },
  {
   "cell_type": "code",
   "execution_count": 30,
   "id": "b4eb43dd-879b-4175-ab56-e9c04ea342af",
   "metadata": {},
   "outputs": [
    {
     "name": "stderr",
     "output_type": "stream",
     "text": [
      "C:\\Users\\usuario\\AppData\\Local\\Programs\\Python\\Python39\\lib\\site-packages\\besos\\parameters.py:441: UserWarning: This parameter's descriptor is already named ComfStand.The name used as an input (ComfStand) will be discarded.\n",
      "  warnings.warn(\n",
      "C:\\Users\\usuario\\AppData\\Local\\Programs\\Python\\Python39\\lib\\site-packages\\besos\\parameters.py:441: UserWarning: This parameter's descriptor is already named CAT.The name used as an input (CAT) will be discarded.\n",
      "  warnings.warn(\n",
      "C:\\Users\\usuario\\AppData\\Local\\Programs\\Python\\Python39\\lib\\site-packages\\besos\\parameters.py:441: UserWarning: This parameter's descriptor is already named ComfMod.The name used as an input (ComfMod) will be discarded.\n",
      "  warnings.warn(\n"
     ]
    }
   ],
   "source": [
    "accis_parameters = {\n",
    "    'ComfStand': [1, 2],\n",
    "    'CAT': [80, 90],\n",
    "    'ComfMod': [3],\n",
    "}\n",
    "parametric.set_parameters(accis_params_dict=accis_parameters)"
   ]
  },
  {
   "cell_type": "markdown",
   "id": "b2e1e8a5-4af9-4d23-82b9-af45b49ba26d",
   "metadata": {},
   "source": [
    "If you want to inspect the `Parameter` objects, you can see the internal variable `parameters_list`:"
   ]
  },
  {
   "cell_type": "code",
   "execution_count": 31,
   "id": "4b72a5b5-417f-410b-b30a-bf6550dbb364",
   "metadata": {},
   "outputs": [
    {
     "data": {
      "text/plain": [
       "[Parameter(selector=GenericSelector(set=<function modify_ComfStand at 0x000002421584A4C0>), value_descriptors=[CategoryParameter(name='ComfStand', options=[1, 2])]),\n",
       " Parameter(selector=GenericSelector(set=<function modify_CAT at 0x000002421584AB80>), value_descriptors=[CategoryParameter(name='CAT', options=[80, 90])]),\n",
       " Parameter(selector=GenericSelector(set=<function modify_ComfMod at 0x000002421584AD30>), value_descriptors=[CategoryParameter(name='ComfMod', options=[3])])]"
      ]
     },
     "execution_count": 31,
     "metadata": {},
     "output_type": "execute_result"
    }
   ],
   "source": [
    "parametric.parameters_list"
   ]
  },
  {
   "cell_type": "markdown",
   "id": "16b3b170-683d-49b3-9d6b-4d3772245647",
   "metadata": {},
   "source": [
    "## Running the parametric simulation"
   ]
  },
  {
   "cell_type": "markdown",
   "id": "e36956e3-781b-4fe1-980f-ad9fbca21fba",
   "metadata": {},
   "source": [
    "### Setting the problem"
   ]
  },
  {
   "cell_type": "markdown",
   "id": "60150ec0-8c63-4097-bd4f-c8263dc22d47",
   "metadata": {},
   "source": [
    "First, let's set the problem. To do so, use the `set_problem()` method. In case of the parametric simulation you don't need to input any argument. However, in case of the optimisation, you must input the arguments `minimize_outputs`, `constraints` and `constraint_bounds`, similarly as you would do in the besos `EPProblem` class."
   ]
  },
  {
   "cell_type": "code",
   "execution_count": 32,
   "id": "cd2c3ebc-99ea-46a2-94cf-37b3ddd77630",
   "metadata": {},
   "outputs": [],
   "source": [
    "parametric.set_problem()"
   ]
  },
  {
   "cell_type": "markdown",
   "id": "cc1eac32-9784-441f-98e3-0382053ba14d",
   "metadata": {},
   "source": [
    "Again, you can inspect the `EPProblem` class instance in the internal variable `problem`:"
   ]
  },
  {
   "cell_type": "code",
   "execution_count": 33,
   "id": "a4f80f41-febc-47e0-b610-8c07893a5c20",
   "metadata": {},
   "outputs": [
    {
     "data": {
      "text/plain": [
       "EPProblem(inputs=[Parameter(selector=GenericSelector(set=<function modify_ComfStand at 0x000002421584A4C0>), value_descriptors=[CategoryParameter(name='ComfStand', options=[1, 2])]), Parameter(selector=GenericSelector(set=<function modify_CAT at 0x000002421584AB80>), value_descriptors=[CategoryParameter(name='CAT', options=[80, 90])]), Parameter(selector=GenericSelector(set=<function modify_ComfMod at 0x000002421584AD30>), value_descriptors=[CategoryParameter(name='ComfMod', options=[3])])], outputs=[MeterReader(name='Heating:Electricity', class_name='Output:Meter', frequency='Hourly', func=<function sum_values at 0x000002420171BA60>, key_name='Heating:Electricity'), MeterReader(name='Cooling:Electricity', class_name='Output:Meter', frequency='Hourly', func=<function sum_values at 0x000002420171BA60>, key_name='Cooling:Electricity'), MeterReader(name='Electricity:HVAC', class_name='Output:Meter', frequency='Hourly', func=<function sum_values at 0x000002420171BA60>, key_name='Electricity:HVAC'), VariableReader(name='Adaptive Cooling Setpoint Temperature_No Tolerance_time series', class_name='Output:Variable', frequency='Hourly', func=<function return_time_series at 0x0000024271140700>, key_value='EMS', variable_name='Adaptive Cooling Setpoint Temperature_No Tolerance'), VariableReader(name='Adaptive Heating Setpoint Temperature_No Tolerance_time series', class_name='Output:Variable', frequency='Hourly', func=<function return_time_series at 0x0000024271140700>, key_value='EMS', variable_name='Adaptive Heating Setpoint Temperature_No Tolerance'), VariableReader(name='Zone Operative Temperature_time series', class_name='Output:Variable', frequency='Hourly', func=<function return_time_series at 0x0000024271140700>, key_value='BLOCK1:ZONE1', variable_name='Zone Operative Temperature'), VariableReader(name='Zone Thermal Comfort ASHRAE 55 Adaptive Model Running Average Outdoor Air Temperature_time series', class_name='Output:Variable', frequency='Hourly', func=<function return_time_series at 0x0000024271140700>, key_value='PEOPLE BLOCK1:ZONE1', variable_name='Zone Thermal Comfort ASHRAE 55 Adaptive Model Running Average Outdoor Air Temperature')], minimize_outputs=[True, True, True, True, True, True, True], converters={'outputs': <class 'besos.objectives.MeterReader'>, 'constraints': <class 'besos.objectives.MeterReader'>})"
      ]
     },
     "execution_count": 33,
     "metadata": {},
     "output_type": "execute_result"
    }
   ],
   "source": [
    "parametric.problem"
   ]
  },
  {
   "cell_type": "markdown",
   "id": "901b319a-2ef8-4c7c-9fea-7512b81807f0",
   "metadata": {},
   "source": [
    "### Sampling the simulation runs"
   ]
  },
  {
   "cell_type": "markdown",
   "id": "cecbc846-7227-498a-b0f8-f8795269df25",
   "metadata": {},
   "source": [
    "The way to inform besos of the variations and permutations it must carry out in the parametric analysis is by means of a DataFrame, which must contain a column per `Parameter`, in which values are specified. There are multiple ways to do this DataFrame. For instance, we could make a dataframe from scratch:"
   ]
  },
  {
   "cell_type": "code",
   "execution_count": 38,
   "id": "30f78385-766d-47f2-b394-c922f8403b30",
   "metadata": {},
   "outputs": [
    {
     "data": {
      "text/html": [
       "<div>\n",
       "<style scoped>\n",
       "    .dataframe tbody tr th:only-of-type {\n",
       "        vertical-align: middle;\n",
       "    }\n",
       "\n",
       "    .dataframe tbody tr th {\n",
       "        vertical-align: top;\n",
       "    }\n",
       "\n",
       "    .dataframe thead th {\n",
       "        text-align: right;\n",
       "    }\n",
       "</style>\n",
       "<table border=\"1\" class=\"dataframe\">\n",
       "  <thead>\n",
       "    <tr style=\"text-align: right;\">\n",
       "      <th></th>\n",
       "      <th>ComfStand</th>\n",
       "      <th>CAT</th>\n",
       "      <th>ComfMod</th>\n",
       "    </tr>\n",
       "  </thead>\n",
       "  <tbody>\n",
       "    <tr>\n",
       "      <th>0</th>\n",
       "      <td>2</td>\n",
       "      <td>80</td>\n",
       "      <td>3</td>\n",
       "    </tr>\n",
       "    <tr>\n",
       "      <th>1</th>\n",
       "      <td>2</td>\n",
       "      <td>90</td>\n",
       "      <td>3</td>\n",
       "    </tr>\n",
       "  </tbody>\n",
       "</table>\n",
       "</div>"
      ],
      "text/plain": [
       "   ComfStand  CAT  ComfMod\n",
       "0          2   80        3\n",
       "1          2   90        3"
      ]
     },
     "execution_count": 38,
     "metadata": {},
     "output_type": "execute_result"
    }
   ],
   "source": [
    "import pandas as pd\n",
    "param_dict = {'ComfStand': [2, 2], 'CAT': [80, 90], 'ComfMod': [3, 3]}\n",
    "input_param_df = pd.DataFrame(data=param_dict)\n",
    "input_param_df"
   ]
  },
  {
   "cell_type": "markdown",
   "id": "9a525ce0-8b59-48ca-a160-59ff4781a8bb",
   "metadata": {},
   "source": [
    "Also, we can use the sampling functions from besos (`full_factorial` and `lhs`), although these are not available using the accim predefined models, since these are based on ranges of values instead of options. In this case, we could use the `sampling_full_set()` method, which will combine all the values we entered when we set the parameters and drop the invalid combinations (e.g. you cannot use CAT=1, 2 or 3 if you are using ComfStand=2, since these CAT values are only available for ComfStand=1)."
   ]
  },
  {
   "cell_type": "code",
   "execution_count": 39,
   "id": "286da8cc-4ee2-41b3-9d3a-07ba98f708e0",
   "metadata": {},
   "outputs": [],
   "source": [
    "parametric.sampling_full_set()"
   ]
  },
  {
   "cell_type": "markdown",
   "id": "4f55e72f-f2b7-4f8a-940e-af5d23e0aa72",
   "metadata": {},
   "source": [
    "Now, you can see the resulting input parameter dataframe in the internal variable `parameters_values_df`:"
   ]
  },
  {
   "cell_type": "code",
   "execution_count": 40,
   "id": "dfebdd41-ee54-4fcf-ab7e-12db7e9461fb",
   "metadata": {},
   "outputs": [
    {
     "data": {
      "text/html": [
       "<div>\n",
       "<style scoped>\n",
       "    .dataframe tbody tr th:only-of-type {\n",
       "        vertical-align: middle;\n",
       "    }\n",
       "\n",
       "    .dataframe tbody tr th {\n",
       "        vertical-align: top;\n",
       "    }\n",
       "\n",
       "    .dataframe thead th {\n",
       "        text-align: right;\n",
       "    }\n",
       "</style>\n",
       "<table border=\"1\" class=\"dataframe\">\n",
       "  <thead>\n",
       "    <tr style=\"text-align: right;\">\n",
       "      <th></th>\n",
       "      <th>ComfStand</th>\n",
       "      <th>CAT</th>\n",
       "      <th>ComfMod</th>\n",
       "    </tr>\n",
       "  </thead>\n",
       "  <tbody>\n",
       "    <tr>\n",
       "      <th>2</th>\n",
       "      <td>2</td>\n",
       "      <td>80</td>\n",
       "      <td>3</td>\n",
       "    </tr>\n",
       "    <tr>\n",
       "      <th>3</th>\n",
       "      <td>2</td>\n",
       "      <td>90</td>\n",
       "      <td>3</td>\n",
       "    </tr>\n",
       "  </tbody>\n",
       "</table>\n",
       "</div>"
      ],
      "text/plain": [
       "   ComfStand  CAT  ComfMod\n",
       "2          2   80        3\n",
       "3          2   90        3"
      ]
     },
     "execution_count": 40,
     "metadata": {},
     "output_type": "execute_result"
    }
   ],
   "source": [
    "parametric.parameters_values_df"
   ]
  },
  {
   "cell_type": "code",
   "execution_count": null,
   "id": "0cff32f0-5734-4e0b-a740-5af75ec6cd42",
   "metadata": {},
   "outputs": [],
   "source": []
  },
  {
   "cell_type": "code",
   "execution_count": null,
   "id": "e74f659a-6719-4728-a4a7-628dfbab4f75",
   "metadata": {},
   "outputs": [],
   "source": []
  }
 ],
 "metadata": {
  "kernelspec": {
   "display_name": "Python 3 (ipykernel)",
   "language": "python",
   "name": "python3"
  },
  "language_info": {
   "codemirror_mode": {
    "name": "ipython",
    "version": 3
   },
   "file_extension": ".py",
   "mimetype": "text/x-python",
   "name": "python",
   "nbconvert_exporter": "python",
   "pygments_lexer": "ipython3",
   "version": "3.9.13"
  }
 },
 "nbformat": 4,
 "nbformat_minor": 5
}
