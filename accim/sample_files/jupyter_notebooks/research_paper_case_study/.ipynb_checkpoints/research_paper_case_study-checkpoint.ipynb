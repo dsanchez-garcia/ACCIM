{
 "cells": [
  {
   "cell_type": "markdown",
   "id": "8a1dd2cc",
   "metadata": {},
   "source": [
    "# accim: a Python library to perform building energy simulations considering adaptive comfort and data analytics"
   ]
  },
  {
   "cell_type": "markdown",
   "id": "f14f3837",
   "metadata": {},
   "source": [
    "This Jupyter Notebook contains the code for the case study (Section 3 Results) of the research paper *accim: a Python library to perform building energy simulations considering adaptive comfort and data analytics*. It has been developed to ease the reproducibility of the paper, and the replicability with other IDF and EPW files or other arguments."
   ]
  },
  {
   "cell_type": "markdown",
   "id": "da4e56a8",
   "metadata": {},
   "source": [
    "## 3. Results"
   ]
  },
  {
   "cell_type": "code",
   "execution_count": null,
   "id": "0153ffc4",
   "metadata": {},
   "outputs": [],
   "source": []
  },
  {
   "cell_type": "markdown",
   "id": "9147d8bf",
   "metadata": {},
   "source": [
    "## 3.1 Data pre-processing"
   ]
  },
  {
   "cell_type": "code",
   "execution_count": null,
   "id": "07c61513",
   "metadata": {},
   "outputs": [],
   "source": []
  },
  {
   "cell_type": "markdown",
   "id": "5223cf85",
   "metadata": {},
   "source": [
    "### 3.1.1.\tEPW files preparation"
   ]
  },
  {
   "cell_type": "code",
   "execution_count": null,
   "id": "c837c86d",
   "metadata": {},
   "outputs": [],
   "source": []
  },
  {
   "cell_type": "markdown",
   "id": "12f41b04",
   "metadata": {},
   "source": [
    "### 3.1.2.\tACCIS implementation"
   ]
  },
  {
   "cell_type": "code",
   "execution_count": null,
   "id": "05e95b20",
   "metadata": {},
   "outputs": [],
   "source": []
  },
  {
   "cell_type": "markdown",
   "id": "cff2fa2d",
   "metadata": {},
   "source": [
    "## 3.2.\tRunning simulations"
   ]
  },
  {
   "cell_type": "code",
   "execution_count": null,
   "id": "052d25b7",
   "metadata": {},
   "outputs": [],
   "source": []
  },
  {
   "cell_type": "markdown",
   "id": "27c8ed91",
   "metadata": {},
   "source": [
    "## 3.3.\tData analysis"
   ]
  },
  {
   "cell_type": "code",
   "execution_count": null,
   "id": "6bf864ab",
   "metadata": {},
   "outputs": [],
   "source": []
  },
  {
   "cell_type": "markdown",
   "id": "280498c1",
   "metadata": {},
   "source": [
    "### 3.3.1 Tables"
   ]
  },
  {
   "cell_type": "code",
   "execution_count": null,
   "id": "059f08a7",
   "metadata": {},
   "outputs": [],
   "source": []
  },
  {
   "cell_type": "markdown",
   "id": "ea680287",
   "metadata": {},
   "source": [
    "### 3.3.2.\tData visualization"
   ]
  },
  {
   "cell_type": "code",
   "execution_count": null,
   "id": "54848d71",
   "metadata": {},
   "outputs": [],
   "source": []
  }
 ],
 "metadata": {
  "kernelspec": {
   "display_name": "Python 3 (ipykernel)",
   "language": "python",
   "name": "python3"
  },
  "language_info": {
   "codemirror_mode": {
    "name": "ipython",
    "version": 3
   },
   "file_extension": ".py",
   "mimetype": "text/x-python",
   "name": "python",
   "nbconvert_exporter": "python",
   "pygments_lexer": "ipython3",
   "version": "3.9.4"
  }
 },
 "nbformat": 4,
 "nbformat_minor": 5
}
