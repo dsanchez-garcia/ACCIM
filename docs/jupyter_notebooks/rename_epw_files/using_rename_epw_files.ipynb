{
 "cells": [
  {
   "cell_type": "markdown",
   "id": "83aa9f64",
   "metadata": {},
   "source": [
    "# Using rename_epw_files() to rename the EPWs for proper data analysis after simulation"
   ]
  },
  {
   "cell_type": "markdown",
   "id": "a7e5d106",
   "metadata": {},
   "source": [
    "rename_epw_files function will rename your EPW files following the naming convention \"Country_City_RCPscenario-Year\". It will get the Country and City fields from EPW coordinates, and the RCPscenario and Year fields from the original name. If there is no reference to this in the original name, it will consider these to be at Present scenario."
   ]
  },
  {
   "cell_type": "markdown",
   "id": "35f134de",
   "metadata": {},
   "source": [
    "usage:  \n",
    "rename_epw_files(  \n",
    "filelist=list_of_files_to_rename, # if omitted, it will rename all EPWs in that folder  \n",
    "confirm_renaming=True or False, #to skip renaming confirmation on prompt command or console  \n",
    "confirm_deletion=True or False #to skip deletion confirmation on prompt command or console  \n",
    ")"
   ]
  },
  {
   "cell_type": "markdown",
   "id": "5cfda218",
   "metadata": {},
   "source": [
    "First of all, let's see what files we do have in the folder:"
   ]
  },
  {
   "cell_type": "code",
   "execution_count": 23,
   "id": "8bcf4ced",
   "metadata": {},
   "outputs": [
    {
     "data": {
      "text/plain": [
       "['.ipynb_checkpoints',\n",
       " 'GBR_Aberdeen.Dyce.030910_IWEC.epw',\n",
       " 'GBR_London.Gatwick.037760_IWEC.epw',\n",
       " 'OSM_SmallOffice_noHVAC.idf',\n",
       " 'Untitled.ipynb']"
      ]
     },
     "execution_count": 23,
     "metadata": {},
     "output_type": "execute_result"
    }
   ],
   "source": [
    "import os\n",
    "os.listdir()"
   ]
  },
  {
   "cell_type": "markdown",
   "id": "c282206a",
   "metadata": {},
   "source": [
    "You can see there are 2 EPW files. So let's rename them."
   ]
  },
  {
   "cell_type": "code",
   "execution_count": 24,
   "id": "4254ac77",
   "metadata": {},
   "outputs": [
    {
     "name": "stdout",
     "output_type": "stream",
     "text": [
      "Since no match has been found between scenarios and EPW file name, Present scenario has been assigned to the following EPW files:\n",
      "GBR_Aberdeen.Dyce.030910_IWEC.epw\n",
      "GBR_London.Gatwick.037760_IWEC.epw\n",
      "Since no match has been found between scenarios and EPW file name, Present year has been assigned to the following EPW files:\n",
      "GBR_Aberdeen.Dyce.030910_IWEC.epw\n",
      "GBR_London.Gatwick.037760_IWEC.epw\n",
      "The previous names of the EPW files are:\n",
      "GBR_Aberdeen.Dyce.030910_IWEC\n",
      "GBR_London.Gatwick.037760_IWEC\n",
      "And the new names of the EPW files are going to be:\n",
      "United-Kingdom_Aberdeen_Present\n",
      "United-Kingdom_London_Present\n"
     ]
    },
    {
     "data": {
      "text/plain": [
       "<accim.data.datawrangling.rename_epw_files at 0x170a42dff70>"
      ]
     },
     "execution_count": 24,
     "metadata": {},
     "output_type": "execute_result"
    }
   ],
   "source": [
    "from accim.data.datawrangling import rename_epw_files\n",
    "rename_epw_files(confirm_renaming=True, confirm_deletion=False)"
   ]
  },
  {
   "cell_type": "markdown",
   "id": "34031be9",
   "metadata": {},
   "source": [
    "You can see above that there was no reference to RCP scenarios in the original EPW file name, therefore these has been considered as Present scenario. The same applies to the Year field. Finally, states the previous and the new names of the EPWs. So, now, let's see what files we do have in the folder."
   ]
  },
  {
   "cell_type": "code",
   "execution_count": 25,
   "id": "16ae976e",
   "metadata": {},
   "outputs": [
    {
     "data": {
      "text/plain": [
       "['.ipynb_checkpoints',\n",
       " 'GBR_Aberdeen.Dyce.030910_IWEC.epw',\n",
       " 'GBR_London.Gatwick.037760_IWEC.epw',\n",
       " 'OSM_SmallOffice_noHVAC.idf',\n",
       " 'United-Kingdom_Aberdeen_Present.epw',\n",
       " 'United-Kingdom_London_Present.epw',\n",
       " 'Untitled.ipynb']"
      ]
     },
     "execution_count": 25,
     "metadata": {},
     "output_type": "execute_result"
    }
   ],
   "source": [
    "os.listdir()"
   ]
  },
  {
   "cell_type": "markdown",
   "id": "ad65b911",
   "metadata": {},
   "source": [
    "You can see the 2 new files: 'United-Kingdom_Aberdeen_Present.epw' and 'United-Kingdom_London_Present.epw'. Now, let's move them to a new folder to leave everything ready for simulation."
   ]
  },
  {
   "cell_type": "code",
   "execution_count": 26,
   "id": "dd09f3f6",
   "metadata": {},
   "outputs": [],
   "source": [
    "os.mkdir('OldEPWs')\n",
    "os.rename(\"GBR_Aberdeen.Dyce.030910_IWEC.epw\", \"OldEPWs\\GBR_Aberdeen.Dyce.030910_IWEC.epw\")\n",
    "os.rename(\"GBR_London.Gatwick.037760_IWEC.epw\", \"OldEPWs\\GBR_London.Gatwick.037760_IWEC.epw\")"
   ]
  }
 ],
 "metadata": {
  "kernelspec": {
   "display_name": "Python 3 (ipykernel)",
   "language": "python",
   "name": "python3"
  },
  "language_info": {
   "codemirror_mode": {
    "name": "ipython",
    "version": 3
   },
   "file_extension": ".py",
   "mimetype": "text/x-python",
   "name": "python",
   "nbconvert_exporter": "python",
   "pygments_lexer": "ipython3",
   "version": "3.9.12"
  }
 },
 "nbformat": 4,
 "nbformat_minor": 5
}
