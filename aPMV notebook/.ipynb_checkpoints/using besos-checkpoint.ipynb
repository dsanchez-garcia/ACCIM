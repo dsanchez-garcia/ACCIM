{
 "cells": [
  {
   "cell_type": "code",
   "execution_count": 29,
   "id": "8addc238",
   "metadata": {},
   "outputs": [],
   "source": [
    "from besos import eppy_funcs as ef\n",
    "from besos import eplus_funcs as ep\n",
    "\n",
    "import pandas as pd\n",
    "import matplotlib.pyplot as plt\n"
   ]
  },
  {
   "cell_type": "code",
   "execution_count": null,
   "id": "9d45c05c",
   "metadata": {},
   "outputs": [],
   "source": [
    "idfname = \"aPMV_testing_v01_no_script.idf\"\n",
    "epwfile = \"ESP_Sevilla.083910_IWEC.epw\"\n",
    "\n",
    "building = ef.get_building(idfname)\n",
    "ep.run_building(\n",
    "    building=building,\n",
    "    out_dir='sim_results_pmv',\n",
    "    epw=epwfile\n",
    ")\n"
   ]
  },
  {
   "cell_type": "code",
   "execution_count": 23,
   "id": "8a71c49b",
   "metadata": {},
   "outputs": [
    {
     "name": "stdout",
     "output_type": "stream",
     "text": [
      "\r\n",
      "C:\\EnergyPlusV9-4-0\\energyplus.exe --weather C:\\Python\\accim\\aPMV notebook\\ESP_Sevilla.083910_IWEC.epw --output-directory C:\\Python\\accim\\aPMV notebook\\sim_results_pmv --idd C:\\EnergyPlusV9-4-0\\Energy+.idd C:\\Python\\accim\\aPMV notebook\\aPMV_testing_v01_no_script_79d25f.idf\r\n",
      "\n"
     ]
    }
   ],
   "source": [
    "from eppy.modeleditor import IDF\n",
    "\n",
    "iddfile = 'C:\\EnergyPlusV9-4-0\\Energy+.idd'\n",
    "IDF.setiddname(iddfile)\n",
    "\n",
    "idfname = \"aPMV_testing_v01_no_script.idf\"\n",
    "epwfile = \"ESP_Sevilla.083910_IWEC.epw\"\n",
    "\n",
    "idf = IDF(idfname, epwfile)\n",
    "idf.run(output_directory='sim_results_pmv')"
   ]
  },
  {
   "cell_type": "code",
   "execution_count": 24,
   "id": "2b6fb618",
   "metadata": {},
   "outputs": [],
   "source": [
    "df_pmv = pd.read_csv('sim_results_pmv/eplusout.csv')"
   ]
  },
  {
   "cell_type": "code",
   "execution_count": 31,
   "id": "324be266",
   "metadata": {},
   "outputs": [
    {
     "data": {
      "text/plain": [
       "['Date/Time',\n",
       " 'PEOPLE BLOCK1:ZONE2:Zone Thermal Comfort Fanger Model PMV [](Hourly)',\n",
       " 'PEOPLE BLOCK1:ZONE1:Zone Thermal Comfort Fanger Model PMV [](Hourly)']"
      ]
     },
     "execution_count": 31,
     "metadata": {},
     "output_type": "execute_result"
    }
   ],
   "source": [
    "[i for i in df_pmv.columns]"
   ]
  },
  {
   "cell_type": "code",
   "execution_count": 30,
   "id": "cfa3fbe1",
   "metadata": {},
   "outputs": [
    {
     "data": {
      "text/plain": [
       "[<matplotlib.lines.Line2D at 0x2df8d3fc0a0>]"
      ]
     },
     "execution_count": 30,
     "metadata": {},
     "output_type": "execute_result"
    },
    {
     "data": {
      "image/png": "[encoded data removed]",
      "text/plain": [
       "<Figure size 432x288 with 1 Axes>"
      ]
     },
     "metadata": {
      "needs_background": "light"
     },
     "output_type": "display_data"
    }
   ],
   "source": [
    "plt.plot(df_pmv['PEOPLE BLOCK1:ZONE1:Zone Thermal Comfort Fanger Model PMV [](Hourly)'])"
   ]
  },
  {
   "cell_type": "markdown",
   "id": "08629a9c",
   "metadata": {},
   "source": [
    "As you can see, the model is capable of providing PMV values within the expected range."
   ]
  },
  {
   "cell_type": "code",
   "execution_count": null,
   "id": "e9bd11c9",
   "metadata": {},
   "outputs": [],
   "source": []
  },
  {
   "cell_type": "code",
   "execution_count": null,
   "id": "1fcec038",
   "metadata": {},
   "outputs": [],
   "source": []
  },
  {
   "cell_type": "code",
   "execution_count": null,
   "id": "0ea33f29",
   "metadata": {},
   "outputs": [],
   "source": []
  },
  {
   "cell_type": "code",
   "execution_count": null,
   "id": "ec2b3737",
   "metadata": {},
   "outputs": [],
   "source": []
  },
  {
   "cell_type": "code",
   "execution_count": null,
   "id": "18428c2b",
   "metadata": {},
   "outputs": [],
   "source": []
  },
  {
   "cell_type": "code",
   "execution_count": null,
   "id": "aad4bc3b",
   "metadata": {},
   "outputs": [],
   "source": []
  },
  {
   "cell_type": "code",
   "execution_count": null,
   "id": "0ea86d1f",
   "metadata": {},
   "outputs": [],
   "source": []
  },
  {
   "cell_type": "code",
   "execution_count": null,
   "id": "1fdf5cac",
   "metadata": {},
   "outputs": [],
   "source": []
  },
  {
   "cell_type": "code",
   "execution_count": null,
   "id": "1ce9fec0",
   "metadata": {},
   "outputs": [],
   "source": []
  }
 ],
 "metadata": {
  "kernelspec": {
   "display_name": "Python 3 (ipykernel)",
   "language": "python",
   "name": "python3"
  },
  "language_info": {
   "codemirror_mode": {
    "name": "ipython",
    "version": 3
   },
   "file_extension": ".py",
   "mimetype": "text/x-python",
   "name": "python",
   "nbconvert_exporter": "python",
   "pygments_lexer": "ipython3",
   "version": "3.9.4"
  }
 },
 "nbformat": 4,
 "nbformat_minor": 5
}
